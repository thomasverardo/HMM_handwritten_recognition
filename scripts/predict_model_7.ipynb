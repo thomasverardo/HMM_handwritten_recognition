{
 "cells": [
  {
   "cell_type": "code",
   "execution_count": 35,
   "id": "d5f06805-4332-458c-ba84-7d6796ff3419",
   "metadata": {},
   "outputs": [],
   "source": [
    "import pickle\n",
    "import numpy as np\n",
    "import pandas as pd\n",
    "from sklearn.metrics.cluster import contingency_matrix "
   ]
  },
  {
   "cell_type": "code",
   "execution_count": 36,
   "id": "4ff09f85-929c-4dd8-998e-5dee0b4f3f1d",
   "metadata": {},
   "outputs": [],
   "source": [
    "%store -r test\n",
    "\n",
    "# Take the name of the different classes (e.g. '0', '1', '2', ...)\n",
    "classes = test.groupby(['label'])['label'].unique().index.to_list()"
   ]
  },
  {
   "cell_type": "code",
   "execution_count": 37,
   "id": "f7eccb29-df93-47f0-9743-10dc60a95c57",
   "metadata": {},
   "outputs": [],
   "source": [
    "predicted_test = test.copy()\n",
    "\n",
    "feature_1= 'x'\n",
    "feature_2='y'\n",
    "feature_3='arctan_1'\n",
    "\n",
    "models = []\n",
    "for n_class in classes: # Can be thrown an expection beacuse this is the labels of the test set and not of the models (train set)\n",
    "    model = pickle.load(open('models_7/'+str(n_class)+'hmm_model.pkl', 'rb'))\n",
    "    models.append(model)\n",
    "\n",
    "#log_likelihoods = pd.DataFrame()\n",
    "#log_likelihoods['predicted_class'] = classes\n",
    "#log_like_max = []\n",
    "#top_3_loglikelihood = []\n",
    "#top_3_predicted_classes = []\n",
    "predicted_class = []\n",
    "#is_predicted = []\n",
    "true_label=[]\n",
    "\n",
    "for i in range(len(test)):\n",
    "    angle_1 = test[feature_1].iloc[i]\n",
    "    angle_2 = test[feature_2].iloc[i]\n",
    "    angle_3 = test[feature_3].iloc[i]\n",
    "    X=np.array([angle_1,angle_2,angle_3]).T\n",
    "    true_label.append(test['label'].iloc[i])\n",
    "    list_log_likelihoods = []\n",
    "    for model in models:\n",
    "        \n",
    "        list_log_likelihoods.append(model.score(X,lengths=len(X)))\n",
    "        pass\n",
    "\n",
    "    predicted_class.append(np.argmax(list_log_likelihoods))\n",
    "    "
   ]
  },
  {
   "cell_type": "code",
   "execution_count": 38,
   "id": "14cc0ca1-f69c-4115-91ca-e7128cffa337",
   "metadata": {},
   "outputs": [
    {
     "name": "stdout",
     "output_type": "stream",
     "text": [
      "[3, 3, 3, 5, 3, 8, 3, 2, 5, 8, 5, 3, 3, 3, 3, 2, 2, 3, 3, 3, 3, 8, 3, 3, 2, 5, 3, 5, 3, 8, 5, 3, 3, 3, 5, 3, 3, 1, 3, 3, 3, 5, 3, 3, 5, 8, 3, 3, 3, 3, 5, 3, 3, 3, 3, 3, 3, 8, 8, 8, 3, 3, 3, 3, 2, 3, 2, 2, 3, 3, 8, 8, 3, 3, 5, 3, 3, 3, 3, 2, 3, 3, 3, 1, 3, 2, 2, 3, 2, 3, 2, 2, 3, 3, 3, 3, 8, 2, 5, 5, 3, 3, 5, 5, 8, 3, 3, 2, 3, 8, 3, 2, 5, 3, 3, 3, 2, 2, 5, 3, 3, 8, 3, 3, 8, 2, 8, 3, 8, 8, 8, 2, 2, 3, 5, 8, 3, 3, 3, 3, 3, 8, 5, 3, 3, 3, 3, 5, 3, 3, 3, 1, 3, 1, 2, 3, 3, 3, 8, 2, 2, 3, 3, 3, 3, 3, 3, 3, 3, 3, 3, 8, 3, 8, 3]\n",
      "[1, 8, 2, 6, 6, 5, 1, 8, 6, 9, 8, 1, 2, 2, 0, 9, 0, 3, 9, 1, 5, 7, 6, 0, 8, 5, 3, 7, 3, 9, 3, 6, 3, 8, 3, 8, 8, 9, 0, 1, 6, 8, 6, 6, 5, 7, 3, 2, 8, 3, 2, 3, 8, 2, 2, 2, 6, 7, 7, 9, 5, 6, 8, 6, 3, 6, 7, 7, 0, 3, 9, 0, 0, 2, 0, 2, 3, 1, 1, 5, 3, 6, 0, 8, 8, 7, 9, 2, 9, 5, 9, 8, 1, 2, 0, 6, 7, 7, 9, 8, 7, 8, 8, 0, 9, 0, 3, 0, 2, 9, 6, 3, 6, 2, 5, 2, 7, 0, 9, 2, 3, 9, 6, 1, 7, 0, 7, 1, 9, 7, 7, 9, 9, 0, 5, 7, 3, 2, 3, 2, 2, 9, 6, 2, 6, 2, 0, 2, 1, 2, 3, 9, 0, 7, 9, 0, 0, 0, 9, 6, 8, 6, 3, 8, 3, 2, 2, 9, 3, 3, 2, 9, 1, 7, 6]\n",
      "175\n",
      "175\n"
     ]
    }
   ],
   "source": [
    "print(predicted_class)\n",
    "print(true_label)\n",
    "\n",
    "print(len(predicted_class))\n",
    "print(len(true_label))"
   ]
  },
  {
   "cell_type": "code",
   "execution_count": 39,
   "id": "ebb88a48-46cd-4303-98c7-2ef1af3064d1",
   "metadata": {},
   "outputs": [
    {
     "name": "stdout",
     "output_type": "stream",
     "text": [
      "[[ 0  4 14  2  1]\n",
      " [ 0  0 12  0  0]\n",
      " [ 0  0 24  2  0]\n",
      " [ 0  2 19  2  0]\n",
      " [ 0  1  4  3  1]\n",
      " [ 0  1 17  4  0]\n",
      " [ 1  5  1  1 11]\n",
      " [ 1  4 10  4  0]\n",
      " [ 2  7  2  2 11]]\n"
     ]
    }
   ],
   "source": [
    "matrix=contingency_matrix(true_label, predicted_class)\n",
    "print(matrix)"
   ]
  },
  {
   "cell_type": "code",
   "execution_count": 40,
   "id": "efd5d20e-c256-4c7d-a405-ce5e9ec5de3c",
   "metadata": {},
   "outputs": [
    {
     "name": "stdout",
     "output_type": "stream",
     "text": [
      "Accuracy:  0.15428571428571428\n"
     ]
    }
   ],
   "source": [
    "\n",
    "accuracy=np.sum(np.diag(matrix))/np.sum(matrix)\n",
    "print(\"Accuracy: \", accuracy)"
   ]
  },
  {
   "cell_type": "code",
   "execution_count": null,
   "id": "57ea627d-c8e1-43a0-893e-814c8deccfd5",
   "metadata": {},
   "outputs": [],
   "source": []
  }
 ],
 "metadata": {
  "kernelspec": {
   "display_name": "Python 3 (ipykernel)",
   "language": "python",
   "name": "python3"
  },
  "language_info": {
   "codemirror_mode": {
    "name": "ipython",
    "version": 3
   },
   "file_extension": ".py",
   "mimetype": "text/x-python",
   "name": "python",
   "nbconvert_exporter": "python",
   "pygments_lexer": "ipython3",
   "version": "3.9.12"
  }
 },
 "nbformat": 4,
 "nbformat_minor": 5
}
