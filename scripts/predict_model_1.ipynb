{
 "cells": [
  {
   "cell_type": "code",
   "execution_count": 5,
   "metadata": {},
   "outputs": [],
   "source": [
    "import pickle\n",
    "import numpy as np\n",
    "import pandas as pd"
   ]
  },
  {
   "cell_type": "code",
   "execution_count": 6,
   "metadata": {},
   "outputs": [],
   "source": [
    "%store -r test\n",
    "\n",
    "# Take the name of the different classes (e.g. '0', '1', '2', ...)\n",
    "classes = test.groupby(['label'])['label'].unique().index.to_list()"
   ]
  },
  {
   "cell_type": "code",
   "execution_count": 7,
   "metadata": {},
   "outputs": [
    {
     "ename": "NameError",
     "evalue": "name 'feature_1' is not defined",
     "output_type": "error",
     "traceback": [
      "\u001b[0;31m---------------------------------------------------------------------------\u001b[0m",
      "\u001b[0;31mNameError\u001b[0m                                 Traceback (most recent call last)",
      "\u001b[1;32m/home/thomas/Scaricati/HMM_handwritten_recognition/scripts/predict_model_1.ipynb Cella 3\u001b[0m in \u001b[0;36m<cell line: 1>\u001b[0;34m()\u001b[0m\n\u001b[0;32m----> <a href='vscode-notebook-cell:/home/thomas/Scaricati/HMM_handwritten_recognition/scripts/predict_model_1.ipynb#ch0000003?line=0'>1</a>\u001b[0m angle_1 \u001b[39m=\u001b[39m test[feature_1]\u001b[39m.\u001b[39miloc[\u001b[39m0\u001b[39m]\n\u001b[1;32m      <a href='vscode-notebook-cell:/home/thomas/Scaricati/HMM_handwritten_recognition/scripts/predict_model_1.ipynb#ch0000003?line=1'>2</a>\u001b[0m angle_2 \u001b[39m=\u001b[39m test[feature_2]\u001b[39m.\u001b[39miloc[\u001b[39m0\u001b[39m]\n\u001b[1;32m      <a href='vscode-notebook-cell:/home/thomas/Scaricati/HMM_handwritten_recognition/scripts/predict_model_1.ipynb#ch0000003?line=2'>3</a>\u001b[0m X\u001b[39m=\u001b[39mnp\u001b[39m.\u001b[39marray([angle_1,angle_2])\u001b[39m.\u001b[39mT\n",
      "\u001b[0;31mNameError\u001b[0m: name 'feature_1' is not defined"
     ]
    }
   ],
   "source": [
    "angle_1 = test[feature_1].iloc[0]\n",
    "angle_2 = test[feature_2].iloc[0]\n",
    "X=np.array([angle_1,angle_2]).T\n",
    "list_log_likelihoods = []\n",
    "\n",
    "\n",
    "for model in models:\n",
    "    list_log_likelihoods.append(model.score(X,lengths=len(X)))\n",
    "\n",
    "list_log_likelihoods\n",
    "np.argmax(np.array(list_log_likelihoods))\n",
    "X"
   ]
  },
  {
   "cell_type": "code",
   "execution_count": 8,
   "metadata": {},
   "outputs": [],
   "source": [
    "predicted_test = test.copy()\n",
    "\n",
    "feature_1= 'x'\n",
    "feature_2='y'\n",
    "\n",
    "models = []\n",
    "for n_class in classes: # Can be thrown an expection beacuse this is the labels of the test set and not of the models (train set)\n",
    "    model = pickle.load(open('models_1/'+str(n_class)+'hmm_model.pkl', 'rb'))\n",
    "    models.append(model)\n",
    "\n",
    "#log_likelihoods = pd.DataFrame()\n",
    "#log_likelihoods['predicted_class'] = classes\n",
    "#log_like_max = []\n",
    "#top_3_loglikelihood = []\n",
    "top_3_predicted_classes = []\n",
    "predicted_class = []\n",
    "#is_predicted = []\n",
    "true_label=[]\n",
    "\n",
    "for i in range(len(test)):\n",
    "    angle_1 = test[feature_1].iloc[i]\n",
    "    angle_2 = test[feature_2].iloc[i]\n",
    "    X=np.array([angle_1,angle_2]).T\n",
    "    true_label.append(test['label'].iloc[i])\n",
    "    list_log_likelihoods = []\n",
    "    for model in models:\n",
    "        \n",
    "        list_log_likelihoods.append(model.score(X,lengths=len(X)))\n",
    "        pass\n",
    "\n",
    "    predicted_class.append(np.argmax(list_log_likelihoods))\n",
    "\n",
    "    top_3_values = sorted(list_log_likelihoods)[-3:]\n",
    "    top_3_predicted_classes.append([i for i, x in enumerate(list_log_likelihoods) if x == top_3_values[0] or x == top_3_values[1] or x == top_3_values[2]])\n",
    "    \n",
    "# model_0.score_samples(angles_0)"
   ]
  },
  {
   "cell_type": "code",
   "execution_count": null,
   "metadata": {},
   "outputs": [
    {
     "name": "stdout",
     "output_type": "stream",
     "text": [
      "[4, 4, 4, 8, 0, 7, 9, 6, 8, 5, 9, 9, 5, 9, 2, 6, 3, 3, 7, 0, 2, 4, 5, 9, 4, 8, 1, 7, 2, 0, 5, 7, 3, 5, 0, 0, 0, 7, 1, 4, 9, 5, 4, 1, 8, 4, 5, 8, 4, 3, 0, 1, 0, 8, 8, 3, 5, 5, 5, 9, 6, 1, 6, 8, 6, 8, 8, 6, 3, 9, 8, 6, 3, 6, 2, 7, 4, 5, 7, 0, 4, 8, 2, 3, 9, 6, 3, 7, 6, 3, 9, 7, 8, 8, 5, 3, 0, 1, 0, 0, 6, 5, 2, 8, 6, 9, 7, 7, 8, 0, 5, 4, 7, 9, 0, 9, 2, 0, 3, 2, 5, 1, 4, 9, 3, 3, 8, 4, 4, 4, 4, 9, 1, 6, 3, 2, 4, 5, 4, 8, 1, 3, 2, 7, 9, 2, 7, 8, 9, 7, 0, 6, 9, 4, 4, 8, 1, 5, 0, 9, 0, 0, 8, 3, 4, 9, 4, 0, 6, 9, 8, 0, 3, 6, 9, 8, 9, 8, 0, 8, 6, 7, 3, 0, 6, 0, 1, 7, 4, 1, 2, 8, 4, 5, 8, 8, 8, 0, 1, 9, 1, 8, 5, 4, 6, 6, 8, 7, 4, 3, 8, 6, 8, 9, 2, 4, 0, 4, 1, 3, 4, 3, 9, 4, 2, 1, 7, 4, 5, 4, 4, 1, 2, 2, 8, 6, 8, 5, 5, 7, 4, 3, 9, 8, 9, 8, 2, 6]\n",
      "[6, 4, 9, 8, 0, 4, 4, 6, 8, 8, 9, 1, 4, 9, 7, 6, 3, 3, 1, 0, 2, 6, 5, 9, 9, 8, 1, 3, 2, 0, 4, 7, 3, 5, 0, 9, 9, 7, 1, 4, 7, 3, 4, 1, 6, 0, 5, 9, 7, 3, 0, 7, 0, 7, 8, 7, 5, 5, 5, 5, 6, 2, 6, 6, 6, 7, 0, 6, 6, 9, 1, 6, 3, 6, 2, 5, 4, 5, 7, 0, 4, 8, 6, 3, 9, 6, 1, 7, 6, 3, 9, 7, 5, 8, 2, 2, 5, 9, 0, 0, 6, 3, 2, 8, 6, 9, 8, 7, 2, 5, 5, 0, 7, 3, 0, 9, 2, 0, 3, 2, 5, 9, 4, 7, 3, 3, 0, 2, 2, 4, 4, 9, 1, 6, 3, 2, 7, 5, 4, 5, 1, 3, 2, 7, 4, 2, 3, 6, 5, 7, 0, 7, 9, 4, 4, 8, 9, 5, 5, 9, 0, 0, 8, 3, 4, 9, 4, 0, 3, 9, 8, 0, 3, 6, 9, 8, 7, 8, 0, 8, 6, 9, 7, 8, 6, 8, 3, 8, 4, 7, 6, 8, 0, 3, 8, 8, 7, 0, 2, 7, 9, 2, 5, 4, 6, 6, 9, 7, 4, 7, 2, 6, 8, 9, 2, 4, 1, 4, 1, 3, 4, 3, 9, 6, 2, 1, 3, 6, 5, 4, 5, 1, 2, 2, 8, 6, 8, 9, 5, 7, 4, 3, 9, 8, 9, 1, 2, 4]\n",
      "248\n",
      "248\n"
     ]
    }
   ],
   "source": [
    "print(predicted_class)\n",
    "print(true_label)\n",
    "\n",
    "print(len(predicted_class))\n",
    "print(len(true_label))"
   ]
  },
  {
   "cell_type": "code",
   "execution_count": 9,
   "metadata": {},
   "outputs": [],
   "source": [
    "from sklearn.metrics.cluster import contingency_matrix \n"
   ]
  },
  {
   "cell_type": "code",
   "execution_count": 10,
   "metadata": {},
   "outputs": [],
   "source": [
    "matrix=contingency_matrix(true_label, predicted_class)"
   ]
  },
  {
   "cell_type": "code",
   "execution_count": null,
   "metadata": {},
   "outputs": [
    {
     "data": {
      "text/plain": [
       "array([[18,  0,  0,  0,  3,  0,  0,  0,  2,  0],\n",
       "       [ 1,  8,  0,  1,  0,  0,  0,  1,  2,  1],\n",
       "       [ 0,  2, 14,  1,  2,  1,  0,  0,  3,  0],\n",
       "       [ 0,  1,  0, 17,  0,  3,  1,  3,  0,  1],\n",
       "       [ 0,  0,  0,  0, 21,  2,  1,  1,  0,  2],\n",
       "       [ 3,  0,  0,  0,  1, 14,  0,  1,  2,  2],\n",
       "       [ 0,  0,  2,  1,  4,  0, 20,  0,  3,  0],\n",
       "       [ 0,  2,  1,  3,  2,  0,  1, 11,  3,  4],\n",
       "       [ 2,  0,  0,  0,  0,  1,  0,  2, 20,  0],\n",
       "       [ 2,  4,  0,  0,  2,  1,  0,  1,  2, 18]])"
      ]
     },
     "execution_count": 16,
     "metadata": {},
     "output_type": "execute_result"
    }
   ],
   "source": [
    "matrix"
   ]
  },
  {
   "cell_type": "code",
   "execution_count": 11,
   "metadata": {},
   "outputs": [
    {
     "name": "stdout",
     "output_type": "stream",
     "text": [
      "Accuracy:  0.6451612903225806\n"
     ]
    }
   ],
   "source": [
    "accuracy=np.sum(np.diag(matrix))/np.sum(matrix)\n",
    "print(\"Accuracy: \", accuracy)"
   ]
  },
  {
   "cell_type": "code",
   "execution_count": 13,
   "metadata": {
    "collapsed": true,
    "jupyter": {
     "outputs_hidden": true
    },
    "tags": []
   },
   "outputs": [
    {
     "name": "stdout",
     "output_type": "stream",
     "text": [
      "Accuracy top 3:  0.875\n"
     ]
    }
   ],
   "source": [
    "# Calculate top 3 accuracy\n",
    "sum_top_3 = 0\n",
    "for i in range(len(top_3_predicted_classes)):\n",
    "    if true_label[i] in top_3_predicted_classes[i]:\n",
    "        sum_top_3 += 1\n",
    "\n",
    "accuracy_top_3 = sum_top_3/len(predicted_test[\"label\"])\n",
    "print(\"Accuracy top 3: \", accuracy_top_3)"
   ]
  }
 ],
 "metadata": {
  "kernelspec": {
   "display_name": "Python 3 (ipykernel)",
   "language": "python",
   "name": "python3"
  },
  "language_info": {
   "codemirror_mode": {
    "name": "ipython",
    "version": 3
   },
   "file_extension": ".py",
   "mimetype": "text/x-python",
   "name": "python",
   "nbconvert_exporter": "python",
   "pygments_lexer": "ipython3",
   "version": "3.9.7"
  },
  "vscode": {
   "interpreter": {
    "hash": "8f162362b51a040b66da23130964be17c9a4290e709b2d7f75b268249f5b26fc"
   }
  }
 },
 "nbformat": 4,
 "nbformat_minor": 4
}
