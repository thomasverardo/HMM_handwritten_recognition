{
 "cells": [
  {
   "cell_type": "code",
   "execution_count": 6,
   "metadata": {},
   "outputs": [],
   "source": [
    "import pickle\n",
    "import numpy as np"
   ]
  },
  {
   "cell_type": "code",
   "execution_count": 58,
   "metadata": {},
   "outputs": [
    {
     "data": {
      "text/plain": [
       "label\n",
       "0    15\n",
       "1    12\n",
       "2    18\n",
       "3    20\n",
       "5     4\n",
       "6    20\n",
       "7     9\n",
       "8    14\n",
       "9    16\n",
       "Name: x, dtype: int64"
      ]
     },
     "execution_count": 58,
     "metadata": {},
     "output_type": "execute_result"
    }
   ],
   "source": [
    "%store -r X_test\n",
    "\n",
    "X_test.groupby(['label']).count().iloc[:, 0]"
   ]
  },
  {
   "cell_type": "code",
   "execution_count": 49,
   "metadata": {},
   "outputs": [
    {
     "data": {
      "text/plain": [
       "(8.414020726733833,\n",
       " array([[4.50947293e-95, 1.24864833e-02, 1.06679199e-03, 9.86446367e-01,\n",
       "         2.28278971e-09, 3.55089197e-07],\n",
       "        [7.55873105e-38, 1.03982244e-02, 5.51445249e-05, 9.89546625e-01,\n",
       "         4.76694940e-11, 6.01148298e-09],\n",
       "        [1.83691946e-37, 1.27544613e-02, 8.15896677e-06, 9.87237374e-01,\n",
       "         2.41843487e-10, 5.10929605e-09],\n",
       "        [4.09521052e-35, 2.33729439e-02, 1.04812150e-05, 9.76616547e-01,\n",
       "         2.25710387e-08, 5.14917287e-09],\n",
       "        [4.50908724e-34, 6.09860832e-02, 2.96852836e-05, 9.38981419e-01,\n",
       "         2.80497277e-06, 7.58797591e-09],\n",
       "        [5.20684191e-32, 1.52545168e-01, 1.33797407e-04, 8.47088423e-01,\n",
       "         2.32391055e-04, 2.20328408e-07]]))"
      ]
     },
     "execution_count": 49,
     "metadata": {},
     "output_type": "execute_result"
    }
   ],
   "source": [
    "model_0 = pickle.load(open('models/hmm_model_1.pkl', 'rb'))\n",
    "\n",
    "for \n",
    "\n",
    "angles_0 = test['angles'].iloc[2]\n",
    "angles_0 = [[one] for one in angles_0]\n",
    "angles_0\n",
    "\n",
    "model_0.score_samples(angles_0)"
   ]
  }
 ],
 "metadata": {
  "kernelspec": {
   "display_name": "Python 3.9.7 ('pml')",
   "language": "python",
   "name": "python3"
  },
  "language_info": {
   "codemirror_mode": {
    "name": "ipython",
    "version": 3
   },
   "file_extension": ".py",
   "mimetype": "text/x-python",
   "name": "python",
   "nbconvert_exporter": "python",
   "pygments_lexer": "ipython3",
   "version": "3.9.7"
  },
  "orig_nbformat": 4,
  "vscode": {
   "interpreter": {
    "hash": "8f162362b51a040b66da23130964be17c9a4290e709b2d7f75b268249f5b26fc"
   }
  }
 },
 "nbformat": 4,
 "nbformat_minor": 2
}
