{
 "cells": [
  {
   "cell_type": "code",
   "execution_count": 31,
   "metadata": {},
   "outputs": [],
   "source": [
    "import pickle\n",
    "import numpy as np\n",
    "import pandas as pd"
   ]
  },
  {
   "cell_type": "code",
   "execution_count": 32,
   "metadata": {},
   "outputs": [],
   "source": [
    "%store -r test\n",
    "\n",
    "# Take the name of the different classes (e.g. '0', '1', '2', ...)\n",
    "classes = test.groupby(['label'])['label'].unique().index.to_list()"
   ]
  },
  {
   "cell_type": "code",
   "execution_count": 42,
   "metadata": {},
   "outputs": [
    {
     "data": {
      "text/plain": [
       "x    [409.0, 419.0, 422.0, 423.0, 422.0, 418.0, 409...\n",
       "y    [136.0, 148.0, 159.0, 171.0, 187.0, 205.0, 237...\n",
       "Name: 415, dtype: object"
      ]
     },
     "execution_count": 42,
     "metadata": {},
     "output_type": "execute_result"
    }
   ],
   "source": [
    "test[['x','y']].iloc[0]"
   ]
  },
  {
   "cell_type": "code",
   "execution_count": 43,
   "metadata": {},
   "outputs": [
    {
     "ename": "ValueError",
     "evalue": "Found array with dim 3. Estimator expected <= 2.",
     "output_type": "error",
     "traceback": [
      "\u001b[0;31m---------------------------------------------------------------------------\u001b[0m",
      "\u001b[0;31mValueError\u001b[0m                                Traceback (most recent call last)",
      "\u001b[1;32m/home/thomas/Scrivania/PRIMO ANNO 2/Probabilistic ML/Project/scripts/predict.ipynb Cella 4\u001b[0m in \u001b[0;36m<cell line: 18>\u001b[0;34m()\u001b[0m\n\u001b[1;32m     <a href='vscode-notebook-cell:/home/thomas/Scrivania/PRIMO%20ANNO%202/Probabilistic%20ML/Project/scripts/predict.ipynb#ch0000003?line=23'>24</a>\u001b[0m     angle \u001b[39m=\u001b[39m test[feature]\u001b[39m.\u001b[39miloc[i]\n\u001b[1;32m     <a href='vscode-notebook-cell:/home/thomas/Scrivania/PRIMO%20ANNO%202/Probabilistic%20ML/Project/scripts/predict.ipynb#ch0000003?line=25'>26</a>\u001b[0m     X \u001b[39m=\u001b[39m [[one] \u001b[39mfor\u001b[39;00m one \u001b[39min\u001b[39;00m angle]\n\u001b[0;32m---> <a href='vscode-notebook-cell:/home/thomas/Scrivania/PRIMO%20ANNO%202/Probabilistic%20ML/Project/scripts/predict.ipynb#ch0000003?line=26'>27</a>\u001b[0m     list_log_likelihoods\u001b[39m.\u001b[39mappend(model\u001b[39m.\u001b[39;49mscore(X))\n\u001b[1;32m     <a href='vscode-notebook-cell:/home/thomas/Scrivania/PRIMO%20ANNO%202/Probabilistic%20ML/Project/scripts/predict.ipynb#ch0000003?line=28'>29</a>\u001b[0m     \u001b[39m# list_log_likelihoods.append(model.predict(angle))\u001b[39;00m\n\u001b[1;32m     <a href='vscode-notebook-cell:/home/thomas/Scrivania/PRIMO%20ANNO%202/Probabilistic%20ML/Project/scripts/predict.ipynb#ch0000003?line=29'>30</a>\u001b[0m     \u001b[39m# pass\u001b[39;00m\n\u001b[1;32m     <a href='vscode-notebook-cell:/home/thomas/Scrivania/PRIMO%20ANNO%202/Probabilistic%20ML/Project/scripts/predict.ipynb#ch0000003?line=31'>32</a>\u001b[0m log_likelihoods[\u001b[39m'\u001b[39m\u001b[39mlog_likelihood\u001b[39m\u001b[39m'\u001b[39m] \u001b[39m=\u001b[39m list_log_likelihoods\n",
      "File \u001b[0;32m~/anaconda3/envs/pml/lib/python3.9/site-packages/hmmlearn/base.py:259\u001b[0m, in \u001b[0;36mBaseHMM.score\u001b[0;34m(self, X, lengths)\u001b[0m\n\u001b[1;32m    236\u001b[0m \u001b[39mdef\u001b[39;00m \u001b[39mscore\u001b[39m(\u001b[39mself\u001b[39m, X, lengths\u001b[39m=\u001b[39m\u001b[39mNone\u001b[39;00m):\n\u001b[1;32m    237\u001b[0m     \u001b[39m\"\"\"\u001b[39;00m\n\u001b[1;32m    238\u001b[0m \u001b[39m    Compute the log probability under the model.\u001b[39;00m\n\u001b[1;32m    239\u001b[0m \n\u001b[0;32m   (...)\u001b[0m\n\u001b[1;32m    257\u001b[0m \u001b[39m    decode : Find most likely state sequence corresponding to ``X``.\u001b[39;00m\n\u001b[1;32m    258\u001b[0m \u001b[39m    \"\"\"\u001b[39;00m\n\u001b[0;32m--> 259\u001b[0m     \u001b[39mreturn\u001b[39;00m \u001b[39mself\u001b[39;49m\u001b[39m.\u001b[39;49m_score(X, lengths, compute_posteriors\u001b[39m=\u001b[39;49m\u001b[39mFalse\u001b[39;49;00m)[\u001b[39m0\u001b[39m]\n",
      "File \u001b[0;32m~/anaconda3/envs/pml/lib/python3.9/site-packages/hmmlearn/base.py:272\u001b[0m, in \u001b[0;36mBaseHMM._score\u001b[0;34m(self, X, lengths, compute_posteriors)\u001b[0m\n\u001b[1;32m    269\u001b[0m _utils\u001b[39m.\u001b[39mcheck_is_fitted(\u001b[39mself\u001b[39m, \u001b[39m\"\u001b[39m\u001b[39mstartprob_\u001b[39m\u001b[39m\"\u001b[39m)\n\u001b[1;32m    270\u001b[0m \u001b[39mself\u001b[39m\u001b[39m.\u001b[39m_check()\n\u001b[0;32m--> 272\u001b[0m X \u001b[39m=\u001b[39m check_array(X)\n\u001b[1;32m    273\u001b[0m impl \u001b[39m=\u001b[39m {\n\u001b[1;32m    274\u001b[0m     \u001b[39m\"\u001b[39m\u001b[39mscaling\u001b[39m\u001b[39m\"\u001b[39m: \u001b[39mself\u001b[39m\u001b[39m.\u001b[39m_score_scaling,\n\u001b[1;32m    275\u001b[0m     \u001b[39m\"\u001b[39m\u001b[39mlog\u001b[39m\u001b[39m\"\u001b[39m: \u001b[39mself\u001b[39m\u001b[39m.\u001b[39m_score_log,\n\u001b[1;32m    276\u001b[0m }[\u001b[39mself\u001b[39m\u001b[39m.\u001b[39mimplementation]\n\u001b[1;32m    277\u001b[0m \u001b[39mreturn\u001b[39;00m impl(\n\u001b[1;32m    278\u001b[0m     X\u001b[39m=\u001b[39mX, lengths\u001b[39m=\u001b[39mlengths, compute_posteriors\u001b[39m=\u001b[39mcompute_posteriors)\n",
      "File \u001b[0;32m~/anaconda3/envs/pml/lib/python3.9/site-packages/sklearn/utils/validation.py:794\u001b[0m, in \u001b[0;36mcheck_array\u001b[0;34m(array, accept_sparse, accept_large_sparse, dtype, order, copy, force_all_finite, ensure_2d, allow_nd, ensure_min_samples, ensure_min_features, estimator)\u001b[0m\n\u001b[1;32m    789\u001b[0m         \u001b[39mraise\u001b[39;00m \u001b[39mValueError\u001b[39;00m(\n\u001b[1;32m    790\u001b[0m             \u001b[39m\"\u001b[39m\u001b[39mUnable to convert array of bytes/strings \u001b[39m\u001b[39m\"\u001b[39m\n\u001b[1;32m    791\u001b[0m             \u001b[39m\"\u001b[39m\u001b[39minto decimal numbers with dtype=\u001b[39m\u001b[39m'\u001b[39m\u001b[39mnumeric\u001b[39m\u001b[39m'\u001b[39m\u001b[39m\"\u001b[39m\n\u001b[1;32m    792\u001b[0m         ) \u001b[39mfrom\u001b[39;00m \u001b[39me\u001b[39;00m\n\u001b[1;32m    793\u001b[0m \u001b[39mif\u001b[39;00m \u001b[39mnot\u001b[39;00m allow_nd \u001b[39mand\u001b[39;00m array\u001b[39m.\u001b[39mndim \u001b[39m>\u001b[39m\u001b[39m=\u001b[39m \u001b[39m3\u001b[39m:\n\u001b[0;32m--> 794\u001b[0m     \u001b[39mraise\u001b[39;00m \u001b[39mValueError\u001b[39;00m(\n\u001b[1;32m    795\u001b[0m         \u001b[39m\"\u001b[39m\u001b[39mFound array with dim \u001b[39m\u001b[39m%d\u001b[39;00m\u001b[39m. \u001b[39m\u001b[39m%s\u001b[39;00m\u001b[39m expected <= 2.\u001b[39m\u001b[39m\"\u001b[39m\n\u001b[1;32m    796\u001b[0m         \u001b[39m%\u001b[39m (array\u001b[39m.\u001b[39mndim, estimator_name)\n\u001b[1;32m    797\u001b[0m     )\n\u001b[1;32m    799\u001b[0m \u001b[39mif\u001b[39;00m force_all_finite:\n\u001b[1;32m    800\u001b[0m     _assert_all_finite(array, allow_nan\u001b[39m=\u001b[39mforce_all_finite \u001b[39m==\u001b[39m \u001b[39m\"\u001b[39m\u001b[39mallow-nan\u001b[39m\u001b[39m\"\u001b[39m)\n",
      "\u001b[0;31mValueError\u001b[0m: Found array with dim 3. Estimator expected <= 2."
     ]
    }
   ],
   "source": [
    "predicted_test = test.copy()\n",
    "\n",
    "feature = ['x','y']\n",
    "\n",
    "models = []\n",
    "for n_class in classes: # Can be thrown an expection beacuse this is the labels of the test set and not of the models (train set)\n",
    "    model = pickle.load(open('models/'+str(n_class)+'hmm_model.pkl', 'rb'))\n",
    "    models.append(model)\n",
    "\n",
    "log_likelihoods = pd.DataFrame()\n",
    "log_likelihoods['predicted_class'] = classes\n",
    "log_like_max = []\n",
    "top_3_loglikelihood = []\n",
    "top_3_predicted_classes = []\n",
    "predicted_class = []\n",
    "is_predicted = []\n",
    "\n",
    "for i in range(len(test)):\n",
    "\n",
    "    true_label = test['label'].iloc[i]\n",
    "    list_log_likelihoods = []\n",
    "    for model in models:\n",
    "        \n",
    "        angle = test[feature].iloc[i]\n",
    "\n",
    "        X = [[one] for one in angle]\n",
    "        list_log_likelihoods.append(model.score(X))\n",
    "\n",
    "        # list_log_likelihoods.append(model.predict(angle))\n",
    "        # pass\n",
    "\n",
    "    log_likelihoods['log_likelihood'] = list_log_likelihoods\n",
    "    log_likelihoods['true_class'] = true_label\n",
    "\n",
    "    # Compute top 1 prediction\n",
    "    max_log_likelihood = log_likelihoods.loc[log_likelihoods['log_likelihood'].idxmax()]\n",
    "    log_like_max.append(max_log_likelihood['log_likelihood'])\n",
    "    predicted_class.append(max_log_likelihood['predicted_class'])\n",
    "\n",
    "    if max_log_likelihood['predicted_class'] == max_log_likelihood['true_class']:\n",
    "        is_predicted.append(True)\n",
    "    else:\n",
    "        is_predicted.append(False)\n",
    "\n",
    "    # Compute top 3 predictions\n",
    "    top_3_loglikelihood.append(sorted(list_log_likelihoods, reverse=True)[:3])\n",
    "    top1, top2, top3 = sorted(list_log_likelihoods, reverse=True)[:3]\n",
    "    top_3_list = []\n",
    "    top_3_list.append(log_likelihoods.loc[log_likelihoods['log_likelihood'] == top1]['predicted_class'].values[0])\n",
    "    top_3_list.append(log_likelihoods.loc[log_likelihoods['log_likelihood'] == top2]['predicted_class'].values[0])\n",
    "    top_3_list.append(log_likelihoods.loc[log_likelihoods['log_likelihood'] == top3]['predicted_class'].values[0])\n",
    "    top_3_predicted_classes.append(top_3_list)\n",
    "\n",
    "\n",
    "\n",
    "\n",
    "predicted_test[\"predicted_class\"] = predicted_class\n",
    "predicted_test[\"log_likelihood\"] = log_like_max\n",
    "predicted_test[\"is_predicted\"] = is_predicted\n",
    "predicted_test[\"top_3_predicted\"] = top_3_predicted_classes\n",
    "predicted_test[\"top_3_loglikelihood\"] = top_3_loglikelihood\n",
    "\n",
    "predicted_test['log_likelihood']"
   ]
  },
  {
   "cell_type": "code",
   "execution_count": 35,
   "metadata": {},
   "outputs": [],
   "source": [
    "# X = [[one] for one in test['angles'].iloc[0]]\n",
    "# model.predict_proba(X)"
   ]
  },
  {
   "cell_type": "code",
   "execution_count": 36,
   "metadata": {},
   "outputs": [
    {
     "name": "stdout",
     "output_type": "stream",
     "text": [
      "Accuracy:  0.8145161290322581\n",
      "Accuracy top 3:  0.967741935483871\n"
     ]
    }
   ],
   "source": [
    "# Calculate top 3 accuracy\n",
    "sum_top_3 = 0\n",
    "for idx, row in predicted_test.iterrows():\n",
    "    for three_likelihood in row[\"top_3_predicted\"]:\n",
    "        if(row[\"label\"] == three_likelihood):\n",
    "            sum_top_3 += 1\n",
    "            pass\n",
    "\n",
    "accuracy = sum(predicted_test[\"is_predicted\"])/len(predicted_test[\"is_predicted\"])\n",
    "print(\"Accuracy: \", accuracy)\n",
    "accuracy_top_3 = sum_top_3/len(predicted_test[\"label\"])\n",
    "print(\"Accuracy top 3: \", accuracy_top_3)"
   ]
  }
 ],
 "metadata": {
  "kernelspec": {
   "display_name": "Python 3.9.7 ('pml')",
   "language": "python",
   "name": "python3"
  },
  "language_info": {
   "codemirror_mode": {
    "name": "ipython",
    "version": 3
   },
   "file_extension": ".py",
   "mimetype": "text/x-python",
   "name": "python",
   "nbconvert_exporter": "python",
   "pygments_lexer": "ipython3",
   "version": "3.9.7"
  },
  "orig_nbformat": 4,
  "vscode": {
   "interpreter": {
    "hash": "8f162362b51a040b66da23130964be17c9a4290e709b2d7f75b268249f5b26fc"
   }
  }
 },
 "nbformat": 4,
 "nbformat_minor": 2
}
