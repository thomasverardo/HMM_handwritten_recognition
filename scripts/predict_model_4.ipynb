{
 "cells": [
  {
   "cell_type": "code",
   "execution_count": 4,
   "id": "333dd941-b646-472a-8f71-dd443dec957c",
   "metadata": {},
   "outputs": [],
   "source": [
    "import pickle\n",
    "import numpy as np\n",
    "import pandas as pd\n",
    "from sklearn.metrics.cluster import contingency_matrix \n",
    "\n"
   ]
  },
  {
   "cell_type": "code",
   "execution_count": 5,
   "id": "d63a3ecd-4f68-4583-84d4-c5e79715d647",
   "metadata": {},
   "outputs": [],
   "source": [
    "%store -r test\n",
    "\n",
    "# Take the name of the different classes (e.g. '0', '1', '2', ...)\n",
    "classes = test.groupby(['label'])['label'].unique().index.to_list()"
   ]
  },
  {
   "cell_type": "code",
   "execution_count": 6,
   "id": "f75d5f6a-2bd9-4d34-bf2e-a4be901ab57b",
   "metadata": {},
   "outputs": [
    {
     "ename": "FileNotFoundError",
     "evalue": "[Errno 2] No such file or directory: 'models_4/4hmm_model.pkl'",
     "output_type": "error",
     "traceback": [
      "\u001b[0;31m---------------------------------------------------------------------------\u001b[0m",
      "\u001b[0;31mFileNotFoundError\u001b[0m                         Traceback (most recent call last)",
      "\u001b[1;32m/home/thomas/Scaricati/HMM_handwritten_recognition/scripts/predict_model_4.ipynb Cella 3\u001b[0m in \u001b[0;36m<cell line: 7>\u001b[0;34m()\u001b[0m\n\u001b[1;32m      <a href='vscode-notebook-cell:/home/thomas/Scaricati/HMM_handwritten_recognition/scripts/predict_model_4.ipynb#ch0000002?line=5'>6</a>\u001b[0m models \u001b[39m=\u001b[39m []\n\u001b[1;32m      <a href='vscode-notebook-cell:/home/thomas/Scaricati/HMM_handwritten_recognition/scripts/predict_model_4.ipynb#ch0000002?line=6'>7</a>\u001b[0m \u001b[39mfor\u001b[39;00m n_class \u001b[39min\u001b[39;00m classes: \u001b[39m# Can be thrown an expection beacuse this is the labels of the test set and not of the models (train set)\u001b[39;00m\n\u001b[0;32m----> <a href='vscode-notebook-cell:/home/thomas/Scaricati/HMM_handwritten_recognition/scripts/predict_model_4.ipynb#ch0000002?line=7'>8</a>\u001b[0m     model \u001b[39m=\u001b[39m pickle\u001b[39m.\u001b[39mload(\u001b[39mopen\u001b[39;49m(\u001b[39m'\u001b[39;49m\u001b[39mmodels_4/\u001b[39;49m\u001b[39m'\u001b[39;49m\u001b[39m+\u001b[39;49m\u001b[39mstr\u001b[39;49m(n_class)\u001b[39m+\u001b[39;49m\u001b[39m'\u001b[39;49m\u001b[39mhmm_model.pkl\u001b[39;49m\u001b[39m'\u001b[39;49m, \u001b[39m'\u001b[39;49m\u001b[39mrb\u001b[39;49m\u001b[39m'\u001b[39;49m))\n\u001b[1;32m      <a href='vscode-notebook-cell:/home/thomas/Scaricati/HMM_handwritten_recognition/scripts/predict_model_4.ipynb#ch0000002?line=8'>9</a>\u001b[0m     models\u001b[39m.\u001b[39mappend(model)\n\u001b[1;32m     <a href='vscode-notebook-cell:/home/thomas/Scaricati/HMM_handwritten_recognition/scripts/predict_model_4.ipynb#ch0000002?line=10'>11</a>\u001b[0m \u001b[39m#log_likelihoods = pd.DataFrame()\u001b[39;00m\n\u001b[1;32m     <a href='vscode-notebook-cell:/home/thomas/Scaricati/HMM_handwritten_recognition/scripts/predict_model_4.ipynb#ch0000002?line=11'>12</a>\u001b[0m \u001b[39m#log_likelihoods['predicted_class'] = classes\u001b[39;00m\n\u001b[1;32m     <a href='vscode-notebook-cell:/home/thomas/Scaricati/HMM_handwritten_recognition/scripts/predict_model_4.ipynb#ch0000002?line=12'>13</a>\u001b[0m \u001b[39m#log_like_max = []\u001b[39;00m\n\u001b[1;32m     <a href='vscode-notebook-cell:/home/thomas/Scaricati/HMM_handwritten_recognition/scripts/predict_model_4.ipynb#ch0000002?line=13'>14</a>\u001b[0m \u001b[39m#top_3_loglikelihood = []\u001b[39;00m\n",
      "\u001b[0;31mFileNotFoundError\u001b[0m: [Errno 2] No such file or directory: 'models_4/4hmm_model.pkl'"
     ]
    }
   ],
   "source": [
    "predicted_test = test.copy()\n",
    "\n",
    "feature_1= 'curvature_4'\n",
    "\n",
    "\n",
    "models = []\n",
    "for n_class in classes: # Can be thrown an expection beacuse this is the labels of the test set and not of the models (train set)\n",
    "    model = pickle.load(open('models_4/'+str(n_class)+'hmm_model.pkl', 'rb'))\n",
    "    models.append(model)\n",
    "\n",
    "#log_likelihoods = pd.DataFrame()\n",
    "#log_likelihoods['predicted_class'] = classes\n",
    "#log_like_max = []\n",
    "#top_3_loglikelihood = []\n",
    "top_3_predicted_classes = []\n",
    "predicted_class = []\n",
    "#is_predicted = []\n",
    "true_label=[]\n",
    "\n",
    "for i in range(len(test)):\n",
    "    angle_1 = test[feature_1].iloc[i]\n",
    "    X=np.array([angle_1]).T\n",
    "    true_label.append(test['label'].iloc[i])\n",
    "    list_log_likelihoods = []\n",
    "    for model in models:\n",
    "        \n",
    "        list_log_likelihoods.append(model.score(X,lengths=len(X)))\n",
    "        pass\n",
    "\n",
    "    predicted_class.append(np.argmax(list_log_likelihoods))\n",
    "\n",
    "    top_3_values = sorted(list_log_likelihoods)[-3:]\n",
    "    top_3_predicted_classes.append([i for i, x in enumerate(list_log_likelihoods) if x == top_3_values[0] or x == top_3_values[1] or x == top_3_values[2]])"
   ]
  },
  {
   "cell_type": "code",
   "execution_count": null,
   "id": "e6150472-c79d-479c-bd80-36b9955fb5e9",
   "metadata": {},
   "outputs": [],
   "source": [
    "matrix=contingency_matrix(true_label, predicted_class)"
   ]
  },
  {
   "cell_type": "code",
   "execution_count": null,
   "id": "18eba530-94ad-4f15-8615-d4dbd3761317",
   "metadata": {},
   "outputs": [
    {
     "data": {
      "text/plain": [
       "array([[11,  0,  0,  3,  1,  4,  0,  2,  0],\n",
       "       [ 0,  6,  0,  0,  2,  0,  4,  0,  0],\n",
       "       [ 1,  0, 10,  5,  1,  2,  2,  2,  3],\n",
       "       [ 0,  0,  3, 13,  2,  0,  4,  1,  0],\n",
       "       [ 0,  0,  1,  1,  4,  0,  1,  2,  0],\n",
       "       [ 6,  0,  0,  1,  2,  6,  0,  6,  1],\n",
       "       [ 0,  4,  0,  0,  3,  0, 12,  0,  0],\n",
       "       [ 0,  0,  0,  0,  1,  2,  3, 13,  0],\n",
       "       [ 0,  0,  5,  3,  3,  0,  0,  1, 12]])"
      ]
     },
     "execution_count": 5,
     "metadata": {},
     "output_type": "execute_result"
    }
   ],
   "source": [
    "matrix\n"
   ]
  },
  {
   "cell_type": "code",
   "execution_count": null,
   "id": "4e997ff0-3c46-4748-83e6-b125a428e48f",
   "metadata": {},
   "outputs": [
    {
     "name": "stdout",
     "output_type": "stream",
     "text": [
      "Accuracy:  0.49714285714285716\n"
     ]
    }
   ],
   "source": [
    "accuracy=np.sum(np.diag(matrix))/np.sum(matrix)\n",
    "print(\"Accuracy: \", accuracy)"
   ]
  },
  {
   "cell_type": "code",
   "execution_count": null,
   "id": "456b6c8d-2597-4ed5-bf10-1a157ab75bb7",
   "metadata": {},
   "outputs": [],
   "source": [
    "# Calculate top 3 accuracy\n",
    "sum_top_3 = 0\n",
    "for i in range(len(top_3_predicted_classes)):\n",
    "    if true_label[i] in top_3_predicted_classes[i]:\n",
    "        sum_top_3 += 1\n",
    "\n",
    "accuracy_top_3 = sum_top_3/len(predicted_test[\"label\"])\n",
    "print(\"Accuracy top 3: \", accuracy_top_3)"
   ]
  }
 ],
 "metadata": {
  "kernelspec": {
   "display_name": "Python 3.9.7 ('pml')",
   "language": "python",
   "name": "python3"
  },
  "language_info": {
   "codemirror_mode": {
    "name": "ipython",
    "version": 3
   },
   "file_extension": ".py",
   "mimetype": "text/x-python",
   "name": "python",
   "nbconvert_exporter": "python",
   "pygments_lexer": "ipython3",
   "version": "3.9.7"
  },
  "vscode": {
   "interpreter": {
    "hash": "8f162362b51a040b66da23130964be17c9a4290e709b2d7f75b268249f5b26fc"
   }
  }
 },
 "nbformat": 4,
 "nbformat_minor": 5
}
