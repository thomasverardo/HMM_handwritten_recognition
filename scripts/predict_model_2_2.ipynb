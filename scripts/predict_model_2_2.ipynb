{
 "cells": [
  {
   "cell_type": "code",
   "execution_count": 1,
   "id": "90b40f11-f1d0-4d8f-abe5-c86394e9f2f5",
   "metadata": {},
   "outputs": [],
   "source": [
    "import pickle\n",
    "import numpy as np\n",
    "import pandas as pd\n",
    "from sklearn.metrics.cluster import contingency_matrix \n"
   ]
  },
  {
   "cell_type": "code",
   "execution_count": 2,
   "id": "10f85207-24ca-40d2-aec9-84ab73c83647",
   "metadata": {},
   "outputs": [],
   "source": [
    "%store -r test\n",
    "\n",
    "# Take the name of the different classes (e.g. '0', '1', '2', ...)\n",
    "classes = test.groupby(['label'])['label'].unique().index.to_list()"
   ]
  },
  {
   "cell_type": "code",
   "execution_count": 3,
   "id": "76281c79-a6b2-487f-8a74-63ac430671ca",
   "metadata": {},
   "outputs": [
    {
     "ename": "FileNotFoundError",
     "evalue": "[Errno 2] No such file or directory: 'models_2_2/4hmm_model.pkl'",
     "output_type": "error",
     "traceback": [
      "\u001b[0;31m---------------------------------------------------------------------------\u001b[0m",
      "\u001b[0;31mFileNotFoundError\u001b[0m                         Traceback (most recent call last)",
      "\u001b[1;32m/home/thomas/Scaricati/HMM_handwritten_recognition/scripts/predict_model_2_2.ipynb Cella 3\u001b[0m in \u001b[0;36m<cell line: 7>\u001b[0;34m()\u001b[0m\n\u001b[1;32m      <a href='vscode-notebook-cell:/home/thomas/Scaricati/HMM_handwritten_recognition/scripts/predict_model_2_2.ipynb#ch0000002?line=5'>6</a>\u001b[0m models \u001b[39m=\u001b[39m []\n\u001b[1;32m      <a href='vscode-notebook-cell:/home/thomas/Scaricati/HMM_handwritten_recognition/scripts/predict_model_2_2.ipynb#ch0000002?line=6'>7</a>\u001b[0m \u001b[39mfor\u001b[39;00m n_class \u001b[39min\u001b[39;00m classes: \u001b[39m# Can be thrown an expection beacuse this is the labels of the test set and not of the models (train set)\u001b[39;00m\n\u001b[0;32m----> <a href='vscode-notebook-cell:/home/thomas/Scaricati/HMM_handwritten_recognition/scripts/predict_model_2_2.ipynb#ch0000002?line=7'>8</a>\u001b[0m     model \u001b[39m=\u001b[39m pickle\u001b[39m.\u001b[39mload(\u001b[39mopen\u001b[39;49m(\u001b[39m'\u001b[39;49m\u001b[39mmodels_2_2/\u001b[39;49m\u001b[39m'\u001b[39;49m\u001b[39m+\u001b[39;49m\u001b[39mstr\u001b[39;49m(n_class)\u001b[39m+\u001b[39;49m\u001b[39m'\u001b[39;49m\u001b[39mhmm_model.pkl\u001b[39;49m\u001b[39m'\u001b[39;49m, \u001b[39m'\u001b[39;49m\u001b[39mrb\u001b[39;49m\u001b[39m'\u001b[39;49m))\n\u001b[1;32m      <a href='vscode-notebook-cell:/home/thomas/Scaricati/HMM_handwritten_recognition/scripts/predict_model_2_2.ipynb#ch0000002?line=8'>9</a>\u001b[0m     models\u001b[39m.\u001b[39mappend(model)\n\u001b[1;32m     <a href='vscode-notebook-cell:/home/thomas/Scaricati/HMM_handwritten_recognition/scripts/predict_model_2_2.ipynb#ch0000002?line=10'>11</a>\u001b[0m \u001b[39m#log_likelihoods = pd.DataFrame()\u001b[39;00m\n\u001b[1;32m     <a href='vscode-notebook-cell:/home/thomas/Scaricati/HMM_handwritten_recognition/scripts/predict_model_2_2.ipynb#ch0000002?line=11'>12</a>\u001b[0m \u001b[39m#log_likelihoods['predicted_class'] = classes\u001b[39;00m\n\u001b[1;32m     <a href='vscode-notebook-cell:/home/thomas/Scaricati/HMM_handwritten_recognition/scripts/predict_model_2_2.ipynb#ch0000002?line=12'>13</a>\u001b[0m \u001b[39m#log_like_max = []\u001b[39;00m\n\u001b[1;32m     <a href='vscode-notebook-cell:/home/thomas/Scaricati/HMM_handwritten_recognition/scripts/predict_model_2_2.ipynb#ch0000002?line=13'>14</a>\u001b[0m \u001b[39m#top_3_loglikelihood = []\u001b[39;00m\n",
      "\u001b[0;31mFileNotFoundError\u001b[0m: [Errno 2] No such file or directory: 'models_2_2/4hmm_model.pkl'"
     ]
    }
   ],
   "source": [
    "predicted_test = test.copy()\n",
    "\n",
    "feature_1= 'curvature_1'\n",
    "\n",
    "\n",
    "models = []\n",
    "for n_class in classes: # Can be thrown an expection beacuse this is the labels of the test set and not of the models (train set)\n",
    "    model = pickle.load(open('models_2_2/'+str(n_class)+'hmm_model.pkl', 'rb'))\n",
    "    models.append(model)\n",
    "\n",
    "#log_likelihoods = pd.DataFrame()\n",
    "#log_likelihoods['predicted_class'] = classes\n",
    "#log_like_max = []\n",
    "#top_3_loglikelihood = []\n",
    "top_3_predicted_classes = []\n",
    "predicted_class = []\n",
    "#is_predicted = []\n",
    "true_label=[]\n",
    "\n",
    "for i in range(len(test)):\n",
    "    angle_1 = test[feature_1].iloc[i]\n",
    "    X=np.array([angle_1]).T\n",
    "    true_label.append(test['label'].iloc[i])\n",
    "    list_log_likelihoods = []\n",
    "    for model in models:\n",
    "        \n",
    "        list_log_likelihoods.append(model.score(X,lengths=len(X)))\n",
    "        pass\n",
    "\n",
    "    predicted_class.append(np.argmax(list_log_likelihoods))\n",
    "\n",
    "    top_3_values = sorted(list_log_likelihoods)[-3:]\n",
    "    top_3_predicted_classes.append([i for i, x in enumerate(list_log_likelihoods) if x == top_3_values[0] or x == top_3_values[1] or x == top_3_values[2]])\n",
    "    "
   ]
  },
  {
   "cell_type": "code",
   "execution_count": null,
   "id": "391b58ba-50df-4d19-a97a-ac6291271320",
   "metadata": {},
   "outputs": [
    {
     "name": "stdout",
     "output_type": "stream",
     "text": [
      "[]\n",
      "[1]\n",
      "0\n",
      "1\n"
     ]
    }
   ],
   "source": [
    "print(predicted_class)\n",
    "print(true_label)\n",
    "\n",
    "print(len(predicted_class))\n",
    "print(len(true_label))"
   ]
  },
  {
   "cell_type": "code",
   "execution_count": null,
   "id": "ff6db9d9-0cb8-4d89-b4b9-8cf4112d95ef",
   "metadata": {},
   "outputs": [],
   "source": [
    "matrix=contingency_matrix(true_label, predicted_class)"
   ]
  },
  {
   "cell_type": "code",
   "execution_count": null,
   "id": "e589d76d-3cc9-46b4-9dcf-e8dceb2b3f40",
   "metadata": {},
   "outputs": [
    {
     "data": {
      "text/plain": [
       "array([[ 7,  0,  0,  1,  3,  7,  0,  2,  1],\n",
       "       [ 0,  4,  1,  1,  2,  0,  2,  0,  2],\n",
       "       [ 1,  0, 10,  6,  1,  0,  0,  2,  6],\n",
       "       [ 1,  0,  4, 10,  2,  0,  1,  2,  3],\n",
       "       [ 0,  0,  2,  2,  1,  0,  0,  0,  4],\n",
       "       [ 3,  0,  1,  3,  1,  9,  0,  5,  0],\n",
       "       [ 0,  5,  0,  1,  1,  0,  7,  0,  5],\n",
       "       [ 1,  0,  1,  0,  1,  1,  0, 12,  3],\n",
       "       [ 1,  0,  6,  4,  1,  0,  0,  1, 11]])"
      ]
     },
     "execution_count": 15,
     "metadata": {},
     "output_type": "execute_result"
    }
   ],
   "source": [
    "matrix"
   ]
  },
  {
   "cell_type": "code",
   "execution_count": null,
   "id": "5ab0b386-766c-45d2-85c2-ed04cf21100c",
   "metadata": {},
   "outputs": [
    {
     "name": "stdout",
     "output_type": "stream",
     "text": [
      "Accuracy:  0.4057142857142857\n"
     ]
    }
   ],
   "source": [
    "accuracy=np.sum(np.diag(matrix))/np.sum(matrix)\n",
    "print(\"Accuracy: \", accuracy)"
   ]
  },
  {
   "cell_type": "code",
   "execution_count": null,
   "id": "f01fc794-dafb-4b42-9cdc-2c4bc399fdb7",
   "metadata": {},
   "outputs": [],
   "source": [
    "# Calculate top 3 accuracy\n",
    "sum_top_3 = 0\n",
    "for i in range(len(top_3_predicted_classes)):\n",
    "    if true_label[i] in top_3_predicted_classes[i]:\n",
    "        sum_top_3 += 1\n",
    "\n",
    "accuracy_top_3 = sum_top_3/len(predicted_test[\"label\"])\n",
    "print(\"Accuracy top 3: \", accuracy_top_3)"
   ]
  }
 ],
 "metadata": {
  "kernelspec": {
   "display_name": "Python 3.9.7 ('pml')",
   "language": "python",
   "name": "python3"
  },
  "language_info": {
   "codemirror_mode": {
    "name": "ipython",
    "version": 3
   },
   "file_extension": ".py",
   "mimetype": "text/x-python",
   "name": "python",
   "nbconvert_exporter": "python",
   "pygments_lexer": "ipython3",
   "version": "3.9.7"
  },
  "vscode": {
   "interpreter": {
    "hash": "8f162362b51a040b66da23130964be17c9a4290e709b2d7f75b268249f5b26fc"
   }
  }
 },
 "nbformat": 4,
 "nbformat_minor": 5
}
