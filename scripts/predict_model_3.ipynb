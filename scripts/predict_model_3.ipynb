{
 "cells": [
  {
   "cell_type": "code",
   "execution_count": 1,
   "id": "d6c14772-9b1a-4502-9b7f-1e1d3741f0eb",
   "metadata": {},
   "outputs": [],
   "source": [
    "import pickle\n",
    "import numpy as np\n",
    "import pandas as pd\n",
    "from sklearn.metrics.cluster import contingency_matrix \n",
    "\n"
   ]
  },
  {
   "cell_type": "code",
   "execution_count": 2,
   "id": "9778b103-d884-42fc-8b69-a7e21266916c",
   "metadata": {},
   "outputs": [],
   "source": [
    "%store -r test\n",
    "\n",
    "# Take the name of the different classes (e.g. '0', '1', '2', ...)\n",
    "classes = test.groupby(['label'])['label'].unique().index.to_list()"
   ]
  },
  {
   "cell_type": "code",
   "execution_count": 3,
   "id": "b1548fcd-5633-4ad4-b536-4ca28c41da0b",
   "metadata": {},
   "outputs": [
    {
     "ename": "FileNotFoundError",
     "evalue": "[Errno 2] No such file or directory: 'models_3/4hmm_model.pkl'",
     "output_type": "error",
     "traceback": [
      "\u001b[0;31m---------------------------------------------------------------------------\u001b[0m",
      "\u001b[0;31mFileNotFoundError\u001b[0m                         Traceback (most recent call last)",
      "\u001b[1;32m/home/thomas/Scaricati/HMM_handwritten_recognition/scripts/predict_model_3.ipynb Cella 3\u001b[0m in \u001b[0;36m<cell line: 7>\u001b[0;34m()\u001b[0m\n\u001b[1;32m      <a href='vscode-notebook-cell:/home/thomas/Scaricati/HMM_handwritten_recognition/scripts/predict_model_3.ipynb#ch0000002?line=5'>6</a>\u001b[0m models \u001b[39m=\u001b[39m []\n\u001b[1;32m      <a href='vscode-notebook-cell:/home/thomas/Scaricati/HMM_handwritten_recognition/scripts/predict_model_3.ipynb#ch0000002?line=6'>7</a>\u001b[0m \u001b[39mfor\u001b[39;00m n_class \u001b[39min\u001b[39;00m classes: \u001b[39m# Can be thrown an expection beacuse this is the labels of the test set and not of the models (train set)\u001b[39;00m\n\u001b[0;32m----> <a href='vscode-notebook-cell:/home/thomas/Scaricati/HMM_handwritten_recognition/scripts/predict_model_3.ipynb#ch0000002?line=7'>8</a>\u001b[0m     model \u001b[39m=\u001b[39m pickle\u001b[39m.\u001b[39mload(\u001b[39mopen\u001b[39;49m(\u001b[39m'\u001b[39;49m\u001b[39mmodels_3/\u001b[39;49m\u001b[39m'\u001b[39;49m\u001b[39m+\u001b[39;49m\u001b[39mstr\u001b[39;49m(n_class)\u001b[39m+\u001b[39;49m\u001b[39m'\u001b[39;49m\u001b[39mhmm_model.pkl\u001b[39;49m\u001b[39m'\u001b[39;49m, \u001b[39m'\u001b[39;49m\u001b[39mrb\u001b[39;49m\u001b[39m'\u001b[39;49m))\n\u001b[1;32m      <a href='vscode-notebook-cell:/home/thomas/Scaricati/HMM_handwritten_recognition/scripts/predict_model_3.ipynb#ch0000002?line=8'>9</a>\u001b[0m     models\u001b[39m.\u001b[39mappend(model)\n\u001b[1;32m     <a href='vscode-notebook-cell:/home/thomas/Scaricati/HMM_handwritten_recognition/scripts/predict_model_3.ipynb#ch0000002?line=10'>11</a>\u001b[0m \u001b[39m#log_likelihoods = pd.DataFrame()\u001b[39;00m\n\u001b[1;32m     <a href='vscode-notebook-cell:/home/thomas/Scaricati/HMM_handwritten_recognition/scripts/predict_model_3.ipynb#ch0000002?line=11'>12</a>\u001b[0m \u001b[39m#log_likelihoods['predicted_class'] = classes\u001b[39;00m\n\u001b[1;32m     <a href='vscode-notebook-cell:/home/thomas/Scaricati/HMM_handwritten_recognition/scripts/predict_model_3.ipynb#ch0000002?line=12'>13</a>\u001b[0m \u001b[39m#log_like_max = []\u001b[39;00m\n\u001b[1;32m     <a href='vscode-notebook-cell:/home/thomas/Scaricati/HMM_handwritten_recognition/scripts/predict_model_3.ipynb#ch0000002?line=13'>14</a>\u001b[0m \u001b[39m#top_3_loglikelihood = []\u001b[39;00m\n",
      "\u001b[0;31mFileNotFoundError\u001b[0m: [Errno 2] No such file or directory: 'models_3/4hmm_model.pkl'"
     ]
    }
   ],
   "source": [
    "predicted_test = test.copy()\n",
    "\n",
    "feature_1= 'curvature_2'\n",
    "\n",
    "\n",
    "models = []\n",
    "for n_class in classes: # Can be thrown an expection beacuse this is the labels of the test set and not of the models (train set)\n",
    "    model = pickle.load(open('models_3/'+str(n_class)+'hmm_model.pkl', 'rb'))\n",
    "    models.append(model)\n",
    "\n",
    "#log_likelihoods = pd.DataFrame()\n",
    "#log_likelihoods['predicted_class'] = classes\n",
    "#log_like_max = []\n",
    "#top_3_loglikelihood = []\n",
    "top_3_predicted_classes = []\n",
    "predicted_class = []\n",
    "#is_predicted = []\n",
    "true_label=[]\n",
    "\n",
    "for i in range(len(test)):\n",
    "    angle_1 = test[feature_1].iloc[i]\n",
    "    X=np.array([angle_1]).T\n",
    "    true_label.append(test['label'].iloc[i])\n",
    "    list_log_likelihoods = []\n",
    "    for model in models:\n",
    "        \n",
    "        list_log_likelihoods.append(model.score(X,lengths=len(X)))\n",
    "        pass\n",
    "\n",
    "    predicted_class.append(np.argmax(list_log_likelihoods))\n",
    "\n",
    "    top_3_values = sorted(list_log_likelihoods)[-3:]\n",
    "    top_3_predicted_classes.append([i for i, x in enumerate(list_log_likelihoods) if x == top_3_values[0] or x == top_3_values[1] or x == top_3_values[2]])\n",
    "    "
   ]
  },
  {
   "cell_type": "code",
   "execution_count": null,
   "id": "d97b0736-36bf-41d9-8914-c78c84ea3472",
   "metadata": {},
   "outputs": [],
   "source": [
    "matrix=contingency_matrix(true_label, predicted_class)"
   ]
  },
  {
   "cell_type": "code",
   "execution_count": null,
   "id": "35de2716-c5e5-4976-9553-754cdb5cfb79",
   "metadata": {},
   "outputs": [
    {
     "data": {
      "text/plain": [
       "array([[ 9,  1,  0,  1,  0,  6,  0,  2,  2],\n",
       "       [ 0,  4,  2,  1,  0,  0,  5,  0,  0],\n",
       "       [ 2,  0,  5,  8,  0,  2,  0,  1,  8],\n",
       "       [ 3,  0,  2, 10,  1,  2,  2,  3,  0],\n",
       "       [ 0,  0,  2,  1,  3,  0,  1,  0,  2],\n",
       "       [ 8,  0,  0,  3,  1,  4,  0,  6,  0],\n",
       "       [ 0,  4,  0,  0,  2,  0, 13,  0,  0],\n",
       "       [ 2,  0,  0,  1,  1,  3,  1, 11,  0],\n",
       "       [ 0,  0,  4,  3,  0,  1,  1,  1, 14]])"
      ]
     },
     "execution_count": 11,
     "metadata": {},
     "output_type": "execute_result"
    }
   ],
   "source": [
    "matrix\n"
   ]
  },
  {
   "cell_type": "code",
   "execution_count": null,
   "id": "fafcd4aa-158f-4909-8df8-8ebd2dfbd5e2",
   "metadata": {},
   "outputs": [
    {
     "name": "stdout",
     "output_type": "stream",
     "text": [
      "Accuracy:  0.41714285714285715\n"
     ]
    }
   ],
   "source": [
    "accuracy=np.sum(np.diag(matrix))/np.sum(matrix)\n",
    "print(\"Accuracy: \", accuracy)"
   ]
  },
  {
   "cell_type": "code",
   "execution_count": null,
   "id": "a464ae97-99ad-4704-b673-7b190cff34a8",
   "metadata": {},
   "outputs": [],
   "source": [
    "# Calculate top 3 accuracy\n",
    "sum_top_3 = 0\n",
    "for i in range(len(top_3_predicted_classes)):\n",
    "    if true_label[i] in top_3_predicted_classes[i]:\n",
    "        sum_top_3 += 1\n",
    "\n",
    "accuracy_top_3 = sum_top_3/len(predicted_test[\"label\"])\n",
    "print(\"Accuracy top 3: \", accuracy_top_3)"
   ]
  }
 ],
 "metadata": {
  "kernelspec": {
   "display_name": "Python 3.9.7 ('pml')",
   "language": "python",
   "name": "python3"
  },
  "language_info": {
   "codemirror_mode": {
    "name": "ipython",
    "version": 3
   },
   "file_extension": ".py",
   "mimetype": "text/x-python",
   "name": "python",
   "nbconvert_exporter": "python",
   "pygments_lexer": "ipython3",
   "version": "3.9.7"
  },
  "vscode": {
   "interpreter": {
    "hash": "8f162362b51a040b66da23130964be17c9a4290e709b2d7f75b268249f5b26fc"
   }
  }
 },
 "nbformat": 4,
 "nbformat_minor": 5
}
