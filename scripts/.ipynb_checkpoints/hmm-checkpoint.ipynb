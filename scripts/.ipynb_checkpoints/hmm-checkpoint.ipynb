{
 "cells": [
  {
   "cell_type": "code",
   "execution_count": 119,
   "metadata": {},
   "outputs": [
    {
     "name": "stdout",
     "output_type": "stream",
     "text": [
      "(93, 10)\n"
     ]
    },
    {
     "data": {
      "text/html": [
       "<div>\n",
       "<style scoped>\n",
       "    .dataframe tbody tr th:only-of-type {\n",
       "        vertical-align: middle;\n",
       "    }\n",
       "\n",
       "    .dataframe tbody tr th {\n",
       "        vertical-align: top;\n",
       "    }\n",
       "\n",
       "    .dataframe thead th {\n",
       "        text-align: right;\n",
       "    }\n",
       "</style>\n",
       "<table border=\"1\" class=\"dataframe\">\n",
       "  <thead>\n",
       "    <tr style=\"text-align: right;\">\n",
       "      <th></th>\n",
       "      <th>label</th>\n",
       "      <th>x</th>\n",
       "      <th>y</th>\n",
       "      <th>speed</th>\n",
       "      <th>strokes</th>\n",
       "      <th>arctan2_2</th>\n",
       "      <th>arctan_1</th>\n",
       "      <th>curvature_4</th>\n",
       "      <th>curvature_2</th>\n",
       "      <th>curvature_1</th>\n",
       "    </tr>\n",
       "  </thead>\n",
       "  <tbody>\n",
       "    <tr>\n",
       "      <th>765</th>\n",
       "      <td>0</td>\n",
       "      <td>[485.0, 451.0, 438.0, 394.0, 379.0, 351.0, 325...</td>\n",
       "      <td>[121.0, 144.0, 155.0, 197.0, 214.0, 252.0, 295...</td>\n",
       "      <td>1.391</td>\n",
       "      <td>1</td>\n",
       "      <td>[2.55, 2.44, 2.38, 2.29, 2.21, 2.11, 1.98, 1.8...</td>\n",
       "      <td>[0.24, 0.31, 0.34, 0.46, 0.51, 0.62, 0.74, 0.9...</td>\n",
       "      <td>[2.7722, 2.7608, 2.7052, 2.6229, 2.5526, 2.507...</td>\n",
       "      <td>[2.9824, 2.9834, 2.9442, 2.9417, 2.9376, 2.882...</td>\n",
       "      <td>[3.0341, 3.0818, 3.0559, 3.0536, 3.0503, 3.010...</td>\n",
       "    </tr>\n",
       "    <tr>\n",
       "      <th>299</th>\n",
       "      <td>0</td>\n",
       "      <td>[763.0, 757.0, 752.0, 746.0, 737.0, 726.0, 706...</td>\n",
       "      <td>[248.0, 244.0, 242.0, 241.0, 240.0, 239.0, 239...</td>\n",
       "      <td>Infin</td>\n",
       "      <td>1</td>\n",
       "      <td>[-2.55, -2.76, -2.98, -3.03, -3.05, 3.14, 3.08...</td>\n",
       "      <td>[0.31, 0.31, 0.31, 0.31, 0.31, 0.32, 0.33, 0.3...</td>\n",
       "      <td>[2.8108, 2.8937, 2.9134, 2.9364, 2.9341, 2.943...</td>\n",
       "      <td>[2.7748, 2.975, 3.0413, 3.0134, 3.0129, 3.0198...</td>\n",
       "      <td>[2.9341, 2.9262, 3.0872, 3.1216, 3.0509, 3.075...</td>\n",
       "    </tr>\n",
       "    <tr>\n",
       "      <th>689</th>\n",
       "      <td>0</td>\n",
       "      <td>[743.0, 732.0, 708.0, 686.0, 651.0, 631.0, 618...</td>\n",
       "      <td>[74.0, 75.0, 90.0, 108.0, 154.0, 197.0, 244.0,...</td>\n",
       "      <td>2.007</td>\n",
       "      <td>1</td>\n",
       "      <td>[3.05, 2.58, 2.46, 2.22, 2.01, 1.84, 1.64, 1.2...</td>\n",
       "      <td>[0.1, 0.1, 0.13, 0.16, 0.23, 0.3, 0.38, 0.47, ...</td>\n",
       "      <td>[2.3876, 2.408, 2.2958, 2.1781, 2.155, 2.1533,...</td>\n",
       "      <td>[2.7272, 2.7466, 2.7654, 2.7394, 2.7038, 2.643...</td>\n",
       "      <td>[2.6737, 3.0145, 2.907, 2.9265, 2.9761, 2.9421...</td>\n",
       "    </tr>\n",
       "    <tr>\n",
       "      <th>280</th>\n",
       "      <td>0</td>\n",
       "      <td>[764.0, 751.0, 742.0, 730.0, 702.0, 680.0, 657...</td>\n",
       "      <td>[194.0, 190.0, 190.0, 191.0, 199.0, 207.0, 218...</td>\n",
       "      <td>1.333</td>\n",
       "      <td>1</td>\n",
       "      <td>[-2.84, 3.14, 3.06, 2.86, 2.79, 2.7, 2.48, 2.3...</td>\n",
       "      <td>[0.25, 0.25, 0.25, 0.26, 0.28, 0.3, 0.32, 0.38...</td>\n",
       "      <td>[2.6251, 2.5958, 2.5786, 2.5038, 2.4695, 2.358...</td>\n",
       "      <td>[2.7404, 2.8795, 2.9634, 2.8713, 2.8198, 2.780...</td>\n",
       "      <td>[2.8431, 3.0585, 2.9464, 3.0712, 3.0443, 2.930...</td>\n",
       "    </tr>\n",
       "    <tr>\n",
       "      <th>158</th>\n",
       "      <td>0</td>\n",
       "      <td>[544.0, 505.0, 475.0, 432.0, 408.0, 387.0, 372...</td>\n",
       "      <td>[87.0, 118.0, 150.0, 212.0, 260.0, 312.0, 364....</td>\n",
       "      <td>1.748</td>\n",
       "      <td>1</td>\n",
       "      <td>[2.47, 2.32, 2.18, 2.03, 1.95, 1.85, 1.7, 1.46...</td>\n",
       "      <td>[0.16, 0.23, 0.31, 0.46, 0.57, 0.68, 0.77, 0.8...</td>\n",
       "      <td>[2.627, 2.5769, 2.4806, 2.3524, 2.2457, 2.1784...</td>\n",
       "      <td>[2.8578, 2.9041, 2.9277, 2.9272, 2.8004, 2.710...</td>\n",
       "      <td>[2.9956, 2.9948, 2.9989, 3.0618, 3.0386, 2.994...</td>\n",
       "    </tr>\n",
       "    <tr>\n",
       "      <th>...</th>\n",
       "      <td>...</td>\n",
       "      <td>...</td>\n",
       "      <td>...</td>\n",
       "      <td>...</td>\n",
       "      <td>...</td>\n",
       "      <td>...</td>\n",
       "      <td>...</td>\n",
       "      <td>...</td>\n",
       "      <td>...</td>\n",
       "      <td>...</td>\n",
       "    </tr>\n",
       "    <tr>\n",
       "      <th>458</th>\n",
       "      <td>0</td>\n",
       "      <td>[459.0, 441.0, 428.0, 413.0, 397.0, 380.0, 364...</td>\n",
       "      <td>[106.0, 103.0, 103.0, 105.0, 108.0, 114.0, 120...</td>\n",
       "      <td>0.777</td>\n",
       "      <td>1</td>\n",
       "      <td>[-2.98, 3.14, 3.01, 2.96, 2.8, 2.78, 2.61, 2.4...</td>\n",
       "      <td>[0.23, 0.23, 0.24, 0.25, 0.27, 0.29, 0.32, 0.3...</td>\n",
       "      <td>[2.693, 2.7389, 2.7211, 2.7477, 2.7936, 2.8281...</td>\n",
       "      <td>[2.8852, 2.9467, 2.9527, 2.9442, 2.9024, 2.893...</td>\n",
       "      <td>[2.9764, 3.0091, 3.0889, 2.9876, 3.1221, 2.966...</td>\n",
       "    </tr>\n",
       "    <tr>\n",
       "      <th>330</th>\n",
       "      <td>0</td>\n",
       "      <td>[552.0, 524.0, 491.0, 455.0, 421.0, 389.0, 359...</td>\n",
       "      <td>[110.0, 120.0, 134.0, 155.0, 179.0, 205.0, 236...</td>\n",
       "      <td>1.640</td>\n",
       "      <td>1</td>\n",
       "      <td>[2.8, 2.74, 2.61, 2.53, 2.46, 2.34, 2.21, 2.12...</td>\n",
       "      <td>[0.2, 0.23, 0.27, 0.33, 0.4, 0.49, 0.58, 0.69,...</td>\n",
       "      <td>[2.7605, 2.7313, 2.7067, 2.6919, 2.6643, 2.612...</td>\n",
       "      <td>[2.9451, 2.9627, 2.9695, 2.924, 2.9082, 2.9377...</td>\n",
       "      <td>[3.0834, 3.0148, 3.055, 3.0739, 3.0221, 3.0161...</td>\n",
       "    </tr>\n",
       "    <tr>\n",
       "      <th>614</th>\n",
       "      <td>0</td>\n",
       "      <td>[759.0, 766.0, 771.0, 775.0, 777.0, 769.0, 752...</td>\n",
       "      <td>[262.0, 257.0, 252.0, 246.0, 234.0, 221.0, 207...</td>\n",
       "      <td>0.970</td>\n",
       "      <td>1</td>\n",
       "      <td>[-0.62, -0.79, -0.98, -1.41, -2.12, -2.45, -2....</td>\n",
       "      <td>[0.33, 0.32, 0.32, 0.31, 0.29, 0.28, 0.27, 0.2...</td>\n",
       "      <td>[1.5708, 1.9184, 2.1773, 2.3444, 2.5283, 2.562...</td>\n",
       "      <td>[2.5873, 2.2203, 2.0729, 2.4086, 2.6983, 2.817...</td>\n",
       "      <td>[2.9764, 2.9442, 2.7187, 2.4248, 2.8114, 2.942...</td>\n",
       "    </tr>\n",
       "    <tr>\n",
       "      <th>20</th>\n",
       "      <td>0</td>\n",
       "      <td>[808.0, 774.0, 746.0, 730.0, 675.0, 636.0, 597...</td>\n",
       "      <td>[148.0, 138.0, 136.0, 136.0, 144.0, 156.0, 174...</td>\n",
       "      <td>1.560</td>\n",
       "      <td>1</td>\n",
       "      <td>[-2.86, -3.07, 3.14, 3.0, 2.84, 2.71, 2.58, 2....</td>\n",
       "      <td>[0.18, 0.18, 0.18, 0.18, 0.21, 0.24, 0.28, 0.3...</td>\n",
       "      <td>[2.6089, 2.6653, 2.5981, 2.5895, 2.5925, 2.596...</td>\n",
       "      <td>[2.8382, 2.8865, 2.8866, 2.8519, 2.8808, 2.897...</td>\n",
       "      <td>[2.9268, 3.0703, 2.9972, 2.9876, 3.0077, 3.010...</td>\n",
       "    </tr>\n",
       "    <tr>\n",
       "      <th>71</th>\n",
       "      <td>0</td>\n",
       "      <td>[728.0, 714.0, 697.0, 679.0, 660.0, 642.0, 626...</td>\n",
       "      <td>[141.0, 143.0, 145.0, 149.0, 152.0, 157.0, 162...</td>\n",
       "      <td>0.609</td>\n",
       "      <td>1</td>\n",
       "      <td>[3.0, 3.02, 2.92, 2.98, 2.87, 2.84, 2.76, 2.68...</td>\n",
       "      <td>[0.19, 0.2, 0.21, 0.22, 0.23, 0.24, 0.25, 0.27...</td>\n",
       "      <td>[2.9519, 2.9389, 2.9198, 2.9303, 2.9614, 2.952...</td>\n",
       "      <td>[3.0829, 3.0985, 3.0426, 3.0135, 3.0062, 3.032...</td>\n",
       "      <td>[3.1167, 3.0401, 3.0795, 3.0273, 3.1097, 3.064...</td>\n",
       "    </tr>\n",
       "  </tbody>\n",
       "</table>\n",
       "<p>93 rows × 10 columns</p>\n",
       "</div>"
      ],
      "text/plain": [
       "    label                                                  x  \\\n",
       "765     0  [485.0, 451.0, 438.0, 394.0, 379.0, 351.0, 325...   \n",
       "299     0  [763.0, 757.0, 752.0, 746.0, 737.0, 726.0, 706...   \n",
       "689     0  [743.0, 732.0, 708.0, 686.0, 651.0, 631.0, 618...   \n",
       "280     0  [764.0, 751.0, 742.0, 730.0, 702.0, 680.0, 657...   \n",
       "158     0  [544.0, 505.0, 475.0, 432.0, 408.0, 387.0, 372...   \n",
       "..    ...                                                ...   \n",
       "458     0  [459.0, 441.0, 428.0, 413.0, 397.0, 380.0, 364...   \n",
       "330     0  [552.0, 524.0, 491.0, 455.0, 421.0, 389.0, 359...   \n",
       "614     0  [759.0, 766.0, 771.0, 775.0, 777.0, 769.0, 752...   \n",
       "20      0  [808.0, 774.0, 746.0, 730.0, 675.0, 636.0, 597...   \n",
       "71      0  [728.0, 714.0, 697.0, 679.0, 660.0, 642.0, 626...   \n",
       "\n",
       "                                                     y  speed strokes  \\\n",
       "765  [121.0, 144.0, 155.0, 197.0, 214.0, 252.0, 295...  1.391       1   \n",
       "299  [248.0, 244.0, 242.0, 241.0, 240.0, 239.0, 239...  Infin       1   \n",
       "689  [74.0, 75.0, 90.0, 108.0, 154.0, 197.0, 244.0,...  2.007       1   \n",
       "280  [194.0, 190.0, 190.0, 191.0, 199.0, 207.0, 218...  1.333       1   \n",
       "158  [87.0, 118.0, 150.0, 212.0, 260.0, 312.0, 364....  1.748       1   \n",
       "..                                                 ...    ...     ...   \n",
       "458  [106.0, 103.0, 103.0, 105.0, 108.0, 114.0, 120...  0.777       1   \n",
       "330  [110.0, 120.0, 134.0, 155.0, 179.0, 205.0, 236...  1.640       1   \n",
       "614  [262.0, 257.0, 252.0, 246.0, 234.0, 221.0, 207...  0.970       1   \n",
       "20   [148.0, 138.0, 136.0, 136.0, 144.0, 156.0, 174...  1.560       1   \n",
       "71   [141.0, 143.0, 145.0, 149.0, 152.0, 157.0, 162...  0.609       1   \n",
       "\n",
       "                                             arctan2_2  \\\n",
       "765  [2.55, 2.44, 2.38, 2.29, 2.21, 2.11, 1.98, 1.8...   \n",
       "299  [-2.55, -2.76, -2.98, -3.03, -3.05, 3.14, 3.08...   \n",
       "689  [3.05, 2.58, 2.46, 2.22, 2.01, 1.84, 1.64, 1.2...   \n",
       "280  [-2.84, 3.14, 3.06, 2.86, 2.79, 2.7, 2.48, 2.3...   \n",
       "158  [2.47, 2.32, 2.18, 2.03, 1.95, 1.85, 1.7, 1.46...   \n",
       "..                                                 ...   \n",
       "458  [-2.98, 3.14, 3.01, 2.96, 2.8, 2.78, 2.61, 2.4...   \n",
       "330  [2.8, 2.74, 2.61, 2.53, 2.46, 2.34, 2.21, 2.12...   \n",
       "614  [-0.62, -0.79, -0.98, -1.41, -2.12, -2.45, -2....   \n",
       "20   [-2.86, -3.07, 3.14, 3.0, 2.84, 2.71, 2.58, 2....   \n",
       "71   [3.0, 3.02, 2.92, 2.98, 2.87, 2.84, 2.76, 2.68...   \n",
       "\n",
       "                                              arctan_1  \\\n",
       "765  [0.24, 0.31, 0.34, 0.46, 0.51, 0.62, 0.74, 0.9...   \n",
       "299  [0.31, 0.31, 0.31, 0.31, 0.31, 0.32, 0.33, 0.3...   \n",
       "689  [0.1, 0.1, 0.13, 0.16, 0.23, 0.3, 0.38, 0.47, ...   \n",
       "280  [0.25, 0.25, 0.25, 0.26, 0.28, 0.3, 0.32, 0.38...   \n",
       "158  [0.16, 0.23, 0.31, 0.46, 0.57, 0.68, 0.77, 0.8...   \n",
       "..                                                 ...   \n",
       "458  [0.23, 0.23, 0.24, 0.25, 0.27, 0.29, 0.32, 0.3...   \n",
       "330  [0.2, 0.23, 0.27, 0.33, 0.4, 0.49, 0.58, 0.69,...   \n",
       "614  [0.33, 0.32, 0.32, 0.31, 0.29, 0.28, 0.27, 0.2...   \n",
       "20   [0.18, 0.18, 0.18, 0.18, 0.21, 0.24, 0.28, 0.3...   \n",
       "71   [0.19, 0.2, 0.21, 0.22, 0.23, 0.24, 0.25, 0.27...   \n",
       "\n",
       "                                           curvature_4  \\\n",
       "765  [2.7722, 2.7608, 2.7052, 2.6229, 2.5526, 2.507...   \n",
       "299  [2.8108, 2.8937, 2.9134, 2.9364, 2.9341, 2.943...   \n",
       "689  [2.3876, 2.408, 2.2958, 2.1781, 2.155, 2.1533,...   \n",
       "280  [2.6251, 2.5958, 2.5786, 2.5038, 2.4695, 2.358...   \n",
       "158  [2.627, 2.5769, 2.4806, 2.3524, 2.2457, 2.1784...   \n",
       "..                                                 ...   \n",
       "458  [2.693, 2.7389, 2.7211, 2.7477, 2.7936, 2.8281...   \n",
       "330  [2.7605, 2.7313, 2.7067, 2.6919, 2.6643, 2.612...   \n",
       "614  [1.5708, 1.9184, 2.1773, 2.3444, 2.5283, 2.562...   \n",
       "20   [2.6089, 2.6653, 2.5981, 2.5895, 2.5925, 2.596...   \n",
       "71   [2.9519, 2.9389, 2.9198, 2.9303, 2.9614, 2.952...   \n",
       "\n",
       "                                           curvature_2  \\\n",
       "765  [2.9824, 2.9834, 2.9442, 2.9417, 2.9376, 2.882...   \n",
       "299  [2.7748, 2.975, 3.0413, 3.0134, 3.0129, 3.0198...   \n",
       "689  [2.7272, 2.7466, 2.7654, 2.7394, 2.7038, 2.643...   \n",
       "280  [2.7404, 2.8795, 2.9634, 2.8713, 2.8198, 2.780...   \n",
       "158  [2.8578, 2.9041, 2.9277, 2.9272, 2.8004, 2.710...   \n",
       "..                                                 ...   \n",
       "458  [2.8852, 2.9467, 2.9527, 2.9442, 2.9024, 2.893...   \n",
       "330  [2.9451, 2.9627, 2.9695, 2.924, 2.9082, 2.9377...   \n",
       "614  [2.5873, 2.2203, 2.0729, 2.4086, 2.6983, 2.817...   \n",
       "20   [2.8382, 2.8865, 2.8866, 2.8519, 2.8808, 2.897...   \n",
       "71   [3.0829, 3.0985, 3.0426, 3.0135, 3.0062, 3.032...   \n",
       "\n",
       "                                           curvature_1  \n",
       "765  [3.0341, 3.0818, 3.0559, 3.0536, 3.0503, 3.010...  \n",
       "299  [2.9341, 2.9262, 3.0872, 3.1216, 3.0509, 3.075...  \n",
       "689  [2.6737, 3.0145, 2.907, 2.9265, 2.9761, 2.9421...  \n",
       "280  [2.8431, 3.0585, 2.9464, 3.0712, 3.0443, 2.930...  \n",
       "158  [2.9956, 2.9948, 2.9989, 3.0618, 3.0386, 2.994...  \n",
       "..                                                 ...  \n",
       "458  [2.9764, 3.0091, 3.0889, 2.9876, 3.1221, 2.966...  \n",
       "330  [3.0834, 3.0148, 3.055, 3.0739, 3.0221, 3.0161...  \n",
       "614  [2.9764, 2.9442, 2.7187, 2.4248, 2.8114, 2.942...  \n",
       "20   [2.9268, 3.0703, 2.9972, 2.9876, 3.0077, 3.010...  \n",
       "71   [3.1167, 3.0401, 3.0795, 3.0273, 3.1097, 3.064...  \n",
       "\n",
       "[93 rows x 10 columns]"
      ]
     },
     "execution_count": 119,
     "metadata": {},
     "output_type": "execute_result"
    }
   ],
   "source": [
    "%store -r df_classes\n",
    "\n",
    "\n",
    "print(df_classes[0].shape)\n",
    "# print(train.shape)\n",
    "df_classes[0]\n",
    "# df_classes\n",
    "\n"
   ]
  },
  {
   "cell_type": "markdown",
   "metadata": {},
   "source": [
    "## Train HMM\n",
    "\n",
    "https://citeseerx.ist.psu.edu/viewdoc/download?doi=10.1.1.226.3759&rep=rep1&type=pdf\n",
    "\n",
    "https://learning.oreilly.com/library/view/python-machine-learning/9781786464477/ch07s08.html#ch07lvl2sec94"
   ]
  },
  {
   "cell_type": "markdown",
   "metadata": {},
   "source": [
    "### Calculate Gaussian Mixture of model to find observation probability"
   ]
  },
  {
   "cell_type": "code",
   "execution_count": 120,
   "metadata": {},
   "outputs": [],
   "source": [
    "from hmmlearn import hmm\n",
    "import numpy as np\n",
    "import pickle\n",
    "from hmmlearn import base"
   ]
  },
  {
   "cell_type": "code",
   "execution_count": 121,
   "metadata": {},
   "outputs": [],
   "source": [
    "from sklearn.mixture import GaussianMixture\n",
    "\n",
    "# X0 = df_classes[0][['angles', 'x', 'y']]\n",
    "\n",
    "# GMM = GaussianMixture(n_components=3, random_state=0).fit(X0) BUGGATO"
   ]
  },
  {
   "cell_type": "code",
   "execution_count": 5,
   "metadata": {},
   "outputs": [],
   "source": [
    "\n",
    "\n",
    "# from baum_welch import baum_welch\n",
    "\n",
    "# data = df_classes[0][['angles']].values\n",
    "# data_list_append = data.tolist()\n",
    "# data_list_append = [ three for one in data_list_append for two in one for three in two] \n",
    "\n",
    "# # TRY ONLY WI CURVATURE (ANGLE)\n",
    "# # 6 states\n",
    "# initial_prob = np.array([1, 0, 0, 0, 0, 0])\n",
    "# transition_prob = np.ones((6, 6))\n",
    "# transition_prob = transition_prob / np.sum(transition_prob, axis=1)\n",
    "# emission_prob = np.ones((6, 1)) # I don't know how many\n",
    "# emission_prob = emission_prob / np.sum(emission_prob, axis=1).reshape(-1, 1)\n",
    "\n",
    "# n_iter = 20\n",
    "# # To go, data has to be a list of numbers\n",
    "\n",
    "# transition_true, emission_true = baum_welch(data_list_append, initial_prob, transition_prob, emission_prob, n_iter)\n",
    "\n",
    "# print(\"new transition_prob: \", transition_true, \"\\nnew emission_prob: \", emission_true)\n"
   ]
  },
  {
   "cell_type": "code",
   "execution_count": 6,
   "metadata": {},
   "outputs": [],
   "source": [
    "# https://hmmlearn.readthedocs.io/en/latest/tutorial.html#working-with-multiple-sequences\n",
    "\n",
    "#           Delete this cell\n",
    "\n",
    "# data_true = train[['angles']].values.tolist()\n",
    "# data_list_try = np.array([ [three] for one in data_true for two in one for three in two])\n",
    "# len_list_try = [len(two) for one in data_true for two in one ]\n",
    "\n",
    "\n",
    "# # print(data_list_try)\n",
    "# # print(data_list_try.shape)\n",
    "# # print(type(len_list_try))\n",
    "\n",
    "# hmm.GaussianHMM(n_components=6).fit(data_list_try, len_list_try)"
   ]
  },
  {
   "cell_type": "markdown",
   "metadata": {},
   "source": [
    "# GaussianHMM: x,y (models_1)"
   ]
  },
  {
   "cell_type": "code",
   "execution_count": 35,
   "metadata": {
    "collapsed": true,
    "jupyter": {
     "outputs_hidden": true
    },
    "tags": []
   },
   "outputs": [
    {
     "name": "stderr",
     "output_type": "stream",
     "text": [
      "Even though the 'startprob_' attribute is set, it will be overwritten during initialization because 'init_params' contains 's'\n",
      "Even though the 'transmat_' attribute is set, it will be overwritten during initialization because 'init_params' contains 't'\n"
     ]
    },
    {
     "name": "stdout",
     "output_type": "stream",
     "text": [
      "Modelling probabilities of class  0  of  9  classes\n",
      "(4798, 2)\n"
     ]
    },
    {
     "name": "stderr",
     "output_type": "stream",
     "text": [
      "Even though the 'startprob_' attribute is set, it will be overwritten during initialization because 'init_params' contains 's'\n",
      "Even though the 'transmat_' attribute is set, it will be overwritten during initialization because 'init_params' contains 't'\n"
     ]
    },
    {
     "name": "stdout",
     "output_type": "stream",
     "text": [
      "Modelling probabilities of class  1  of  9  classes\n",
      "(1413, 2)\n"
     ]
    },
    {
     "name": "stderr",
     "output_type": "stream",
     "text": [
      "Even though the 'startprob_' attribute is set, it will be overwritten during initialization because 'init_params' contains 's'\n",
      "Even though the 'transmat_' attribute is set, it will be overwritten during initialization because 'init_params' contains 't'\n"
     ]
    },
    {
     "name": "stdout",
     "output_type": "stream",
     "text": [
      "Modelling probabilities of class  2  of  9  classes\n",
      "(4927, 2)\n"
     ]
    },
    {
     "name": "stderr",
     "output_type": "stream",
     "text": [
      "Even though the 'startprob_' attribute is set, it will be overwritten during initialization because 'init_params' contains 's'\n",
      "Even though the 'transmat_' attribute is set, it will be overwritten during initialization because 'init_params' contains 't'\n"
     ]
    },
    {
     "name": "stdout",
     "output_type": "stream",
     "text": [
      "Modelling probabilities of class  3  of  9  classes\n",
      "(5260, 2)\n"
     ]
    },
    {
     "name": "stderr",
     "output_type": "stream",
     "text": [
      "Even though the 'startprob_' attribute is set, it will be overwritten during initialization because 'init_params' contains 's'\n",
      "Even though the 'transmat_' attribute is set, it will be overwritten during initialization because 'init_params' contains 't'\n"
     ]
    },
    {
     "name": "stdout",
     "output_type": "stream",
     "text": [
      "Modelling probabilities of class  5  of  9  classes\n",
      "(1465, 2)\n"
     ]
    },
    {
     "name": "stderr",
     "output_type": "stream",
     "text": [
      "Even though the 'startprob_' attribute is set, it will be overwritten during initialization because 'init_params' contains 's'\n",
      "Even though the 'transmat_' attribute is set, it will be overwritten during initialization because 'init_params' contains 't'\n"
     ]
    },
    {
     "name": "stdout",
     "output_type": "stream",
     "text": [
      "Modelling probabilities of class  6  of  9  classes\n",
      "(5079, 2)\n"
     ]
    },
    {
     "name": "stderr",
     "output_type": "stream",
     "text": [
      "Even though the 'startprob_' attribute is set, it will be overwritten during initialization because 'init_params' contains 's'\n",
      "Even though the 'transmat_' attribute is set, it will be overwritten during initialization because 'init_params' contains 't'\n"
     ]
    },
    {
     "name": "stdout",
     "output_type": "stream",
     "text": [
      "Modelling probabilities of class  7  of  9  classes\n",
      "(2148, 2)\n"
     ]
    },
    {
     "name": "stderr",
     "output_type": "stream",
     "text": [
      "Even though the 'startprob_' attribute is set, it will be overwritten during initialization because 'init_params' contains 's'\n",
      "Even though the 'transmat_' attribute is set, it will be overwritten during initialization because 'init_params' contains 't'\n"
     ]
    },
    {
     "name": "stdout",
     "output_type": "stream",
     "text": [
      "Modelling probabilities of class  8  of  9  classes\n",
      "(5861, 2)\n"
     ]
    },
    {
     "name": "stderr",
     "output_type": "stream",
     "text": [
      "Even though the 'startprob_' attribute is set, it will be overwritten during initialization because 'init_params' contains 's'\n",
      "Even though the 'transmat_' attribute is set, it will be overwritten during initialization because 'init_params' contains 't'\n"
     ]
    },
    {
     "name": "stdout",
     "output_type": "stream",
     "text": [
      "Modelling probabilities of class  9  of  9  classes\n",
      "(4242, 2)\n"
     ]
    }
   ],
   "source": [
    "n_iter=1000\n",
    "feature_involved_1= ['x']\n",
    "feature_involved_2= ['y']\n",
    "\n",
    "\n",
    "\n",
    "for n_class, _ in df_classes.items():\n",
    "    print(\"Modelling probabilities of class \", n_class,\" of \", len(df_classes), \" classes\")\n",
    "    model = hmm.GaussianHMM(n_components=6, n_iter=n_iter, verbose=False, tol=0.01, random_state=44)\n",
    "    # model = base.BaseHMM(n_components=6, n_iter=n_iter)\n",
    "    #data_true = df_classes[n_class][feature_involved_1].values.tolist()\n",
    "    #data_list = np.array([ [three] for one in data_true for two in one for three in two] )\n",
    "    #len_list = [len(two) for one in data_true for two in one ]\n",
    "\n",
    "    initial_prob = np.array([1, 0, 0, 0, 0, 0])\n",
    "    transition_prob = np.ones((6, 6))\n",
    "    transition_prob = transition_prob / np.sum(transition_prob, axis=1)\n",
    "\n",
    "\n",
    "    model.startprob_ = initial_prob\n",
    "    model.transmat_ = transition_prob\n",
    "\n",
    "\n",
    "    data_true_1 = df_classes[n_class][feature_involved_1].values.tolist()\n",
    "    data_true_2 = df_classes[n_class][feature_involved_2].values.tolist()\n",
    "    data_list_1 = np.array([[three] for one in data_true_1 for two in one for three in two])\n",
    "    data_list_2 = np.array([[z] for x in data_true_2 for y in x for z in y])\n",
    "    len_list = np.array([len(two) for one in data_true_1 for two in one ])\n",
    "    data_list=np.hstack([data_list_1,data_list_2])\n",
    "    \n",
    "\n",
    "    model.fit(data_list, len_list)\n",
    "    \n",
    "\n",
    "    # print(\"initial probability: \", model.startprob_)\n",
    "    # print(f'transition: \\n{model.transmat_}')\n",
    "    # print(f'emission: \\n{model.emissionprob_}')\n",
    "\n",
    "    with open ('models_1/'+str(n_class)+'hmm_model.pkl', 'wb') as f: #Save model\n",
    "        pickle.dump(model, f)"
   ]
  },
  {
   "cell_type": "markdown",
   "metadata": {},
   "source": [
    "# GMMHMM: x,y (models_1_2)"
   ]
  },
  {
   "cell_type": "code",
   "execution_count": 175,
   "metadata": {
    "collapsed": true,
    "jupyter": {
     "outputs_hidden": true
    },
    "tags": []
   },
   "outputs": [
    {
     "name": "stderr",
     "output_type": "stream",
     "text": [
      "Even though the 'startprob_' attribute is set, it will be overwritten during initialization because 'init_params' contains 's'\n",
      "Even though the 'transmat_' attribute is set, it will be overwritten during initialization because 'init_params' contains 't'\n"
     ]
    },
    {
     "name": "stdout",
     "output_type": "stream",
     "text": [
      "Modelling probabilities of class  0  of  9  classes\n"
     ]
    },
    {
     "name": "stderr",
     "output_type": "stream",
     "text": [
      "Even though the 'startprob_' attribute is set, it will be overwritten during initialization because 'init_params' contains 's'\n",
      "Even though the 'transmat_' attribute is set, it will be overwritten during initialization because 'init_params' contains 't'\n"
     ]
    },
    {
     "name": "stdout",
     "output_type": "stream",
     "text": [
      "Modelling probabilities of class  1  of  9  classes\n"
     ]
    },
    {
     "name": "stderr",
     "output_type": "stream",
     "text": [
      "Even though the 'startprob_' attribute is set, it will be overwritten during initialization because 'init_params' contains 's'\n",
      "Even though the 'transmat_' attribute is set, it will be overwritten during initialization because 'init_params' contains 't'\n"
     ]
    },
    {
     "name": "stdout",
     "output_type": "stream",
     "text": [
      "Modelling probabilities of class  2  of  9  classes\n"
     ]
    },
    {
     "name": "stderr",
     "output_type": "stream",
     "text": [
      "Even though the 'startprob_' attribute is set, it will be overwritten during initialization because 'init_params' contains 's'\n",
      "Even though the 'transmat_' attribute is set, it will be overwritten during initialization because 'init_params' contains 't'\n"
     ]
    },
    {
     "name": "stdout",
     "output_type": "stream",
     "text": [
      "Modelling probabilities of class  3  of  9  classes\n"
     ]
    },
    {
     "name": "stderr",
     "output_type": "stream",
     "text": [
      "Even though the 'startprob_' attribute is set, it will be overwritten during initialization because 'init_params' contains 's'\n",
      "Even though the 'transmat_' attribute is set, it will be overwritten during initialization because 'init_params' contains 't'\n"
     ]
    },
    {
     "name": "stdout",
     "output_type": "stream",
     "text": [
      "Modelling probabilities of class  5  of  9  classes\n"
     ]
    },
    {
     "name": "stderr",
     "output_type": "stream",
     "text": [
      "Even though the 'startprob_' attribute is set, it will be overwritten during initialization because 'init_params' contains 's'\n",
      "Even though the 'transmat_' attribute is set, it will be overwritten during initialization because 'init_params' contains 't'\n"
     ]
    },
    {
     "name": "stdout",
     "output_type": "stream",
     "text": [
      "Modelling probabilities of class  6  of  9  classes\n"
     ]
    },
    {
     "name": "stderr",
     "output_type": "stream",
     "text": [
      "Even though the 'startprob_' attribute is set, it will be overwritten during initialization because 'init_params' contains 's'\n",
      "Even though the 'transmat_' attribute is set, it will be overwritten during initialization because 'init_params' contains 't'\n"
     ]
    },
    {
     "name": "stdout",
     "output_type": "stream",
     "text": [
      "Modelling probabilities of class  7  of  9  classes\n"
     ]
    },
    {
     "name": "stderr",
     "output_type": "stream",
     "text": [
      "Even though the 'startprob_' attribute is set, it will be overwritten during initialization because 'init_params' contains 's'\n",
      "Even though the 'transmat_' attribute is set, it will be overwritten during initialization because 'init_params' contains 't'\n"
     ]
    },
    {
     "name": "stdout",
     "output_type": "stream",
     "text": [
      "Modelling probabilities of class  8  of  9  classes\n"
     ]
    },
    {
     "name": "stderr",
     "output_type": "stream",
     "text": [
      "Even though the 'startprob_' attribute is set, it will be overwritten during initialization because 'init_params' contains 's'\n",
      "Even though the 'transmat_' attribute is set, it will be overwritten during initialization because 'init_params' contains 't'\n"
     ]
    },
    {
     "name": "stdout",
     "output_type": "stream",
     "text": [
      "Modelling probabilities of class  9  of  9  classes\n"
     ]
    }
   ],
   "source": [
    "n_iter=1000\n",
    "feature_involved_1= ['x']\n",
    "feature_involved_2= ['y']\n",
    "\n",
    "\n",
    "\n",
    "for n_class, _ in df_classes.items():\n",
    "    print(\"Modelling probabilities of class \", n_class,\" of \", len(df_classes), \" classes\")\n",
    "    model = hmm.GMMHMM(n_components=6, n_iter=n_iter, verbose=False, tol=0.01, random_state=44)\n",
    "    # model = base.BaseHMM(n_components=6, n_iter=n_iter)\n",
    "    #data_true = df_classes[n_class][feature_involved_1].values.tolist()\n",
    "    #data_list = np.array([ [three] for one in data_true for two in one for three in two] )\n",
    "    #len_list = [len(two) for one in data_true for two in one ]\n",
    "\n",
    "    initial_prob = np.array([1, 0, 0, 0, 0, 0])\n",
    "    transition_prob = np.ones((6, 6))\n",
    "    transition_prob = transition_prob / np.sum(transition_prob, axis=1)\n",
    "\n",
    "\n",
    "    model.startprob_ = initial_prob\n",
    "    model.transmat_ = transition_prob\n",
    "\n",
    "\n",
    "    data_true_1 = df_classes[n_class][feature_involved_1].values.tolist()\n",
    "    data_true_2 = df_classes[n_class][feature_involved_2].values.tolist()\n",
    "    data_list_1 = np.array([[three] for one in data_true_1 for two in one for three in two])\n",
    "    data_list_2 = np.array([[z] for x in data_true_2 for y in x for z in y])\n",
    "    len_list = np.array([len(two) for one in data_true_1 for two in one ])\n",
    "    data_list=np.hstack([data_list_1,data_list_2])\n",
    "    \n",
    "\n",
    "    model.fit(data_list, len_list)\n",
    "    \n",
    "\n",
    "    # print(\"initial probability: \", model.startprob_)\n",
    "    # print(f'transition: \\n{model.transmat_}')\n",
    "    # print(f'emission: \\n{model.emissionprob_}')\n",
    "\n",
    "    with open ('models_1_2/'+str(n_class)+'hmm_model.pkl', 'wb') as f: #Save model\n",
    "        pickle.dump(model, f)"
   ]
  },
  {
   "cell_type": "markdown",
   "metadata": {},
   "source": [
    "# GaussianHMM: curvature_1 (models_2)"
   ]
  },
  {
   "cell_type": "code",
   "execution_count": 43,
   "metadata": {
    "collapsed": true,
    "jupyter": {
     "outputs_hidden": true
    },
    "tags": []
   },
   "outputs": [
    {
     "name": "stderr",
     "output_type": "stream",
     "text": [
      "Even though the 'startprob_' attribute is set, it will be overwritten during initialization because 'init_params' contains 's'\n",
      "Even though the 'transmat_' attribute is set, it will be overwritten during initialization because 'init_params' contains 't'\n"
     ]
    },
    {
     "name": "stdout",
     "output_type": "stream",
     "text": [
      "Modelling probabilities of class  0  of  9  classes\n"
     ]
    },
    {
     "name": "stderr",
     "output_type": "stream",
     "text": [
      "Even though the 'startprob_' attribute is set, it will be overwritten during initialization because 'init_params' contains 's'\n",
      "Even though the 'transmat_' attribute is set, it will be overwritten during initialization because 'init_params' contains 't'\n"
     ]
    },
    {
     "name": "stdout",
     "output_type": "stream",
     "text": [
      "Modelling probabilities of class  1  of  9  classes\n"
     ]
    },
    {
     "name": "stderr",
     "output_type": "stream",
     "text": [
      "Even though the 'startprob_' attribute is set, it will be overwritten during initialization because 'init_params' contains 's'\n",
      "Even though the 'transmat_' attribute is set, it will be overwritten during initialization because 'init_params' contains 't'\n"
     ]
    },
    {
     "name": "stdout",
     "output_type": "stream",
     "text": [
      "Modelling probabilities of class  2  of  9  classes\n"
     ]
    },
    {
     "name": "stderr",
     "output_type": "stream",
     "text": [
      "Even though the 'startprob_' attribute is set, it will be overwritten during initialization because 'init_params' contains 's'\n",
      "Even though the 'transmat_' attribute is set, it will be overwritten during initialization because 'init_params' contains 't'\n"
     ]
    },
    {
     "name": "stdout",
     "output_type": "stream",
     "text": [
      "Modelling probabilities of class  3  of  9  classes\n"
     ]
    },
    {
     "name": "stderr",
     "output_type": "stream",
     "text": [
      "Even though the 'startprob_' attribute is set, it will be overwritten during initialization because 'init_params' contains 's'\n",
      "Even though the 'transmat_' attribute is set, it will be overwritten during initialization because 'init_params' contains 't'\n"
     ]
    },
    {
     "name": "stdout",
     "output_type": "stream",
     "text": [
      "Modelling probabilities of class  5  of  9  classes\n"
     ]
    },
    {
     "name": "stderr",
     "output_type": "stream",
     "text": [
      "Even though the 'startprob_' attribute is set, it will be overwritten during initialization because 'init_params' contains 's'\n",
      "Even though the 'transmat_' attribute is set, it will be overwritten during initialization because 'init_params' contains 't'\n"
     ]
    },
    {
     "name": "stdout",
     "output_type": "stream",
     "text": [
      "Modelling probabilities of class  6  of  9  classes\n"
     ]
    },
    {
     "name": "stderr",
     "output_type": "stream",
     "text": [
      "Even though the 'startprob_' attribute is set, it will be overwritten during initialization because 'init_params' contains 's'\n",
      "Even though the 'transmat_' attribute is set, it will be overwritten during initialization because 'init_params' contains 't'\n"
     ]
    },
    {
     "name": "stdout",
     "output_type": "stream",
     "text": [
      "Modelling probabilities of class  7  of  9  classes\n"
     ]
    },
    {
     "name": "stderr",
     "output_type": "stream",
     "text": [
      "Even though the 'startprob_' attribute is set, it will be overwritten during initialization because 'init_params' contains 's'\n",
      "Even though the 'transmat_' attribute is set, it will be overwritten during initialization because 'init_params' contains 't'\n"
     ]
    },
    {
     "name": "stdout",
     "output_type": "stream",
     "text": [
      "Modelling probabilities of class  8  of  9  classes\n"
     ]
    },
    {
     "name": "stderr",
     "output_type": "stream",
     "text": [
      "Even though the 'startprob_' attribute is set, it will be overwritten during initialization because 'init_params' contains 's'\n",
      "Even though the 'transmat_' attribute is set, it will be overwritten during initialization because 'init_params' contains 't'\n"
     ]
    },
    {
     "name": "stdout",
     "output_type": "stream",
     "text": [
      "Modelling probabilities of class  9  of  9  classes\n"
     ]
    }
   ],
   "source": [
    "n_iter=1000\n",
    "feature_involved_1= ['curvature_1']\n",
    "\n",
    "\n",
    "for n_class, _ in df_classes.items():\n",
    "    print(\"Modelling probabilities of class \", n_class,\" of \", len(df_classes), \" classes\")\n",
    "    model = hmm.GaussianHMM(n_components=6, n_iter=n_iter, verbose=False, tol=0.01, random_state=44)\n",
    "    # model = base.BaseHMM(n_components=6, n_iter=n_iter)\n",
    "    data_true = df_classes[n_class][feature_involved_1].values.tolist()\n",
    "    data_list = np.array([ [three] for one in data_true for two in one for three in two] )\n",
    "    len_list = [len(two) for one in data_true for two in one ]\n",
    "\n",
    "    initial_prob = np.array([1, 0, 0, 0, 0, 0])\n",
    "    transition_prob = np.ones((6, 6))\n",
    "    transition_prob = transition_prob / np.sum(transition_prob, axis=1)\n",
    "\n",
    "\n",
    "    model.startprob_ = initial_prob\n",
    "    model.transmat_ = transition_prob\n",
    "\n",
    "\n",
    "\n",
    "    \n",
    "    \n",
    "\n",
    "\n",
    "    model.fit(data_list, len_list)\n",
    "    \n",
    "\n",
    "    # print(\"initial probability: \", model.startprob_)\n",
    "    # print(f'transition: \\n{model.transmat_}')\n",
    "    # print(f'emission: \\n{model.emissionprob_}')\n",
    "\n",
    "    with open ('models_2/'+str(n_class)+'hmm_model.pkl', 'wb') as f: #Save model\n",
    "        pickle.dump(model, f)"
   ]
  },
  {
   "cell_type": "markdown",
   "metadata": {},
   "source": [
    "# GMMHMM: curvature_1 (models_2_2)"
   ]
  },
  {
   "cell_type": "code",
   "execution_count": 177,
   "metadata": {},
   "outputs": [
    {
     "name": "stderr",
     "output_type": "stream",
     "text": [
      "Even though the 'startprob_' attribute is set, it will be overwritten during initialization because 'init_params' contains 's'\n",
      "Even though the 'transmat_' attribute is set, it will be overwritten during initialization because 'init_params' contains 't'\n"
     ]
    },
    {
     "name": "stdout",
     "output_type": "stream",
     "text": [
      "Modelling probabilities of class  0  of  9  classes\n"
     ]
    },
    {
     "name": "stderr",
     "output_type": "stream",
     "text": [
      "Even though the 'startprob_' attribute is set, it will be overwritten during initialization because 'init_params' contains 's'\n",
      "Even though the 'transmat_' attribute is set, it will be overwritten during initialization because 'init_params' contains 't'\n"
     ]
    },
    {
     "name": "stdout",
     "output_type": "stream",
     "text": [
      "Modelling probabilities of class  1  of  9  classes\n"
     ]
    },
    {
     "name": "stderr",
     "output_type": "stream",
     "text": [
      "/opt/anaconda3/envs/tutor2022/lib/python3.9/site-packages/hmmlearn/hmm.py:986: RuntimeWarning: invalid value encountered in true_divide\n",
      "  self.weights_ = w_n / w_d\n",
      "/opt/anaconda3/envs/tutor2022/lib/python3.9/site-packages/hmmlearn/hmm.py:998: RuntimeWarning: invalid value encountered in true_divide\n",
      "  self.means_ = m_n / m_d[:, :, None]\n",
      "Some rows of transmat_ have zero sum because no transition from the state was ever observed.\n",
      "Even though the 'startprob_' attribute is set, it will be overwritten during initialization because 'init_params' contains 's'\n",
      "Even though the 'transmat_' attribute is set, it will be overwritten during initialization because 'init_params' contains 't'\n"
     ]
    },
    {
     "name": "stdout",
     "output_type": "stream",
     "text": [
      "Modelling probabilities of class  2  of  9  classes\n"
     ]
    },
    {
     "name": "stderr",
     "output_type": "stream",
     "text": [
      "Even though the 'startprob_' attribute is set, it will be overwritten during initialization because 'init_params' contains 's'\n",
      "Even though the 'transmat_' attribute is set, it will be overwritten during initialization because 'init_params' contains 't'\n"
     ]
    },
    {
     "name": "stdout",
     "output_type": "stream",
     "text": [
      "Modelling probabilities of class  3  of  9  classes\n"
     ]
    },
    {
     "name": "stderr",
     "output_type": "stream",
     "text": [
      "Even though the 'startprob_' attribute is set, it will be overwritten during initialization because 'init_params' contains 's'\n",
      "Even though the 'transmat_' attribute is set, it will be overwritten during initialization because 'init_params' contains 't'\n"
     ]
    },
    {
     "name": "stdout",
     "output_type": "stream",
     "text": [
      "Modelling probabilities of class  5  of  9  classes\n"
     ]
    },
    {
     "name": "stderr",
     "output_type": "stream",
     "text": [
      "Even though the 'startprob_' attribute is set, it will be overwritten during initialization because 'init_params' contains 's'\n",
      "Even though the 'transmat_' attribute is set, it will be overwritten during initialization because 'init_params' contains 't'\n"
     ]
    },
    {
     "name": "stdout",
     "output_type": "stream",
     "text": [
      "Modelling probabilities of class  6  of  9  classes\n"
     ]
    },
    {
     "name": "stderr",
     "output_type": "stream",
     "text": [
      "Even though the 'startprob_' attribute is set, it will be overwritten during initialization because 'init_params' contains 's'\n",
      "Even though the 'transmat_' attribute is set, it will be overwritten during initialization because 'init_params' contains 't'\n"
     ]
    },
    {
     "name": "stdout",
     "output_type": "stream",
     "text": [
      "Modelling probabilities of class  7  of  9  classes\n"
     ]
    },
    {
     "name": "stderr",
     "output_type": "stream",
     "text": [
      "Even though the 'startprob_' attribute is set, it will be overwritten during initialization because 'init_params' contains 's'\n",
      "Even though the 'transmat_' attribute is set, it will be overwritten during initialization because 'init_params' contains 't'\n"
     ]
    },
    {
     "name": "stdout",
     "output_type": "stream",
     "text": [
      "Modelling probabilities of class  8  of  9  classes\n"
     ]
    },
    {
     "name": "stderr",
     "output_type": "stream",
     "text": [
      "Even though the 'startprob_' attribute is set, it will be overwritten during initialization because 'init_params' contains 's'\n",
      "Even though the 'transmat_' attribute is set, it will be overwritten during initialization because 'init_params' contains 't'\n"
     ]
    },
    {
     "name": "stdout",
     "output_type": "stream",
     "text": [
      "Modelling probabilities of class  9  of  9  classes\n"
     ]
    }
   ],
   "source": [
    "n_iter=1000\n",
    "feature_involved_1= ['curvature_1']\n",
    "\n",
    "\n",
    "for n_class, _ in df_classes.items():\n",
    "    print(\"Modelling probabilities of class \", n_class,\" of \", len(df_classes), \" classes\")\n",
    "    model = hmm.GMMHMM(n_components=6, n_iter=n_iter, verbose=False, tol=0.01, random_state=44)\n",
    "    # model = base.BaseHMM(n_components=6, n_iter=n_iter)\n",
    "    data_true = df_classes[n_class][feature_involved_1].values.tolist()\n",
    "    data_list = np.array([ [three] for one in data_true for two in one for three in two] )\n",
    "    len_list = [len(two) for one in data_true for two in one ]\n",
    "\n",
    "    initial_prob = np.array([1, 0, 0, 0, 0, 0])\n",
    "    transition_prob = np.ones((6, 6))\n",
    "    transition_prob = transition_prob / np.sum(transition_prob, axis=1)\n",
    "\n",
    "\n",
    "    model.startprob_ = initial_prob\n",
    "    model.transmat_ = transition_prob\n",
    "\n",
    "\n",
    "\n",
    "    \n",
    "    \n",
    "\n",
    "\n",
    "    model.fit(data_list, len_list)\n",
    "    \n",
    "\n",
    "    # print(\"initial probability: \", model.startprob_)\n",
    "    # print(f'transition: \\n{model.transmat_}')\n",
    "    # print(f'emission: \\n{model.emissionprob_}')\n",
    "\n",
    "    with open ('models_2_2/'+str(n_class)+'hmm_model.pkl', 'wb') as f: #Save model\n",
    "        pickle.dump(model, f)"
   ]
  },
  {
   "cell_type": "markdown",
   "metadata": {},
   "source": [
    "# GaussianHMM: curvature_2 (models_3)"
   ]
  },
  {
   "cell_type": "code",
   "execution_count": 44,
   "metadata": {
    "tags": []
   },
   "outputs": [
    {
     "name": "stderr",
     "output_type": "stream",
     "text": [
      "Even though the 'startprob_' attribute is set, it will be overwritten during initialization because 'init_params' contains 's'\n",
      "Even though the 'transmat_' attribute is set, it will be overwritten during initialization because 'init_params' contains 't'\n"
     ]
    },
    {
     "name": "stdout",
     "output_type": "stream",
     "text": [
      "Modelling probabilities of class  0  of  9  classes\n"
     ]
    },
    {
     "name": "stderr",
     "output_type": "stream",
     "text": [
      "Even though the 'startprob_' attribute is set, it will be overwritten during initialization because 'init_params' contains 's'\n",
      "Even though the 'transmat_' attribute is set, it will be overwritten during initialization because 'init_params' contains 't'\n"
     ]
    },
    {
     "name": "stdout",
     "output_type": "stream",
     "text": [
      "Modelling probabilities of class  1  of  9  classes\n"
     ]
    },
    {
     "name": "stderr",
     "output_type": "stream",
     "text": [
      "Even though the 'startprob_' attribute is set, it will be overwritten during initialization because 'init_params' contains 's'\n",
      "Even though the 'transmat_' attribute is set, it will be overwritten during initialization because 'init_params' contains 't'\n"
     ]
    },
    {
     "name": "stdout",
     "output_type": "stream",
     "text": [
      "Modelling probabilities of class  2  of  9  classes\n"
     ]
    },
    {
     "name": "stderr",
     "output_type": "stream",
     "text": [
      "Even though the 'startprob_' attribute is set, it will be overwritten during initialization because 'init_params' contains 's'\n",
      "Even though the 'transmat_' attribute is set, it will be overwritten during initialization because 'init_params' contains 't'\n"
     ]
    },
    {
     "name": "stdout",
     "output_type": "stream",
     "text": [
      "Modelling probabilities of class  3  of  9  classes\n"
     ]
    },
    {
     "name": "stderr",
     "output_type": "stream",
     "text": [
      "Even though the 'startprob_' attribute is set, it will be overwritten during initialization because 'init_params' contains 's'\n",
      "Even though the 'transmat_' attribute is set, it will be overwritten during initialization because 'init_params' contains 't'\n"
     ]
    },
    {
     "name": "stdout",
     "output_type": "stream",
     "text": [
      "Modelling probabilities of class  5  of  9  classes\n"
     ]
    },
    {
     "name": "stderr",
     "output_type": "stream",
     "text": [
      "Even though the 'startprob_' attribute is set, it will be overwritten during initialization because 'init_params' contains 's'\n",
      "Even though the 'transmat_' attribute is set, it will be overwritten during initialization because 'init_params' contains 't'\n"
     ]
    },
    {
     "name": "stdout",
     "output_type": "stream",
     "text": [
      "Modelling probabilities of class  6  of  9  classes\n"
     ]
    },
    {
     "name": "stderr",
     "output_type": "stream",
     "text": [
      "Even though the 'startprob_' attribute is set, it will be overwritten during initialization because 'init_params' contains 's'\n",
      "Even though the 'transmat_' attribute is set, it will be overwritten during initialization because 'init_params' contains 't'\n"
     ]
    },
    {
     "name": "stdout",
     "output_type": "stream",
     "text": [
      "Modelling probabilities of class  7  of  9  classes\n"
     ]
    },
    {
     "name": "stderr",
     "output_type": "stream",
     "text": [
      "Even though the 'startprob_' attribute is set, it will be overwritten during initialization because 'init_params' contains 's'\n",
      "Even though the 'transmat_' attribute is set, it will be overwritten during initialization because 'init_params' contains 't'\n"
     ]
    },
    {
     "name": "stdout",
     "output_type": "stream",
     "text": [
      "Modelling probabilities of class  8  of  9  classes\n"
     ]
    },
    {
     "name": "stderr",
     "output_type": "stream",
     "text": [
      "Even though the 'startprob_' attribute is set, it will be overwritten during initialization because 'init_params' contains 's'\n",
      "Even though the 'transmat_' attribute is set, it will be overwritten during initialization because 'init_params' contains 't'\n"
     ]
    },
    {
     "name": "stdout",
     "output_type": "stream",
     "text": [
      "Modelling probabilities of class  9  of  9  classes\n"
     ]
    }
   ],
   "source": [
    "n_iter=1000\n",
    "feature_involved_1= ['curvature_2']\n",
    "\n",
    "\n",
    "for n_class, _ in df_classes.items():\n",
    "    print(\"Modelling probabilities of class \", n_class,\" of \", len(df_classes), \" classes\")\n",
    "    model = hmm.GaussianHMM(n_components=6, n_iter=n_iter, verbose=False, tol=0.01, random_state=44)\n",
    "    # model = base.BaseHMM(n_components=6, n_iter=n_iter)\n",
    "    data_true = df_classes[n_class][feature_involved_1].values.tolist()\n",
    "    data_list = np.array([ [three] for one in data_true for two in one for three in two] )\n",
    "    len_list = [len(two) for one in data_true for two in one ]\n",
    "\n",
    "    initial_prob = np.array([1, 0, 0, 0, 0, 0])\n",
    "    transition_prob = np.ones((6, 6))\n",
    "    transition_prob = transition_prob / np.sum(transition_prob, axis=1)\n",
    "\n",
    "\n",
    "    model.startprob_ = initial_prob\n",
    "    model.transmat_ = transition_prob\n",
    "\n",
    "\n",
    "\n",
    "    \n",
    "    \n",
    "\n",
    "\n",
    "    model.fit(data_list, len_list)\n",
    "    \n",
    "\n",
    "    # print(\"initial probability: \", model.startprob_)\n",
    "    # print(f'transition: \\n{model.transmat_}')\n",
    "    # print(f'emission: \\n{model.emissionprob_}')\n",
    "\n",
    "    with open ('models_3/'+str(n_class)+'hmm_model.pkl', 'wb') as f: #Save model\n",
    "        pickle.dump(model, f)"
   ]
  },
  {
   "cell_type": "markdown",
   "metadata": {},
   "source": [
    "# GaussianHMM: curvature_4 (models_4)"
   ]
  },
  {
   "cell_type": "code",
   "execution_count": 31,
   "metadata": {
    "collapsed": true,
    "jupyter": {
     "outputs_hidden": true
    },
    "tags": []
   },
   "outputs": [
    {
     "name": "stderr",
     "output_type": "stream",
     "text": [
      "Even though the 'startprob_' attribute is set, it will be overwritten during initialization because 'init_params' contains 's'\n",
      "Even though the 'transmat_' attribute is set, it will be overwritten during initialization because 'init_params' contains 't'\n"
     ]
    },
    {
     "name": "stdout",
     "output_type": "stream",
     "text": [
      "Modelling probabilities of class  0  of  9  classes\n"
     ]
    },
    {
     "name": "stderr",
     "output_type": "stream",
     "text": [
      "Even though the 'startprob_' attribute is set, it will be overwritten during initialization because 'init_params' contains 's'\n",
      "Even though the 'transmat_' attribute is set, it will be overwritten during initialization because 'init_params' contains 't'\n"
     ]
    },
    {
     "name": "stdout",
     "output_type": "stream",
     "text": [
      "Modelling probabilities of class  1  of  9  classes\n"
     ]
    },
    {
     "name": "stderr",
     "output_type": "stream",
     "text": [
      "Even though the 'startprob_' attribute is set, it will be overwritten during initialization because 'init_params' contains 's'\n",
      "Even though the 'transmat_' attribute is set, it will be overwritten during initialization because 'init_params' contains 't'\n"
     ]
    },
    {
     "name": "stdout",
     "output_type": "stream",
     "text": [
      "Modelling probabilities of class  2  of  9  classes\n"
     ]
    },
    {
     "name": "stderr",
     "output_type": "stream",
     "text": [
      "Even though the 'startprob_' attribute is set, it will be overwritten during initialization because 'init_params' contains 's'\n",
      "Even though the 'transmat_' attribute is set, it will be overwritten during initialization because 'init_params' contains 't'\n"
     ]
    },
    {
     "name": "stdout",
     "output_type": "stream",
     "text": [
      "Modelling probabilities of class  3  of  9  classes\n"
     ]
    },
    {
     "name": "stderr",
     "output_type": "stream",
     "text": [
      "Even though the 'startprob_' attribute is set, it will be overwritten during initialization because 'init_params' contains 's'\n",
      "Even though the 'transmat_' attribute is set, it will be overwritten during initialization because 'init_params' contains 't'\n"
     ]
    },
    {
     "name": "stdout",
     "output_type": "stream",
     "text": [
      "Modelling probabilities of class  5  of  9  classes\n"
     ]
    },
    {
     "name": "stderr",
     "output_type": "stream",
     "text": [
      "Even though the 'startprob_' attribute is set, it will be overwritten during initialization because 'init_params' contains 's'\n",
      "Even though the 'transmat_' attribute is set, it will be overwritten during initialization because 'init_params' contains 't'\n"
     ]
    },
    {
     "name": "stdout",
     "output_type": "stream",
     "text": [
      "Modelling probabilities of class  6  of  9  classes\n"
     ]
    },
    {
     "name": "stderr",
     "output_type": "stream",
     "text": [
      "Even though the 'startprob_' attribute is set, it will be overwritten during initialization because 'init_params' contains 's'\n",
      "Even though the 'transmat_' attribute is set, it will be overwritten during initialization because 'init_params' contains 't'\n"
     ]
    },
    {
     "name": "stdout",
     "output_type": "stream",
     "text": [
      "Modelling probabilities of class  7  of  9  classes\n"
     ]
    },
    {
     "name": "stderr",
     "output_type": "stream",
     "text": [
      "Even though the 'startprob_' attribute is set, it will be overwritten during initialization because 'init_params' contains 's'\n",
      "Even though the 'transmat_' attribute is set, it will be overwritten during initialization because 'init_params' contains 't'\n"
     ]
    },
    {
     "name": "stdout",
     "output_type": "stream",
     "text": [
      "Modelling probabilities of class  8  of  9  classes\n"
     ]
    },
    {
     "name": "stderr",
     "output_type": "stream",
     "text": [
      "Even though the 'startprob_' attribute is set, it will be overwritten during initialization because 'init_params' contains 's'\n",
      "Even though the 'transmat_' attribute is set, it will be overwritten during initialization because 'init_params' contains 't'\n"
     ]
    },
    {
     "name": "stdout",
     "output_type": "stream",
     "text": [
      "Modelling probabilities of class  9  of  9  classes\n"
     ]
    }
   ],
   "source": [
    "n_iter=1000\n",
    "feature_involved_1= ['curvature_4']\n",
    "\n",
    "\n",
    "for n_class, _ in df_classes.items():\n",
    "    print(\"Modelling probabilities of class \", n_class,\" of \", len(df_classes), \" classes\")\n",
    "    model = hmm.GaussianHMM(n_components=6, n_iter=n_iter, verbose=False, tol=0.01, random_state=44)\n",
    "    # model = base.BaseHMM(n_components=6, n_iter=n_iter)\n",
    "    data_true = df_classes[n_class][feature_involved_1].values.tolist()\n",
    "    data_list = np.array([ [three] for one in data_true for two in one for three in two] )\n",
    "    len_list = [len(two) for one in data_true for two in one ]\n",
    "\n",
    "    initial_prob = np.array([1, 0, 0, 0, 0, 0])\n",
    "    transition_prob = np.ones((6, 6))\n",
    "    transition_prob = transition_prob / np.sum(transition_prob, axis=1)\n",
    "\n",
    "\n",
    "    model.startprob_ = initial_prob\n",
    "    model.transmat_ = transition_prob\n",
    "\n",
    "\n",
    "\n",
    "    \n",
    "    \n",
    "\n",
    "\n",
    "    model.fit(data_list, len_list)\n",
    "    \n",
    "\n",
    "    # print(\"initial probability: \", model.startprob_)\n",
    "    # print(f'transition: \\n{model.transmat_}')\n",
    "    # print(f'emission: \\n{model.emissionprob_}')\n",
    "\n",
    "    with open ('models_4/'+str(n_class)+'hmm_model.pkl', 'wb') as f: #Save model\n",
    "        pickle.dump(model, f)"
   ]
  },
  {
   "cell_type": "markdown",
   "metadata": {},
   "source": [
    "# GaussianHMM: arctan2_2 (models_5)"
   ]
  },
  {
   "cell_type": "code",
   "execution_count": 32,
   "metadata": {
    "collapsed": true,
    "jupyter": {
     "outputs_hidden": true
    },
    "tags": []
   },
   "outputs": [
    {
     "name": "stderr",
     "output_type": "stream",
     "text": [
      "Even though the 'startprob_' attribute is set, it will be overwritten during initialization because 'init_params' contains 's'\n",
      "Even though the 'transmat_' attribute is set, it will be overwritten during initialization because 'init_params' contains 't'\n"
     ]
    },
    {
     "name": "stdout",
     "output_type": "stream",
     "text": [
      "Modelling probabilities of class  0  of  9  classes\n"
     ]
    },
    {
     "name": "stderr",
     "output_type": "stream",
     "text": [
      "Even though the 'startprob_' attribute is set, it will be overwritten during initialization because 'init_params' contains 's'\n",
      "Even though the 'transmat_' attribute is set, it will be overwritten during initialization because 'init_params' contains 't'\n"
     ]
    },
    {
     "name": "stdout",
     "output_type": "stream",
     "text": [
      "Modelling probabilities of class  1  of  9  classes\n"
     ]
    },
    {
     "name": "stderr",
     "output_type": "stream",
     "text": [
      "Even though the 'startprob_' attribute is set, it will be overwritten during initialization because 'init_params' contains 's'\n",
      "Even though the 'transmat_' attribute is set, it will be overwritten during initialization because 'init_params' contains 't'\n"
     ]
    },
    {
     "name": "stdout",
     "output_type": "stream",
     "text": [
      "Modelling probabilities of class  2  of  9  classes\n"
     ]
    },
    {
     "name": "stderr",
     "output_type": "stream",
     "text": [
      "Even though the 'startprob_' attribute is set, it will be overwritten during initialization because 'init_params' contains 's'\n",
      "Even though the 'transmat_' attribute is set, it will be overwritten during initialization because 'init_params' contains 't'\n"
     ]
    },
    {
     "name": "stdout",
     "output_type": "stream",
     "text": [
      "Modelling probabilities of class  3  of  9  classes\n"
     ]
    },
    {
     "name": "stderr",
     "output_type": "stream",
     "text": [
      "Even though the 'startprob_' attribute is set, it will be overwritten during initialization because 'init_params' contains 's'\n",
      "Even though the 'transmat_' attribute is set, it will be overwritten during initialization because 'init_params' contains 't'\n"
     ]
    },
    {
     "name": "stdout",
     "output_type": "stream",
     "text": [
      "Modelling probabilities of class  5  of  9  classes\n"
     ]
    },
    {
     "name": "stderr",
     "output_type": "stream",
     "text": [
      "Even though the 'startprob_' attribute is set, it will be overwritten during initialization because 'init_params' contains 's'\n",
      "Even though the 'transmat_' attribute is set, it will be overwritten during initialization because 'init_params' contains 't'\n"
     ]
    },
    {
     "name": "stdout",
     "output_type": "stream",
     "text": [
      "Modelling probabilities of class  6  of  9  classes\n"
     ]
    },
    {
     "name": "stderr",
     "output_type": "stream",
     "text": [
      "Even though the 'startprob_' attribute is set, it will be overwritten during initialization because 'init_params' contains 's'\n",
      "Even though the 'transmat_' attribute is set, it will be overwritten during initialization because 'init_params' contains 't'\n"
     ]
    },
    {
     "name": "stdout",
     "output_type": "stream",
     "text": [
      "Modelling probabilities of class  7  of  9  classes\n"
     ]
    },
    {
     "name": "stderr",
     "output_type": "stream",
     "text": [
      "Even though the 'startprob_' attribute is set, it will be overwritten during initialization because 'init_params' contains 's'\n",
      "Even though the 'transmat_' attribute is set, it will be overwritten during initialization because 'init_params' contains 't'\n"
     ]
    },
    {
     "name": "stdout",
     "output_type": "stream",
     "text": [
      "Modelling probabilities of class  8  of  9  classes\n"
     ]
    },
    {
     "name": "stderr",
     "output_type": "stream",
     "text": [
      "Even though the 'startprob_' attribute is set, it will be overwritten during initialization because 'init_params' contains 's'\n",
      "Even though the 'transmat_' attribute is set, it will be overwritten during initialization because 'init_params' contains 't'\n"
     ]
    },
    {
     "name": "stdout",
     "output_type": "stream",
     "text": [
      "Modelling probabilities of class  9  of  9  classes\n"
     ]
    }
   ],
   "source": [
    "n_iter=1000\n",
    "feature_involved_1= ['arctan2_2']\n",
    "\n",
    "\n",
    "for n_class, _ in df_classes.items():\n",
    "    print(\"Modelling probabilities of class \", n_class,\" of \", len(df_classes), \" classes\")\n",
    "    model = hmm.GaussianHMM(n_components=6, n_iter=n_iter, verbose=False, tol=0.01, random_state=44)\n",
    "    # model = base.BaseHMM(n_components=6, n_iter=n_iter)\n",
    "    data_true = df_classes[n_class][feature_involved_1].values.tolist()\n",
    "    data_list = np.array([ [three] for one in data_true for two in one for three in two] )\n",
    "    len_list = [len(two) for one in data_true for two in one ]\n",
    "\n",
    "    initial_prob = np.array([1, 0, 0, 0, 0, 0])\n",
    "    transition_prob = np.ones((6, 6))\n",
    "    transition_prob = transition_prob / np.sum(transition_prob, axis=1)\n",
    "\n",
    "\n",
    "    model.startprob_ = initial_prob\n",
    "    model.transmat_ = transition_prob\n",
    "\n",
    "\n",
    "\n",
    "    \n",
    "    \n",
    "\n",
    "\n",
    "    model.fit(data_list, len_list)\n",
    "    \n",
    "\n",
    "    # print(\"initial probability: \", model.startprob_)\n",
    "    # print(f'transition: \\n{model.transmat_}')\n",
    "    # print(f'emission: \\n{model.emissionprob_}')\n",
    "\n",
    "    with open ('models_5/'+str(n_class)+'hmm_model.pkl', 'wb') as f: #Save model\n",
    "        pickle.dump(model, f)"
   ]
  },
  {
   "cell_type": "markdown",
   "metadata": {},
   "source": [
    "# GaussianHMM: arctan_1 (models_6)"
   ]
  },
  {
   "cell_type": "code",
   "execution_count": 34,
   "metadata": {
    "collapsed": true,
    "jupyter": {
     "outputs_hidden": true
    },
    "tags": []
   },
   "outputs": [
    {
     "name": "stderr",
     "output_type": "stream",
     "text": [
      "Even though the 'startprob_' attribute is set, it will be overwritten during initialization because 'init_params' contains 's'\n",
      "Even though the 'transmat_' attribute is set, it will be overwritten during initialization because 'init_params' contains 't'\n"
     ]
    },
    {
     "name": "stdout",
     "output_type": "stream",
     "text": [
      "Modelling probabilities of class  0  of  9  classes\n",
      "(4798, 1)\n"
     ]
    },
    {
     "name": "stderr",
     "output_type": "stream",
     "text": [
      "Even though the 'startprob_' attribute is set, it will be overwritten during initialization because 'init_params' contains 's'\n",
      "Even though the 'transmat_' attribute is set, it will be overwritten during initialization because 'init_params' contains 't'\n"
     ]
    },
    {
     "name": "stdout",
     "output_type": "stream",
     "text": [
      "Modelling probabilities of class  1  of  9  classes\n",
      "(1413, 1)\n"
     ]
    },
    {
     "name": "stderr",
     "output_type": "stream",
     "text": [
      "Even though the 'startprob_' attribute is set, it will be overwritten during initialization because 'init_params' contains 's'\n",
      "Even though the 'transmat_' attribute is set, it will be overwritten during initialization because 'init_params' contains 't'\n"
     ]
    },
    {
     "name": "stdout",
     "output_type": "stream",
     "text": [
      "Modelling probabilities of class  2  of  9  classes\n",
      "(4927, 1)\n"
     ]
    },
    {
     "name": "stderr",
     "output_type": "stream",
     "text": [
      "Even though the 'startprob_' attribute is set, it will be overwritten during initialization because 'init_params' contains 's'\n",
      "Even though the 'transmat_' attribute is set, it will be overwritten during initialization because 'init_params' contains 't'\n"
     ]
    },
    {
     "name": "stdout",
     "output_type": "stream",
     "text": [
      "Modelling probabilities of class  3  of  9  classes\n",
      "(5260, 1)\n"
     ]
    },
    {
     "name": "stderr",
     "output_type": "stream",
     "text": [
      "Even though the 'startprob_' attribute is set, it will be overwritten during initialization because 'init_params' contains 's'\n",
      "Even though the 'transmat_' attribute is set, it will be overwritten during initialization because 'init_params' contains 't'\n"
     ]
    },
    {
     "name": "stdout",
     "output_type": "stream",
     "text": [
      "Modelling probabilities of class  5  of  9  classes\n",
      "(1465, 1)\n"
     ]
    },
    {
     "name": "stderr",
     "output_type": "stream",
     "text": [
      "Even though the 'startprob_' attribute is set, it will be overwritten during initialization because 'init_params' contains 's'\n",
      "Even though the 'transmat_' attribute is set, it will be overwritten during initialization because 'init_params' contains 't'\n"
     ]
    },
    {
     "name": "stdout",
     "output_type": "stream",
     "text": [
      "Modelling probabilities of class  6  of  9  classes\n",
      "(5079, 1)\n"
     ]
    },
    {
     "name": "stderr",
     "output_type": "stream",
     "text": [
      "Even though the 'startprob_' attribute is set, it will be overwritten during initialization because 'init_params' contains 's'\n",
      "Even though the 'transmat_' attribute is set, it will be overwritten during initialization because 'init_params' contains 't'\n"
     ]
    },
    {
     "name": "stdout",
     "output_type": "stream",
     "text": [
      "Modelling probabilities of class  7  of  9  classes\n",
      "(2148, 1)\n"
     ]
    },
    {
     "name": "stderr",
     "output_type": "stream",
     "text": [
      "Even though the 'startprob_' attribute is set, it will be overwritten during initialization because 'init_params' contains 's'\n",
      "Even though the 'transmat_' attribute is set, it will be overwritten during initialization because 'init_params' contains 't'\n"
     ]
    },
    {
     "name": "stdout",
     "output_type": "stream",
     "text": [
      "Modelling probabilities of class  8  of  9  classes\n",
      "(5861, 1)\n"
     ]
    },
    {
     "name": "stderr",
     "output_type": "stream",
     "text": [
      "Even though the 'startprob_' attribute is set, it will be overwritten during initialization because 'init_params' contains 's'\n",
      "Even though the 'transmat_' attribute is set, it will be overwritten during initialization because 'init_params' contains 't'\n"
     ]
    },
    {
     "name": "stdout",
     "output_type": "stream",
     "text": [
      "Modelling probabilities of class  9  of  9  classes\n",
      "(4242, 1)\n"
     ]
    }
   ],
   "source": [
    "n_iter=1000\n",
    "feature_involved_1= ['arctan_1']\n",
    "\n",
    "\n",
    "for n_class, _ in df_classes.items():\n",
    "    print(\"Modelling probabilities of class \", n_class,\" of \", len(df_classes), \" classes\")\n",
    "    model = hmm.GaussianHMM(n_components=6, n_iter=n_iter, verbose=False, tol=0.01, random_state=44)\n",
    "    # model = base.BaseHMM(n_components=6, n_iter=n_iter)\n",
    "    data_true = df_classes[n_class][feature_involved_1].values.tolist()\n",
    "    data_list = np.array([ [three] for one in data_true for two in one for three in two] )\n",
    "    len_list = [len(two) for one in data_true for two in one ]\n",
    "\n",
    "    initial_prob = np.array([1, 0, 0, 0, 0, 0])\n",
    "    transition_prob = np.ones((6, 6))\n",
    "    transition_prob = transition_prob / np.sum(transition_prob, axis=1)\n",
    "\n",
    "\n",
    "    model.startprob_ = initial_prob\n",
    "    model.transmat_ = transition_prob\n",
    "    \n",
    "\n",
    "\n",
    "    model.fit(data_list, len_list)\n",
    "    \n",
    "\n",
    "    # print(\"initial probability: \", model.startprob_)\n",
    "    # print(f'transition: \\n{model.transmat_}')\n",
    "    # print(f'emission: \\n{model.emissionprob_}')\n",
    "\n",
    "    with open ('models_6/'+str(n_class)+'hmm_model.pkl', 'wb') as f: #Save model\n",
    "        pickle.dump(model, f)"
   ]
  },
  {
   "cell_type": "markdown",
   "metadata": {},
   "source": [
    "# Gaussian HMM :x, y, arctan_1 (models_7)"
   ]
  },
  {
   "cell_type": "code",
   "execution_count": 42,
   "metadata": {
    "collapsed": true,
    "jupyter": {
     "outputs_hidden": true
    },
    "tags": []
   },
   "outputs": [
    {
     "name": "stderr",
     "output_type": "stream",
     "text": [
      "Even though the 'startprob_' attribute is set, it will be overwritten during initialization because 'init_params' contains 's'\n",
      "Even though the 'transmat_' attribute is set, it will be overwritten during initialization because 'init_params' contains 't'\n"
     ]
    },
    {
     "name": "stdout",
     "output_type": "stream",
     "text": [
      "Modelling probabilities of class  0  of  9  classes\n"
     ]
    },
    {
     "name": "stderr",
     "output_type": "stream",
     "text": [
      "Even though the 'startprob_' attribute is set, it will be overwritten during initialization because 'init_params' contains 's'\n",
      "Even though the 'transmat_' attribute is set, it will be overwritten during initialization because 'init_params' contains 't'\n"
     ]
    },
    {
     "name": "stdout",
     "output_type": "stream",
     "text": [
      "Modelling probabilities of class  1  of  9  classes\n"
     ]
    },
    {
     "name": "stderr",
     "output_type": "stream",
     "text": [
      "Even though the 'startprob_' attribute is set, it will be overwritten during initialization because 'init_params' contains 's'\n",
      "Even though the 'transmat_' attribute is set, it will be overwritten during initialization because 'init_params' contains 't'\n"
     ]
    },
    {
     "name": "stdout",
     "output_type": "stream",
     "text": [
      "Modelling probabilities of class  2  of  9  classes\n"
     ]
    },
    {
     "name": "stderr",
     "output_type": "stream",
     "text": [
      "Even though the 'startprob_' attribute is set, it will be overwritten during initialization because 'init_params' contains 's'\n",
      "Even though the 'transmat_' attribute is set, it will be overwritten during initialization because 'init_params' contains 't'\n"
     ]
    },
    {
     "name": "stdout",
     "output_type": "stream",
     "text": [
      "Modelling probabilities of class  3  of  9  classes\n"
     ]
    },
    {
     "name": "stderr",
     "output_type": "stream",
     "text": [
      "Even though the 'startprob_' attribute is set, it will be overwritten during initialization because 'init_params' contains 's'\n",
      "Even though the 'transmat_' attribute is set, it will be overwritten during initialization because 'init_params' contains 't'\n"
     ]
    },
    {
     "name": "stdout",
     "output_type": "stream",
     "text": [
      "Modelling probabilities of class  5  of  9  classes\n"
     ]
    },
    {
     "name": "stderr",
     "output_type": "stream",
     "text": [
      "Even though the 'startprob_' attribute is set, it will be overwritten during initialization because 'init_params' contains 's'\n",
      "Even though the 'transmat_' attribute is set, it will be overwritten during initialization because 'init_params' contains 't'\n"
     ]
    },
    {
     "name": "stdout",
     "output_type": "stream",
     "text": [
      "Modelling probabilities of class  6  of  9  classes\n"
     ]
    },
    {
     "name": "stderr",
     "output_type": "stream",
     "text": [
      "Even though the 'startprob_' attribute is set, it will be overwritten during initialization because 'init_params' contains 's'\n",
      "Even though the 'transmat_' attribute is set, it will be overwritten during initialization because 'init_params' contains 't'\n"
     ]
    },
    {
     "name": "stdout",
     "output_type": "stream",
     "text": [
      "Modelling probabilities of class  7  of  9  classes\n"
     ]
    },
    {
     "name": "stderr",
     "output_type": "stream",
     "text": [
      "Even though the 'startprob_' attribute is set, it will be overwritten during initialization because 'init_params' contains 's'\n",
      "Even though the 'transmat_' attribute is set, it will be overwritten during initialization because 'init_params' contains 't'\n"
     ]
    },
    {
     "name": "stdout",
     "output_type": "stream",
     "text": [
      "Modelling probabilities of class  8  of  9  classes\n"
     ]
    },
    {
     "name": "stderr",
     "output_type": "stream",
     "text": [
      "Even though the 'startprob_' attribute is set, it will be overwritten during initialization because 'init_params' contains 's'\n",
      "Even though the 'transmat_' attribute is set, it will be overwritten during initialization because 'init_params' contains 't'\n"
     ]
    },
    {
     "name": "stdout",
     "output_type": "stream",
     "text": [
      "Modelling probabilities of class  9  of  9  classes\n"
     ]
    }
   ],
   "source": [
    "n_iter=1000\n",
    "feature_involved_1= ['x']\n",
    "feature_involved_2= ['y']\n",
    "feature_involved_3= ['arctan_1']\n",
    "\n",
    "\n",
    "for n_class, _ in df_classes.items():\n",
    "    print(\"Modelling probabilities of class \", n_class,\" of \", len(df_classes), \" classes\")\n",
    "    model = hmm.GaussianHMM(n_components=2, n_iter=n_iter, verbose=False, tol=0.01, random_state=44)\n",
    "    # model = base.BaseHMM(n_components=6, n_iter=n_iter)\n",
    "    #data_true = df_classes[n_class][feature_involved_1].values.tolist()\n",
    "    #data_list = np.array([ [three] for one in data_true for two in one for three in two] )\n",
    "    #len_list = [len(two) for one in data_true for two in one ]\n",
    "\n",
    "    initial_prob = np.array([1, 0, 0, 0, 0, 0])\n",
    "    transition_prob = np.ones((6, 6))\n",
    "    transition_prob = transition_prob / np.sum(transition_prob, axis=1)\n",
    "\n",
    "\n",
    "    model.startprob_ = initial_prob\n",
    "    model.transmat_ = transition_prob\n",
    "\n",
    "\n",
    "    data_true_1 = df_classes[n_class][feature_involved_1].values.tolist()\n",
    "    data_true_2 = df_classes[n_class][feature_involved_2].values.tolist()\n",
    "    data_true_3 = df_classes[n_class][feature_involved_2].values.tolist()\n",
    "    data_list_1 = np.array([[three] for one in data_true_1 for two in one for three in two])\n",
    "    data_list_2 = np.array([[z] for x in data_true_2 for y in x for z in y])\n",
    "    data_list_3 = np.array([[z] for x in data_true_3 for y in x for z in y])\n",
    "    len_list = np.array([len(two) for one in data_true_1 for two in one ])\n",
    "    data_list=np.hstack([data_list_1,data_list_2,data_list_3])\n",
    "    \n",
    "\n",
    "    model.fit(data_list, len_list)\n",
    "    \n",
    "\n",
    "    # print(\"initial probability: \", model.startprob_)\n",
    "    # print(f'transition: \\n{model.transmat_}')\n",
    "    # print(f'emission: \\n{model.emissionprob_}')\n",
    "\n",
    "    with open ('models_7/'+str(n_class)+'hmm_model.pkl', 'wb') as f: #Save model\n",
    "        pickle.dump(model, f)"
   ]
  },
  {
   "cell_type": "markdown",
   "metadata": {},
   "source": [
    "# Gaussian HMM :arctan_2, curvature_1 (models_8)"
   ]
  },
  {
   "cell_type": "code",
   "execution_count": 174,
   "metadata": {
    "tags": []
   },
   "outputs": [
    {
     "name": "stdout",
     "output_type": "stream",
     "text": [
      "Modelling probabilities of class  0  of  9  classes\n"
     ]
    },
    {
     "ename": "TypeError",
     "evalue": "'list' object cannot be interpreted as an integer",
     "output_type": "error",
     "traceback": [
      "\u001b[0;31m---------------------------------------------------------------------------\u001b[0m",
      "\u001b[0;31mTypeError\u001b[0m                                 Traceback (most recent call last)",
      "Input \u001b[0;32mIn [174]\u001b[0m, in \u001b[0;36m<cell line: 7>\u001b[0;34m()\u001b[0m\n\u001b[1;32m     47\u001b[0m         a\u001b[38;5;241m.\u001b[39mappend(each)\n\u001b[1;32m     49\u001b[0m     c\u001b[38;5;241m.\u001b[39mappend(a) \n\u001b[0;32m---> 51\u001b[0m data\u001b[38;5;241m=\u001b[39m\u001b[43mnp\u001b[49m\u001b[38;5;241;43m.\u001b[39;49m\u001b[43mconcatenate\u001b[49m\u001b[43m(\u001b[49m\u001b[43mb\u001b[49m\u001b[43m,\u001b[49m\u001b[43mc\u001b[49m\u001b[43m)\u001b[49m\n\u001b[1;32m     56\u001b[0m model\u001b[38;5;241m.\u001b[39mfit(data, len_list)\n\u001b[1;32m     59\u001b[0m \u001b[38;5;66;03m# print(\"initial probability: \", model.startprob_)\u001b[39;00m\n\u001b[1;32m     60\u001b[0m \u001b[38;5;66;03m# print(f'transition: \\n{model.transmat_}')\u001b[39;00m\n\u001b[1;32m     61\u001b[0m \u001b[38;5;66;03m# print(f'emission: \\n{model.emissionprob_}')\u001b[39;00m\n",
      "File \u001b[0;32m<__array_function__ internals>:180\u001b[0m, in \u001b[0;36mconcatenate\u001b[0;34m(*args, **kwargs)\u001b[0m\n",
      "\u001b[0;31mTypeError\u001b[0m: 'list' object cannot be interpreted as an integer"
     ]
    }
   ],
   "source": [
    "n_iter=1000\n",
    "feature_involved_1= ['arctan_1']\n",
    "feature_involved_2= ['curvature_1']\n",
    "\n",
    "\n",
    "\n",
    "for n_class, _ in df_classes.items():\n",
    "    print(\"Modelling probabilities of class \", n_class,\" of \", len(df_classes), \" classes\")\n",
    "    model = hmm.GaussianHMM(n_components=6, n_iter=n_iter, verbose=False, tol=0.01, random_state=44)\n",
    "    # model = base.BaseHMM(n_components=6, n_iter=n_iter)\n",
    "    #data_true = df_classes[n_class][feature_involved_1].values.tolist()\n",
    "    #data_list = np.array([ [three] for one in data_true for two in one for three in two] )\n",
    "    #len_list = [len(two) for one in data_true for two in one ]\n",
    "\n",
    "    initial_prob = np.array([1, 0, 0, 0, 0, 0])\n",
    "    transition_prob = np.ones((6, 6))\n",
    "    transition_prob = transition_prob / np.sum(transition_prob, axis=1)\n",
    "\n",
    "\n",
    "    model.startprob_ = initial_prob\n",
    "    model.transmat_ = transition_prob\n",
    "    \n",
    "    data_true_2 = df_classes[n_class][feature_involved_2].values.tolist()\n",
    "    len_list = np.array([len(two) for one in data_true_2 for two in one ])\n",
    "\n",
    "\n",
    "    data_true_1 = df_classes[n_class][feature_involved_1]\n",
    "    data_true_1=np.squeeze(data_true_1.values)\n",
    "    b=[]\n",
    "    c=[]\n",
    "    for i in range(len(data_true_1)):\n",
    "        a=[]\n",
    "        for each in data_true_1[i]:\n",
    "            a.append(each)\n",
    "        a.pop(0)\n",
    "        a.pop(-1)\n",
    "\n",
    "        b.append(a)\n",
    "        \n",
    "\n",
    "    \n",
    "    data_true_2 = df_classes[n_class][feature_involved_2]\n",
    "    data_true_2=np.squeeze(data_true_2.values)\n",
    "    for i in range(len(data_true_2)):\n",
    "        a=[]\n",
    "        for each in data_true_2[i]:\n",
    "            a.append(each)\n",
    "\n",
    "        c.append(a) \n",
    "\n",
    "    data=np.concatenate(b,c)\n",
    "        \n",
    "    \n",
    "    \n",
    "\n",
    "    model.fit(data, len_list)\n",
    "    \n",
    "\n",
    "    # print(\"initial probability: \", model.startprob_)\n",
    "    # print(f'transition: \\n{model.transmat_}')\n",
    "    # print(f'emission: \\n{model.emissionprob_}')\n",
    "\n",
    "    with open ('models_8/'+str(n_class)+'hmm_model.pkl', 'wb') as f: #Save model\n",
    "        pickle.dump(model, f)"
   ]
  },
  {
   "cell_type": "code",
   "execution_count": 170,
   "metadata": {},
   "outputs": [
    {
     "ename": "TypeError",
     "evalue": "'float' object is not iterable",
     "output_type": "error",
     "traceback": [
      "\u001b[0;31m---------------------------------------------------------------------------\u001b[0m",
      "\u001b[0;31mTypeError\u001b[0m                                 Traceback (most recent call last)",
      "Input \u001b[0;32mIn [170]\u001b[0m, in \u001b[0;36m<cell line: 3>\u001b[0;34m()\u001b[0m\n\u001b[1;32m      1\u001b[0m data_true_1 \u001b[38;5;241m=\u001b[39m df_classes[\u001b[38;5;241m1\u001b[39m][\u001b[38;5;124m'\u001b[39m\u001b[38;5;124mx\u001b[39m\u001b[38;5;124m'\u001b[39m]\u001b[38;5;241m.\u001b[39mvalues\u001b[38;5;241m.\u001b[39mtolist()\n\u001b[1;32m      2\u001b[0m data_true_2 \u001b[38;5;241m=\u001b[39m df_classes[\u001b[38;5;241m1\u001b[39m][\u001b[38;5;124m'\u001b[39m\u001b[38;5;124my\u001b[39m\u001b[38;5;124m'\u001b[39m]\u001b[38;5;241m.\u001b[39mvalues\u001b[38;5;241m.\u001b[39mtolist()\n\u001b[0;32m----> 3\u001b[0m data_list_1 \u001b[38;5;241m=\u001b[39m np\u001b[38;5;241m.\u001b[39marray([[three] \u001b[38;5;28;01mfor\u001b[39;00m one \u001b[38;5;129;01min\u001b[39;00m data_true_1 \u001b[38;5;28;01mfor\u001b[39;00m two \u001b[38;5;129;01min\u001b[39;00m one \u001b[38;5;28;01mfor\u001b[39;00m three \u001b[38;5;129;01min\u001b[39;00m two])\n\u001b[1;32m      4\u001b[0m data_list_2 \u001b[38;5;241m=\u001b[39m np\u001b[38;5;241m.\u001b[39marray([[z] \u001b[38;5;28;01mfor\u001b[39;00m x \u001b[38;5;129;01min\u001b[39;00m data_true_2 \u001b[38;5;28;01mfor\u001b[39;00m y \u001b[38;5;129;01min\u001b[39;00m x \u001b[38;5;28;01mfor\u001b[39;00m z \u001b[38;5;129;01min\u001b[39;00m y])\n\u001b[1;32m      5\u001b[0m len_list \u001b[38;5;241m=\u001b[39m np\u001b[38;5;241m.\u001b[39marray([\u001b[38;5;28mlen\u001b[39m(two) \u001b[38;5;28;01mfor\u001b[39;00m one \u001b[38;5;129;01min\u001b[39;00m data_true_2 \u001b[38;5;28;01mfor\u001b[39;00m two \u001b[38;5;129;01min\u001b[39;00m one ])\n",
      "Input \u001b[0;32mIn [170]\u001b[0m, in \u001b[0;36m<listcomp>\u001b[0;34m(.0)\u001b[0m\n\u001b[1;32m      1\u001b[0m data_true_1 \u001b[38;5;241m=\u001b[39m df_classes[\u001b[38;5;241m1\u001b[39m][\u001b[38;5;124m'\u001b[39m\u001b[38;5;124mx\u001b[39m\u001b[38;5;124m'\u001b[39m]\u001b[38;5;241m.\u001b[39mvalues\u001b[38;5;241m.\u001b[39mtolist()\n\u001b[1;32m      2\u001b[0m data_true_2 \u001b[38;5;241m=\u001b[39m df_classes[\u001b[38;5;241m1\u001b[39m][\u001b[38;5;124m'\u001b[39m\u001b[38;5;124my\u001b[39m\u001b[38;5;124m'\u001b[39m]\u001b[38;5;241m.\u001b[39mvalues\u001b[38;5;241m.\u001b[39mtolist()\n\u001b[0;32m----> 3\u001b[0m data_list_1 \u001b[38;5;241m=\u001b[39m np\u001b[38;5;241m.\u001b[39marray([[three] \u001b[38;5;28;01mfor\u001b[39;00m one \u001b[38;5;129;01min\u001b[39;00m data_true_1 \u001b[38;5;28;01mfor\u001b[39;00m two \u001b[38;5;129;01min\u001b[39;00m one \u001b[38;5;28;01mfor\u001b[39;00m three \u001b[38;5;129;01min\u001b[39;00m two])\n\u001b[1;32m      4\u001b[0m data_list_2 \u001b[38;5;241m=\u001b[39m np\u001b[38;5;241m.\u001b[39marray([[z] \u001b[38;5;28;01mfor\u001b[39;00m x \u001b[38;5;129;01min\u001b[39;00m data_true_2 \u001b[38;5;28;01mfor\u001b[39;00m y \u001b[38;5;129;01min\u001b[39;00m x \u001b[38;5;28;01mfor\u001b[39;00m z \u001b[38;5;129;01min\u001b[39;00m y])\n\u001b[1;32m      5\u001b[0m len_list \u001b[38;5;241m=\u001b[39m np\u001b[38;5;241m.\u001b[39marray([\u001b[38;5;28mlen\u001b[39m(two) \u001b[38;5;28;01mfor\u001b[39;00m one \u001b[38;5;129;01min\u001b[39;00m data_true_2 \u001b[38;5;28;01mfor\u001b[39;00m two \u001b[38;5;129;01min\u001b[39;00m one ])\n",
      "\u001b[0;31mTypeError\u001b[0m: 'float' object is not iterable"
     ]
    }
   ],
   "source": [
    "\n",
    "data_true_1 = df_classes[1]['x'].values.tolist()\n",
    "data_true_2 = df_classes[1]['y'].values.tolist()\n",
    "data_list_1 = np.array([[three] for one in data_true_1 for two in one for three in two])\n",
    "data_list_2 = np.array([[z] for x in data_true_2 for y in x for z in y])\n",
    "len_list = np.array([len(two) for one in data_true_2 for two in one ])\n",
    "data_list=np.hstack([data_list_1,data_list_2])\n"
   ]
  },
  {
   "cell_type": "code",
   "execution_count": null,
   "metadata": {},
   "outputs": [],
   "source": []
  },
  {
   "cell_type": "code",
   "execution_count": 122,
   "metadata": {},
   "outputs": [],
   "source": [
    "feature_involved_1= ['arctan_1']\n",
    "feature_involved_2= ['curvature_1']\n"
   ]
  },
  {
   "cell_type": "code",
   "execution_count": 153,
   "metadata": {},
   "outputs": [
    {
     "data": {
      "text/plain": [
       "(40, 2)"
      ]
     },
     "execution_count": 153,
     "metadata": {},
     "output_type": "execute_result"
    }
   ],
   "source": [
    "data_true_1 = df_classes[1][feature_involved_1]\n",
    "data_true_1=np.squeeze(data_true_1.values)\n",
    "b=[]\n",
    "c=[]\n",
    "for i in range(len(data_true_1)):\n",
    "    a=[]\n",
    "    for each in data_true_1[i]:\n",
    "        a.append(each)\n",
    "    a.pop(0)\n",
    "    a.pop(-1)\n",
    "\n",
    "    b.append(a) \n",
    "    \n",
    "data_true_2 = df_classes[1][feature_involved_2]\n",
    "data_true_2=np.squeeze(data_true_2.values)\n",
    "for i in range(len(data_true_2)):\n",
    "    a=[]\n",
    "    for each in data_true_2[i]:\n",
    "        a.append(each)\n",
    "\n",
    "\n",
    "    c.append(a) \n",
    "\n",
    "data=np.array([b,c], dtype=object).T\n"
   ]
  },
  {
   "cell_type": "code",
   "execution_count": 123,
   "metadata": {},
   "outputs": [],
   "source": [
    "data_true_1 = df_classes[1][feature_involved_1]"
   ]
  },
  {
   "cell_type": "code",
   "execution_count": 124,
   "metadata": {},
   "outputs": [],
   "source": []
  },
  {
   "cell_type": "code",
   "execution_count": null,
   "metadata": {
    "tags": []
   },
   "outputs": [],
   "source": [
    "\n"
   ]
  },
  {
   "cell_type": "code",
   "execution_count": 126,
   "metadata": {},
   "outputs": [],
   "source": [
    "data_true_2 = df_classes[1][feature_involved_2]\n",
    "data_true_2=np.squeeze(data_true_2.values)"
   ]
  },
  {
   "cell_type": "code",
   "execution_count": 127,
   "metadata": {},
   "outputs": [
    {
     "name": "stdout",
     "output_type": "stream",
     "text": [
      "28\n",
      "\n",
      "\n",
      "130\n",
      "\n",
      "\n",
      "21\n",
      "\n",
      "\n",
      "20\n",
      "\n",
      "\n",
      "17\n",
      "\n",
      "\n",
      "15\n",
      "\n",
      "\n",
      "16\n",
      "\n",
      "\n",
      "20\n",
      "\n",
      "\n",
      "14\n",
      "\n",
      "\n",
      "18\n",
      "\n",
      "\n",
      "15\n",
      "\n",
      "\n",
      "14\n",
      "\n",
      "\n",
      "23\n",
      "\n",
      "\n",
      "206\n",
      "\n",
      "\n",
      "19\n",
      "\n",
      "\n",
      "22\n",
      "\n",
      "\n",
      "27\n",
      "\n",
      "\n",
      "23\n",
      "\n",
      "\n",
      "24\n",
      "\n",
      "\n",
      "47\n",
      "\n",
      "\n",
      "35\n",
      "\n",
      "\n",
      "20\n",
      "\n",
      "\n",
      "16\n",
      "\n",
      "\n",
      "19\n",
      "\n",
      "\n",
      "45\n",
      "\n",
      "\n",
      "26\n",
      "\n",
      "\n",
      "28\n",
      "\n",
      "\n",
      "22\n",
      "\n",
      "\n",
      "27\n",
      "\n",
      "\n",
      "42\n",
      "\n",
      "\n",
      "15\n",
      "\n",
      "\n",
      "149\n",
      "\n",
      "\n",
      "17\n",
      "\n",
      "\n",
      "35\n",
      "\n",
      "\n",
      "23\n",
      "\n",
      "\n",
      "17\n",
      "\n",
      "\n",
      "19\n",
      "\n",
      "\n",
      "23\n",
      "\n",
      "\n",
      "17\n",
      "\n",
      "\n",
      "19\n",
      "\n",
      "\n"
     ]
    }
   ],
   "source": [
    "for i in range(len(data_true_2)):\n",
    "    count=0\n",
    "    for each in data_true_2[i]:\n",
    "        count+=1\n",
    "    print(count)\n",
    "\n",
    "    print('\\n')\n",
    "\n"
   ]
  },
  {
   "cell_type": "code",
   "execution_count": null,
   "metadata": {},
   "outputs": [],
   "source": []
  }
 ],
 "metadata": {
  "kernelspec": {
   "display_name": "Python 3 (ipykernel)",
   "language": "python",
   "name": "python3"
  },
  "language_info": {
   "codemirror_mode": {
    "name": "ipython",
    "version": 3
   },
   "file_extension": ".py",
   "mimetype": "text/x-python",
   "name": "python",
   "nbconvert_exporter": "python",
   "pygments_lexer": "ipython3",
   "version": "3.9.12"
  },
  "vscode": {
   "interpreter": {
    "hash": "8f162362b51a040b66da23130964be17c9a4290e709b2d7f75b268249f5b26fc"
   }
  }
 },
 "nbformat": 4,
 "nbformat_minor": 4
}
