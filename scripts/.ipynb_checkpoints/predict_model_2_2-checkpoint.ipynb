{
 "cells": [
  {
   "cell_type": "code",
   "execution_count": 10,
   "id": "90b40f11-f1d0-4d8f-abe5-c86394e9f2f5",
   "metadata": {},
   "outputs": [],
   "source": [
    "import pickle\n",
    "import numpy as np\n",
    "import pandas as pd\n",
    "from sklearn.metrics.cluster import contingency_matrix \n"
   ]
  },
  {
   "cell_type": "code",
   "execution_count": 11,
   "id": "10f85207-24ca-40d2-aec9-84ab73c83647",
   "metadata": {},
   "outputs": [],
   "source": [
    "%store -r test\n",
    "\n",
    "# Take the name of the different classes (e.g. '0', '1', '2', ...)\n",
    "classes = test.groupby(['label'])['label'].unique().index.to_list()"
   ]
  },
  {
   "cell_type": "code",
   "execution_count": 12,
   "id": "76281c79-a6b2-487f-8a74-63ac430671ca",
   "metadata": {},
   "outputs": [],
   "source": [
    "predicted_test = test.copy()\n",
    "\n",
    "feature_1= 'curvature_1'\n",
    "\n",
    "\n",
    "models = []\n",
    "for n_class in classes: # Can be thrown an expection beacuse this is the labels of the test set and not of the models (train set)\n",
    "    model = pickle.load(open('models_2/'+str(n_class)+'hmm_model.pkl', 'rb'))\n",
    "    models.append(model)\n",
    "\n",
    "#log_likelihoods = pd.DataFrame()\n",
    "#log_likelihoods['predicted_class'] = classes\n",
    "#log_like_max = []\n",
    "#top_3_loglikelihood = []\n",
    "#top_3_predicted_classes = []\n",
    "predicted_class = []\n",
    "#is_predicted = []\n",
    "true_label=[]\n",
    "\n",
    "for i in range(len(test)):\n",
    "    angle_1 = test[feature_1].iloc[i]\n",
    "    X=np.array([angle_1]).T\n",
    "    true_label.append(test['label'].iloc[i])\n",
    "    list_log_likelihoods = []\n",
    "    for model in models:\n",
    "        \n",
    "        list_log_likelihoods.append(model.score(X,lengths=len(X)))\n",
    "        pass\n",
    "\n",
    "    predicted_class.append(np.argmax(list_log_likelihoods))\n",
    "    "
   ]
  },
  {
   "cell_type": "code",
   "execution_count": 13,
   "id": "391b58ba-50df-4d19-a97a-ac6291271320",
   "metadata": {},
   "outputs": [
    {
     "name": "stdout",
     "output_type": "stream",
     "text": [
      "[8, 7, 2, 0, 3, 2, 4, 8, 5, 8, 5, 3, 2, 3, 0, 8, 0, 3, 3, 4, 4, 6, 5, 7, 7, 2, 2, 8, 3, 2, 4, 4, 3, 7, 2, 8, 7, 8, 3, 2, 5, 2, 2, 5, 8, 6, 8, 2, 4, 3, 3, 7, 7, 2, 8, 2, 0, 6, 1, 2, 8, 5, 7, 7, 7, 7, 3, 1, 5, 8, 8, 4, 0, 8, 4, 3, 4, 1, 1, 3, 3, 7, 5, 8, 7, 6, 3, 2, 2, 3, 4, 0, 1, 3, 0, 7, 6, 1, 8, 7, 4, 7, 7, 8, 2, 5, 3, 5, 2, 8, 5, 3, 5, 7, 8, 8, 8, 4, 2, 2, 8, 8, 3, 6, 6, 5, 1, 8, 3, 8, 1, 0, 8, 7, 8, 8, 3, 2, 2, 3, 8, 8, 0, 7, 5, 8, 0, 3, 1, 0, 3, 8, 5, 6, 8, 0, 5, 0, 7, 7, 7, 3, 0, 7, 6, 2, 8, 3, 3, 2, 4, 2, 6, 8, 5]\n",
      "[1, 8, 2, 6, 6, 5, 1, 8, 6, 9, 8, 1, 2, 2, 0, 9, 0, 3, 9, 1, 5, 7, 6, 0, 8, 5, 3, 7, 3, 9, 3, 6, 3, 8, 3, 8, 8, 9, 0, 1, 6, 8, 6, 6, 5, 7, 3, 2, 8, 3, 2, 3, 8, 2, 2, 2, 6, 7, 7, 9, 5, 6, 8, 6, 3, 6, 7, 7, 0, 3, 9, 0, 0, 2, 0, 2, 3, 1, 1, 5, 3, 6, 0, 8, 8, 7, 9, 2, 9, 5, 9, 8, 1, 2, 0, 6, 7, 7, 9, 8, 7, 8, 8, 0, 9, 0, 3, 0, 2, 9, 6, 3, 6, 2, 5, 2, 7, 0, 9, 2, 3, 9, 6, 1, 7, 0, 7, 1, 9, 7, 7, 9, 9, 0, 5, 7, 3, 2, 3, 2, 2, 9, 6, 2, 6, 2, 0, 2, 1, 2, 3, 9, 0, 7, 9, 0, 0, 0, 9, 6, 8, 6, 3, 8, 3, 2, 2, 9, 3, 3, 2, 9, 1, 7, 6]\n",
      "175\n",
      "175\n"
     ]
    }
   ],
   "source": [
    "print(predicted_class)\n",
    "print(true_label)\n",
    "\n",
    "print(len(predicted_class))\n",
    "print(len(true_label))"
   ]
  },
  {
   "cell_type": "code",
   "execution_count": 14,
   "id": "ff6db9d9-0cb8-4d89-b4b9-8cf4112d95ef",
   "metadata": {},
   "outputs": [],
   "source": [
    "matrix=contingency_matrix(true_label, predicted_class)"
   ]
  },
  {
   "cell_type": "code",
   "execution_count": 15,
   "id": "e589d76d-3cc9-46b4-9dcf-e8dceb2b3f40",
   "metadata": {},
   "outputs": [
    {
     "data": {
      "text/plain": [
       "array([[ 7,  0,  0,  1,  3,  7,  0,  2,  1],\n",
       "       [ 0,  4,  1,  1,  2,  0,  2,  0,  2],\n",
       "       [ 1,  0, 10,  6,  1,  0,  0,  2,  6],\n",
       "       [ 1,  0,  4, 10,  2,  0,  1,  2,  3],\n",
       "       [ 0,  0,  2,  2,  1,  0,  0,  0,  4],\n",
       "       [ 3,  0,  1,  3,  1,  9,  0,  5,  0],\n",
       "       [ 0,  5,  0,  1,  1,  0,  7,  0,  5],\n",
       "       [ 1,  0,  1,  0,  1,  1,  0, 12,  3],\n",
       "       [ 1,  0,  6,  4,  1,  0,  0,  1, 11]])"
      ]
     },
     "execution_count": 15,
     "metadata": {},
     "output_type": "execute_result"
    }
   ],
   "source": [
    "matrix"
   ]
  },
  {
   "cell_type": "code",
   "execution_count": 16,
   "id": "5ab0b386-766c-45d2-85c2-ed04cf21100c",
   "metadata": {},
   "outputs": [
    {
     "name": "stdout",
     "output_type": "stream",
     "text": [
      "Accuracy:  0.4057142857142857\n"
     ]
    }
   ],
   "source": [
    "accuracy=np.sum(np.diag(matrix))/np.sum(matrix)\n",
    "print(\"Accuracy: \", accuracy)"
   ]
  },
  {
   "cell_type": "code",
   "execution_count": null,
   "id": "f01fc794-dafb-4b42-9cdc-2c4bc399fdb7",
   "metadata": {},
   "outputs": [],
   "source": []
  }
 ],
 "metadata": {
  "kernelspec": {
   "display_name": "Python 3 (ipykernel)",
   "language": "python",
   "name": "python3"
  },
  "language_info": {
   "codemirror_mode": {
    "name": "ipython",
    "version": 3
   },
   "file_extension": ".py",
   "mimetype": "text/x-python",
   "name": "python",
   "nbconvert_exporter": "python",
   "pygments_lexer": "ipython3",
   "version": "3.9.12"
  }
 },
 "nbformat": 4,
 "nbformat_minor": 5
}
