{
 "cells": [
  {
   "cell_type": "code",
   "execution_count": 3,
   "id": "90b40f11-f1d0-4d8f-abe5-c86394e9f2f5",
   "metadata": {},
   "outputs": [],
   "source": [
    "import pickle\n",
    "import numpy as np\n",
    "import pandas as pd\n",
    "from sklearn.metrics.cluster import contingency_matrix \n"
   ]
  },
  {
   "cell_type": "code",
   "execution_count": 4,
   "id": "10f85207-24ca-40d2-aec9-84ab73c83647",
   "metadata": {},
   "outputs": [],
   "source": [
    "%store -r test\n",
    "\n",
    "# Take the name of the different classes (e.g. '0', '1', '2', ...)\n",
    "classes = test.groupby(['label'])['label'].unique().index.to_list()"
   ]
  },
  {
   "cell_type": "code",
   "execution_count": 5,
   "id": "76281c79-a6b2-487f-8a74-63ac430671ca",
   "metadata": {},
   "outputs": [],
   "source": [
    "predicted_test = test.copy()\n",
    "\n",
    "feature_1= 'curvature_1'\n",
    "\n",
    "\n",
    "models = []\n",
    "for n_class in classes: # Can be thrown an expection beacuse this is the labels of the test set and not of the models (train set)\n",
    "    model = pickle.load(open('models_2/'+str(n_class)+'hmm_model.pkl', 'rb'))\n",
    "    models.append(model)\n",
    "\n",
    "#log_likelihoods = pd.DataFrame()\n",
    "#log_likelihoods['predicted_class'] = classes\n",
    "#log_like_max = []\n",
    "#top_3_loglikelihood = []\n",
    "#top_3_predicted_classes = []\n",
    "predicted_class = []\n",
    "#is_predicted = []\n",
    "true_label=[]\n",
    "\n",
    "for i in range(len(test)):\n",
    "    angle_1 = test[feature_1].iloc[i]\n",
    "    X=np.array([angle_1]).T\n",
    "    true_label.append(test['label'].iloc[i])\n",
    "    list_log_likelihoods = []\n",
    "    for model in models:\n",
    "        \n",
    "        list_log_likelihoods.append(model.score(X,lengths=len(X)))\n",
    "        pass\n",
    "\n",
    "    predicted_class.append(np.argmax(list_log_likelihoods))\n",
    "    "
   ]
  },
  {
   "cell_type": "code",
   "execution_count": 6,
   "id": "391b58ba-50df-4d19-a97a-ac6291271320",
   "metadata": {},
   "outputs": [
    {
     "name": "stdout",
     "output_type": "stream",
     "text": [
      "[6, 4, 2, 8, 1, 4, 4, 1, 3, 3, 9, 1, 4, 1, 1, 3, 9, 3, 1, 6, 6, 6, 9, 9, 1, 9, 1, 3, 2, 1, 4, 7, 9, 2, 0, 2, 1, 4, 2, 4, 1, 3, 4, 4, 6, 8, 1, 9, 1, 9, 6, 4, 8, 7, 8, 1, 9, 5, 2, 1, 0, 3, 0, 8, 0, 1, 1, 6, 9, 6, 1, 6, 2, 3, 9, 5, 4, 1, 8, 0, 4, 8, 8, 0, 0, 6, 1, 4, 6, 3, 2, 1, 1, 8, 2, 3, 8, 9, 0, 3, 3, 5, 2, 8, 6, 3, 7, 2, 1, 2, 3, 6, 4, 9, 0, 5, 3, 0, 9, 2, 9, 3, 4, 7, 2, 3, 2, 2, 5, 4, 4, 1, 4, 0, 3, 9, 7, 5, 1, 7, 1, 4, 0, 1, 4, 8, 2, 0, 1, 7, 2, 1, 3, 7, 4, 8, 9, 5, 9, 9, 0, 0, 6, 1, 1, 3, 4, 0, 1, 1, 8, 0, 0, 0, 1, 8, 1, 9, 3, 3, 8, 9, 7, 0, 2, 8, 5, 3, 2, 7, 2, 3, 6, 3, 0, 8, 4, 0, 2, 9, 1, 9, 1, 4, 3, 0, 9, 4, 4, 1, 7, 0, 8, 2, 3, 4, 1, 4, 1, 8, 4, 3, 0, 8, 9, 7, 3, 8, 5, 4, 9, 1, 8, 9, 8, 0, 2, 9, 2, 2, 4, 3, 9, 8, 1, 1, 0, 1]\n",
      "[6, 4, 9, 8, 0, 4, 4, 6, 8, 8, 9, 1, 4, 9, 7, 6, 3, 3, 1, 0, 2, 6, 5, 9, 9, 8, 1, 3, 2, 0, 4, 7, 3, 5, 0, 9, 9, 7, 1, 4, 7, 3, 4, 1, 6, 0, 5, 9, 7, 3, 0, 7, 0, 7, 8, 7, 5, 5, 5, 5, 6, 2, 6, 6, 6, 7, 0, 6, 6, 9, 1, 6, 3, 6, 2, 5, 4, 5, 7, 0, 4, 8, 6, 3, 9, 6, 1, 7, 6, 3, 9, 7, 5, 8, 2, 2, 5, 9, 0, 0, 6, 3, 2, 8, 6, 9, 8, 7, 2, 5, 5, 0, 7, 3, 0, 9, 2, 0, 3, 2, 5, 9, 4, 7, 3, 3, 0, 2, 2, 4, 4, 9, 1, 6, 3, 2, 7, 5, 4, 5, 1, 3, 2, 7, 4, 2, 3, 6, 5, 7, 0, 7, 9, 4, 4, 8, 9, 5, 5, 9, 0, 0, 8, 3, 4, 9, 4, 0, 3, 9, 8, 0, 3, 6, 9, 8, 7, 8, 0, 8, 6, 9, 7, 8, 6, 8, 3, 8, 4, 7, 6, 8, 0, 3, 8, 8, 7, 0, 2, 7, 9, 2, 5, 4, 6, 6, 9, 7, 4, 7, 2, 6, 8, 9, 2, 4, 1, 4, 1, 3, 4, 3, 9, 6, 2, 1, 3, 6, 5, 4, 5, 1, 2, 2, 8, 6, 8, 9, 5, 7, 4, 3, 9, 8, 9, 1, 2, 4]\n",
      "248\n",
      "248\n"
     ]
    }
   ],
   "source": [
    "print(predicted_class)\n",
    "print(true_label)\n",
    "\n",
    "print(len(predicted_class))\n",
    "print(len(true_label))"
   ]
  },
  {
   "cell_type": "code",
   "execution_count": 7,
   "id": "ff6db9d9-0cb8-4d89-b4b9-8cf4112d95ef",
   "metadata": {},
   "outputs": [],
   "source": [
    "matrix=contingency_matrix(true_label, predicted_class)"
   ]
  },
  {
   "cell_type": "code",
   "execution_count": 8,
   "id": "e589d76d-3cc9-46b4-9dcf-e8dceb2b3f40",
   "metadata": {},
   "outputs": [
    {
     "data": {
      "text/plain": [
       "array([[10,  3,  2,  2,  0,  0,  4,  0,  2,  0],\n",
       "       [ 0, 10,  1,  0,  2,  0,  0,  1,  0,  0],\n",
       "       [ 2,  1,  6,  4,  0,  1,  1,  1,  2,  5],\n",
       "       [ 2,  2,  3, 10,  1,  2,  0,  0,  1,  5],\n",
       "       [ 0,  3,  1,  0, 22,  0,  0,  1,  0,  0],\n",
       "       [ 0,  6,  4,  1,  0,  5,  0,  1,  1,  5],\n",
       "       [ 9,  1,  2,  4,  0,  0,  8,  0,  5,  1],\n",
       "       [ 0, 10,  2,  0,  6,  0,  0,  7,  1,  1],\n",
       "       [ 2,  0,  1,  5,  0,  0,  1,  1, 13,  2],\n",
       "       [ 2,  8,  4,  4,  0,  1,  1,  0,  0, 10]])"
      ]
     },
     "execution_count": 8,
     "metadata": {},
     "output_type": "execute_result"
    }
   ],
   "source": [
    "matrix"
   ]
  },
  {
   "cell_type": "code",
   "execution_count": 9,
   "id": "5ab0b386-766c-45d2-85c2-ed04cf21100c",
   "metadata": {},
   "outputs": [
    {
     "name": "stdout",
     "output_type": "stream",
     "text": [
      "Accuracy:  0.40725806451612906\n"
     ]
    }
   ],
   "source": [
    "accuracy=np.sum(np.diag(matrix))/np.sum(matrix)\n",
    "print(\"Accuracy: \", accuracy)"
   ]
  },
  {
   "cell_type": "code",
   "execution_count": null,
   "id": "f01fc794-dafb-4b42-9cdc-2c4bc399fdb7",
   "metadata": {},
   "outputs": [],
   "source": []
  }
 ],
 "metadata": {
  "kernelspec": {
   "display_name": "Python 3 (ipykernel)",
   "language": "python",
   "name": "python3"
  },
  "language_info": {
   "codemirror_mode": {
    "name": "ipython",
    "version": 3
   },
   "file_extension": ".py",
   "mimetype": "text/x-python",
   "name": "python",
   "nbconvert_exporter": "python",
   "pygments_lexer": "ipython3",
   "version": "3.9.12"
  }
 },
 "nbformat": 4,
 "nbformat_minor": 5
}
