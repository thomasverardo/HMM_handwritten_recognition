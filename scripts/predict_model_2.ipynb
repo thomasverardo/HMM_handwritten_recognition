{
 "cells": [
  {
   "cell_type": "code",
   "execution_count": 1,
   "id": "90b40f11-f1d0-4d8f-abe5-c86394e9f2f5",
   "metadata": {},
   "outputs": [],
   "source": [
    "import pickle\n",
    "import numpy as np\n",
    "import pandas as pd\n",
    "from sklearn.metrics.cluster import contingency_matrix \n"
   ]
  },
  {
   "cell_type": "code",
   "execution_count": 2,
   "id": "10f85207-24ca-40d2-aec9-84ab73c83647",
   "metadata": {},
   "outputs": [],
   "source": [
    "%store -r test\n",
    "\n",
    "# Take the name of the different classes (e.g. '0', '1', '2', ...)\n",
    "classes = test.groupby(['label'])['label'].unique().index.to_list()"
   ]
  },
  {
   "cell_type": "code",
   "execution_count": 3,
   "id": "76281c79-a6b2-487f-8a74-63ac430671ca",
   "metadata": {},
   "outputs": [],
   "source": [
    "predicted_test = test.copy()\n",
    "\n",
    "feature_1= 'curvature_1'\n",
    "\n",
    "\n",
    "models = []\n",
    "for n_class in classes: # Can be thrown an expection beacuse this is the labels of the test set and not of the models (train set)\n",
    "    model = pickle.load(open('models_2/'+str(n_class)+'hmm_model.pkl', 'rb'))\n",
    "    models.append(model)\n",
    "\n",
    "#log_likelihoods = pd.DataFrame()\n",
    "#log_likelihoods['predicted_class'] = classes\n",
    "#log_like_max = []\n",
    "#top_3_loglikelihood = []\n",
    "top_3_predicted_classes = []\n",
    "predicted_class = []\n",
    "#is_predicted = []\n",
    "true_label=[]\n",
    "\n",
    "for i in range(len(test)):\n",
    "    angle_1 = test[feature_1].iloc[i]\n",
    "    X=np.array([angle_1]).T\n",
    "    true_label.append(test['label'].iloc[i])\n",
    "    list_log_likelihoods = []\n",
    "    for model in models:\n",
    "        \n",
    "        list_log_likelihoods.append(model.score(X,lengths=len(X)))\n",
    "        pass\n",
    "\n",
    "    predicted_class.append(np.argmax(list_log_likelihoods))\n",
    "\n",
    "    top_3_values = sorted(list_log_likelihoods)[-3:]\n",
    "    top_3_predicted_classes.append([i for i, x in enumerate(list_log_likelihoods) if x == top_3_values[0] or x == top_3_values[1] or x == top_3_values[2]])\n",
    "    "
   ]
  },
  {
   "cell_type": "code",
   "execution_count": 4,
   "id": "391b58ba-50df-4d19-a97a-ac6291271320",
   "metadata": {},
   "outputs": [
    {
     "name": "stdout",
     "output_type": "stream",
     "text": [
      "[4, 1, 9, 9, 5, 8, 9, 4, 1, 0, 8, 1, 4, 2, 6, 4, 5, 0, 1, 1, 8, 0, 3, 0, 5, 8, 1, 4, 5, 8, 7, 2, 2, 1, 0, 4, 8, 4, 1, 8, 2, 9, 9, 3, 4, 7, 5, 3, 8, 8, 7, 1, 3, 0, 3, 4, 0, 7, 6, 8, 9, 6, 0, 9, 1, 3, 5, 8, 5, 7, 2, 2, 6, 2, 3, 3, 4, 3, 0, 0, 9, 3, 1, 8, 3, 6, 1, 1, 1, 8, 8, 1, 8, 4, 1, 2, 8, 2, 3, 7, 3, 8, 0, 8, 4, 1, 2, 1, 1, 1, 4, 5, 5, 1, 3, 2, 1, 2, 2, 1, 9, 2, 3, 6, 0, 9, 1, 3, 1, 0, 8, 2, 1, 1, 3, 6, 0, 4, 6, 9, 3, 1, 2, 7, 4, 8, 1, 3, 8, 7, 1, 8, 1, 8, 4, 3, 4, 0, 2, 5, 3, 0, 1, 4, 4, 0, 8, 8, 0, 1, 4, 1, 8, 9, 8, 6, 0, 8, 5, 0, 3, 1, 4, 3, 6, 0, 3, 0, 3, 1, 6, 9, 1, 5, 8, 1, 8, 3, 9, 4, 6, 6, 0, 1, 4, 9, 1, 0, 5, 5, 0, 6, 0, 4, 1, 4, 0, 7, 0, 3, 9, 2, 2, 1, 5, 1, 4, 9, 6, 2, 1, 4, 7, 0, 6, 6, 9, 1, 0, 8, 0, 8, 7, 3, 4, 2, 8, 0]\n",
      "[4, 1, 9, 3, 5, 8, 0, 4, 6, 0, 8, 4, 7, 2, 6, 4, 7, 3, 1, 2, 8, 0, 9, 0, 5, 3, 6, 4, 5, 2, 4, 5, 2, 0, 0, 4, 2, 1, 2, 9, 3, 2, 9, 3, 1, 7, 5, 5, 8, 6, 7, 4, 5, 3, 3, 1, 0, 9, 6, 8, 9, 0, 6, 9, 9, 8, 1, 0, 2, 4, 5, 2, 6, 9, 3, 4, 4, 2, 6, 0, 9, 9, 8, 7, 2, 0, 7, 5, 5, 8, 5, 1, 8, 4, 1, 9, 8, 2, 9, 7, 5, 0, 0, 8, 5, 5, 2, 1, 1, 1, 1, 7, 5, 5, 2, 3, 4, 3, 6, 4, 5, 9, 3, 6, 0, 7, 6, 2, 0, 6, 0, 2, 7, 7, 8, 8, 0, 1, 6, 9, 8, 3, 9, 4, 7, 0, 7, 3, 8, 3, 4, 6, 7, 1, 7, 8, 4, 0, 6, 7, 9, 6, 9, 4, 4, 0, 8, 8, 0, 4, 4, 9, 8, 5, 6, 0, 0, 9, 8, 0, 9, 1, 4, 2, 0, 5, 3, 0, 3, 0, 5, 9, 2, 5, 8, 1, 5, 6, 9, 7, 6, 6, 0, 1, 1, 3, 1, 8, 5, 3, 6, 0, 0, 4, 3, 7, 0, 7, 0, 3, 9, 6, 2, 2, 5, 3, 4, 9, 6, 7, 1, 4, 1, 2, 6, 3, 9, 1, 0, 8, 0, 8, 7, 2, 1, 2, 5, 6]\n",
      "248\n",
      "248\n"
     ]
    }
   ],
   "source": [
    "print(predicted_class)\n",
    "print(true_label)\n",
    "\n",
    "print(len(predicted_class))\n",
    "print(len(true_label))"
   ]
  },
  {
   "cell_type": "code",
   "execution_count": 5,
   "id": "ff6db9d9-0cb8-4d89-b4b9-8cf4112d95ef",
   "metadata": {},
   "outputs": [],
   "source": [
    "matrix=contingency_matrix(true_label, predicted_class)"
   ]
  },
  {
   "cell_type": "code",
   "execution_count": 6,
   "id": "e589d76d-3cc9-46b4-9dcf-e8dceb2b3f40",
   "metadata": {},
   "outputs": [
    {
     "data": {
      "text/plain": [
       "array([[21,  3,  0,  0,  0,  0,  5,  0,  4,  1],\n",
       "       [ 0, 13,  0,  0,  7,  1,  0,  1,  1,  0],\n",
       "       [ 1,  4,  8,  6,  0,  1,  0,  0,  2,  1],\n",
       "       [ 2,  3,  3,  8,  0,  1,  1,  1,  1,  2],\n",
       "       [ 0,  6,  0,  1, 15,  0,  0,  3,  0,  0],\n",
       "       [ 1,  4,  2,  3,  1,  8,  1,  0,  3,  2],\n",
       "       [ 6,  3,  3,  1,  0,  0,  9,  0,  3,  0],\n",
       "       [ 0,  5,  1,  0,  5,  3,  0,  5,  1,  1],\n",
       "       [ 1,  1,  0,  4,  0,  1,  1,  0, 16,  0],\n",
       "       [ 0,  3,  4,  5,  0,  0,  0,  1,  2, 11]])"
      ]
     },
     "execution_count": 6,
     "metadata": {},
     "output_type": "execute_result"
    }
   ],
   "source": [
    "matrix"
   ]
  },
  {
   "cell_type": "code",
   "execution_count": 7,
   "id": "5ab0b386-766c-45d2-85c2-ed04cf21100c",
   "metadata": {},
   "outputs": [
    {
     "name": "stdout",
     "output_type": "stream",
     "text": [
      "Accuracy:  0.4596774193548387\n"
     ]
    }
   ],
   "source": [
    "accuracy=np.sum(np.diag(matrix))/np.sum(matrix)\n",
    "print(\"Accuracy: \", accuracy)"
   ]
  },
  {
   "cell_type": "code",
   "execution_count": 8,
   "id": "f01fc794-dafb-4b42-9cdc-2c4bc399fdb7",
   "metadata": {},
   "outputs": [
    {
     "name": "stdout",
     "output_type": "stream",
     "text": [
      "Accuracy top 3:  0.7983870967741935\n"
     ]
    }
   ],
   "source": [
    "# Calculate top 3 accuracy\n",
    "sum_top_3 = 0\n",
    "for i in range(len(top_3_predicted_classes)):\n",
    "    if true_label[i] in top_3_predicted_classes[i]:\n",
    "        sum_top_3 += 1\n",
    "\n",
    "accuracy_top_3 = sum_top_3/len(predicted_test[\"label\"])\n",
    "print(\"Accuracy top 3: \", accuracy_top_3)"
   ]
  }
 ],
 "metadata": {
  "kernelspec": {
   "display_name": "Python 3.9.7 ('pml')",
   "language": "python",
   "name": "python3"
  },
  "language_info": {
   "codemirror_mode": {
    "name": "ipython",
    "version": 3
   },
   "file_extension": ".py",
   "mimetype": "text/x-python",
   "name": "python",
   "nbconvert_exporter": "python",
   "pygments_lexer": "ipython3",
   "version": "3.9.7"
  },
  "vscode": {
   "interpreter": {
    "hash": "8f162362b51a040b66da23130964be17c9a4290e709b2d7f75b268249f5b26fc"
   }
  }
 },
 "nbformat": 4,
 "nbformat_minor": 5
}
