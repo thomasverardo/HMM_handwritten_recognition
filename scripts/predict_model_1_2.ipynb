{
 "cells": [
  {
   "cell_type": "code",
   "execution_count": 10,
   "metadata": {},
   "outputs": [],
   "source": [
    "import pickle\n",
    "import numpy as np\n",
    "import pandas as pd"
   ]
  },
  {
   "cell_type": "code",
   "execution_count": 11,
   "metadata": {},
   "outputs": [],
   "source": [
    "%store -r test\n",
    "\n",
    "# Take the name of the different classes (e.g. '0', '1', '2', ...)\n",
    "classes = test.groupby(['label'])['label'].unique().index.to_list()"
   ]
  },
  {
   "cell_type": "code",
   "execution_count": 12,
   "metadata": {},
   "outputs": [
    {
     "data": {
      "text/html": [
       "<div>\n",
       "<style scoped>\n",
       "    .dataframe tbody tr th:only-of-type {\n",
       "        vertical-align: middle;\n",
       "    }\n",
       "\n",
       "    .dataframe tbody tr th {\n",
       "        vertical-align: top;\n",
       "    }\n",
       "\n",
       "    .dataframe thead th {\n",
       "        text-align: right;\n",
       "    }\n",
       "</style>\n",
       "<table border=\"1\" class=\"dataframe\">\n",
       "  <thead>\n",
       "    <tr style=\"text-align: right;\">\n",
       "      <th></th>\n",
       "      <th>label</th>\n",
       "      <th>x</th>\n",
       "      <th>y</th>\n",
       "      <th>speed</th>\n",
       "      <th>strokes</th>\n",
       "      <th>arctan2_2</th>\n",
       "      <th>arctan_1</th>\n",
       "      <th>curvature_4</th>\n",
       "      <th>curvature_2</th>\n",
       "      <th>curvature_1</th>\n",
       "    </tr>\n",
       "  </thead>\n",
       "  <tbody>\n",
       "    <tr>\n",
       "      <th>795</th>\n",
       "      <td>1</td>\n",
       "      <td>[675.0, 670.0, 670.0, 670.0, 670.0, 670.0, 667...</td>\n",
       "      <td>[127.0, 121.0, 118.0, 114.0, 113.0, 116.0, 126...</td>\n",
       "      <td>1.422</td>\n",
       "      <td>1</td>\n",
       "      <td>[-2.27, -1.57, -1.57, -1.57, 1.57, 1.86, 1.57,...</td>\n",
       "      <td>[0.19, 0.18, 0.17, 0.17, 0.17, 0.17, 0.19, 0.2...</td>\n",
       "      <td>[0.3838, 0.0184, 2.7449, 2.985, 3.0803, 3.1159...</td>\n",
       "      <td>[2.6345, 0.0, 0.2268, 3.0061, 2.887, 2.9455, 3...</td>\n",
       "      <td>[2.4469, 3.1416, 3.1416, 0.0, 2.8501, 2.8501, ...</td>\n",
       "    </tr>\n",
       "    <tr>\n",
       "      <th>319</th>\n",
       "      <td>8</td>\n",
       "      <td>[533.0, 592.0, 688.0, 759.0, 822.0, 868.0, 892...</td>\n",
       "      <td>[234.0, 222.0, 221.0, 229.0, 243.0, 263.0, 300...</td>\n",
       "      <td>1.391</td>\n",
       "      <td>1</td>\n",
       "      <td>[-0.2, -0.01, 0.11, 0.22, 0.41, 1.0, 2.12, 2.5...</td>\n",
       "      <td>[0.41, 0.36, 0.31, 0.29, 0.29, 0.29, 0.32, 0.3...</td>\n",
       "      <td>[1.7165, 0.9979, 0.935, 1.2046, 1.9876, 3.0217...</td>\n",
       "      <td>[2.8952, 2.8811, 2.6209, 1.9995, 1.4599, 1.973...</td>\n",
       "      <td>[2.9514, 3.019, 3.0351, 2.9501, 2.5564, 2.0145...</td>\n",
       "    </tr>\n",
       "    <tr>\n",
       "      <th>382</th>\n",
       "      <td>2</td>\n",
       "      <td>[570.0, 609.0, 637.0, 678.0, 700.0, 718.0, 743...</td>\n",
       "      <td>[261.0, 243.0, 232.0, 224.0, 224.0, 229.0, 245...</td>\n",
       "      <td>1.500</td>\n",
       "      <td>1</td>\n",
       "      <td>[-0.43, -0.37, -0.19, 0.0, 0.27, 0.57, 0.69, 0...</td>\n",
       "      <td>[0.43, 0.38, 0.35, 0.32, 0.31, 0.31, 0.32, 0.3...</td>\n",
       "      <td>[2.2615, 2.2644, 2.2887, 2.3887, 2.3952, 2.334...</td>\n",
       "      <td>[2.8594, 2.7485, 2.561, 2.6457, 2.8408, 2.8723...</td>\n",
       "      <td>[3.0834, 2.96, 2.9489, 2.8707, 2.8432, 3.022, ...</td>\n",
       "    </tr>\n",
       "    <tr>\n",
       "      <th>737</th>\n",
       "      <td>6</td>\n",
       "      <td>[449.0, 436.0, 425.0, 413.0, 400.0, 386.0, 371...</td>\n",
       "      <td>[283.0, 283.0, 283.0, 285.0, 289.0, 294.0, 302...</td>\n",
       "      <td>1.404</td>\n",
       "      <td>1</td>\n",
       "      <td>[3.14, 3.14, 2.98, 2.84, 2.8, 2.65, 2.48, 2.38...</td>\n",
       "      <td>[0.56, 0.58, 0.59, 0.6, 0.63, 0.65, 0.68, 0.72...</td>\n",
       "      <td>[2.6579, 2.6559, 2.7101, 2.7523, 2.7804, 2.746...</td>\n",
       "      <td>[2.9061, 2.9066, 2.9557, 2.8833, 2.8364, 2.936...</td>\n",
       "      <td>[3.1416, 2.9764, 3.0082, 3.0971, 2.9946, 2.965...</td>\n",
       "    </tr>\n",
       "    <tr>\n",
       "      <th>422</th>\n",
       "      <td>6</td>\n",
       "      <td>[829.0, 734.0, 574.0, 501.0, 461.0, 455.0, 478...</td>\n",
       "      <td>[40.0, 52.0, 163.0, 264.0, 362.0, 460.0, 526.0...</td>\n",
       "      <td>1.694</td>\n",
       "      <td>1</td>\n",
       "      <td>[3.02, 2.54, 2.2, 1.96, 1.63, 1.24, 0.78, 0.32...</td>\n",
       "      <td>[0.05, 0.07, 0.28, 0.48, 0.67, 0.79, 0.83, 0.8...</td>\n",
       "      <td>[1.7451, 1.4756, 1.4242, 1.4485, 1.5591, 1.650...</td>\n",
       "      <td>[2.5367, 2.5396, 2.5219, 2.316, 2.2465, 2.2655...</td>\n",
       "      <td>[2.6607, 2.8032, 2.9033, 2.8152, 2.7451, 2.683...</td>\n",
       "    </tr>\n",
       "    <tr>\n",
       "      <th>...</th>\n",
       "      <td>...</td>\n",
       "      <td>...</td>\n",
       "      <td>...</td>\n",
       "      <td>...</td>\n",
       "      <td>...</td>\n",
       "      <td>...</td>\n",
       "      <td>...</td>\n",
       "      <td>...</td>\n",
       "      <td>...</td>\n",
       "      <td>...</td>\n",
       "    </tr>\n",
       "    <tr>\n",
       "      <th>211</th>\n",
       "      <td>2</td>\n",
       "      <td>[607.0, 609.0, 632.0, 715.0, 732.0, 752.0, 777...</td>\n",
       "      <td>[135.0, 128.0, 118.0, 118.0, 124.0, 133.0, 146...</td>\n",
       "      <td>0.624</td>\n",
       "      <td>1</td>\n",
       "      <td>[-1.29, -0.41, 0.0, 0.34, 0.42, 0.48, 0.7, 1.0...</td>\n",
       "      <td>[0.22, 0.21, 0.18, 0.16, 0.17, 0.18, 0.19, 0.2...</td>\n",
       "      <td>[2.4081, 2.3651, 2.1882, 2.1855, 2.0971, 2.140...</td>\n",
       "      <td>[2.4845, 2.6624, 2.7468, 2.944, 2.7291, 2.534,...</td>\n",
       "      <td>[2.2592, 2.7315, 2.8023, 3.058, 3.0848, 2.9212...</td>\n",
       "    </tr>\n",
       "    <tr>\n",
       "      <th>691</th>\n",
       "      <td>9</td>\n",
       "      <td>[892.0, 881.0, 860.0, 831.0, 792.0, 748.0, 703...</td>\n",
       "      <td>[198.0, 177.0, 156.0, 137.0, 121.0, 111.0, 107...</td>\n",
       "      <td>1.163</td>\n",
       "      <td>1</td>\n",
       "      <td>[-2.05, -2.36, -2.56, -2.75, -2.92, -3.05, 3.0...</td>\n",
       "      <td>[0.22, 0.2, 0.18, 0.16, 0.15, 0.15, 0.15, 0.17...</td>\n",
       "      <td>[2.4797, 2.5158, 2.5102, 2.4969, 2.5189, 2.512...</td>\n",
       "      <td>[2.6972, 2.7704, 2.8223, 2.8492, 2.8148, 2.791...</td>\n",
       "      <td>[2.8387, 2.9362, 2.9509, 2.9758, 3.0068, 2.984...</td>\n",
       "    </tr>\n",
       "    <tr>\n",
       "      <th>81</th>\n",
       "      <td>1</td>\n",
       "      <td>[791.0, 789.0, 787.0, 786.0, 784.0, 781.0, 777...</td>\n",
       "      <td>[74.0, 127.0, 166.0, 188.0, 235.0, 286.0, 339....</td>\n",
       "      <td>3.047</td>\n",
       "      <td>1</td>\n",
       "      <td>[1.61, 1.62, 1.62, 1.61, 1.63, 1.65, 1.65, 1.6...</td>\n",
       "      <td>[0.09, 0.16, 0.21, 0.23, 0.29, 0.35, 0.41, 0.4...</td>\n",
       "      <td>[3.1039, 3.0947, 3.0819, 3.0712, 3.0836, 3.105...</td>\n",
       "      <td>[3.1416, 3.1416, 3.1179, 3.1171, 3.114, 3.0962...</td>\n",
       "      <td>[3.1282, 3.1353, 3.1416, 3.1255, 3.1249, 3.141...</td>\n",
       "    </tr>\n",
       "    <tr>\n",
       "      <th>768</th>\n",
       "      <td>7</td>\n",
       "      <td>[547.0, 566.0, 584.0, 605.0, 627.0, 650.0, 673...</td>\n",
       "      <td>[161.0, 154.0, 148.0, 143.0, 138.0, 133.0, 129...</td>\n",
       "      <td>0.998</td>\n",
       "      <td>1</td>\n",
       "      <td>[-0.35, -0.32, -0.23, -0.22, -0.21, -0.17, -0....</td>\n",
       "      <td>[0.29, 0.27, 0.25, 0.23, 0.22, 0.2, 0.19, 0.18...</td>\n",
       "      <td>[3.0233, 3.0417, 3.0716, 3.0936, 3.1179, 3.122...</td>\n",
       "      <td>[3.0322, 3.0854, 3.1064, 3.0739, 3.078, 3.1289...</td>\n",
       "      <td>[3.1103, 3.0536, 3.1316, 3.1326, 3.0996, 3.099...</td>\n",
       "    </tr>\n",
       "    <tr>\n",
       "      <th>626</th>\n",
       "      <td>6</td>\n",
       "      <td>[970.0, 857.0, 816.0, 771.0, 702.0, 655.0, 584...</td>\n",
       "      <td>[123.0, 147.0, 163.0, 183.0, 221.0, 252.0, 305...</td>\n",
       "      <td>1.308</td>\n",
       "      <td>1</td>\n",
       "      <td>[2.93, 2.77, 2.72, 2.64, 2.56, 2.5, 2.39, 2.29...</td>\n",
       "      <td>[0.13, 0.17, 0.2, 0.23, 0.3, 0.37, 0.48, 0.57,...</td>\n",
       "      <td>[2.7959, 2.8224, 2.7564, 2.6944, 2.6066, 2.516...</td>\n",
       "      <td>[2.9251, 3.0014, 2.9936, 2.9949, 2.962, 2.8928...</td>\n",
       "      <td>[2.9788, 3.0953, 3.0564, 3.0619, 3.0834, 3.034...</td>\n",
       "    </tr>\n",
       "  </tbody>\n",
       "</table>\n",
       "<p>175 rows × 10 columns</p>\n",
       "</div>"
      ],
      "text/plain": [
       "    label                                                  x  \\\n",
       "795     1  [675.0, 670.0, 670.0, 670.0, 670.0, 670.0, 667...   \n",
       "319     8  [533.0, 592.0, 688.0, 759.0, 822.0, 868.0, 892...   \n",
       "382     2  [570.0, 609.0, 637.0, 678.0, 700.0, 718.0, 743...   \n",
       "737     6  [449.0, 436.0, 425.0, 413.0, 400.0, 386.0, 371...   \n",
       "422     6  [829.0, 734.0, 574.0, 501.0, 461.0, 455.0, 478...   \n",
       "..    ...                                                ...   \n",
       "211     2  [607.0, 609.0, 632.0, 715.0, 732.0, 752.0, 777...   \n",
       "691     9  [892.0, 881.0, 860.0, 831.0, 792.0, 748.0, 703...   \n",
       "81      1  [791.0, 789.0, 787.0, 786.0, 784.0, 781.0, 777...   \n",
       "768     7  [547.0, 566.0, 584.0, 605.0, 627.0, 650.0, 673...   \n",
       "626     6  [970.0, 857.0, 816.0, 771.0, 702.0, 655.0, 584...   \n",
       "\n",
       "                                                     y  speed strokes  \\\n",
       "795  [127.0, 121.0, 118.0, 114.0, 113.0, 116.0, 126...  1.422       1   \n",
       "319  [234.0, 222.0, 221.0, 229.0, 243.0, 263.0, 300...  1.391       1   \n",
       "382  [261.0, 243.0, 232.0, 224.0, 224.0, 229.0, 245...  1.500       1   \n",
       "737  [283.0, 283.0, 283.0, 285.0, 289.0, 294.0, 302...  1.404       1   \n",
       "422  [40.0, 52.0, 163.0, 264.0, 362.0, 460.0, 526.0...  1.694       1   \n",
       "..                                                 ...    ...     ...   \n",
       "211  [135.0, 128.0, 118.0, 118.0, 124.0, 133.0, 146...  0.624       1   \n",
       "691  [198.0, 177.0, 156.0, 137.0, 121.0, 111.0, 107...  1.163       1   \n",
       "81   [74.0, 127.0, 166.0, 188.0, 235.0, 286.0, 339....  3.047       1   \n",
       "768  [161.0, 154.0, 148.0, 143.0, 138.0, 133.0, 129...  0.998       1   \n",
       "626  [123.0, 147.0, 163.0, 183.0, 221.0, 252.0, 305...  1.308       1   \n",
       "\n",
       "                                             arctan2_2  \\\n",
       "795  [-2.27, -1.57, -1.57, -1.57, 1.57, 1.86, 1.57,...   \n",
       "319  [-0.2, -0.01, 0.11, 0.22, 0.41, 1.0, 2.12, 2.5...   \n",
       "382  [-0.43, -0.37, -0.19, 0.0, 0.27, 0.57, 0.69, 0...   \n",
       "737  [3.14, 3.14, 2.98, 2.84, 2.8, 2.65, 2.48, 2.38...   \n",
       "422  [3.02, 2.54, 2.2, 1.96, 1.63, 1.24, 0.78, 0.32...   \n",
       "..                                                 ...   \n",
       "211  [-1.29, -0.41, 0.0, 0.34, 0.42, 0.48, 0.7, 1.0...   \n",
       "691  [-2.05, -2.36, -2.56, -2.75, -2.92, -3.05, 3.0...   \n",
       "81   [1.61, 1.62, 1.62, 1.61, 1.63, 1.65, 1.65, 1.6...   \n",
       "768  [-0.35, -0.32, -0.23, -0.22, -0.21, -0.17, -0....   \n",
       "626  [2.93, 2.77, 2.72, 2.64, 2.56, 2.5, 2.39, 2.29...   \n",
       "\n",
       "                                              arctan_1  \\\n",
       "795  [0.19, 0.18, 0.17, 0.17, 0.17, 0.17, 0.19, 0.2...   \n",
       "319  [0.41, 0.36, 0.31, 0.29, 0.29, 0.29, 0.32, 0.3...   \n",
       "382  [0.43, 0.38, 0.35, 0.32, 0.31, 0.31, 0.32, 0.3...   \n",
       "737  [0.56, 0.58, 0.59, 0.6, 0.63, 0.65, 0.68, 0.72...   \n",
       "422  [0.05, 0.07, 0.28, 0.48, 0.67, 0.79, 0.83, 0.8...   \n",
       "..                                                 ...   \n",
       "211  [0.22, 0.21, 0.18, 0.16, 0.17, 0.18, 0.19, 0.2...   \n",
       "691  [0.22, 0.2, 0.18, 0.16, 0.15, 0.15, 0.15, 0.17...   \n",
       "81   [0.09, 0.16, 0.21, 0.23, 0.29, 0.35, 0.41, 0.4...   \n",
       "768  [0.29, 0.27, 0.25, 0.23, 0.22, 0.2, 0.19, 0.18...   \n",
       "626  [0.13, 0.17, 0.2, 0.23, 0.3, 0.37, 0.48, 0.57,...   \n",
       "\n",
       "                                           curvature_4  \\\n",
       "795  [0.3838, 0.0184, 2.7449, 2.985, 3.0803, 3.1159...   \n",
       "319  [1.7165, 0.9979, 0.935, 1.2046, 1.9876, 3.0217...   \n",
       "382  [2.2615, 2.2644, 2.2887, 2.3887, 2.3952, 2.334...   \n",
       "737  [2.6579, 2.6559, 2.7101, 2.7523, 2.7804, 2.746...   \n",
       "422  [1.7451, 1.4756, 1.4242, 1.4485, 1.5591, 1.650...   \n",
       "..                                                 ...   \n",
       "211  [2.4081, 2.3651, 2.1882, 2.1855, 2.0971, 2.140...   \n",
       "691  [2.4797, 2.5158, 2.5102, 2.4969, 2.5189, 2.512...   \n",
       "81   [3.1039, 3.0947, 3.0819, 3.0712, 3.0836, 3.105...   \n",
       "768  [3.0233, 3.0417, 3.0716, 3.0936, 3.1179, 3.122...   \n",
       "626  [2.7959, 2.8224, 2.7564, 2.6944, 2.6066, 2.516...   \n",
       "\n",
       "                                           curvature_2  \\\n",
       "795  [2.6345, 0.0, 0.2268, 3.0061, 2.887, 2.9455, 3...   \n",
       "319  [2.8952, 2.8811, 2.6209, 1.9995, 1.4599, 1.973...   \n",
       "382  [2.8594, 2.7485, 2.561, 2.6457, 2.8408, 2.8723...   \n",
       "737  [2.9061, 2.9066, 2.9557, 2.8833, 2.8364, 2.936...   \n",
       "422  [2.5367, 2.5396, 2.5219, 2.316, 2.2465, 2.2655...   \n",
       "..                                                 ...   \n",
       "211  [2.4845, 2.6624, 2.7468, 2.944, 2.7291, 2.534,...   \n",
       "691  [2.6972, 2.7704, 2.8223, 2.8492, 2.8148, 2.791...   \n",
       "81   [3.1416, 3.1416, 3.1179, 3.1171, 3.114, 3.0962...   \n",
       "768  [3.0322, 3.0854, 3.1064, 3.0739, 3.078, 3.1289...   \n",
       "626  [2.9251, 3.0014, 2.9936, 2.9949, 2.962, 2.8928...   \n",
       "\n",
       "                                           curvature_1  \n",
       "795  [2.4469, 3.1416, 3.1416, 0.0, 2.8501, 2.8501, ...  \n",
       "319  [2.9514, 3.019, 3.0351, 2.9501, 2.5564, 2.0145...  \n",
       "382  [3.0834, 2.96, 2.9489, 2.8707, 2.8432, 3.022, ...  \n",
       "737  [3.1416, 2.9764, 3.0082, 3.0971, 2.9946, 2.965...  \n",
       "422  [2.6607, 2.8032, 2.9033, 2.8152, 2.7451, 2.683...  \n",
       "..                                                 ...  \n",
       "211  [2.2592, 2.7315, 2.8023, 3.058, 3.0848, 2.9212...  \n",
       "691  [2.8387, 2.9362, 2.9509, 2.9758, 3.0068, 2.984...  \n",
       "81   [3.1282, 3.1353, 3.1416, 3.1255, 3.1249, 3.141...  \n",
       "768  [3.1103, 3.0536, 3.1316, 3.1326, 3.0996, 3.099...  \n",
       "626  [2.9788, 3.0953, 3.0564, 3.0619, 3.0834, 3.034...  \n",
       "\n",
       "[175 rows x 10 columns]"
      ]
     },
     "execution_count": 12,
     "metadata": {},
     "output_type": "execute_result"
    }
   ],
   "source": [
    "test"
   ]
  },
  {
   "cell_type": "code",
   "execution_count": null,
   "metadata": {},
   "outputs": [],
   "source": []
  },
  {
   "cell_type": "code",
   "execution_count": 13,
   "metadata": {},
   "outputs": [],
   "source": [
    "predicted_test = test.copy()\n",
    "\n",
    "feature_1= 'x'\n",
    "feature_2='y'\n",
    "\n",
    "models = []\n",
    "for n_class in classes: # Can be thrown an expection beacuse this is the labels of the test set and not of the models (train set)\n",
    "    model = pickle.load(open('models_1_2/'+str(n_class)+'hmm_model.pkl', 'rb'))\n",
    "    models.append(model)\n",
    "\n",
    "#log_likelihoods = pd.DataFrame()\n",
    "#log_likelihoods['predicted_class'] = classes\n",
    "#log_like_max = []\n",
    "#top_3_loglikelihood = []\n",
    "#top_3_predicted_classes = []\n",
    "predicted_class = []\n",
    "#is_predicted = []\n",
    "true_label=[]\n",
    "\n",
    "for i in range(len(test)):\n",
    "    angle_1 = test[feature_1].iloc[i]\n",
    "    angle_2 = test[feature_2].iloc[i]\n",
    "    X=np.array([angle_1,angle_2]).T\n",
    "    true_label.append(test['label'].iloc[i])\n",
    "    list_log_likelihoods = []\n",
    "    for model in models:\n",
    "        \n",
    "        list_log_likelihoods.append(model.score(X,lengths=len(X)))\n",
    "        pass\n",
    "\n",
    "    predicted_class.append(np.argmax(list_log_likelihoods))\n",
    "    \n",
    "# model_0.score_samples(angles_0)"
   ]
  },
  {
   "cell_type": "code",
   "execution_count": 14,
   "metadata": {},
   "outputs": [
    {
     "name": "stdout",
     "output_type": "stream",
     "text": [
      "[1, 7, 3, 5, 5, 4, 1, 7, 2, 8, 5, 1, 5, 2, 0, 8, 0, 3, 8, 5, 1, 6, 5, 0, 7, 0, 3, 7, 3, 8, 3, 5, 7, 7, 4, 4, 5, 1, 7, 1, 5, 0, 5, 5, 3, 6, 3, 2, 7, 3, 2, 3, 7, 2, 2, 2, 5, 8, 8, 8, 4, 8, 0, 5, 8, 5, 6, 6, 0, 3, 8, 0, 0, 7, 7, 3, 3, 4, 0, 4, 3, 5, 0, 7, 7, 3, 8, 2, 0, 4, 0, 7, 1, 2, 0, 5, 6, 6, 0, 7, 1, 7, 7, 0, 0, 0, 3, 0, 2, 6, 5, 4, 5, 2, 4, 2, 6, 7, 8, 3, 1, 8, 1, 1, 6, 0, 6, 1, 6, 6, 6, 8, 8, 0, 5, 6, 3, 2, 3, 8, 7, 7, 5, 2, 5, 2, 5, 3, 4, 2, 3, 6, 0, 1, 6, 0, 0, 0, 6, 4, 8, 5, 3, 7, 3, 8, 2, 5, 3, 8, 2, 8, 1, 8, 5]\n",
      "[1, 8, 2, 6, 6, 5, 1, 8, 6, 9, 8, 1, 2, 2, 0, 9, 0, 3, 9, 1, 5, 7, 6, 0, 8, 5, 3, 7, 3, 9, 3, 6, 3, 8, 3, 8, 8, 9, 0, 1, 6, 8, 6, 6, 5, 7, 3, 2, 8, 3, 2, 3, 8, 2, 2, 2, 6, 7, 7, 9, 5, 6, 8, 6, 3, 6, 7, 7, 0, 3, 9, 0, 0, 2, 0, 2, 3, 1, 1, 5, 3, 6, 0, 8, 8, 7, 9, 2, 9, 5, 9, 8, 1, 2, 0, 6, 7, 7, 9, 8, 7, 8, 8, 0, 9, 0, 3, 0, 2, 9, 6, 3, 6, 2, 5, 2, 7, 0, 9, 2, 3, 9, 6, 1, 7, 0, 7, 1, 9, 7, 7, 9, 9, 0, 5, 7, 3, 2, 3, 2, 2, 9, 6, 2, 6, 2, 0, 2, 1, 2, 3, 9, 0, 7, 9, 0, 0, 0, 9, 6, 8, 6, 3, 8, 3, 2, 2, 9, 3, 3, 2, 9, 1, 7, 6]\n",
      "175\n",
      "175\n"
     ]
    }
   ],
   "source": [
    "print(predicted_class)\n",
    "print(true_label)\n",
    "\n",
    "print(len(predicted_class))\n",
    "print(len(true_label))"
   ]
  },
  {
   "cell_type": "code",
   "execution_count": 15,
   "metadata": {},
   "outputs": [],
   "source": [
    "from sklearn.metrics.cluster import contingency_matrix \n"
   ]
  },
  {
   "cell_type": "code",
   "execution_count": 16,
   "metadata": {},
   "outputs": [],
   "source": [
    "matrix=contingency_matrix(true_label, predicted_class)"
   ]
  },
  {
   "cell_type": "code",
   "execution_count": 17,
   "metadata": {},
   "outputs": [
    {
     "data": {
      "text/plain": [
       "array([[17,  0,  0,  0,  0,  1,  0,  3,  0],\n",
       "       [ 1,  8,  0,  0,  2,  1,  0,  0,  0],\n",
       "       [ 0,  0, 17,  4,  0,  1,  0,  2,  2],\n",
       "       [ 0,  1,  0, 17,  2,  0,  0,  1,  2],\n",
       "       [ 1,  1,  0,  1,  5,  1,  0,  0,  0],\n",
       "       [ 0,  1,  1,  0,  1, 18,  0,  0,  1],\n",
       "       [ 0,  2,  0,  1,  0,  0, 12,  1,  3],\n",
       "       [ 2,  0,  0,  0,  1,  2,  0, 13,  1],\n",
       "       [ 4,  1,  0,  0,  0,  1,  5,  1, 12]])"
      ]
     },
     "execution_count": 17,
     "metadata": {},
     "output_type": "execute_result"
    }
   ],
   "source": [
    "matrix"
   ]
  },
  {
   "cell_type": "code",
   "execution_count": 18,
   "metadata": {},
   "outputs": [
    {
     "name": "stdout",
     "output_type": "stream",
     "text": [
      "Accuracy:  0.68\n"
     ]
    }
   ],
   "source": [
    "accuracy=np.sum(np.diag(matrix))/np.sum(matrix)\n",
    "print(\"Accuracy: \", accuracy)"
   ]
  },
  {
   "cell_type": "code",
   "execution_count": 71,
   "metadata": {
    "collapsed": true,
    "jupyter": {
     "outputs_hidden": true
    },
    "tags": []
   },
   "outputs": [
    {
     "ename": "KeyError",
     "evalue": "'top_3_predicted'",
     "output_type": "error",
     "traceback": [
      "\u001b[0;31m---------------------------------------------------------------------------\u001b[0m",
      "\u001b[0;31mKeyError\u001b[0m                                  Traceback (most recent call last)",
      "File \u001b[0;32m/opt/anaconda3/envs/tutor2022/lib/python3.9/site-packages/pandas/core/indexes/base.py:3621\u001b[0m, in \u001b[0;36mIndex.get_loc\u001b[0;34m(self, key, method, tolerance)\u001b[0m\n\u001b[1;32m   3620\u001b[0m \u001b[38;5;28;01mtry\u001b[39;00m:\n\u001b[0;32m-> 3621\u001b[0m     \u001b[38;5;28;01mreturn\u001b[39;00m \u001b[38;5;28;43mself\u001b[39;49m\u001b[38;5;241;43m.\u001b[39;49m\u001b[43m_engine\u001b[49m\u001b[38;5;241;43m.\u001b[39;49m\u001b[43mget_loc\u001b[49m\u001b[43m(\u001b[49m\u001b[43mcasted_key\u001b[49m\u001b[43m)\u001b[49m\n\u001b[1;32m   3622\u001b[0m \u001b[38;5;28;01mexcept\u001b[39;00m \u001b[38;5;167;01mKeyError\u001b[39;00m \u001b[38;5;28;01mas\u001b[39;00m err:\n",
      "File \u001b[0;32mpandas/_libs/index.pyx:136\u001b[0m, in \u001b[0;36mpandas._libs.index.IndexEngine.get_loc\u001b[0;34m()\u001b[0m\n",
      "File \u001b[0;32mpandas/_libs/index.pyx:163\u001b[0m, in \u001b[0;36mpandas._libs.index.IndexEngine.get_loc\u001b[0;34m()\u001b[0m\n",
      "File \u001b[0;32mpandas/_libs/hashtable_class_helper.pxi:5198\u001b[0m, in \u001b[0;36mpandas._libs.hashtable.PyObjectHashTable.get_item\u001b[0;34m()\u001b[0m\n",
      "File \u001b[0;32mpandas/_libs/hashtable_class_helper.pxi:5206\u001b[0m, in \u001b[0;36mpandas._libs.hashtable.PyObjectHashTable.get_item\u001b[0;34m()\u001b[0m\n",
      "\u001b[0;31mKeyError\u001b[0m: 'top_3_predicted'",
      "\nThe above exception was the direct cause of the following exception:\n",
      "\u001b[0;31mKeyError\u001b[0m                                  Traceback (most recent call last)",
      "Input \u001b[0;32mIn [71]\u001b[0m, in \u001b[0;36m<cell line: 3>\u001b[0;34m()\u001b[0m\n\u001b[1;32m      2\u001b[0m sum_top_3 \u001b[38;5;241m=\u001b[39m \u001b[38;5;241m0\u001b[39m\n\u001b[1;32m      3\u001b[0m \u001b[38;5;28;01mfor\u001b[39;00m idx, row \u001b[38;5;129;01min\u001b[39;00m predicted_test\u001b[38;5;241m.\u001b[39miterrows():\n\u001b[0;32m----> 4\u001b[0m     \u001b[38;5;28;01mfor\u001b[39;00m three_likelihood \u001b[38;5;129;01min\u001b[39;00m \u001b[43mrow\u001b[49m\u001b[43m[\u001b[49m\u001b[38;5;124;43m\"\u001b[39;49m\u001b[38;5;124;43mtop_3_predicted\u001b[39;49m\u001b[38;5;124;43m\"\u001b[39;49m\u001b[43m]\u001b[49m:\n\u001b[1;32m      5\u001b[0m         \u001b[38;5;28;01mif\u001b[39;00m(row[\u001b[38;5;124m\"\u001b[39m\u001b[38;5;124mlabel\u001b[39m\u001b[38;5;124m\"\u001b[39m] \u001b[38;5;241m==\u001b[39m three_likelihood):\n\u001b[1;32m      6\u001b[0m             sum_top_3 \u001b[38;5;241m+\u001b[39m\u001b[38;5;241m=\u001b[39m \u001b[38;5;241m1\u001b[39m\n",
      "File \u001b[0;32m/opt/anaconda3/envs/tutor2022/lib/python3.9/site-packages/pandas/core/series.py:958\u001b[0m, in \u001b[0;36mSeries.__getitem__\u001b[0;34m(self, key)\u001b[0m\n\u001b[1;32m    955\u001b[0m     \u001b[38;5;28;01mreturn\u001b[39;00m \u001b[38;5;28mself\u001b[39m\u001b[38;5;241m.\u001b[39m_values[key]\n\u001b[1;32m    957\u001b[0m \u001b[38;5;28;01melif\u001b[39;00m key_is_scalar:\n\u001b[0;32m--> 958\u001b[0m     \u001b[38;5;28;01mreturn\u001b[39;00m \u001b[38;5;28;43mself\u001b[39;49m\u001b[38;5;241;43m.\u001b[39;49m\u001b[43m_get_value\u001b[49m\u001b[43m(\u001b[49m\u001b[43mkey\u001b[49m\u001b[43m)\u001b[49m\n\u001b[1;32m    960\u001b[0m \u001b[38;5;28;01mif\u001b[39;00m is_hashable(key):\n\u001b[1;32m    961\u001b[0m     \u001b[38;5;66;03m# Otherwise index.get_value will raise InvalidIndexError\u001b[39;00m\n\u001b[1;32m    962\u001b[0m     \u001b[38;5;28;01mtry\u001b[39;00m:\n\u001b[1;32m    963\u001b[0m         \u001b[38;5;66;03m# For labels that don't resolve as scalars like tuples and frozensets\u001b[39;00m\n",
      "File \u001b[0;32m/opt/anaconda3/envs/tutor2022/lib/python3.9/site-packages/pandas/core/series.py:1069\u001b[0m, in \u001b[0;36mSeries._get_value\u001b[0;34m(self, label, takeable)\u001b[0m\n\u001b[1;32m   1066\u001b[0m     \u001b[38;5;28;01mreturn\u001b[39;00m \u001b[38;5;28mself\u001b[39m\u001b[38;5;241m.\u001b[39m_values[label]\n\u001b[1;32m   1068\u001b[0m \u001b[38;5;66;03m# Similar to Index.get_value, but we do not fall back to positional\u001b[39;00m\n\u001b[0;32m-> 1069\u001b[0m loc \u001b[38;5;241m=\u001b[39m \u001b[38;5;28;43mself\u001b[39;49m\u001b[38;5;241;43m.\u001b[39;49m\u001b[43mindex\u001b[49m\u001b[38;5;241;43m.\u001b[39;49m\u001b[43mget_loc\u001b[49m\u001b[43m(\u001b[49m\u001b[43mlabel\u001b[49m\u001b[43m)\u001b[49m\n\u001b[1;32m   1070\u001b[0m \u001b[38;5;28;01mreturn\u001b[39;00m \u001b[38;5;28mself\u001b[39m\u001b[38;5;241m.\u001b[39mindex\u001b[38;5;241m.\u001b[39m_get_values_for_loc(\u001b[38;5;28mself\u001b[39m, loc, label)\n",
      "File \u001b[0;32m/opt/anaconda3/envs/tutor2022/lib/python3.9/site-packages/pandas/core/indexes/base.py:3623\u001b[0m, in \u001b[0;36mIndex.get_loc\u001b[0;34m(self, key, method, tolerance)\u001b[0m\n\u001b[1;32m   3621\u001b[0m     \u001b[38;5;28;01mreturn\u001b[39;00m \u001b[38;5;28mself\u001b[39m\u001b[38;5;241m.\u001b[39m_engine\u001b[38;5;241m.\u001b[39mget_loc(casted_key)\n\u001b[1;32m   3622\u001b[0m \u001b[38;5;28;01mexcept\u001b[39;00m \u001b[38;5;167;01mKeyError\u001b[39;00m \u001b[38;5;28;01mas\u001b[39;00m err:\n\u001b[0;32m-> 3623\u001b[0m     \u001b[38;5;28;01mraise\u001b[39;00m \u001b[38;5;167;01mKeyError\u001b[39;00m(key) \u001b[38;5;28;01mfrom\u001b[39;00m \u001b[38;5;21;01merr\u001b[39;00m\n\u001b[1;32m   3624\u001b[0m \u001b[38;5;28;01mexcept\u001b[39;00m \u001b[38;5;167;01mTypeError\u001b[39;00m:\n\u001b[1;32m   3625\u001b[0m     \u001b[38;5;66;03m# If we have a listlike key, _check_indexing_error will raise\u001b[39;00m\n\u001b[1;32m   3626\u001b[0m     \u001b[38;5;66;03m#  InvalidIndexError. Otherwise we fall through and re-raise\u001b[39;00m\n\u001b[1;32m   3627\u001b[0m     \u001b[38;5;66;03m#  the TypeError.\u001b[39;00m\n\u001b[1;32m   3628\u001b[0m     \u001b[38;5;28mself\u001b[39m\u001b[38;5;241m.\u001b[39m_check_indexing_error(key)\n",
      "\u001b[0;31mKeyError\u001b[0m: 'top_3_predicted'"
     ]
    }
   ],
   "source": [
    "# Calculate top 3 accuracy\n",
    "sum_top_3 = 0\n",
    "for idx, row in predicted_test.iterrows():\n",
    "    for three_likelihood in row[\"top_3_predicted\"]:\n",
    "        if(row[\"label\"] == three_likelihood):\n",
    "            sum_top_3 += 1\n",
    "            pass\n",
    "\n",
    "accuracy = sum(predicted_test[\"is_predicted\"])/len(predicted_test[\"is_predicted\"])\n",
    "print(\"Accuracy: \", accuracy)\n",
    "accuracy_top_3 = sum_top_3/len(predicted_test[\"label\"])\n",
    "print(\"Accuracy top 3: \", accuracy_top_3)"
   ]
  },
  {
   "cell_type": "code",
   "execution_count": null,
   "metadata": {},
   "outputs": [],
   "source": []
  },
  {
   "cell_type": "code",
   "execution_count": 6,
   "metadata": {
    "collapsed": true,
    "jupyter": {
     "outputs_hidden": true
    },
    "tags": []
   },
   "outputs": [
    {
     "ename": "ValueError",
     "evalue": "Expected 2D array, got 1D array instead:\narray=[GaussianHMM(n_components=6, n_iter=1000)].\nReshape your data either using array.reshape(-1, 1) if your data has a single feature or array.reshape(1, -1) if it contains a single sample.",
     "output_type": "error",
     "traceback": [
      "\u001b[0;31m---------------------------------------------------------------------------\u001b[0m",
      "\u001b[0;31mValueError\u001b[0m                                Traceback (most recent call last)",
      "Input \u001b[0;32mIn [6]\u001b[0m, in \u001b[0;36m<cell line: 6>\u001b[0;34m()\u001b[0m\n\u001b[1;32m      7\u001b[0m model \u001b[38;5;241m=\u001b[39m pickle\u001b[38;5;241m.\u001b[39mload(\u001b[38;5;28mopen\u001b[39m(\u001b[38;5;124m'\u001b[39m\u001b[38;5;124mmodels/\u001b[39m\u001b[38;5;124m'\u001b[39m\u001b[38;5;241m+\u001b[39m\u001b[38;5;28mstr\u001b[39m(n_class)\u001b[38;5;241m+\u001b[39m\u001b[38;5;124m'\u001b[39m\u001b[38;5;124mhmm_model.pkl\u001b[39m\u001b[38;5;124m'\u001b[39m, \u001b[38;5;124m'\u001b[39m\u001b[38;5;124mrb\u001b[39m\u001b[38;5;124m'\u001b[39m))\n\u001b[1;32m      8\u001b[0m models\u001b[38;5;241m.\u001b[39mappend(model)\n\u001b[0;32m---> 10\u001b[0m \u001b[38;5;28mprint\u001b[39m(\u001b[43mmodel\u001b[49m\u001b[38;5;241;43m.\u001b[39;49m\u001b[43mpredict\u001b[49m\u001b[43m(\u001b[49m\u001b[43mmodels\u001b[49m\u001b[43m)\u001b[49m)\n",
      "File \u001b[0;32m/opt/anaconda3/envs/tutor2022/lib/python3.9/site-packages/hmmlearn/base.py:393\u001b[0m, in \u001b[0;36mBaseHMM.predict\u001b[0;34m(self, X, lengths)\u001b[0m\n\u001b[1;32m    376\u001b[0m \u001b[38;5;28;01mdef\u001b[39;00m \u001b[38;5;21mpredict\u001b[39m(\u001b[38;5;28mself\u001b[39m, X, lengths\u001b[38;5;241m=\u001b[39m\u001b[38;5;28;01mNone\u001b[39;00m):\n\u001b[1;32m    377\u001b[0m     \u001b[38;5;124;03m\"\"\"\u001b[39;00m\n\u001b[1;32m    378\u001b[0m \u001b[38;5;124;03m    Find most likely state sequence corresponding to ``X``.\u001b[39;00m\n\u001b[1;32m    379\u001b[0m \n\u001b[0;32m   (...)\u001b[0m\n\u001b[1;32m    391\u001b[0m \u001b[38;5;124;03m        Labels for each sample from ``X``.\u001b[39;00m\n\u001b[1;32m    392\u001b[0m \u001b[38;5;124;03m    \"\"\"\u001b[39;00m\n\u001b[0;32m--> 393\u001b[0m     _, state_sequence \u001b[38;5;241m=\u001b[39m \u001b[38;5;28;43mself\u001b[39;49m\u001b[38;5;241;43m.\u001b[39;49m\u001b[43mdecode\u001b[49m\u001b[43m(\u001b[49m\u001b[43mX\u001b[49m\u001b[43m,\u001b[49m\u001b[43m \u001b[49m\u001b[43mlengths\u001b[49m\u001b[43m)\u001b[49m\n\u001b[1;32m    394\u001b[0m     \u001b[38;5;28;01mreturn\u001b[39;00m state_sequence\n",
      "File \u001b[0;32m/opt/anaconda3/envs/tutor2022/lib/python3.9/site-packages/hmmlearn/base.py:365\u001b[0m, in \u001b[0;36mBaseHMM.decode\u001b[0;34m(self, X, lengths, algorithm)\u001b[0m\n\u001b[1;32m    358\u001b[0m     \u001b[38;5;28;01mraise\u001b[39;00m \u001b[38;5;167;01mValueError\u001b[39;00m(\u001b[38;5;124mf\u001b[39m\u001b[38;5;124m\"\u001b[39m\u001b[38;5;124mUnknown decoder \u001b[39m\u001b[38;5;132;01m{\u001b[39;00malgorithm\u001b[38;5;132;01m!r}\u001b[39;00m\u001b[38;5;124m\"\u001b[39m)\n\u001b[1;32m    360\u001b[0m decoder \u001b[38;5;241m=\u001b[39m {\n\u001b[1;32m    361\u001b[0m     \u001b[38;5;124m\"\u001b[39m\u001b[38;5;124mviterbi\u001b[39m\u001b[38;5;124m\"\u001b[39m: \u001b[38;5;28mself\u001b[39m\u001b[38;5;241m.\u001b[39m_decode_viterbi,\n\u001b[1;32m    362\u001b[0m     \u001b[38;5;124m\"\u001b[39m\u001b[38;5;124mmap\u001b[39m\u001b[38;5;124m\"\u001b[39m: \u001b[38;5;28mself\u001b[39m\u001b[38;5;241m.\u001b[39m_decode_map\n\u001b[1;32m    363\u001b[0m }[algorithm]\n\u001b[0;32m--> 365\u001b[0m X \u001b[38;5;241m=\u001b[39m \u001b[43mcheck_array\u001b[49m\u001b[43m(\u001b[49m\u001b[43mX\u001b[49m\u001b[43m)\u001b[49m\n\u001b[1;32m    366\u001b[0m log_prob \u001b[38;5;241m=\u001b[39m \u001b[38;5;241m0\u001b[39m\n\u001b[1;32m    367\u001b[0m sub_state_sequences \u001b[38;5;241m=\u001b[39m []\n",
      "File \u001b[0;32m/opt/anaconda3/envs/tutor2022/lib/python3.9/site-packages/sklearn/utils/validation.py:769\u001b[0m, in \u001b[0;36mcheck_array\u001b[0;34m(array, accept_sparse, accept_large_sparse, dtype, order, copy, force_all_finite, ensure_2d, allow_nd, ensure_min_samples, ensure_min_features, estimator)\u001b[0m\n\u001b[1;32m    767\u001b[0m     \u001b[38;5;66;03m# If input is 1D raise error\u001b[39;00m\n\u001b[1;32m    768\u001b[0m     \u001b[38;5;28;01mif\u001b[39;00m array\u001b[38;5;241m.\u001b[39mndim \u001b[38;5;241m==\u001b[39m \u001b[38;5;241m1\u001b[39m:\n\u001b[0;32m--> 769\u001b[0m         \u001b[38;5;28;01mraise\u001b[39;00m \u001b[38;5;167;01mValueError\u001b[39;00m(\n\u001b[1;32m    770\u001b[0m             \u001b[38;5;124m\"\u001b[39m\u001b[38;5;124mExpected 2D array, got 1D array instead:\u001b[39m\u001b[38;5;130;01m\\n\u001b[39;00m\u001b[38;5;124marray=\u001b[39m\u001b[38;5;132;01m{}\u001b[39;00m\u001b[38;5;124m.\u001b[39m\u001b[38;5;130;01m\\n\u001b[39;00m\u001b[38;5;124m\"\u001b[39m\n\u001b[1;32m    771\u001b[0m             \u001b[38;5;124m\"\u001b[39m\u001b[38;5;124mReshape your data either using array.reshape(-1, 1) if \u001b[39m\u001b[38;5;124m\"\u001b[39m\n\u001b[1;32m    772\u001b[0m             \u001b[38;5;124m\"\u001b[39m\u001b[38;5;124myour data has a single feature or array.reshape(1, -1) \u001b[39m\u001b[38;5;124m\"\u001b[39m\n\u001b[1;32m    773\u001b[0m             \u001b[38;5;124m\"\u001b[39m\u001b[38;5;124mif it contains a single sample.\u001b[39m\u001b[38;5;124m\"\u001b[39m\u001b[38;5;241m.\u001b[39mformat(array)\n\u001b[1;32m    774\u001b[0m         )\n\u001b[1;32m    776\u001b[0m \u001b[38;5;66;03m# make sure we actually converted to numeric:\u001b[39;00m\n\u001b[1;32m    777\u001b[0m \u001b[38;5;28;01mif\u001b[39;00m dtype_numeric \u001b[38;5;129;01mand\u001b[39;00m array\u001b[38;5;241m.\u001b[39mdtype\u001b[38;5;241m.\u001b[39mkind \u001b[38;5;129;01min\u001b[39;00m \u001b[38;5;124m\"\u001b[39m\u001b[38;5;124mOUSV\u001b[39m\u001b[38;5;124m\"\u001b[39m:\n",
      "\u001b[0;31mValueError\u001b[0m: Expected 2D array, got 1D array instead:\narray=[GaussianHMM(n_components=6, n_iter=1000)].\nReshape your data either using array.reshape(-1, 1) if your data has a single feature or array.reshape(1, -1) if it contains a single sample."
     ]
    }
   ],
   "source": [
    "predicted_test = test.copy()\n",
    "\n",
    "feature = 'angles'\n",
    "\n",
    "models = []\n",
    "for n_class in classes: # Can be thrown an expection beacuse this is the labels of the test set and not of the models (train set)\n",
    "    model = pickle.load(open('models/'+str(n_class)+'hmm_model.pkl', 'rb'))\n",
    "    models.append(model)\n",
    "    \n",
    "    print(model.predict(models))\n",
    "    \n",
    "    \n",
    "    \n"
   ]
  },
  {
   "cell_type": "code",
   "execution_count": null,
   "metadata": {},
   "outputs": [],
   "source": []
  }
 ],
 "metadata": {
  "kernelspec": {
   "display_name": "Python 3 (ipykernel)",
   "language": "python",
   "name": "python3"
  },
  "language_info": {
   "codemirror_mode": {
    "name": "ipython",
    "version": 3
   },
   "file_extension": ".py",
   "mimetype": "text/x-python",
   "name": "python",
   "nbconvert_exporter": "python",
   "pygments_lexer": "ipython3",
   "version": "3.9.12"
  },
  "vscode": {
   "interpreter": {
    "hash": "8f162362b51a040b66da23130964be17c9a4290e709b2d7f75b268249f5b26fc"
   }
  }
 },
 "nbformat": 4,
 "nbformat_minor": 4
}
