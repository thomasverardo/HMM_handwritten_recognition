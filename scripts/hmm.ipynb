{
 "cells": [
  {
   "cell_type": "code",
   "execution_count": 8,
   "metadata": {},
   "outputs": [
    {
     "name": "stdout",
     "output_type": "stream",
     "text": [
      "(92, 8)\n"
     ]
    },
    {
     "data": {
      "text/html": [
       "<div>\n",
       "<style scoped>\n",
       "    .dataframe tbody tr th:only-of-type {\n",
       "        vertical-align: middle;\n",
       "    }\n",
       "\n",
       "    .dataframe tbody tr th {\n",
       "        vertical-align: top;\n",
       "    }\n",
       "\n",
       "    .dataframe thead th {\n",
       "        text-align: right;\n",
       "    }\n",
       "</style>\n",
       "<table border=\"1\" class=\"dataframe\">\n",
       "  <thead>\n",
       "    <tr style=\"text-align: right;\">\n",
       "      <th></th>\n",
       "      <th>label</th>\n",
       "      <th>x</th>\n",
       "      <th>y</th>\n",
       "      <th>speed</th>\n",
       "      <th>strokes</th>\n",
       "      <th>angles</th>\n",
       "      <th>angles_one</th>\n",
       "      <th>angles_tangent</th>\n",
       "    </tr>\n",
       "  </thead>\n",
       "  <tbody>\n",
       "    <tr>\n",
       "      <th>859</th>\n",
       "      <td>0</td>\n",
       "      <td>[763.0, 757.0, 752.0, 746.0, 737.0, 726.0, 706...</td>\n",
       "      <td>[248.0, 244.0, 242.0, 241.0, 240.0, 239.0, 239...</td>\n",
       "      <td>Infin</td>\n",
       "      <td>1</td>\n",
       "      <td>[-2.55, -2.76, -2.98, -3.03, -3.05, 3.14, 3.08...</td>\n",
       "      <td>[0.31, 0.31, 0.31, 0.31, 0.31, 0.32, 0.33, 0.3...</td>\n",
       "      <td>[2.8108, 2.8937, 2.9134, 2.9364, 2.9341, 2.943...</td>\n",
       "    </tr>\n",
       "    <tr>\n",
       "      <th>155</th>\n",
       "      <td>0</td>\n",
       "      <td>[597.0, 565.0, 517.0, 489.0, 465.0, 446.0, 428...</td>\n",
       "      <td>[62.0, 69.0, 87.0, 103.0, 121.0, 143.0, 168.0,...</td>\n",
       "      <td>0.901</td>\n",
       "      <td>1</td>\n",
       "      <td>[2.93, 2.78, 2.62, 2.5, 2.28, 2.19, 2.12, 2.1,...</td>\n",
       "      <td>[0.1, 0.12, 0.17, 0.21, 0.25, 0.31, 0.37, 0.44...</td>\n",
       "      <td>[2.5902, 2.6557, 2.7416, 2.7398, 2.6514, 2.518...</td>\n",
       "    </tr>\n",
       "    <tr>\n",
       "      <th>212</th>\n",
       "      <td>0</td>\n",
       "      <td>[808.0, 774.0, 746.0, 730.0, 675.0, 636.0, 597...</td>\n",
       "      <td>[148.0, 138.0, 136.0, 136.0, 144.0, 156.0, 174...</td>\n",
       "      <td>1.560</td>\n",
       "      <td>1</td>\n",
       "      <td>[-2.86, -3.07, 3.14, 3.0, 2.84, 2.71, 2.58, 2....</td>\n",
       "      <td>[0.18, 0.18, 0.18, 0.18, 0.21, 0.24, 0.28, 0.3...</td>\n",
       "      <td>[2.6089, 2.6653, 2.5981, 2.5895, 2.5925, 2.596...</td>\n",
       "    </tr>\n",
       "    <tr>\n",
       "      <th>434</th>\n",
       "      <td>0</td>\n",
       "      <td>[1004.0, 1006.0, 788.0, 697.0, 599.0, 508.0, 4...</td>\n",
       "      <td>[175.0, 98.0, 84.0, 111.0, 172.0, 257.0, 346.0...</td>\n",
       "      <td>1.333</td>\n",
       "      <td>1</td>\n",
       "      <td>[-1.54, -3.08, 2.85, 2.58, 2.39, 2.08, 1.65, 1...</td>\n",
       "      <td>[0.17, 0.1, 0.11, 0.16, 0.28, 0.47, 0.65, 0.74...</td>\n",
       "      <td>[1.9391, 1.82, 1.7335, 1.6809, 1.6434, 1.7803,...</td>\n",
       "    </tr>\n",
       "    <tr>\n",
       "      <th>678</th>\n",
       "      <td>0</td>\n",
       "      <td>[834.0, 795.0, 788.0, 750.0, 647.0, 642.0, 652...</td>\n",
       "      <td>[184.0, 154.0, 156.0, 178.0, 430.0, 506.0, 574...</td>\n",
       "      <td>1.666</td>\n",
       "      <td>1</td>\n",
       "      <td>[-2.49, 2.86, 2.62, 1.96, 1.64, 1.42, 1.01, 0....</td>\n",
       "      <td>[0.22, 0.19, 0.2, 0.23, 0.59, 0.67, 0.72, 0.74...</td>\n",
       "      <td>[2.184, 2.0892, 1.6878, 1.4253, 1.5468, 1.5767...</td>\n",
       "    </tr>\n",
       "    <tr>\n",
       "      <th>...</th>\n",
       "      <td>...</td>\n",
       "      <td>...</td>\n",
       "      <td>...</td>\n",
       "      <td>...</td>\n",
       "      <td>...</td>\n",
       "      <td>...</td>\n",
       "      <td>...</td>\n",
       "      <td>...</td>\n",
       "    </tr>\n",
       "    <tr>\n",
       "      <th>562</th>\n",
       "      <td>0</td>\n",
       "      <td>[499.0, 491.0, 487.0, 484.0, 482.0, 482.0, 485...</td>\n",
       "      <td>[419.0, 439.0, 454.0, 470.0, 487.0, 505.0, 522...</td>\n",
       "      <td>1.391</td>\n",
       "      <td>1</td>\n",
       "      <td>[1.95, 1.83, 1.76, 1.69, 1.57, 1.4, 1.25, 1.13...</td>\n",
       "      <td>[0.7, 0.73, 0.75, 0.77, 0.79, 0.81, 0.82, 0.83...</td>\n",
       "      <td>[2.6698, 2.6113, 2.5718, 2.542, 2.5094, 2.4518...</td>\n",
       "    </tr>\n",
       "    <tr>\n",
       "      <th>681</th>\n",
       "      <td>0</td>\n",
       "      <td>[670.0, 662.0, 647.0, 631.0, 614.0, 584.0, 573...</td>\n",
       "      <td>[155.0, 152.0, 151.0, 152.0, 157.0, 173.0, 181...</td>\n",
       "      <td>1.281</td>\n",
       "      <td>1</td>\n",
       "      <td>[-2.78, -3.08, 3.08, 2.86, 2.65, 2.51, 2.41, 2...</td>\n",
       "      <td>[0.23, 0.23, 0.23, 0.24, 0.25, 0.29, 0.31, 0.3...</td>\n",
       "      <td>[2.5533, 2.6659, 2.6587, 2.7239, 2.7044, 2.733...</td>\n",
       "    </tr>\n",
       "    <tr>\n",
       "      <th>510</th>\n",
       "      <td>0</td>\n",
       "      <td>[485.0, 451.0, 438.0, 394.0, 379.0, 351.0, 325...</td>\n",
       "      <td>[121.0, 144.0, 155.0, 197.0, 214.0, 252.0, 295...</td>\n",
       "      <td>1.391</td>\n",
       "      <td>1</td>\n",
       "      <td>[2.55, 2.44, 2.38, 2.29, 2.21, 2.11, 1.98, 1.8...</td>\n",
       "      <td>[0.24, 0.31, 0.34, 0.46, 0.51, 0.62, 0.74, 0.9...</td>\n",
       "      <td>[2.7722, 2.7608, 2.7052, 2.6229, 2.5526, 2.507...</td>\n",
       "    </tr>\n",
       "    <tr>\n",
       "      <th>747</th>\n",
       "      <td>0</td>\n",
       "      <td>[648.0, 637.0, 631.0, 628.0, 619.0, 615.0, 605...</td>\n",
       "      <td>[113.0, 121.0, 127.0, 130.0, 143.0, 148.0, 166...</td>\n",
       "      <td>0.546</td>\n",
       "      <td>1</td>\n",
       "      <td>[2.51, 2.36, 2.36, 2.18, 2.25, 2.08, 2.03, 2.1...</td>\n",
       "      <td>[0.17, 0.19, 0.2, 0.2, 0.23, 0.24, 0.27, 0.28,...</td>\n",
       "      <td>[2.926, 2.977, 3.0971, 3.1084, 3.0186, 3.0029,...</td>\n",
       "    </tr>\n",
       "    <tr>\n",
       "      <th>270</th>\n",
       "      <td>0</td>\n",
       "      <td>[792.0, 761.0, 733.0, 701.0, 667.0, 623.0, 571...</td>\n",
       "      <td>[198.0, 182.0, 175.0, 171.0, 170.0, 173.0, 182...</td>\n",
       "      <td>1.207</td>\n",
       "      <td>1</td>\n",
       "      <td>[-2.67, -2.9, -3.02, -3.11, 3.07, 2.97, 2.82, ...</td>\n",
       "      <td>[0.24, 0.23, 0.23, 0.24, 0.25, 0.27, 0.31, 0.3...</td>\n",
       "      <td>[2.6385, 2.6582, 2.5323, 2.3869, 2.2818, 2.215...</td>\n",
       "    </tr>\n",
       "  </tbody>\n",
       "</table>\n",
       "<p>92 rows × 8 columns</p>\n",
       "</div>"
      ],
      "text/plain": [
       "    label                                                  x  \\\n",
       "859     0  [763.0, 757.0, 752.0, 746.0, 737.0, 726.0, 706...   \n",
       "155     0  [597.0, 565.0, 517.0, 489.0, 465.0, 446.0, 428...   \n",
       "212     0  [808.0, 774.0, 746.0, 730.0, 675.0, 636.0, 597...   \n",
       "434     0  [1004.0, 1006.0, 788.0, 697.0, 599.0, 508.0, 4...   \n",
       "678     0  [834.0, 795.0, 788.0, 750.0, 647.0, 642.0, 652...   \n",
       "..    ...                                                ...   \n",
       "562     0  [499.0, 491.0, 487.0, 484.0, 482.0, 482.0, 485...   \n",
       "681     0  [670.0, 662.0, 647.0, 631.0, 614.0, 584.0, 573...   \n",
       "510     0  [485.0, 451.0, 438.0, 394.0, 379.0, 351.0, 325...   \n",
       "747     0  [648.0, 637.0, 631.0, 628.0, 619.0, 615.0, 605...   \n",
       "270     0  [792.0, 761.0, 733.0, 701.0, 667.0, 623.0, 571...   \n",
       "\n",
       "                                                     y  speed strokes  \\\n",
       "859  [248.0, 244.0, 242.0, 241.0, 240.0, 239.0, 239...  Infin       1   \n",
       "155  [62.0, 69.0, 87.0, 103.0, 121.0, 143.0, 168.0,...  0.901       1   \n",
       "212  [148.0, 138.0, 136.0, 136.0, 144.0, 156.0, 174...  1.560       1   \n",
       "434  [175.0, 98.0, 84.0, 111.0, 172.0, 257.0, 346.0...  1.333       1   \n",
       "678  [184.0, 154.0, 156.0, 178.0, 430.0, 506.0, 574...  1.666       1   \n",
       "..                                                 ...    ...     ...   \n",
       "562  [419.0, 439.0, 454.0, 470.0, 487.0, 505.0, 522...  1.391       1   \n",
       "681  [155.0, 152.0, 151.0, 152.0, 157.0, 173.0, 181...  1.281       1   \n",
       "510  [121.0, 144.0, 155.0, 197.0, 214.0, 252.0, 295...  1.391       1   \n",
       "747  [113.0, 121.0, 127.0, 130.0, 143.0, 148.0, 166...  0.546       1   \n",
       "270  [198.0, 182.0, 175.0, 171.0, 170.0, 173.0, 182...  1.207       1   \n",
       "\n",
       "                                                angles  \\\n",
       "859  [-2.55, -2.76, -2.98, -3.03, -3.05, 3.14, 3.08...   \n",
       "155  [2.93, 2.78, 2.62, 2.5, 2.28, 2.19, 2.12, 2.1,...   \n",
       "212  [-2.86, -3.07, 3.14, 3.0, 2.84, 2.71, 2.58, 2....   \n",
       "434  [-1.54, -3.08, 2.85, 2.58, 2.39, 2.08, 1.65, 1...   \n",
       "678  [-2.49, 2.86, 2.62, 1.96, 1.64, 1.42, 1.01, 0....   \n",
       "..                                                 ...   \n",
       "562  [1.95, 1.83, 1.76, 1.69, 1.57, 1.4, 1.25, 1.13...   \n",
       "681  [-2.78, -3.08, 3.08, 2.86, 2.65, 2.51, 2.41, 2...   \n",
       "510  [2.55, 2.44, 2.38, 2.29, 2.21, 2.11, 1.98, 1.8...   \n",
       "747  [2.51, 2.36, 2.36, 2.18, 2.25, 2.08, 2.03, 2.1...   \n",
       "270  [-2.67, -2.9, -3.02, -3.11, 3.07, 2.97, 2.82, ...   \n",
       "\n",
       "                                            angles_one  \\\n",
       "859  [0.31, 0.31, 0.31, 0.31, 0.31, 0.32, 0.33, 0.3...   \n",
       "155  [0.1, 0.12, 0.17, 0.21, 0.25, 0.31, 0.37, 0.44...   \n",
       "212  [0.18, 0.18, 0.18, 0.18, 0.21, 0.24, 0.28, 0.3...   \n",
       "434  [0.17, 0.1, 0.11, 0.16, 0.28, 0.47, 0.65, 0.74...   \n",
       "678  [0.22, 0.19, 0.2, 0.23, 0.59, 0.67, 0.72, 0.74...   \n",
       "..                                                 ...   \n",
       "562  [0.7, 0.73, 0.75, 0.77, 0.79, 0.81, 0.82, 0.83...   \n",
       "681  [0.23, 0.23, 0.23, 0.24, 0.25, 0.29, 0.31, 0.3...   \n",
       "510  [0.24, 0.31, 0.34, 0.46, 0.51, 0.62, 0.74, 0.9...   \n",
       "747  [0.17, 0.19, 0.2, 0.2, 0.23, 0.24, 0.27, 0.28,...   \n",
       "270  [0.24, 0.23, 0.23, 0.24, 0.25, 0.27, 0.31, 0.3...   \n",
       "\n",
       "                                        angles_tangent  \n",
       "859  [2.8108, 2.8937, 2.9134, 2.9364, 2.9341, 2.943...  \n",
       "155  [2.5902, 2.6557, 2.7416, 2.7398, 2.6514, 2.518...  \n",
       "212  [2.6089, 2.6653, 2.5981, 2.5895, 2.5925, 2.596...  \n",
       "434  [1.9391, 1.82, 1.7335, 1.6809, 1.6434, 1.7803,...  \n",
       "678  [2.184, 2.0892, 1.6878, 1.4253, 1.5468, 1.5767...  \n",
       "..                                                 ...  \n",
       "562  [2.6698, 2.6113, 2.5718, 2.542, 2.5094, 2.4518...  \n",
       "681  [2.5533, 2.6659, 2.6587, 2.7239, 2.7044, 2.733...  \n",
       "510  [2.7722, 2.7608, 2.7052, 2.6229, 2.5526, 2.507...  \n",
       "747  [2.926, 2.977, 3.0971, 3.1084, 3.0186, 3.0029,...  \n",
       "270  [2.6385, 2.6582, 2.5323, 2.3869, 2.2818, 2.215...  \n",
       "\n",
       "[92 rows x 8 columns]"
      ]
     },
     "execution_count": 8,
     "metadata": {},
     "output_type": "execute_result"
    }
   ],
   "source": [
    "%store -r df_classes\n",
    "\n",
    "\n",
    "print(df_classes[0].shape)\n",
    "# print(train.shape)\n",
    "df_classes[0]\n",
    "# df_classes\n",
    "\n"
   ]
  },
  {
   "cell_type": "markdown",
   "metadata": {},
   "source": [
    "## Train HMM\n",
    "\n",
    "https://citeseerx.ist.psu.edu/viewdoc/download?doi=10.1.1.226.3759&rep=rep1&type=pdf\n",
    "\n",
    "https://learning.oreilly.com/library/view/python-machine-learning/9781786464477/ch07s08.html#ch07lvl2sec94"
   ]
  },
  {
   "cell_type": "markdown",
   "metadata": {},
   "source": [
    "### Calculate Gaussian Mixture of model to find observation probability"
   ]
  },
  {
   "cell_type": "code",
   "execution_count": 2,
   "metadata": {},
   "outputs": [],
   "source": [
    "from hmmlearn import hmm\n",
    "import numpy as np\n",
    "import pickle\n",
    "from hmmlearn import base"
   ]
  },
  {
   "cell_type": "code",
   "execution_count": 3,
   "metadata": {},
   "outputs": [],
   "source": [
    "from sklearn.mixture import GaussianMixture\n",
    "\n",
    "# X0 = df_classes[0][['angles', 'x', 'y']]\n",
    "\n",
    "# GMM = GaussianMixture(n_components=3, random_state=0).fit(X0) BUGGATO"
   ]
  },
  {
   "cell_type": "code",
   "execution_count": 4,
   "metadata": {},
   "outputs": [],
   "source": [
    "\n",
    "\n",
    "# from baum_welch import baum_welch\n",
    "\n",
    "# data = df_classes[0][['angles']].values\n",
    "# data_list_append = data.tolist()\n",
    "# data_list_append = [ three for one in data_list_append for two in one for three in two] \n",
    "\n",
    "# # TRY ONLY WI CURVATURE (ANGLE)\n",
    "# # 6 states\n",
    "# initial_prob = np.array([1, 0, 0, 0, 0, 0])\n",
    "# transition_prob = np.ones((6, 6))\n",
    "# transition_prob = transition_prob / np.sum(transition_prob, axis=1)\n",
    "# emission_prob = np.ones((6, 1)) # I don't know how many\n",
    "# emission_prob = emission_prob / np.sum(emission_prob, axis=1).reshape(-1, 1)\n",
    "\n",
    "# n_iter = 20\n",
    "# # To go, data has to be a list of numbers\n",
    "\n",
    "# transition_true, emission_true = baum_welch(data_list_append, initial_prob, transition_prob, emission_prob, n_iter)\n",
    "\n",
    "# print(\"new transition_prob: \", transition_true, \"\\nnew emission_prob: \", emission_true)\n"
   ]
  },
  {
   "cell_type": "code",
   "execution_count": 5,
   "metadata": {},
   "outputs": [],
   "source": [
    "# https://hmmlearn.readthedocs.io/en/latest/tutorial.html#working-with-multiple-sequences\n",
    "\n",
    "#           Delete this cell\n",
    "\n",
    "# data_true = train[['angles']].values.tolist()\n",
    "# data_list_try = np.array([ [three] for one in data_true for two in one for three in two])\n",
    "# len_list_try = [len(two) for one in data_true for two in one ]\n",
    "\n",
    "\n",
    "# # print(data_list_try)\n",
    "# # print(data_list_try.shape)\n",
    "# # print(type(len_list_try))\n",
    "\n",
    "# hmm.GaussianHMM(n_components=6).fit(data_list_try, len_list_try)"
   ]
  },
  {
   "cell_type": "code",
   "execution_count": null,
   "metadata": {},
   "outputs": [],
   "source": []
  },
  {
   "cell_type": "code",
   "execution_count": 12,
   "metadata": {},
   "outputs": [
    {
     "name": "stderr",
     "output_type": "stream",
     "text": [
      "Even though the 'startprob_' attribute is set, it will be overwritten during initialization because 'init_params' contains 's'\n",
      "Even though the 'transmat_' attribute is set, it will be overwritten during initialization because 'init_params' contains 't'\n"
     ]
    },
    {
     "name": "stdout",
     "output_type": "stream",
     "text": [
      "Modelling probabilities of class  0  of  9  classes\n"
     ]
    },
    {
     "name": "stderr",
     "output_type": "stream",
     "text": [
      "Even though the 'startprob_' attribute is set, it will be overwritten during initialization because 'init_params' contains 's'\n",
      "Even though the 'transmat_' attribute is set, it will be overwritten during initialization because 'init_params' contains 't'\n"
     ]
    },
    {
     "name": "stdout",
     "output_type": "stream",
     "text": [
      "Modelling probabilities of class  1  of  9  classes\n"
     ]
    },
    {
     "name": "stderr",
     "output_type": "stream",
     "text": [
      "Even though the 'startprob_' attribute is set, it will be overwritten during initialization because 'init_params' contains 's'\n",
      "Even though the 'transmat_' attribute is set, it will be overwritten during initialization because 'init_params' contains 't'\n"
     ]
    },
    {
     "name": "stdout",
     "output_type": "stream",
     "text": [
      "Modelling probabilities of class  2  of  9  classes\n"
     ]
    },
    {
     "name": "stderr",
     "output_type": "stream",
     "text": [
      "Even though the 'startprob_' attribute is set, it will be overwritten during initialization because 'init_params' contains 's'\n",
      "Even though the 'transmat_' attribute is set, it will be overwritten during initialization because 'init_params' contains 't'\n"
     ]
    },
    {
     "name": "stdout",
     "output_type": "stream",
     "text": [
      "Modelling probabilities of class  3  of  9  classes\n"
     ]
    },
    {
     "name": "stderr",
     "output_type": "stream",
     "text": [
      "Even though the 'startprob_' attribute is set, it will be overwritten during initialization because 'init_params' contains 's'\n",
      "Even though the 'transmat_' attribute is set, it will be overwritten during initialization because 'init_params' contains 't'\n"
     ]
    },
    {
     "name": "stdout",
     "output_type": "stream",
     "text": [
      "Modelling probabilities of class  5  of  9  classes\n"
     ]
    },
    {
     "name": "stderr",
     "output_type": "stream",
     "text": [
      "Even though the 'startprob_' attribute is set, it will be overwritten during initialization because 'init_params' contains 's'\n",
      "Even though the 'transmat_' attribute is set, it will be overwritten during initialization because 'init_params' contains 't'\n"
     ]
    },
    {
     "name": "stdout",
     "output_type": "stream",
     "text": [
      "Modelling probabilities of class  6  of  9  classes\n"
     ]
    },
    {
     "name": "stderr",
     "output_type": "stream",
     "text": [
      "Even though the 'startprob_' attribute is set, it will be overwritten during initialization because 'init_params' contains 's'\n",
      "Even though the 'transmat_' attribute is set, it will be overwritten during initialization because 'init_params' contains 't'\n"
     ]
    },
    {
     "name": "stdout",
     "output_type": "stream",
     "text": [
      "Modelling probabilities of class  7  of  9  classes\n"
     ]
    },
    {
     "name": "stderr",
     "output_type": "stream",
     "text": [
      "Even though the 'startprob_' attribute is set, it will be overwritten during initialization because 'init_params' contains 's'\n",
      "Even though the 'transmat_' attribute is set, it will be overwritten during initialization because 'init_params' contains 't'\n"
     ]
    },
    {
     "name": "stdout",
     "output_type": "stream",
     "text": [
      "Modelling probabilities of class  8  of  9  classes\n"
     ]
    },
    {
     "name": "stderr",
     "output_type": "stream",
     "text": [
      "Even though the 'startprob_' attribute is set, it will be overwritten during initialization because 'init_params' contains 's'\n",
      "Even though the 'transmat_' attribute is set, it will be overwritten during initialization because 'init_params' contains 't'\n"
     ]
    },
    {
     "name": "stdout",
     "output_type": "stream",
     "text": [
      "Modelling probabilities of class  9  of  9  classes\n"
     ]
    }
   ],
   "source": [
    "n_iter=1000\n",
    "feature_involved = ['angles']\n",
    "\n",
    "\n",
    "for n_class, _ in df_classes.items():\n",
    "    print(\"Modelling probabilities of class \", n_class,\" of \", len(df_classes), \" classes\")\n",
    "    model = hmm.GaussianHMM(n_components=6, n_iter=n_iter, verbose=False, algorithm=\"viterbi\")\n",
    "    # model = base.BaseHMM(n_components=6, n_iter=n_iter)\n",
    "    data_true = df_classes[n_class][feature_involved].values.tolist()\n",
    "    data_list = np.array([ [three] for one in data_true for two in one for three in two])\n",
    "    len_list = [len(two) for one in data_true for two in one ]\n",
    "\n",
    "    initial_prob = np.array([1, 0, 0, 0, 0, 0])\n",
    "    transition_prob = np.ones((6, 6))\n",
    "    transition_prob = transition_prob / np.sum(transition_prob, axis=1)\n",
    "    emission_prob = np.ones((6, 1)) # I don't know how many\n",
    "    emission_prob = emission_prob / np.sum(emission_prob, axis=1)\n",
    "\n",
    "    model.startprob_ = initial_prob\n",
    "    model.transmat_ = transition_prob\n",
    "    model.emissionprob_ = emission_prob\n",
    "\n",
    "\n",
    "    model.fit(data_list, len_list)\n",
    "\n",
    "    # print(\"initial probability: \", model.startprob_)\n",
    "    # print(f'transition: \\n{model.transmat_}')\n",
    "    # print(f'emission: \\n{model.emissionprob_}')\n",
    "\n",
    "    with open ('models/'+str(n_class)+'hmm_model.pkl', 'wb') as f: #Save model\n",
    "        pickle.dump(model, f)"
   ]
  }
 ],
 "metadata": {
  "kernelspec": {
   "display_name": "Python 3.9.7 ('pml')",
   "language": "python",
   "name": "python3"
  },
  "language_info": {
   "codemirror_mode": {
    "name": "ipython",
    "version": 3
   },
   "file_extension": ".py",
   "mimetype": "text/x-python",
   "name": "python",
   "nbconvert_exporter": "python",
   "pygments_lexer": "ipython3",
   "version": "3.9.7"
  },
  "orig_nbformat": 4,
  "vscode": {
   "interpreter": {
    "hash": "8f162362b51a040b66da23130964be17c9a4290e709b2d7f75b268249f5b26fc"
   }
  }
 },
 "nbformat": 4,
 "nbformat_minor": 2
}
