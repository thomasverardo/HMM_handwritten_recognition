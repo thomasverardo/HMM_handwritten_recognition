{
 "cells": [
  {
   "cell_type": "code",
   "execution_count": 2,
   "metadata": {},
   "outputs": [
    {
     "name": "stdout",
     "output_type": "stream",
     "text": [
      "(89, 12)\n"
     ]
    }
   ],
   "source": [
    "%store -r df_classes\n",
    "\n",
    "\n",
    "print(df_classes[0].shape)\n",
    "# print(train.shape)\n",
    "# df_classes[0]\n",
    "# df_classes\n",
    "\n"
   ]
  },
  {
   "cell_type": "markdown",
   "metadata": {},
   "source": [
    "## Train HMM\n",
    "\n",
    "https://citeseerx.ist.psu.edu/viewdoc/download?doi=10.1.1.226.3759&rep=rep1&type=pdf\n",
    "\n",
    "https://learning.oreilly.com/library/view/python-machine-learning/9781786464477/ch07s08.html#ch07lvl2sec94"
   ]
  },
  {
   "cell_type": "code",
   "execution_count": 3,
   "metadata": {},
   "outputs": [],
   "source": [
    "from hmmlearn import hmm\n",
    "import numpy as np\n",
    "import pickle\n",
    "from hmmlearn import base"
   ]
  },
  {
   "cell_type": "markdown",
   "metadata": {},
   "source": [
    "# GaussianHMM: x,y (models_1)"
   ]
  },
  {
   "cell_type": "code",
   "execution_count": 18,
   "metadata": {
    "tags": []
   },
   "outputs": [
    {
     "name": "stderr",
     "output_type": "stream",
     "text": [
      "Even though the 'startprob_' attribute is set, it will be overwritten during initialization because 'init_params' contains 's'\n",
      "Even though the 'transmat_' attribute is set, it will be overwritten during initialization because 'init_params' contains 't'\n",
      "Fitting a model with 10399 free scalar parameters with only 9356 data points will result in a degenerate solution.\n"
     ]
    },
    {
     "name": "stdout",
     "output_type": "stream",
     "text": [
      "Modelling probabilities of class  0  of  9  classes\n"
     ]
    },
    {
     "ename": "KeyboardInterrupt",
     "evalue": "",
     "output_type": "error",
     "traceback": [
      "\u001b[0;31m---------------------------------------------------------------------------\u001b[0m",
      "\u001b[0;31mKeyboardInterrupt\u001b[0m                         Traceback (most recent call last)",
      "\u001b[1;32m/home/thomas/Scrivania/PRIMO ANNO 2/Probabilistic ML/Project/scripts/hmm.ipynb Cella 5\u001b[0m in \u001b[0;36m<cell line: 7>\u001b[0;34m()\u001b[0m\n\u001b[1;32m     <a href='vscode-notebook-cell:/home/thomas/Scrivania/PRIMO%20ANNO%202/Probabilistic%20ML/Project/scripts/hmm.ipynb#ch0000008?line=24'>25</a>\u001b[0m len_list \u001b[39m=\u001b[39m np\u001b[39m.\u001b[39marray([\u001b[39mlen\u001b[39m(two) \u001b[39mfor\u001b[39;00m one \u001b[39min\u001b[39;00m data_true_1 \u001b[39mfor\u001b[39;00m two \u001b[39min\u001b[39;00m one ])\n\u001b[1;32m     <a href='vscode-notebook-cell:/home/thomas/Scrivania/PRIMO%20ANNO%202/Probabilistic%20ML/Project/scripts/hmm.ipynb#ch0000008?line=25'>26</a>\u001b[0m data_list\u001b[39m=\u001b[39mnp\u001b[39m.\u001b[39mhstack([data_list_1,data_list_2])\n\u001b[0;32m---> <a href='vscode-notebook-cell:/home/thomas/Scrivania/PRIMO%20ANNO%202/Probabilistic%20ML/Project/scripts/hmm.ipynb#ch0000008?line=28'>29</a>\u001b[0m model\u001b[39m.\u001b[39;49mfit(data_list, len_list)\n\u001b[1;32m     <a href='vscode-notebook-cell:/home/thomas/Scrivania/PRIMO%20ANNO%202/Probabilistic%20ML/Project/scripts/hmm.ipynb#ch0000008?line=30'>31</a>\u001b[0m \u001b[39mprint\u001b[39m(\u001b[39mf\u001b[39m\u001b[39m'\u001b[39m\u001b[39mConverged: \u001b[39m\u001b[39m{\u001b[39;00mmodel\u001b[39m.\u001b[39mmonitor_\u001b[39m.\u001b[39mconverged\u001b[39m}\u001b[39;00m\u001b[39m'\u001b[39m)\n\u001b[1;32m     <a href='vscode-notebook-cell:/home/thomas/Scrivania/PRIMO%20ANNO%202/Probabilistic%20ML/Project/scripts/hmm.ipynb#ch0000008?line=33'>34</a>\u001b[0m \u001b[39m# print(\"initial probability: \", model.startprob_)\u001b[39;00m\n\u001b[1;32m     <a href='vscode-notebook-cell:/home/thomas/Scrivania/PRIMO%20ANNO%202/Probabilistic%20ML/Project/scripts/hmm.ipynb#ch0000008?line=34'>35</a>\u001b[0m \u001b[39m# print(f'transition: \\n{model.transmat_}')\u001b[39;00m\n\u001b[1;32m     <a href='vscode-notebook-cell:/home/thomas/Scrivania/PRIMO%20ANNO%202/Probabilistic%20ML/Project/scripts/hmm.ipynb#ch0000008?line=35'>36</a>\u001b[0m \u001b[39m# print(f'emission: \\n{model.emissionprob_}')\u001b[39;00m\n",
      "File \u001b[0;32m~/anaconda3/envs/pml/lib/python3.9/site-packages/hmmlearn/base.py:508\u001b[0m, in \u001b[0;36mBaseHMM.fit\u001b[0;34m(self, X, lengths)\u001b[0m\n\u001b[1;32m    505\u001b[0m curr_log_prob \u001b[39m=\u001b[39m \u001b[39m0\u001b[39m\n\u001b[1;32m    506\u001b[0m \u001b[39mfor\u001b[39;00m sub_X \u001b[39min\u001b[39;00m _utils\u001b[39m.\u001b[39msplit_X_lengths(X, lengths):\n\u001b[1;32m    507\u001b[0m     lattice, log_prob, posteriors, fwdlattice, bwdlattice \u001b[39m=\u001b[39m \\\n\u001b[0;32m--> 508\u001b[0m             impl(sub_X)\n\u001b[1;32m    509\u001b[0m     \u001b[39m# Derived HMM classes will implement the following method to\u001b[39;00m\n\u001b[1;32m    510\u001b[0m     \u001b[39m# update their probability distributions, so keep\u001b[39;00m\n\u001b[1;32m    511\u001b[0m     \u001b[39m# a single call to this method for simplicity.\u001b[39;00m\n\u001b[1;32m    512\u001b[0m     \u001b[39mself\u001b[39m\u001b[39m.\u001b[39m_accumulate_sufficient_statistics(\n\u001b[1;32m    513\u001b[0m         stats, sub_X, lattice, posteriors, fwdlattice,\n\u001b[1;32m    514\u001b[0m         bwdlattice)\n",
      "File \u001b[0;32m~/anaconda3/envs/pml/lib/python3.9/site-packages/hmmlearn/base.py:541\u001b[0m, in \u001b[0;36mBaseHMM._fit_log\u001b[0;34m(self, X)\u001b[0m\n\u001b[1;32m    539\u001b[0m \u001b[39mdef\u001b[39;00m \u001b[39m_fit_log\u001b[39m(\u001b[39mself\u001b[39m, X):\n\u001b[1;32m    540\u001b[0m     log_frameprob \u001b[39m=\u001b[39m \u001b[39mself\u001b[39m\u001b[39m.\u001b[39m_compute_log_likelihood(X)\n\u001b[0;32m--> 541\u001b[0m     log_prob, fwdlattice \u001b[39m=\u001b[39m \u001b[39mself\u001b[39;49m\u001b[39m.\u001b[39;49m_do_forward_log_pass(log_frameprob)\n\u001b[1;32m    542\u001b[0m     bwdlattice \u001b[39m=\u001b[39m \u001b[39mself\u001b[39m\u001b[39m.\u001b[39m_do_backward_log_pass(log_frameprob)\n\u001b[1;32m    543\u001b[0m     posteriors \u001b[39m=\u001b[39m \u001b[39mself\u001b[39m\u001b[39m.\u001b[39m_compute_posteriors_log(fwdlattice, bwdlattice)\n",
      "File \u001b[0;32m~/anaconda3/envs/pml/lib/python3.9/site-packages/hmmlearn/base.py:560\u001b[0m, in \u001b[0;36mBaseHMM._do_forward_log_pass\u001b[0;34m(self, log_frameprob)\u001b[0m\n\u001b[1;32m    559\u001b[0m \u001b[39mdef\u001b[39;00m \u001b[39m_do_forward_log_pass\u001b[39m(\u001b[39mself\u001b[39m, log_frameprob):\n\u001b[0;32m--> 560\u001b[0m     fwdlattice \u001b[39m=\u001b[39m _hmmc\u001b[39m.\u001b[39;49mforward_log(\n\u001b[1;32m    561\u001b[0m         log_mask_zero(\u001b[39mself\u001b[39;49m\u001b[39m.\u001b[39;49mstartprob_), log_mask_zero(\u001b[39mself\u001b[39;49m\u001b[39m.\u001b[39;49mtransmat_),\n\u001b[1;32m    562\u001b[0m         log_frameprob)\n\u001b[1;32m    563\u001b[0m     \u001b[39mwith\u001b[39;00m np\u001b[39m.\u001b[39merrstate(under\u001b[39m=\u001b[39m\u001b[39m\"\u001b[39m\u001b[39mignore\u001b[39m\u001b[39m\"\u001b[39m):\n\u001b[1;32m    564\u001b[0m         \u001b[39mreturn\u001b[39;00m special\u001b[39m.\u001b[39mlogsumexp(fwdlattice[\u001b[39m-\u001b[39m\u001b[39m1\u001b[39m]), fwdlattice\n",
      "\u001b[0;31mKeyboardInterrupt\u001b[0m: "
     ]
    }
   ],
   "source": [
    "n_iter=1000\n",
    "feature_involved_1= ['x']\n",
    "feature_involved_2= ['y']\n",
    "\n",
    "\n",
    "\n",
    "for n_class, _ in df_classes.items():\n",
    "    print(\"Modelling probabilities of class \", n_class,\" of \", len(df_classes)-1, \" classes\")\n",
    "    model = hmm.GaussianHMM(n_components=6, n_iter=n_iter, verbose=False, tol=0.01, random_state=44)\n",
    "\n",
    "\n",
    "    initial_prob = np.array([1, 0, 0, 0, 0, 0])\n",
    "    transition_prob = np.ones((6, 6))\n",
    "    transition_prob = transition_prob / np.sum(transition_prob, axis=1)\n",
    "\n",
    "\n",
    "    model.startprob_ = initial_prob\n",
    "    model.transmat_ = transition_prob\n",
    "\n",
    "\n",
    "    data_true_1 = df_classes[n_class][feature_involved_1].values.tolist()\n",
    "    data_true_2 = df_classes[n_class][feature_involved_2].values.tolist()\n",
    "    data_list_1 = np.array([[three] for one in data_true_1 for two in one for three in two])\n",
    "    data_list_2 = np.array([[z] for x in data_true_2 for y in x for z in y])\n",
    "    len_list = np.array([len(two) for one in data_true_1 for two in one ])\n",
    "    data_list=np.hstack([data_list_1,data_list_2])\n",
    "    \n",
    "\n",
    "    model.fit(data_list, len_list)\n",
    "    \n",
    "    print(f'Converged: {model.monitor_.converged}')\n",
    "    \n",
    "\n",
    "    # print(\"initial probability: \", model.startprob_)\n",
    "    # print(f'transition: \\n{model.transmat_}')\n",
    "    # print(f'emission: \\n{model.emissionprob_}')\n",
    "\n",
    "    with open ('models_1/'+str(n_class)+'hmm_model.pkl', 'wb') as f: #Save model\n",
    "        pickle.dump(model, f)"
   ]
  },
  {
   "cell_type": "markdown",
   "metadata": {},
   "source": [
    "# GMMHMM: x,y (models_1_2)"
   ]
  },
  {
   "cell_type": "code",
   "execution_count": 17,
   "metadata": {
    "tags": []
   },
   "outputs": [
    {
     "name": "stderr",
     "output_type": "stream",
     "text": [
      "Even though the 'startprob_' attribute is set, it will be overwritten during initialization because 'init_params' contains 's'\n",
      "Even though the 'transmat_' attribute is set, it will be overwritten during initialization because 'init_params' contains 't'\n"
     ]
    },
    {
     "name": "stdout",
     "output_type": "stream",
     "text": [
      "Modelling probabilities of class  0  of  9  classes\n"
     ]
    },
    {
     "name": "stderr",
     "output_type": "stream",
     "text": [
      "Even though the 'startprob_' attribute is set, it will be overwritten during initialization because 'init_params' contains 's'\n",
      "Even though the 'transmat_' attribute is set, it will be overwritten during initialization because 'init_params' contains 't'\n"
     ]
    },
    {
     "name": "stdout",
     "output_type": "stream",
     "text": [
      "Modelling probabilities of class  1  of  9  classes\n"
     ]
    },
    {
     "name": "stderr",
     "output_type": "stream",
     "text": [
      "Even though the 'startprob_' attribute is set, it will be overwritten during initialization because 'init_params' contains 's'\n",
      "Even though the 'transmat_' attribute is set, it will be overwritten during initialization because 'init_params' contains 't'\n"
     ]
    },
    {
     "name": "stdout",
     "output_type": "stream",
     "text": [
      "Modelling probabilities of class  2  of  9  classes\n"
     ]
    },
    {
     "ename": "KeyboardInterrupt",
     "evalue": "",
     "output_type": "error",
     "traceback": [
      "\u001b[0;31m---------------------------------------------------------------------------\u001b[0m",
      "\u001b[0;31mKeyboardInterrupt\u001b[0m                         Traceback (most recent call last)",
      "\u001b[1;32m/home/thomas/Scrivania/PRIMO ANNO 2/Probabilistic ML/Project/scripts/hmm.ipynb Cella 7\u001b[0m in \u001b[0;36m<cell line: 7>\u001b[0;34m()\u001b[0m\n\u001b[1;32m     <a href='vscode-notebook-cell:/home/thomas/Scrivania/PRIMO%20ANNO%202/Probabilistic%20ML/Project/scripts/hmm.ipynb#ch0000010?line=27'>28</a>\u001b[0m len_list \u001b[39m=\u001b[39m np\u001b[39m.\u001b[39marray([\u001b[39mlen\u001b[39m(two) \u001b[39mfor\u001b[39;00m one \u001b[39min\u001b[39;00m data_true_1 \u001b[39mfor\u001b[39;00m two \u001b[39min\u001b[39;00m one ])\n\u001b[1;32m     <a href='vscode-notebook-cell:/home/thomas/Scrivania/PRIMO%20ANNO%202/Probabilistic%20ML/Project/scripts/hmm.ipynb#ch0000010?line=28'>29</a>\u001b[0m data_list\u001b[39m=\u001b[39mnp\u001b[39m.\u001b[39mhstack([data_list_1,data_list_2])\n\u001b[0;32m---> <a href='vscode-notebook-cell:/home/thomas/Scrivania/PRIMO%20ANNO%202/Probabilistic%20ML/Project/scripts/hmm.ipynb#ch0000010?line=31'>32</a>\u001b[0m model\u001b[39m.\u001b[39;49mfit(data_list, len_list)\n\u001b[1;32m     <a href='vscode-notebook-cell:/home/thomas/Scrivania/PRIMO%20ANNO%202/Probabilistic%20ML/Project/scripts/hmm.ipynb#ch0000010?line=34'>35</a>\u001b[0m \u001b[39m# print(\"initial probability: \", model.startprob_)\u001b[39;00m\n\u001b[1;32m     <a href='vscode-notebook-cell:/home/thomas/Scrivania/PRIMO%20ANNO%202/Probabilistic%20ML/Project/scripts/hmm.ipynb#ch0000010?line=35'>36</a>\u001b[0m \u001b[39m# print(f'transition: \\n{model.transmat_}')\u001b[39;00m\n\u001b[1;32m     <a href='vscode-notebook-cell:/home/thomas/Scrivania/PRIMO%20ANNO%202/Probabilistic%20ML/Project/scripts/hmm.ipynb#ch0000010?line=36'>37</a>\u001b[0m \u001b[39m# print(f'emission: \\n{model.emissionprob_}')\u001b[39;00m\n\u001b[1;32m     <a href='vscode-notebook-cell:/home/thomas/Scrivania/PRIMO%20ANNO%202/Probabilistic%20ML/Project/scripts/hmm.ipynb#ch0000010?line=38'>39</a>\u001b[0m \u001b[39mwith\u001b[39;00m \u001b[39mopen\u001b[39m (\u001b[39m'\u001b[39m\u001b[39mmodels_1_2/\u001b[39m\u001b[39m'\u001b[39m\u001b[39m+\u001b[39m\u001b[39mstr\u001b[39m(n_class)\u001b[39m+\u001b[39m\u001b[39m'\u001b[39m\u001b[39mhmm_model.pkl\u001b[39m\u001b[39m'\u001b[39m, \u001b[39m'\u001b[39m\u001b[39mwb\u001b[39m\u001b[39m'\u001b[39m) \u001b[39mas\u001b[39;00m f: \u001b[39m#Save model\u001b[39;00m\n",
      "File \u001b[0;32m~/anaconda3/envs/pml/lib/python3.9/site-packages/hmmlearn/base.py:512\u001b[0m, in \u001b[0;36mBaseHMM.fit\u001b[0;34m(self, X, lengths)\u001b[0m\n\u001b[1;32m    507\u001b[0m     lattice, log_prob, posteriors, fwdlattice, bwdlattice \u001b[39m=\u001b[39m \\\n\u001b[1;32m    508\u001b[0m             impl(sub_X)\n\u001b[1;32m    509\u001b[0m     \u001b[39m# Derived HMM classes will implement the following method to\u001b[39;00m\n\u001b[1;32m    510\u001b[0m     \u001b[39m# update their probability distributions, so keep\u001b[39;00m\n\u001b[1;32m    511\u001b[0m     \u001b[39m# a single call to this method for simplicity.\u001b[39;00m\n\u001b[0;32m--> 512\u001b[0m     \u001b[39mself\u001b[39;49m\u001b[39m.\u001b[39;49m_accumulate_sufficient_statistics(\n\u001b[1;32m    513\u001b[0m         stats, sub_X, lattice, posteriors, fwdlattice,\n\u001b[1;32m    514\u001b[0m         bwdlattice)\n\u001b[1;32m    515\u001b[0m     curr_log_prob \u001b[39m+\u001b[39m\u001b[39m=\u001b[39m log_prob\n\u001b[1;32m    517\u001b[0m \u001b[39m# XXX must be before convergence check, because otherwise\u001b[39;00m\n\u001b[1;32m    518\u001b[0m \u001b[39m#     there won't be any updates for the case ``n_iter=1``.\u001b[39;00m\n",
      "File \u001b[0;32m~/anaconda3/envs/pml/lib/python3.9/site-packages/hmmlearn/hmm.py:939\u001b[0m, in \u001b[0;36mGMMHMM._accumulate_sufficient_statistics\u001b[0;34m(self, stats, X, lattice, post_comp, fwdlattice, bwdlattice)\u001b[0m\n\u001b[1;32m    937\u001b[0m post_mix \u001b[39m=\u001b[39m np\u001b[39m.\u001b[39mzeros((n_samples, \u001b[39mself\u001b[39m\u001b[39m.\u001b[39mn_components, \u001b[39mself\u001b[39m\u001b[39m.\u001b[39mn_mix))\n\u001b[1;32m    938\u001b[0m \u001b[39mfor\u001b[39;00m p \u001b[39min\u001b[39;00m \u001b[39mrange\u001b[39m(\u001b[39mself\u001b[39m\u001b[39m.\u001b[39mn_components):\n\u001b[0;32m--> 939\u001b[0m     log_denses \u001b[39m=\u001b[39m \u001b[39mself\u001b[39;49m\u001b[39m.\u001b[39;49m_compute_log_weighted_gaussian_densities(X, p)\n\u001b[1;32m    940\u001b[0m     log_normalize(log_denses, axis\u001b[39m=\u001b[39m\u001b[39m-\u001b[39m\u001b[39m1\u001b[39m)\n\u001b[1;32m    941\u001b[0m     \u001b[39mwith\u001b[39;00m np\u001b[39m.\u001b[39merrstate(under\u001b[39m=\u001b[39m\u001b[39m\"\u001b[39m\u001b[39mignore\u001b[39m\u001b[39m\"\u001b[39m):\n",
      "File \u001b[0;32m~/anaconda3/envs/pml/lib/python3.9/site-packages/hmmlearn/hmm.py:889\u001b[0m, in \u001b[0;36mGMMHMM._compute_log_weighted_gaussian_densities\u001b[0;34m(self, X, i_comp)\u001b[0m\n\u001b[1;32m    886\u001b[0m     cur_covs \u001b[39m=\u001b[39m cur_covs[:, \u001b[39mNone\u001b[39;00m]\n\u001b[1;32m    887\u001b[0m log_cur_weights \u001b[39m=\u001b[39m np\u001b[39m.\u001b[39mlog(\u001b[39mself\u001b[39m\u001b[39m.\u001b[39mweights_[i_comp])\n\u001b[0;32m--> 889\u001b[0m \u001b[39mreturn\u001b[39;00m log_multivariate_normal_density(\n\u001b[1;32m    890\u001b[0m     X, cur_means, cur_covs, \u001b[39mself\u001b[39;49m\u001b[39m.\u001b[39;49mcovariance_type\n\u001b[1;32m    891\u001b[0m ) \u001b[39m+\u001b[39m log_cur_weights\n",
      "File \u001b[0;32m~/anaconda3/envs/pml/lib/python3.9/site-packages/hmmlearn/stats.py:42\u001b[0m, in \u001b[0;36mlog_multivariate_normal_density\u001b[0;34m(X, means, covars, covariance_type)\u001b[0m\n\u001b[1;32m      6\u001b[0m \u001b[39m\"\"\"\u001b[39;00m\n\u001b[1;32m      7\u001b[0m \u001b[39mCompute the log probability under a multivariate Gaussian distribution.\u001b[39;00m\n\u001b[1;32m      8\u001b[0m \n\u001b[0;32m   (...)\u001b[0m\n\u001b[1;32m     35\u001b[0m \u001b[39m    X under each of the n_components multivariate Gaussian distributions.\u001b[39;00m\n\u001b[1;32m     36\u001b[0m \u001b[39m\"\"\"\u001b[39;00m\n\u001b[1;32m     37\u001b[0m log_multivariate_normal_density_dict \u001b[39m=\u001b[39m {\n\u001b[1;32m     38\u001b[0m     \u001b[39m'\u001b[39m\u001b[39mspherical\u001b[39m\u001b[39m'\u001b[39m: _log_multivariate_normal_density_spherical,\n\u001b[1;32m     39\u001b[0m     \u001b[39m'\u001b[39m\u001b[39mtied\u001b[39m\u001b[39m'\u001b[39m: _log_multivariate_normal_density_tied,\n\u001b[1;32m     40\u001b[0m     \u001b[39m'\u001b[39m\u001b[39mdiag\u001b[39m\u001b[39m'\u001b[39m: _log_multivariate_normal_density_diag,\n\u001b[1;32m     41\u001b[0m     \u001b[39m'\u001b[39m\u001b[39mfull\u001b[39m\u001b[39m'\u001b[39m: _log_multivariate_normal_density_full}\n\u001b[0;32m---> 42\u001b[0m \u001b[39mreturn\u001b[39;00m log_multivariate_normal_density_dict[covariance_type](\n\u001b[1;32m     43\u001b[0m     X, means, covars\n\u001b[1;32m     44\u001b[0m )\n",
      "File \u001b[0;32m~/anaconda3/envs/pml/lib/python3.9/site-packages/hmmlearn/stats.py:52\u001b[0m, in \u001b[0;36m_log_multivariate_normal_density_diag\u001b[0;34m(X, means, covars)\u001b[0m\n\u001b[1;32m     50\u001b[0m n_samples, n_dim \u001b[39m=\u001b[39m X\u001b[39m.\u001b[39mshape\n\u001b[1;32m     51\u001b[0m \u001b[39m# Avoid 0 log 0 = nan in degenerate covariance case.\u001b[39;00m\n\u001b[0;32m---> 52\u001b[0m covars \u001b[39m=\u001b[39m np\u001b[39m.\u001b[39mmaximum(covars, np\u001b[39m.\u001b[39;49mfinfo(\u001b[39mfloat\u001b[39;49m)\u001b[39m.\u001b[39mtiny)\n\u001b[1;32m     53\u001b[0m \u001b[39mwith\u001b[39;00m np\u001b[39m.\u001b[39merrstate(over\u001b[39m=\u001b[39m\u001b[39m\"\u001b[39m\u001b[39mignore\u001b[39m\u001b[39m\"\u001b[39m):\n\u001b[1;32m     54\u001b[0m     \u001b[39mreturn\u001b[39;00m \u001b[39m-\u001b[39m\u001b[39m0.5\u001b[39m \u001b[39m*\u001b[39m (n_dim \u001b[39m*\u001b[39m np\u001b[39m.\u001b[39mlog(\u001b[39m2\u001b[39m \u001b[39m*\u001b[39m np\u001b[39m.\u001b[39mpi)\n\u001b[1;32m     55\u001b[0m                    \u001b[39m+\u001b[39m np\u001b[39m.\u001b[39mlog(covars)\u001b[39m.\u001b[39msum(axis\u001b[39m=\u001b[39m\u001b[39m-\u001b[39m\u001b[39m1\u001b[39m)\n\u001b[1;32m     56\u001b[0m                    \u001b[39m+\u001b[39m ((X[:, \u001b[39mNone\u001b[39;00m, :] \u001b[39m-\u001b[39m means) \u001b[39m*\u001b[39m\u001b[39m*\u001b[39m \u001b[39m2\u001b[39m \u001b[39m/\u001b[39m covars)\u001b[39m.\u001b[39msum(axis\u001b[39m=\u001b[39m\u001b[39m-\u001b[39m\u001b[39m1\u001b[39m))\n",
      "File \u001b[0;32m~/anaconda3/envs/pml/lib/python3.9/site-packages/numpy/core/getlimits.py:383\u001b[0m, in \u001b[0;36mfinfo.__new__\u001b[0;34m(cls, dtype)\u001b[0m\n\u001b[1;32m    382\u001b[0m \u001b[39mdef\u001b[39;00m \u001b[39m__new__\u001b[39m(\u001b[39mcls\u001b[39m, dtype):\n\u001b[0;32m--> 383\u001b[0m     \u001b[39mtry\u001b[39;00m:\n\u001b[1;32m    384\u001b[0m         dtype \u001b[39m=\u001b[39m numeric\u001b[39m.\u001b[39mdtype(dtype)\n\u001b[1;32m    385\u001b[0m     \u001b[39mexcept\u001b[39;00m \u001b[39mTypeError\u001b[39;00m:\n\u001b[1;32m    386\u001b[0m         \u001b[39m# In case a float instance was given\u001b[39;00m\n",
      "\u001b[0;31mKeyboardInterrupt\u001b[0m: "
     ]
    }
   ],
   "source": [
    "n_iter=1000\n",
    "feature_involved_1= ['x']\n",
    "feature_involved_2= ['y']\n",
    "\n",
    "\n",
    "\n",
    "for n_class, _ in df_classes.items():\n",
    "    print(\"Modelling probabilities of class \", n_class,\" of \", len(df_classes)-1, \" classes\")\n",
    "    model = hmm.GMMHMM(n_components=6, n_iter=n_iter, verbose=False, tol=0.01, random_state=44)\n",
    "    # model = base.BaseHMM(n_components=6, n_iter=n_iter)\n",
    "    #data_true = df_classes[n_class][feature_involved_1].values.tolist()\n",
    "    #data_list = np.array([ [three] for one in data_true for two in one for three in two] )\n",
    "    #len_list = [len(two) for one in data_true for two in one ]\n",
    "\n",
    "    initial_prob = np.array([1, 0, 0, 0, 0, 0])\n",
    "    transition_prob = np.ones((6, 6))\n",
    "    transition_prob = transition_prob / np.sum(transition_prob, axis=1)\n",
    "\n",
    "\n",
    "    model.startprob_ = initial_prob\n",
    "    model.transmat_ = transition_prob\n",
    "\n",
    "\n",
    "    data_true_1 = df_classes[n_class][feature_involved_1].values.tolist()\n",
    "    data_true_2 = df_classes[n_class][feature_involved_2].values.tolist()\n",
    "    data_list_1 = np.array([[three] for one in data_true_1 for two in one for three in two])\n",
    "    data_list_2 = np.array([[z] for x in data_true_2 for y in x for z in y])\n",
    "    len_list = np.array([len(two) for one in data_true_1 for two in one ])\n",
    "    data_list=np.hstack([data_list_1,data_list_2])\n",
    "    \n",
    "\n",
    "    model.fit(data_list, len_list)\n",
    "    \n",
    "\n",
    "    # print(\"initial probability: \", model.startprob_)\n",
    "    # print(f'transition: \\n{model.transmat_}')\n",
    "    # print(f'emission: \\n{model.emissionprob_}')\n",
    "\n",
    "    with open ('models_1_2/'+str(n_class)+'hmm_model.pkl', 'wb') as f: #Save model\n",
    "        pickle.dump(model, f)"
   ]
  },
  {
   "cell_type": "markdown",
   "metadata": {},
   "source": [
    "# GaussianHMM: curvature_1 (models_2)"
   ]
  },
  {
   "cell_type": "code",
   "execution_count": null,
   "metadata": {
    "tags": []
   },
   "outputs": [
    {
     "name": "stderr",
     "output_type": "stream",
     "text": [
      "Even though the 'startprob_' attribute is set, it will be overwritten during initialization because 'init_params' contains 's'\n",
      "Even though the 'transmat_' attribute is set, it will be overwritten during initialization because 'init_params' contains 't'\n"
     ]
    },
    {
     "name": "stdout",
     "output_type": "stream",
     "text": [
      "Modelling probabilities of class  0  of  9  classes\n"
     ]
    },
    {
     "name": "stderr",
     "output_type": "stream",
     "text": [
      "Even though the 'startprob_' attribute is set, it will be overwritten during initialization because 'init_params' contains 's'\n",
      "Even though the 'transmat_' attribute is set, it will be overwritten during initialization because 'init_params' contains 't'\n"
     ]
    },
    {
     "name": "stdout",
     "output_type": "stream",
     "text": [
      "Modelling probabilities of class  1  of  9  classes\n"
     ]
    },
    {
     "name": "stderr",
     "output_type": "stream",
     "text": [
      "Even though the 'startprob_' attribute is set, it will be overwritten during initialization because 'init_params' contains 's'\n",
      "Even though the 'transmat_' attribute is set, it will be overwritten during initialization because 'init_params' contains 't'\n"
     ]
    },
    {
     "name": "stdout",
     "output_type": "stream",
     "text": [
      "Modelling probabilities of class  2  of  9  classes\n"
     ]
    },
    {
     "name": "stderr",
     "output_type": "stream",
     "text": [
      "Even though the 'startprob_' attribute is set, it will be overwritten during initialization because 'init_params' contains 's'\n",
      "Even though the 'transmat_' attribute is set, it will be overwritten during initialization because 'init_params' contains 't'\n"
     ]
    },
    {
     "name": "stdout",
     "output_type": "stream",
     "text": [
      "Modelling probabilities of class  3  of  9  classes\n"
     ]
    },
    {
     "name": "stderr",
     "output_type": "stream",
     "text": [
      "Even though the 'startprob_' attribute is set, it will be overwritten during initialization because 'init_params' contains 's'\n",
      "Even though the 'transmat_' attribute is set, it will be overwritten during initialization because 'init_params' contains 't'\n"
     ]
    },
    {
     "name": "stdout",
     "output_type": "stream",
     "text": [
      "Modelling probabilities of class  4  of  9  classes\n"
     ]
    },
    {
     "name": "stderr",
     "output_type": "stream",
     "text": [
      "Even though the 'startprob_' attribute is set, it will be overwritten during initialization because 'init_params' contains 's'\n",
      "Even though the 'transmat_' attribute is set, it will be overwritten during initialization because 'init_params' contains 't'\n"
     ]
    },
    {
     "name": "stdout",
     "output_type": "stream",
     "text": [
      "Modelling probabilities of class  5  of  9  classes\n"
     ]
    },
    {
     "name": "stderr",
     "output_type": "stream",
     "text": [
      "Even though the 'startprob_' attribute is set, it will be overwritten during initialization because 'init_params' contains 's'\n",
      "Even though the 'transmat_' attribute is set, it will be overwritten during initialization because 'init_params' contains 't'\n"
     ]
    },
    {
     "name": "stdout",
     "output_type": "stream",
     "text": [
      "Modelling probabilities of class  6  of  9  classes\n"
     ]
    },
    {
     "name": "stderr",
     "output_type": "stream",
     "text": [
      "Even though the 'startprob_' attribute is set, it will be overwritten during initialization because 'init_params' contains 's'\n",
      "Even though the 'transmat_' attribute is set, it will be overwritten during initialization because 'init_params' contains 't'\n"
     ]
    },
    {
     "name": "stdout",
     "output_type": "stream",
     "text": [
      "Modelling probabilities of class  7  of  9  classes\n"
     ]
    },
    {
     "name": "stderr",
     "output_type": "stream",
     "text": [
      "Even though the 'startprob_' attribute is set, it will be overwritten during initialization because 'init_params' contains 's'\n",
      "Even though the 'transmat_' attribute is set, it will be overwritten during initialization because 'init_params' contains 't'\n"
     ]
    },
    {
     "name": "stdout",
     "output_type": "stream",
     "text": [
      "Modelling probabilities of class  8  of  9  classes\n"
     ]
    },
    {
     "name": "stderr",
     "output_type": "stream",
     "text": [
      "Even though the 'startprob_' attribute is set, it will be overwritten during initialization because 'init_params' contains 's'\n",
      "Even though the 'transmat_' attribute is set, it will be overwritten during initialization because 'init_params' contains 't'\n"
     ]
    },
    {
     "name": "stdout",
     "output_type": "stream",
     "text": [
      "Modelling probabilities of class  9  of  9  classes\n"
     ]
    }
   ],
   "source": [
    "n_iter=100\n",
    "feature_involved_1= ['curvature_1']\n",
    "\n",
    "\n",
    "for n_class, _ in df_classes.items():\n",
    "    print(\"Modelling probabilities of class \", n_class,\" of \", len(df_classes)-1, \" classes\")\n",
    "    model = hmm.GaussianHMM(n_components=6, n_iter=n_iter, verbose=False, tol=0.01, random_state=44)\n",
    "    # model = base.BaseHMM(n_components=6, n_iter=n_iter)\n",
    "    data_true = df_classes[n_class][feature_involved_1].values.tolist()\n",
    "    data_list = np.array([ [three] for one in data_true for two in one for three in two] )\n",
    "    len_list = [len(two) for one in data_true for two in one ]\n",
    "\n",
    "    initial_prob = np.array([1, 0, 0, 0, 0, 0])\n",
    "    transition_prob = np.ones((6, 6))\n",
    "    transition_prob = transition_prob / np.sum(transition_prob, axis=1)\n",
    "\n",
    "\n",
    "    model.startprob_ = initial_prob\n",
    "    model.transmat_ = transition_prob\n",
    "\n",
    "\n",
    "\n",
    "    \n",
    "    \n",
    "\n",
    "\n",
    "    model.fit(data_list, len_list)\n",
    "    \n",
    "\n",
    "    # print(\"initial probability: \", model.startprob_)\n",
    "    # print(f'transition: \\n{model.transmat_}')\n",
    "    # print(f'emission: \\n{model.emissionprob_}')\n",
    "\n",
    "    with open ('models_2/'+str(n_class)+'hmm_model.pkl', 'wb') as f: #Save model\n",
    "        pickle.dump(model, f)"
   ]
  },
  {
   "cell_type": "markdown",
   "metadata": {},
   "source": [
    "# GMMHMM: curvature_1 (models_2_2)"
   ]
  },
  {
   "cell_type": "code",
   "execution_count": null,
   "metadata": {},
   "outputs": [
    {
     "name": "stdout",
     "output_type": "stream",
     "text": [
      "Modelling probabilities of class  0  of  9  classes\n",
      "Modelling probabilities of class  1  of  9  classes\n",
      "Modelling probabilities of class  2  of  9  classes\n",
      "Modelling probabilities of class  3  of  9  classes\n"
     ]
    },
    {
     "name": "stderr",
     "output_type": "stream",
     "text": [
      "/home/thomas/anaconda3/envs/pml/lib/python3.9/site-packages/hmmlearn/hmm.py:1051: RuntimeWarning: invalid value encountered in true_divide\n",
      "  self.covars_ = c_n / c_d\n"
     ]
    },
    {
     "name": "stdout",
     "output_type": "stream",
     "text": [
      "Modelling probabilities of class  4  of  9  classes\n"
     ]
    },
    {
     "name": "stderr",
     "output_type": "stream",
     "text": [
      "/home/thomas/anaconda3/envs/pml/lib/python3.9/site-packages/hmmlearn/hmm.py:1051: RuntimeWarning: invalid value encountered in true_divide\n",
      "  self.covars_ = c_n / c_d\n"
     ]
    },
    {
     "name": "stdout",
     "output_type": "stream",
     "text": [
      "Modelling probabilities of class  5  of  9  classes\n",
      "Modelling probabilities of class  6  of  9  classes\n",
      "Modelling probabilities of class  7  of  9  classes\n",
      "Modelling probabilities of class  8  of  9  classes\n"
     ]
    },
    {
     "name": "stderr",
     "output_type": "stream",
     "text": [
      "/home/thomas/anaconda3/envs/pml/lib/python3.9/site-packages/hmmlearn/hmm.py:1051: RuntimeWarning: invalid value encountered in true_divide\n",
      "  self.covars_ = c_n / c_d\n"
     ]
    },
    {
     "name": "stdout",
     "output_type": "stream",
     "text": [
      "Modelling probabilities of class  9  of  9  classes\n"
     ]
    }
   ],
   "source": [
    "n_iter=100 #CAMBIAREEEEEEEEEEEEEEEEEEEEEEEEEE A 1000\n",
    "feature_involved_1= ['curvature_1']\n",
    "\n",
    "\n",
    "for n_class, _ in df_classes.items():\n",
    "    print(\"Modelling probabilities of class \", n_class,\" of \", len(df_classes)-1, \" classes\")\n",
    "    model = hmm.GMMHMM(n_components=6, n_mix=3, n_iter=n_iter, verbose=False, tol=0.01, random_state=44)\n",
    "\n",
    "    data_true = df_classes[n_class][feature_involved_1].values.tolist()\n",
    "    data_list = np.array([ [three] for one in data_true for two in one for three in two] )\n",
    "    len_list = [len(two) for one in data_true for two in one ]\n",
    "\n",
    "    #initial_prob = np.array([1, 0, 0, 0, 0, 0])\n",
    "    #transition_prob = np.ones((6, 6))\n",
    "    #transition_prob = transition_prob / np.sum(transition_prob, axis=1)\n",
    "\n",
    "\n",
    "    #model.startprob_ = initial_prob\n",
    "    #model.transmat_ = transition_prob\n",
    "\n",
    "\n",
    "\n",
    "    \n",
    "    \n",
    "\n",
    "\n",
    "    model.fit(data_list, len_list)\n",
    "    \n",
    "\n",
    "    # print(\"initial probability: \", model.startprob_)\n",
    "    # print(f'transition: \\n{model.transmat_}')\n",
    "    # print(f'emission: \\n{model.emissionprob_}')\n",
    "\n",
    "    with open ('models_2_2/'+str(n_class)+'hmm_model.pkl', 'wb') as f: #Save model\n",
    "        pickle.dump(model, f)"
   ]
  },
  {
   "cell_type": "markdown",
   "metadata": {},
   "source": [
    "# GaussianHMM: curvature_2 (models_3)"
   ]
  },
  {
   "cell_type": "code",
   "execution_count": null,
   "metadata": {
    "collapsed": true,
    "jupyter": {
     "outputs_hidden": true
    },
    "tags": []
   },
   "outputs": [
    {
     "name": "stderr",
     "output_type": "stream",
     "text": [
      "Even though the 'startprob_' attribute is set, it will be overwritten during initialization because 'init_params' contains 's'\n",
      "Even though the 'transmat_' attribute is set, it will be overwritten during initialization because 'init_params' contains 't'\n"
     ]
    },
    {
     "name": "stdout",
     "output_type": "stream",
     "text": [
      "Modelling probabilities of class  0  of  9  classes\n"
     ]
    },
    {
     "name": "stderr",
     "output_type": "stream",
     "text": [
      "Even though the 'startprob_' attribute is set, it will be overwritten during initialization because 'init_params' contains 's'\n",
      "Even though the 'transmat_' attribute is set, it will be overwritten during initialization because 'init_params' contains 't'\n"
     ]
    },
    {
     "name": "stdout",
     "output_type": "stream",
     "text": [
      "Modelling probabilities of class  1  of  9  classes\n"
     ]
    },
    {
     "name": "stderr",
     "output_type": "stream",
     "text": [
      "Even though the 'startprob_' attribute is set, it will be overwritten during initialization because 'init_params' contains 's'\n",
      "Even though the 'transmat_' attribute is set, it will be overwritten during initialization because 'init_params' contains 't'\n"
     ]
    },
    {
     "name": "stdout",
     "output_type": "stream",
     "text": [
      "Modelling probabilities of class  2  of  9  classes\n"
     ]
    },
    {
     "name": "stderr",
     "output_type": "stream",
     "text": [
      "Even though the 'startprob_' attribute is set, it will be overwritten during initialization because 'init_params' contains 's'\n",
      "Even though the 'transmat_' attribute is set, it will be overwritten during initialization because 'init_params' contains 't'\n"
     ]
    },
    {
     "name": "stdout",
     "output_type": "stream",
     "text": [
      "Modelling probabilities of class  3  of  9  classes\n"
     ]
    },
    {
     "name": "stderr",
     "output_type": "stream",
     "text": [
      "Even though the 'startprob_' attribute is set, it will be overwritten during initialization because 'init_params' contains 's'\n",
      "Even though the 'transmat_' attribute is set, it will be overwritten during initialization because 'init_params' contains 't'\n"
     ]
    },
    {
     "name": "stdout",
     "output_type": "stream",
     "text": [
      "Modelling probabilities of class  4  of  9  classes\n"
     ]
    },
    {
     "name": "stderr",
     "output_type": "stream",
     "text": [
      "Even though the 'startprob_' attribute is set, it will be overwritten during initialization because 'init_params' contains 's'\n",
      "Even though the 'transmat_' attribute is set, it will be overwritten during initialization because 'init_params' contains 't'\n"
     ]
    },
    {
     "name": "stdout",
     "output_type": "stream",
     "text": [
      "Modelling probabilities of class  5  of  9  classes\n"
     ]
    },
    {
     "name": "stderr",
     "output_type": "stream",
     "text": [
      "Even though the 'startprob_' attribute is set, it will be overwritten during initialization because 'init_params' contains 's'\n",
      "Even though the 'transmat_' attribute is set, it will be overwritten during initialization because 'init_params' contains 't'\n"
     ]
    },
    {
     "name": "stdout",
     "output_type": "stream",
     "text": [
      "Modelling probabilities of class  6  of  9  classes\n"
     ]
    },
    {
     "name": "stderr",
     "output_type": "stream",
     "text": [
      "Even though the 'startprob_' attribute is set, it will be overwritten during initialization because 'init_params' contains 's'\n",
      "Even though the 'transmat_' attribute is set, it will be overwritten during initialization because 'init_params' contains 't'\n"
     ]
    },
    {
     "name": "stdout",
     "output_type": "stream",
     "text": [
      "Modelling probabilities of class  7  of  9  classes\n"
     ]
    },
    {
     "name": "stderr",
     "output_type": "stream",
     "text": [
      "Even though the 'startprob_' attribute is set, it will be overwritten during initialization because 'init_params' contains 's'\n",
      "Even though the 'transmat_' attribute is set, it will be overwritten during initialization because 'init_params' contains 't'\n"
     ]
    },
    {
     "name": "stdout",
     "output_type": "stream",
     "text": [
      "Modelling probabilities of class  8  of  9  classes\n"
     ]
    },
    {
     "name": "stderr",
     "output_type": "stream",
     "text": [
      "Even though the 'startprob_' attribute is set, it will be overwritten during initialization because 'init_params' contains 's'\n",
      "Even though the 'transmat_' attribute is set, it will be overwritten during initialization because 'init_params' contains 't'\n"
     ]
    },
    {
     "name": "stdout",
     "output_type": "stream",
     "text": [
      "Modelling probabilities of class  9  of  9  classes\n"
     ]
    }
   ],
   "source": [
    "n_iter=1000\n",
    "feature_involved_1= ['curvature_2']\n",
    "\n",
    "\n",
    "for n_class, _ in df_classes.items():\n",
    "    print(\"Modelling probabilities of class \", n_class,\" of \", len(df_classes)-1, \" classes\")\n",
    "    model = hmm.GaussianHMM(n_components=6, n_iter=n_iter, verbose=False, tol=0.01, random_state=44)\n",
    "\n",
    "    data_true = df_classes[n_class][feature_involved_1].values.tolist()\n",
    "    data_list = np.array([ [three] for one in data_true for two in one for three in two] )\n",
    "    len_list = [len(two) for one in data_true for two in one ]\n",
    "\n",
    "    initial_prob = np.array([1, 0, 0, 0, 0, 0])\n",
    "    transition_prob = np.ones((6, 6))\n",
    "    transition_prob = transition_prob / np.sum(transition_prob, axis=1)\n",
    "\n",
    "\n",
    "    model.startprob_ = initial_prob\n",
    "    model.transmat_ = transition_prob\n",
    "\n",
    "\n",
    "\n",
    "    \n",
    "    \n",
    "\n",
    "\n",
    "    model.fit(data_list, len_list)\n",
    "    \n",
    "\n",
    "    # print(\"initial probability: \", model.startprob_)\n",
    "    # print(f'transition: \\n{model.transmat_}')\n",
    "    # print(f'emission: \\n{model.emissionprob_}')\n",
    "\n",
    "    with open ('models_3/'+str(n_class)+'hmm_model.pkl', 'wb') as f: #Save model\n",
    "        pickle.dump(model, f)"
   ]
  },
  {
   "cell_type": "markdown",
   "metadata": {},
   "source": [
    "# GaussianHMM: curvature_4 (models_4)"
   ]
  },
  {
   "cell_type": "code",
   "execution_count": null,
   "metadata": {
    "collapsed": true,
    "jupyter": {
     "outputs_hidden": true
    },
    "tags": []
   },
   "outputs": [
    {
     "name": "stderr",
     "output_type": "stream",
     "text": [
      "Even though the 'startprob_' attribute is set, it will be overwritten during initialization because 'init_params' contains 's'\n",
      "Even though the 'transmat_' attribute is set, it will be overwritten during initialization because 'init_params' contains 't'\n"
     ]
    },
    {
     "name": "stdout",
     "output_type": "stream",
     "text": [
      "Modelling probabilities of class  0  of  9  classes\n"
     ]
    },
    {
     "name": "stderr",
     "output_type": "stream",
     "text": [
      "Even though the 'startprob_' attribute is set, it will be overwritten during initialization because 'init_params' contains 's'\n",
      "Even though the 'transmat_' attribute is set, it will be overwritten during initialization because 'init_params' contains 't'\n"
     ]
    },
    {
     "name": "stdout",
     "output_type": "stream",
     "text": [
      "Modelling probabilities of class  1  of  9  classes\n"
     ]
    },
    {
     "name": "stderr",
     "output_type": "stream",
     "text": [
      "Even though the 'startprob_' attribute is set, it will be overwritten during initialization because 'init_params' contains 's'\n",
      "Even though the 'transmat_' attribute is set, it will be overwritten during initialization because 'init_params' contains 't'\n"
     ]
    },
    {
     "name": "stdout",
     "output_type": "stream",
     "text": [
      "Modelling probabilities of class  2  of  9  classes\n"
     ]
    },
    {
     "name": "stderr",
     "output_type": "stream",
     "text": [
      "Even though the 'startprob_' attribute is set, it will be overwritten during initialization because 'init_params' contains 's'\n",
      "Even though the 'transmat_' attribute is set, it will be overwritten during initialization because 'init_params' contains 't'\n"
     ]
    },
    {
     "name": "stdout",
     "output_type": "stream",
     "text": [
      "Modelling probabilities of class  3  of  9  classes\n"
     ]
    },
    {
     "name": "stderr",
     "output_type": "stream",
     "text": [
      "Even though the 'startprob_' attribute is set, it will be overwritten during initialization because 'init_params' contains 's'\n",
      "Even though the 'transmat_' attribute is set, it will be overwritten during initialization because 'init_params' contains 't'\n"
     ]
    },
    {
     "name": "stdout",
     "output_type": "stream",
     "text": [
      "Modelling probabilities of class  4  of  9  classes\n"
     ]
    },
    {
     "name": "stderr",
     "output_type": "stream",
     "text": [
      "Even though the 'startprob_' attribute is set, it will be overwritten during initialization because 'init_params' contains 's'\n",
      "Even though the 'transmat_' attribute is set, it will be overwritten during initialization because 'init_params' contains 't'\n"
     ]
    },
    {
     "name": "stdout",
     "output_type": "stream",
     "text": [
      "Modelling probabilities of class  5  of  9  classes\n"
     ]
    },
    {
     "name": "stderr",
     "output_type": "stream",
     "text": [
      "Even though the 'startprob_' attribute is set, it will be overwritten during initialization because 'init_params' contains 's'\n",
      "Even though the 'transmat_' attribute is set, it will be overwritten during initialization because 'init_params' contains 't'\n"
     ]
    },
    {
     "name": "stdout",
     "output_type": "stream",
     "text": [
      "Modelling probabilities of class  6  of  9  classes\n"
     ]
    },
    {
     "name": "stderr",
     "output_type": "stream",
     "text": [
      "Even though the 'startprob_' attribute is set, it will be overwritten during initialization because 'init_params' contains 's'\n",
      "Even though the 'transmat_' attribute is set, it will be overwritten during initialization because 'init_params' contains 't'\n"
     ]
    },
    {
     "name": "stdout",
     "output_type": "stream",
     "text": [
      "Modelling probabilities of class  7  of  9  classes\n"
     ]
    },
    {
     "name": "stderr",
     "output_type": "stream",
     "text": [
      "Even though the 'startprob_' attribute is set, it will be overwritten during initialization because 'init_params' contains 's'\n",
      "Even though the 'transmat_' attribute is set, it will be overwritten during initialization because 'init_params' contains 't'\n"
     ]
    },
    {
     "name": "stdout",
     "output_type": "stream",
     "text": [
      "Modelling probabilities of class  8  of  9  classes\n"
     ]
    },
    {
     "name": "stderr",
     "output_type": "stream",
     "text": [
      "Even though the 'startprob_' attribute is set, it will be overwritten during initialization because 'init_params' contains 's'\n",
      "Even though the 'transmat_' attribute is set, it will be overwritten during initialization because 'init_params' contains 't'\n"
     ]
    },
    {
     "name": "stdout",
     "output_type": "stream",
     "text": [
      "Modelling probabilities of class  9  of  9  classes\n"
     ]
    }
   ],
   "source": [
    "n_iter=1000\n",
    "feature_involved_1= ['curvature_4']\n",
    "\n",
    "\n",
    "for n_class, _ in df_classes.items():\n",
    "    print(\"Modelling probabilities of class \", n_class,\" of \", len(df_classes)-1, \" classes\")\n",
    "    model = hmm.GaussianHMM(n_components=6, n_iter=n_iter, verbose=False, tol=0.01, random_state=44)\n",
    "    # model = base.BaseHMM(n_components=6, n_iter=n_iter)\n",
    "    data_true = df_classes[n_class][feature_involved_1].values.tolist()\n",
    "    data_list = np.array([ [three] for one in data_true for two in one for three in two] )\n",
    "    len_list = [len(two) for one in data_true for two in one ]\n",
    "\n",
    "    initial_prob = np.array([1, 0, 0, 0, 0, 0])\n",
    "    transition_prob = np.ones((6, 6))\n",
    "    transition_prob = transition_prob / np.sum(transition_prob, axis=1)\n",
    "\n",
    "\n",
    "    model.startprob_ = initial_prob\n",
    "    model.transmat_ = transition_prob\n",
    "\n",
    "\n",
    "\n",
    "    \n",
    "    \n",
    "\n",
    "\n",
    "    model.fit(data_list, len_list)\n",
    "    \n",
    "\n",
    "    # print(\"initial probability: \", model.startprob_)\n",
    "    # print(f'transition: \\n{model.transmat_}')\n",
    "    # print(f'emission: \\n{model.emissionprob_}')\n",
    "\n",
    "    with open ('models_4/'+str(n_class)+'hmm_model.pkl', 'wb') as f: #Save model\n",
    "        pickle.dump(model, f)"
   ]
  },
  {
   "cell_type": "markdown",
   "metadata": {},
   "source": [
    "# GaussianHMM: arctan2_2 (models_5)"
   ]
  },
  {
   "cell_type": "code",
   "execution_count": null,
   "metadata": {
    "collapsed": true,
    "jupyter": {
     "outputs_hidden": true
    },
    "tags": []
   },
   "outputs": [
    {
     "name": "stderr",
     "output_type": "stream",
     "text": [
      "Even though the 'startprob_' attribute is set, it will be overwritten during initialization because 'init_params' contains 's'\n",
      "Even though the 'transmat_' attribute is set, it will be overwritten during initialization because 'init_params' contains 't'\n"
     ]
    },
    {
     "name": "stdout",
     "output_type": "stream",
     "text": [
      "Modelling probabilities of class  0  of  9  classes\n"
     ]
    },
    {
     "name": "stderr",
     "output_type": "stream",
     "text": [
      "Even though the 'startprob_' attribute is set, it will be overwritten during initialization because 'init_params' contains 's'\n",
      "Even though the 'transmat_' attribute is set, it will be overwritten during initialization because 'init_params' contains 't'\n"
     ]
    },
    {
     "name": "stdout",
     "output_type": "stream",
     "text": [
      "Modelling probabilities of class  1  of  9  classes\n"
     ]
    },
    {
     "name": "stderr",
     "output_type": "stream",
     "text": [
      "Even though the 'startprob_' attribute is set, it will be overwritten during initialization because 'init_params' contains 's'\n",
      "Even though the 'transmat_' attribute is set, it will be overwritten during initialization because 'init_params' contains 't'\n"
     ]
    },
    {
     "name": "stdout",
     "output_type": "stream",
     "text": [
      "Modelling probabilities of class  2  of  9  classes\n"
     ]
    },
    {
     "name": "stderr",
     "output_type": "stream",
     "text": [
      "Even though the 'startprob_' attribute is set, it will be overwritten during initialization because 'init_params' contains 's'\n",
      "Even though the 'transmat_' attribute is set, it will be overwritten during initialization because 'init_params' contains 't'\n"
     ]
    },
    {
     "name": "stdout",
     "output_type": "stream",
     "text": [
      "Modelling probabilities of class  3  of  9  classes\n"
     ]
    },
    {
     "name": "stderr",
     "output_type": "stream",
     "text": [
      "Even though the 'startprob_' attribute is set, it will be overwritten during initialization because 'init_params' contains 's'\n",
      "Even though the 'transmat_' attribute is set, it will be overwritten during initialization because 'init_params' contains 't'\n"
     ]
    },
    {
     "name": "stdout",
     "output_type": "stream",
     "text": [
      "Modelling probabilities of class  4  of  9  classes\n"
     ]
    },
    {
     "name": "stderr",
     "output_type": "stream",
     "text": [
      "Even though the 'startprob_' attribute is set, it will be overwritten during initialization because 'init_params' contains 's'\n",
      "Even though the 'transmat_' attribute is set, it will be overwritten during initialization because 'init_params' contains 't'\n"
     ]
    },
    {
     "name": "stdout",
     "output_type": "stream",
     "text": [
      "Modelling probabilities of class  5  of  9  classes\n"
     ]
    },
    {
     "name": "stderr",
     "output_type": "stream",
     "text": [
      "Even though the 'startprob_' attribute is set, it will be overwritten during initialization because 'init_params' contains 's'\n",
      "Even though the 'transmat_' attribute is set, it will be overwritten during initialization because 'init_params' contains 't'\n"
     ]
    },
    {
     "name": "stdout",
     "output_type": "stream",
     "text": [
      "Modelling probabilities of class  6  of  9  classes\n"
     ]
    },
    {
     "name": "stderr",
     "output_type": "stream",
     "text": [
      "Even though the 'startprob_' attribute is set, it will be overwritten during initialization because 'init_params' contains 's'\n",
      "Even though the 'transmat_' attribute is set, it will be overwritten during initialization because 'init_params' contains 't'\n"
     ]
    },
    {
     "name": "stdout",
     "output_type": "stream",
     "text": [
      "Modelling probabilities of class  7  of  9  classes\n"
     ]
    },
    {
     "name": "stderr",
     "output_type": "stream",
     "text": [
      "Even though the 'startprob_' attribute is set, it will be overwritten during initialization because 'init_params' contains 's'\n",
      "Even though the 'transmat_' attribute is set, it will be overwritten during initialization because 'init_params' contains 't'\n"
     ]
    },
    {
     "name": "stdout",
     "output_type": "stream",
     "text": [
      "Modelling probabilities of class  8  of  9  classes\n"
     ]
    },
    {
     "name": "stderr",
     "output_type": "stream",
     "text": [
      "Even though the 'startprob_' attribute is set, it will be overwritten during initialization because 'init_params' contains 's'\n",
      "Even though the 'transmat_' attribute is set, it will be overwritten during initialization because 'init_params' contains 't'\n"
     ]
    },
    {
     "name": "stdout",
     "output_type": "stream",
     "text": [
      "Modelling probabilities of class  9  of  9  classes\n"
     ]
    }
   ],
   "source": [
    "n_iter=1000\n",
    "feature_involved_1= ['arctan2_2']\n",
    "\n",
    "\n",
    "for n_class, _ in df_classes.items():\n",
    "    print(\"Modelling probabilities of class \", n_class,\" of \", len(df_classes)-1, \" classes\")\n",
    "    model = hmm.GaussianHMM(n_components=6, n_iter=n_iter, verbose=False, tol=0.01, random_state=44)\n",
    "    # model = base.BaseHMM(n_components=6, n_iter=n_iter)\n",
    "    data_true = df_classes[n_class][feature_involved_1].values.tolist()\n",
    "    data_list = np.array([ [three] for one in data_true for two in one for three in two] )\n",
    "    len_list = [len(two) for one in data_true for two in one ]\n",
    "\n",
    "    initial_prob = np.array([1, 0, 0, 0, 0, 0])\n",
    "    transition_prob = np.ones((6, 6))\n",
    "    transition_prob = transition_prob / np.sum(transition_prob, axis=1)\n",
    "\n",
    "\n",
    "    model.startprob_ = initial_prob\n",
    "    model.transmat_ = transition_prob\n",
    "\n",
    "\n",
    "\n",
    "    \n",
    "    \n",
    "\n",
    "\n",
    "    model.fit(data_list, len_list)\n",
    "    \n",
    "\n",
    "    # print(\"initial probability: \", model.startprob_)\n",
    "    # print(f'transition: \\n{model.transmat_}')\n",
    "    # print(f'emission: \\n{model.emissionprob_}')\n",
    "\n",
    "    with open ('models_5/'+str(n_class)+'hmm_model.pkl', 'wb') as f: #Save model\n",
    "        pickle.dump(model, f)"
   ]
  },
  {
   "cell_type": "markdown",
   "metadata": {},
   "source": [
    "# GaussianHMM: arctan_1 (models_6)"
   ]
  },
  {
   "cell_type": "code",
   "execution_count": null,
   "metadata": {
    "collapsed": true,
    "jupyter": {
     "outputs_hidden": true
    },
    "tags": []
   },
   "outputs": [
    {
     "name": "stderr",
     "output_type": "stream",
     "text": [
      "Even though the 'startprob_' attribute is set, it will be overwritten during initialization because 'init_params' contains 's'\n",
      "Even though the 'transmat_' attribute is set, it will be overwritten during initialization because 'init_params' contains 't'\n"
     ]
    },
    {
     "name": "stdout",
     "output_type": "stream",
     "text": [
      "Modelling probabilities of class  0  of  9  classes\n"
     ]
    },
    {
     "name": "stderr",
     "output_type": "stream",
     "text": [
      "Even though the 'startprob_' attribute is set, it will be overwritten during initialization because 'init_params' contains 's'\n",
      "Even though the 'transmat_' attribute is set, it will be overwritten during initialization because 'init_params' contains 't'\n"
     ]
    },
    {
     "name": "stdout",
     "output_type": "stream",
     "text": [
      "Modelling probabilities of class  1  of  9  classes\n"
     ]
    },
    {
     "name": "stderr",
     "output_type": "stream",
     "text": [
      "Even though the 'startprob_' attribute is set, it will be overwritten during initialization because 'init_params' contains 's'\n",
      "Even though the 'transmat_' attribute is set, it will be overwritten during initialization because 'init_params' contains 't'\n"
     ]
    },
    {
     "name": "stdout",
     "output_type": "stream",
     "text": [
      "Modelling probabilities of class  2  of  9  classes\n"
     ]
    },
    {
     "name": "stderr",
     "output_type": "stream",
     "text": [
      "Even though the 'startprob_' attribute is set, it will be overwritten during initialization because 'init_params' contains 's'\n",
      "Even though the 'transmat_' attribute is set, it will be overwritten during initialization because 'init_params' contains 't'\n"
     ]
    },
    {
     "name": "stdout",
     "output_type": "stream",
     "text": [
      "Modelling probabilities of class  3  of  9  classes\n"
     ]
    },
    {
     "name": "stderr",
     "output_type": "stream",
     "text": [
      "Even though the 'startprob_' attribute is set, it will be overwritten during initialization because 'init_params' contains 's'\n",
      "Even though the 'transmat_' attribute is set, it will be overwritten during initialization because 'init_params' contains 't'\n"
     ]
    },
    {
     "name": "stdout",
     "output_type": "stream",
     "text": [
      "Modelling probabilities of class  4  of  9  classes\n"
     ]
    },
    {
     "name": "stderr",
     "output_type": "stream",
     "text": [
      "Even though the 'startprob_' attribute is set, it will be overwritten during initialization because 'init_params' contains 's'\n",
      "Even though the 'transmat_' attribute is set, it will be overwritten during initialization because 'init_params' contains 't'\n"
     ]
    },
    {
     "name": "stdout",
     "output_type": "stream",
     "text": [
      "Modelling probabilities of class  5  of  9  classes\n"
     ]
    },
    {
     "name": "stderr",
     "output_type": "stream",
     "text": [
      "Even though the 'startprob_' attribute is set, it will be overwritten during initialization because 'init_params' contains 's'\n",
      "Even though the 'transmat_' attribute is set, it will be overwritten during initialization because 'init_params' contains 't'\n"
     ]
    },
    {
     "name": "stdout",
     "output_type": "stream",
     "text": [
      "Modelling probabilities of class  6  of  9  classes\n"
     ]
    },
    {
     "name": "stderr",
     "output_type": "stream",
     "text": [
      "Even though the 'startprob_' attribute is set, it will be overwritten during initialization because 'init_params' contains 's'\n",
      "Even though the 'transmat_' attribute is set, it will be overwritten during initialization because 'init_params' contains 't'\n"
     ]
    },
    {
     "name": "stdout",
     "output_type": "stream",
     "text": [
      "Modelling probabilities of class  7  of  9  classes\n"
     ]
    },
    {
     "name": "stderr",
     "output_type": "stream",
     "text": [
      "Even though the 'startprob_' attribute is set, it will be overwritten during initialization because 'init_params' contains 's'\n",
      "Even though the 'transmat_' attribute is set, it will be overwritten during initialization because 'init_params' contains 't'\n"
     ]
    },
    {
     "name": "stdout",
     "output_type": "stream",
     "text": [
      "Modelling probabilities of class  8  of  9  classes\n"
     ]
    },
    {
     "name": "stderr",
     "output_type": "stream",
     "text": [
      "Even though the 'startprob_' attribute is set, it will be overwritten during initialization because 'init_params' contains 's'\n",
      "Even though the 'transmat_' attribute is set, it will be overwritten during initialization because 'init_params' contains 't'\n"
     ]
    },
    {
     "name": "stdout",
     "output_type": "stream",
     "text": [
      "Modelling probabilities of class  9  of  9  classes\n"
     ]
    }
   ],
   "source": [
    "n_iter=1000\n",
    "feature_involved_1= ['arctan_1']\n",
    "\n",
    "\n",
    "for n_class, _ in df_classes.items():\n",
    "    print(\"Modelling probabilities of class \", n_class,\" of \", len(df_classes)-1, \" classes\")\n",
    "    model = hmm.GaussianHMM(n_components=6, n_iter=n_iter, verbose=False, tol=0.01, random_state=44)\n",
    "    # model = base.BaseHMM(n_components=6, n_iter=n_iter)\n",
    "    data_true = df_classes[n_class][feature_involved_1].values.tolist()\n",
    "    data_list = np.array([ [three] for one in data_true for two in one for three in two] )\n",
    "    len_list = [len(two) for one in data_true for two in one ]\n",
    "\n",
    "    initial_prob = np.array([1, 0, 0, 0, 0, 0])\n",
    "    transition_prob = np.ones((6, 6))\n",
    "    transition_prob = transition_prob / np.sum(transition_prob, axis=1)\n",
    "\n",
    "\n",
    "    model.startprob_ = initial_prob\n",
    "    model.transmat_ = transition_prob\n",
    "    \n",
    "\n",
    "\n",
    "    model.fit(data_list, len_list)\n",
    "    \n",
    "\n",
    "    # print(\"initial probability: \", model.startprob_)\n",
    "    # print(f'transition: \\n{model.transmat_}')\n",
    "    # print(f'emission: \\n{model.emissionprob_}')\n",
    "\n",
    "    with open ('models_6/'+str(n_class)+'hmm_model.pkl', 'wb') as f: #Save model\n",
    "        pickle.dump(model, f)"
   ]
  },
  {
   "cell_type": "markdown",
   "metadata": {},
   "source": [
    "# Gaussian HMM :x, y, arctan_1 (models_7)"
   ]
  },
  {
   "cell_type": "code",
   "execution_count": 19,
   "metadata": {
    "tags": []
   },
   "outputs": [
    {
     "name": "stdout",
     "output_type": "stream",
     "text": [
      "Modelling probabilities of class  0  of  9  classes\n"
     ]
    },
    {
     "name": "stderr",
     "output_type": "stream",
     "text": [
      "Even though the 'startprob_' attribute is set, it will be overwritten during initialization because 'init_params' contains 's'\n",
      "Even though the 'transmat_' attribute is set, it will be overwritten during initialization because 'init_params' contains 't'\n",
      "Even though the 'startprob_' attribute is set, it will be overwritten during initialization because 'init_params' contains 's'\n",
      "Even though the 'transmat_' attribute is set, it will be overwritten during initialization because 'init_params' contains 't'\n"
     ]
    },
    {
     "name": "stdout",
     "output_type": "stream",
     "text": [
      "Modelling probabilities of class  1  of  9  classes\n"
     ]
    },
    {
     "name": "stderr",
     "output_type": "stream",
     "text": [
      "Even though the 'startprob_' attribute is set, it will be overwritten during initialization because 'init_params' contains 's'\n",
      "Even though the 'transmat_' attribute is set, it will be overwritten during initialization because 'init_params' contains 't'\n"
     ]
    },
    {
     "name": "stdout",
     "output_type": "stream",
     "text": [
      "Modelling probabilities of class  2  of  9  classes\n"
     ]
    },
    {
     "name": "stderr",
     "output_type": "stream",
     "text": [
      "Even though the 'startprob_' attribute is set, it will be overwritten during initialization because 'init_params' contains 's'\n",
      "Even though the 'transmat_' attribute is set, it will be overwritten during initialization because 'init_params' contains 't'\n"
     ]
    },
    {
     "name": "stdout",
     "output_type": "stream",
     "text": [
      "Modelling probabilities of class  3  of  9  classes\n"
     ]
    },
    {
     "ename": "",
     "evalue": "",
     "output_type": "error",
     "traceback": [
      "\u001b[1;31mImpossibile interrompere il Kernel. \n",
      "No debugger available, can not send 'disconnect'. \n",
      "Per ulteriori dettagli, visualizzare Jupyter <a href='command:jupyter.viewOutput'>log</a>."
     ]
    }
   ],
   "source": [
    "n_iter=100\n",
    "feature_involved_1= ['x']\n",
    "feature_involved_2= ['y']\n",
    "feature_involved_3= ['arctan_1']\n",
    "\n",
    "\n",
    "for n_class, _ in df_classes.items():\n",
    "    print(\"Modelling probabilities of class \", n_class,\" of \", len(df_classes)-1, \" classes\")\n",
    "    model = hmm.GaussianHMM(n_components=6, n_iter=n_iter, verbose=False, tol=0.01, random_state=44)\n",
    "    \n",
    "    # model = hmm.GMMHMM(n_components=6, n_mix=3, n_iter=n_iter, verbose=False, tol=0.01, random_state=44)\n",
    "\n",
    "\n",
    "    initial_prob = np.array([1, 0, 0, 0, 0, 0])\n",
    "    transition_prob = np.ones((6, 6))\n",
    "    transition_prob = transition_prob / np.sum(transition_prob, axis=1)\n",
    "\n",
    "\n",
    "    model.startprob_ = initial_prob\n",
    "    model.transmat_ = transition_prob\n",
    "\n",
    "\n",
    "    data_true_1 = df_classes[n_class][feature_involved_1].values.tolist()\n",
    "    data_true_2 = df_classes[n_class][feature_involved_2].values.tolist()\n",
    "    data_true_3 = df_classes[n_class][feature_involved_2].values.tolist()\n",
    "    data_list_1 = np.array([[three] for one in data_true_1 for two in one for three in two])\n",
    "    data_list_2 = np.array([[z] for x in data_true_2 for y in x for z in y])\n",
    "    data_list_3 = np.array([[z] for x in data_true_3 for y in x for z in y])\n",
    "    len_list = np.array([len(two) for one in data_true_1 for two in one ])\n",
    "    data_list=np.hstack([data_list_1,data_list_2,data_list_3])\n",
    "    \n",
    "\n",
    "    model.fit(data_list, len_list)\n",
    "    # print(f'{model.monitor_}')\n",
    "        \n",
    "  \n",
    "\n",
    "\n",
    "    # print(\"initial probability: \", model.startprob_)\n",
    "    # print(f'transition: \\n{model.transmat_}')\n",
    "    # print(f'emission: \\n{model.emissionprob_}')\n",
    "\n",
    "    with open ('models_7/'+str(n_class)+'hmm_model.pkl', 'wb') as f: #Save model\n",
    "        pickle.dump(model, f)"
   ]
  },
  {
   "cell_type": "markdown",
   "metadata": {},
   "source": [
    "# Gaussian HMM :arctan_2, curvature_1 (models_8)"
   ]
  },
  {
   "cell_type": "code",
   "execution_count": 6,
   "metadata": {
    "collapsed": true,
    "jupyter": {
     "outputs_hidden": true
    },
    "tags": []
   },
   "outputs": [
    {
     "name": "stdout",
     "output_type": "stream",
     "text": [
      "Modelling probabilities of class  0  of  9  classes\n"
     ]
    },
    {
     "name": "stderr",
     "output_type": "stream",
     "text": [
      "/tmp/ipykernel_33126/2329380130.py:51: VisibleDeprecationWarning: Creating an ndarray from ragged nested sequences (which is a list-or-tuple of lists-or-tuples-or ndarrays with different lengths or shapes) is deprecated. If you meant to do this, you must specify 'dtype=object' when creating the ndarray.\n",
      "  data=np.array([b,c]).T\n",
      "Even though the 'startprob_' attribute is set, it will be overwritten during initialization because 'init_params' contains 's'\n",
      "Even though the 'transmat_' attribute is set, it will be overwritten during initialization because 'init_params' contains 't'\n",
      "/tmp/ipykernel_33126/2329380130.py:58: DeprecationWarning: less that 9000 samples in lengths array [ 29  83  20  35  33  15  51  30  68  32  73  28  32  86  50  40  55  47\n",
      "  43  55  67  47  27  35  39  18  16  81  24  46  78  38  40  34  43  33\n",
      " 121  30  55  42  22  40  21 124  33  80  89 120  43  24  23 161  40  58\n",
      "  21  67  90  38  28  40  68  23  42  39  20  57  71  28  80  44 129  53\n",
      "  46  56  59  28  31  52  46  99  45  57  46  41  33  73  84  30  39]; support for silently dropping samples is deprecated and will be removed\n",
      "  model.fit(data, len_list)\n",
      "/tmp/ipykernel_33126/2329380130.py:51: VisibleDeprecationWarning: Creating an ndarray from ragged nested sequences (which is a list-or-tuple of lists-or-tuples-or ndarrays with different lengths or shapes) is deprecated. If you meant to do this, you must specify 'dtype=object' when creating the ndarray.\n",
      "  data=np.array([b,c]).T\n",
      "Even though the 'startprob_' attribute is set, it will be overwritten during initialization because 'init_params' contains 's'\n",
      "Even though the 'transmat_' attribute is set, it will be overwritten during initialization because 'init_params' contains 't'\n"
     ]
    },
    {
     "name": "stdout",
     "output_type": "stream",
     "text": [
      "Modelling probabilities of class  1  of  9  classes\n"
     ]
    },
    {
     "name": "stderr",
     "output_type": "stream",
     "text": [
      "/tmp/ipykernel_33126/2329380130.py:58: DeprecationWarning: less that 5132 samples in lengths array [149  20  66  73  22  23  81  26  97  19  21  43  78  23  27 206  16  35\n",
      "  35  15  20  68  18  28  16  22  72  21  22  69  20  45  16  20  42  15\n",
      "  23  19  17  15  17  14  23  16  19 157  35  33  16  18 130  37  29  30\n",
      "  30  20  18  79  19  17  17  27  15  27  20  40]; support for silently dropping samples is deprecated and will be removed\n",
      "  model.fit(data, len_list)\n",
      "/tmp/ipykernel_33126/2329380130.py:51: VisibleDeprecationWarning: Creating an ndarray from ragged nested sequences (which is a list-or-tuple of lists-or-tuples-or ndarrays with different lengths or shapes) is deprecated. If you meant to do this, you must specify 'dtype=object' when creating the ndarray.\n",
      "  data=np.array([b,c]).T\n",
      "Even though the 'startprob_' attribute is set, it will be overwritten during initialization because 'init_params' contains 's'\n",
      "Even though the 'transmat_' attribute is set, it will be overwritten during initialization because 'init_params' contains 't'\n"
     ]
    },
    {
     "name": "stdout",
     "output_type": "stream",
     "text": [
      "Modelling probabilities of class  2  of  9  classes\n"
     ]
    },
    {
     "name": "stderr",
     "output_type": "stream",
     "text": [
      "/tmp/ipykernel_33126/2329380130.py:58: DeprecationWarning: less that 9486 samples in lengths array [ 28  39  25  32  49  45  41  80  60  59  46  43  25  16  33  22  54  45\n",
      "  61  30  47  24  53  53  35  49  60  54  40  16  33  62  50  32  22  82\n",
      "  36  29  52  54  23  15  49  29  53  34  36  47  22  51  63  61  51  44\n",
      "  21  87  86  33  65  55  23  29  59  59  51  23  23  51  43  25  36  39\n",
      "  35  46  60  53 106  34  48  34  56  51  30  23  36  44  56  74  43  34\n",
      "  38  38  33  77  52  80  41  28  94  41  83  29  32  70  42]; support for silently dropping samples is deprecated and will be removed\n",
      "  model.fit(data, len_list)\n"
     ]
    },
    {
     "ename": "",
     "evalue": "",
     "output_type": "error",
     "traceback": [
      "\u001b[1;31mImpossibile interrompere il Kernel. \n",
      "No debugger available, can not send 'disconnect'. \n",
      "Per ulteriori dettagli, visualizzare Jupyter <a href='command:jupyter.viewOutput'>log</a>."
     ]
    }
   ],
   "source": [
    "n_iter=1000\n",
    "feature_involved_1= ['arctan_1']\n",
    "feature_involved_2= ['curvature_1']\n",
    "\n",
    "\n",
    "\n",
    "for n_class, _ in df_classes.items():\n",
    "    print(\"Modelling probabilities of class \", n_class,\" of \", len(df_classes)-1, \" classes\")\n",
    "    model = hmm.GaussianHMM(n_components=6, n_iter=n_iter, verbose=False, tol=0.01, random_state=44)\n",
    "    # model = base.BaseHMM(n_components=6, n_iter=n_iter)\n",
    "    #data_true = df_classes[n_class][feature_involved_1].values.tolist()\n",
    "    #data_list = np.array([ [three] for one in data_true for two in one for three in two] )\n",
    "    #len_list = [len(two) for one in data_true for two in one ]\n",
    "\n",
    "    initial_prob = np.array([1, 0, 0, 0, 0, 0])\n",
    "    transition_prob = np.ones((6, 6))\n",
    "    transition_prob = transition_prob / np.sum(transition_prob, axis=1)\n",
    "\n",
    "\n",
    "    model.startprob_ = initial_prob\n",
    "    model.transmat_ = transition_prob\n",
    "    \n",
    "    data_true_2 = df_classes[n_class][feature_involved_2].values.tolist()\n",
    "    len_list = np.array([len(two) for one in data_true_2 for two in one ])\n",
    "\n",
    "\n",
    "    data_true_1 = df_classes[n_class][feature_involved_1]\n",
    "    data_true_1=np.squeeze(data_true_1.values)\n",
    "    b=[]\n",
    "    c=[]\n",
    "    for i in range(len(data_true_1)):\n",
    "        a=[]\n",
    "        for each in data_true_1[i]:\n",
    "            a.append(each)\n",
    "        a.pop(0)\n",
    "        a.pop(-1)\n",
    "\n",
    "        b.append(a)\n",
    "   \n",
    "\n",
    "    \n",
    "    data_true_2 = df_classes[n_class][feature_involved_2]\n",
    "    data_true_2=np.squeeze(data_true_2.values)\n",
    "    for i in range(len(data_true_2)):\n",
    "        a=[]\n",
    "        for each in data_true_2[i]:\n",
    "            a.append(each)\n",
    "\n",
    "        c.append(a) \n",
    "\n",
    "    data=np.array([b,c]).T\n",
    "    data = np.array([[three] for one in data for two in one for three in two])\n",
    "    # print(data)\n",
    "        \n",
    "    \n",
    "    \n",
    "\n",
    "    model.fit(data, len_list)\n",
    "    \n",
    "\n",
    "    # print(\"initial probability: \", model.startprob_)\n",
    "    # print(f'transition: \\n{model.transmat_}')\n",
    "    # print(f'emission: \\n{model.emissionprob_}')\n",
    "\n",
    "    with open ('models_8/'+str(n_class)+'hmm_model.pkl', 'wb') as f: #Save model\n",
    "        pickle.dump(model, f)"
   ]
  },
  {
   "cell_type": "markdown",
   "metadata": {},
   "source": [
    "# Gaussian HMM :smoother x, y (models_smoother)"
   ]
  },
  {
   "cell_type": "code",
   "execution_count": null,
   "metadata": {
    "collapsed": true,
    "jupyter": {
     "outputs_hidden": true
    },
    "tags": []
   },
   "outputs": [
    {
     "name": "stderr",
     "output_type": "stream",
     "text": [
      "Even though the 'startprob_' attribute is set, it will be overwritten during initialization because 'init_params' contains 's'\n",
      "Even though the 'transmat_' attribute is set, it will be overwritten during initialization because 'init_params' contains 't'\n"
     ]
    },
    {
     "name": "stdout",
     "output_type": "stream",
     "text": [
      "Modelling probabilities of class  0  of  9  classes\n"
     ]
    },
    {
     "name": "stderr",
     "output_type": "stream",
     "text": [
      "Even though the 'startprob_' attribute is set, it will be overwritten during initialization because 'init_params' contains 's'\n",
      "Even though the 'transmat_' attribute is set, it will be overwritten during initialization because 'init_params' contains 't'\n"
     ]
    },
    {
     "name": "stdout",
     "output_type": "stream",
     "text": [
      "Modelling probabilities of class  1  of  9  classes\n"
     ]
    },
    {
     "name": "stderr",
     "output_type": "stream",
     "text": [
      "Even though the 'startprob_' attribute is set, it will be overwritten during initialization because 'init_params' contains 's'\n",
      "Even though the 'transmat_' attribute is set, it will be overwritten during initialization because 'init_params' contains 't'\n"
     ]
    },
    {
     "name": "stdout",
     "output_type": "stream",
     "text": [
      "Modelling probabilities of class  2  of  9  classes\n"
     ]
    },
    {
     "name": "stderr",
     "output_type": "stream",
     "text": [
      "Even though the 'startprob_' attribute is set, it will be overwritten during initialization because 'init_params' contains 's'\n",
      "Even though the 'transmat_' attribute is set, it will be overwritten during initialization because 'init_params' contains 't'\n"
     ]
    },
    {
     "name": "stdout",
     "output_type": "stream",
     "text": [
      "Modelling probabilities of class  3  of  9  classes\n"
     ]
    },
    {
     "name": "stderr",
     "output_type": "stream",
     "text": [
      "Even though the 'startprob_' attribute is set, it will be overwritten during initialization because 'init_params' contains 's'\n",
      "Even though the 'transmat_' attribute is set, it will be overwritten during initialization because 'init_params' contains 't'\n"
     ]
    },
    {
     "name": "stdout",
     "output_type": "stream",
     "text": [
      "Modelling probabilities of class  4  of  9  classes\n"
     ]
    },
    {
     "name": "stderr",
     "output_type": "stream",
     "text": [
      "Even though the 'startprob_' attribute is set, it will be overwritten during initialization because 'init_params' contains 's'\n",
      "Even though the 'transmat_' attribute is set, it will be overwritten during initialization because 'init_params' contains 't'\n"
     ]
    },
    {
     "name": "stdout",
     "output_type": "stream",
     "text": [
      "Modelling probabilities of class  5  of  9  classes\n"
     ]
    },
    {
     "name": "stderr",
     "output_type": "stream",
     "text": [
      "Even though the 'startprob_' attribute is set, it will be overwritten during initialization because 'init_params' contains 's'\n",
      "Even though the 'transmat_' attribute is set, it will be overwritten during initialization because 'init_params' contains 't'\n"
     ]
    },
    {
     "name": "stdout",
     "output_type": "stream",
     "text": [
      "Modelling probabilities of class  6  of  9  classes\n"
     ]
    },
    {
     "name": "stderr",
     "output_type": "stream",
     "text": [
      "Even though the 'startprob_' attribute is set, it will be overwritten during initialization because 'init_params' contains 's'\n",
      "Even though the 'transmat_' attribute is set, it will be overwritten during initialization because 'init_params' contains 't'\n"
     ]
    },
    {
     "name": "stdout",
     "output_type": "stream",
     "text": [
      "Modelling probabilities of class  7  of  9  classes\n"
     ]
    },
    {
     "name": "stderr",
     "output_type": "stream",
     "text": [
      "Even though the 'startprob_' attribute is set, it will be overwritten during initialization because 'init_params' contains 's'\n",
      "Even though the 'transmat_' attribute is set, it will be overwritten during initialization because 'init_params' contains 't'\n"
     ]
    },
    {
     "name": "stdout",
     "output_type": "stream",
     "text": [
      "Modelling probabilities of class  8  of  9  classes\n"
     ]
    },
    {
     "name": "stderr",
     "output_type": "stream",
     "text": [
      "Even though the 'startprob_' attribute is set, it will be overwritten during initialization because 'init_params' contains 's'\n",
      "Even though the 'transmat_' attribute is set, it will be overwritten during initialization because 'init_params' contains 't'\n"
     ]
    },
    {
     "name": "stdout",
     "output_type": "stream",
     "text": [
      "Modelling probabilities of class  9  of  9  classes\n"
     ]
    }
   ],
   "source": [
    "n_iter=100\n",
    "feature_involved_1= ['x_smooth']\n",
    "feature_involved_2= ['y_smooth']\n",
    "\n",
    "\n",
    "for n_class, _ in df_classes.items():\n",
    "    print(\"Modelling probabilities of class \", n_class,\" of \", len(df_classes)-1, \" classes\")\n",
    "    model = hmm.GaussianHMM(n_components=6, n_iter=n_iter, verbose=False, tol=0.01, random_state=44)\n",
    "    \n",
    "    \n",
    "\n",
    "    initial_prob = np.array([1, 0, 0, 0, 0, 0])\n",
    "    transition_prob = np.ones((6, 6))\n",
    "    transition_prob = transition_prob / np.sum(transition_prob, axis=1)\n",
    "\n",
    "\n",
    "    model.startprob_ = initial_prob\n",
    "    model.transmat_ = transition_prob\n",
    "\n",
    "\n",
    "    data_true_1 = df_classes[n_class][feature_involved_1].values.tolist()\n",
    "    data_true_2 = df_classes[n_class][feature_involved_2].values.tolist()\n",
    "    data_list_1 = np.array([[three] for one in data_true_1 for two in one for three in two])\n",
    "    data_list_2 = np.array([[z] for x in data_true_2 for y in x for z in y])\n",
    "    len_list = np.array([len(two) for one in data_true_1 for two in one ])\n",
    "    data_list=np.hstack([data_list_1,data_list_2])\n",
    "    \n",
    "\n",
    "    model.fit(data_list, len_list)\n",
    "    # print(f'{model.monitor_}')\n",
    "        \n",
    "  \n",
    "\n",
    "\n",
    "    # print(\"initial probability: \", model.startprob_)\n",
    "    # print(f'transition: \\n{model.transmat_}')\n",
    "    # print(f'emission: \\n{model.emissionprob_}')\n",
    "\n",
    "    with open ('models_smoother/'+str(n_class)+'hmm_model.pkl', 'wb') as f: #Save model\n",
    "        pickle.dump(model, f)"
   ]
  },
  {
   "cell_type": "code",
   "execution_count": null,
   "metadata": {},
   "outputs": [
    {
     "ename": "TypeError",
     "evalue": "'float' object is not iterable",
     "output_type": "error",
     "traceback": [
      "\u001b[0;31m---------------------------------------------------------------------------\u001b[0m",
      "\u001b[0;31mTypeError\u001b[0m                                 Traceback (most recent call last)",
      "Input \u001b[0;32mIn [170]\u001b[0m, in \u001b[0;36m<cell line: 3>\u001b[0;34m()\u001b[0m\n\u001b[1;32m      1\u001b[0m data_true_1 \u001b[38;5;241m=\u001b[39m df_classes[\u001b[38;5;241m1\u001b[39m][\u001b[38;5;124m'\u001b[39m\u001b[38;5;124mx\u001b[39m\u001b[38;5;124m'\u001b[39m]\u001b[38;5;241m.\u001b[39mvalues\u001b[38;5;241m.\u001b[39mtolist()\n\u001b[1;32m      2\u001b[0m data_true_2 \u001b[38;5;241m=\u001b[39m df_classes[\u001b[38;5;241m1\u001b[39m][\u001b[38;5;124m'\u001b[39m\u001b[38;5;124my\u001b[39m\u001b[38;5;124m'\u001b[39m]\u001b[38;5;241m.\u001b[39mvalues\u001b[38;5;241m.\u001b[39mtolist()\n\u001b[0;32m----> 3\u001b[0m data_list_1 \u001b[38;5;241m=\u001b[39m np\u001b[38;5;241m.\u001b[39marray([[three] \u001b[38;5;28;01mfor\u001b[39;00m one \u001b[38;5;129;01min\u001b[39;00m data_true_1 \u001b[38;5;28;01mfor\u001b[39;00m two \u001b[38;5;129;01min\u001b[39;00m one \u001b[38;5;28;01mfor\u001b[39;00m three \u001b[38;5;129;01min\u001b[39;00m two])\n\u001b[1;32m      4\u001b[0m data_list_2 \u001b[38;5;241m=\u001b[39m np\u001b[38;5;241m.\u001b[39marray([[z] \u001b[38;5;28;01mfor\u001b[39;00m x \u001b[38;5;129;01min\u001b[39;00m data_true_2 \u001b[38;5;28;01mfor\u001b[39;00m y \u001b[38;5;129;01min\u001b[39;00m x \u001b[38;5;28;01mfor\u001b[39;00m z \u001b[38;5;129;01min\u001b[39;00m y])\n\u001b[1;32m      5\u001b[0m len_list \u001b[38;5;241m=\u001b[39m np\u001b[38;5;241m.\u001b[39marray([\u001b[38;5;28mlen\u001b[39m(two) \u001b[38;5;28;01mfor\u001b[39;00m one \u001b[38;5;129;01min\u001b[39;00m data_true_2 \u001b[38;5;28;01mfor\u001b[39;00m two \u001b[38;5;129;01min\u001b[39;00m one ])\n",
      "Input \u001b[0;32mIn [170]\u001b[0m, in \u001b[0;36m<listcomp>\u001b[0;34m(.0)\u001b[0m\n\u001b[1;32m      1\u001b[0m data_true_1 \u001b[38;5;241m=\u001b[39m df_classes[\u001b[38;5;241m1\u001b[39m][\u001b[38;5;124m'\u001b[39m\u001b[38;5;124mx\u001b[39m\u001b[38;5;124m'\u001b[39m]\u001b[38;5;241m.\u001b[39mvalues\u001b[38;5;241m.\u001b[39mtolist()\n\u001b[1;32m      2\u001b[0m data_true_2 \u001b[38;5;241m=\u001b[39m df_classes[\u001b[38;5;241m1\u001b[39m][\u001b[38;5;124m'\u001b[39m\u001b[38;5;124my\u001b[39m\u001b[38;5;124m'\u001b[39m]\u001b[38;5;241m.\u001b[39mvalues\u001b[38;5;241m.\u001b[39mtolist()\n\u001b[0;32m----> 3\u001b[0m data_list_1 \u001b[38;5;241m=\u001b[39m np\u001b[38;5;241m.\u001b[39marray([[three] \u001b[38;5;28;01mfor\u001b[39;00m one \u001b[38;5;129;01min\u001b[39;00m data_true_1 \u001b[38;5;28;01mfor\u001b[39;00m two \u001b[38;5;129;01min\u001b[39;00m one \u001b[38;5;28;01mfor\u001b[39;00m three \u001b[38;5;129;01min\u001b[39;00m two])\n\u001b[1;32m      4\u001b[0m data_list_2 \u001b[38;5;241m=\u001b[39m np\u001b[38;5;241m.\u001b[39marray([[z] \u001b[38;5;28;01mfor\u001b[39;00m x \u001b[38;5;129;01min\u001b[39;00m data_true_2 \u001b[38;5;28;01mfor\u001b[39;00m y \u001b[38;5;129;01min\u001b[39;00m x \u001b[38;5;28;01mfor\u001b[39;00m z \u001b[38;5;129;01min\u001b[39;00m y])\n\u001b[1;32m      5\u001b[0m len_list \u001b[38;5;241m=\u001b[39m np\u001b[38;5;241m.\u001b[39marray([\u001b[38;5;28mlen\u001b[39m(two) \u001b[38;5;28;01mfor\u001b[39;00m one \u001b[38;5;129;01min\u001b[39;00m data_true_2 \u001b[38;5;28;01mfor\u001b[39;00m two \u001b[38;5;129;01min\u001b[39;00m one ])\n",
      "\u001b[0;31mTypeError\u001b[0m: 'float' object is not iterable"
     ]
    }
   ],
   "source": [
    "\n",
    "# data_true_1 = df_classes[1]['x'].values.tolist()\n",
    "# data_true_2 = df_classes[1]['y'].values.tolist()\n",
    "# data_list_1 = np.array([[three] for one in data_true_1 for two in one for three in two])\n",
    "# data_list_2 = np.array([[z] for x in data_true_2 for y in x for z in y])\n",
    "# len_list = np.array([len(two) for one in data_true_2 for two in one ])\n",
    "# data_list=np.hstack([data_list_1,data_list_2])\n"
   ]
  },
  {
   "cell_type": "code",
   "execution_count": null,
   "metadata": {},
   "outputs": [
    {
     "data": {
      "text/plain": [
       "(40, 2)"
      ]
     },
     "execution_count": 153,
     "metadata": {},
     "output_type": "execute_result"
    }
   ],
   "source": [
    "# data_true_1 = df_classes[1][feature_involved_1]\n",
    "# data_true_1=np.squeeze(data_true_1.values)\n",
    "# b=[]\n",
    "# c=[]\n",
    "# for i in range(len(data_true_1)):\n",
    "#     a=[]\n",
    "#     for each in data_true_1[i]:\n",
    "#         a.append(each)\n",
    "#     a.pop(0)\n",
    "#     a.pop(-1)\n",
    "\n",
    "#     b.append(a) \n",
    "    \n",
    "# data_true_2 = df_classes[1][feature_involved_2]\n",
    "# data_true_2=np.squeeze(data_true_2.values)\n",
    "# for i in range(len(data_true_2)):\n",
    "#     a=[]\n",
    "#     for each in data_true_2[i]:\n",
    "#         a.append(each)\n",
    "\n",
    "\n",
    "#     c.append(a) \n",
    "\n",
    "# data=np.array([b,c], dtype=object).T\n"
   ]
  }
 ],
 "metadata": {
  "kernelspec": {
   "display_name": "Python 3 (ipykernel)",
   "language": "python",
   "name": "python3"
  },
  "language_info": {
   "codemirror_mode": {
    "name": "ipython",
    "version": 3
   },
   "file_extension": ".py",
   "mimetype": "text/x-python",
   "name": "python",
   "nbconvert_exporter": "python",
   "pygments_lexer": "ipython3",
   "version": "3.9.7"
  },
  "vscode": {
   "interpreter": {
    "hash": "8f162362b51a040b66da23130964be17c9a4290e709b2d7f75b268249f5b26fc"
   }
  }
 },
 "nbformat": 4,
 "nbformat_minor": 4
}
