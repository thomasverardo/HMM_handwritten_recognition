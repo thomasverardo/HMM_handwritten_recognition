{
 "cells": [
  {
   "cell_type": "code",
   "execution_count": 2,
   "metadata": {},
   "outputs": [
    {
     "name": "stdout",
     "output_type": "stream",
     "text": [
      "(89, 10)\n"
     ]
    }
   ],
   "source": [
    "%store -r df_classes\n",
    "\n",
    "\n",
    "print(df_classes[0].shape)\n",
    "# print(train.shape)\n",
    "# df_classes[0]\n",
    "# df_classes\n",
    "\n"
   ]
  },
  {
   "cell_type": "markdown",
   "metadata": {},
   "source": [
    "## Train HMM\n",
    "\n",
    "https://citeseerx.ist.psu.edu/viewdoc/download?doi=10.1.1.226.3759&rep=rep1&type=pdf\n",
    "\n",
    "https://learning.oreilly.com/library/view/python-machine-learning/9781786464477/ch07s08.html#ch07lvl2sec94"
   ]
  },
  {
   "cell_type": "markdown",
   "metadata": {},
   "source": [
    "### Calculate Gaussian Mixture of model to find observation probability"
   ]
  },
  {
   "cell_type": "code",
   "execution_count": 3,
   "metadata": {},
   "outputs": [],
   "source": [
    "from hmmlearn import hmm\n",
    "import numpy as np\n",
    "import pickle\n",
    "from hmmlearn import base"
   ]
  },
  {
   "cell_type": "code",
   "execution_count": 55,
   "metadata": {},
   "outputs": [],
   "source": [
    "from sklearn.mixture import GaussianMixture\n",
    "\n",
    "# X0 = df_classes[0][['angles', 'x', 'y']]\n",
    "\n",
    "# GMM = GaussianMixture(n_components=3, random_state=0).fit(X0) BUGGATO"
   ]
  },
  {
   "cell_type": "code",
   "execution_count": 56,
   "metadata": {},
   "outputs": [],
   "source": [
    "\n",
    "\n",
    "# from baum_welch import baum_welch\n",
    "\n",
    "# data = df_classes[0][['angles']].values\n",
    "# data_list_append = data.tolist()\n",
    "# data_list_append = [ three for one in data_list_append for two in one for three in two] \n",
    "\n",
    "# # TRY ONLY WI CURVATURE (ANGLE)\n",
    "# # 6 states\n",
    "# initial_prob = np.array([1, 0, 0, 0, 0, 0])\n",
    "# transition_prob = np.ones((6, 6))\n",
    "# transition_prob = transition_prob / np.sum(transition_prob, axis=1)\n",
    "# emission_prob = np.ones((6, 1)) # I don't know how many\n",
    "# emission_prob = emission_prob / np.sum(emission_prob, axis=1).reshape(-1, 1)\n",
    "\n",
    "# n_iter = 20\n",
    "# # To go, data has to be a list of numbers\n",
    "\n",
    "# transition_true, emission_true = baum_welch(data_list_append, initial_prob, transition_prob, emission_prob, n_iter)\n",
    "\n",
    "# print(\"new transition_prob: \", transition_true, \"\\nnew emission_prob: \", emission_true)\n"
   ]
  },
  {
   "cell_type": "code",
   "execution_count": 11,
   "metadata": {},
   "outputs": [
    {
     "name": "stdout",
     "output_type": "stream",
     "text": [
      "Modelling probabilities of class  0  of  9  classes\n",
      "(89, 2)\n"
     ]
    },
    {
     "name": "stderr",
     "output_type": "stream",
     "text": [
      "/tmp/ipykernel_28880/2311351700.py:13: VisibleDeprecationWarning: Creating an ndarray from ragged nested sequences (which is a list-or-tuple of lists-or-tuples-or ndarrays with different lengths or shapes) is deprecated. If you meant to do this, you must specify 'dtype=object' when creating the ndarray.\n",
      "  print(np.array(data_true).shape)\n"
     ]
    },
    {
     "name": "stdout",
     "output_type": "stream",
     "text": [
      "Modelling probabilities of class  1  of  9  classes\n",
      "(66, 2)\n"
     ]
    },
    {
     "name": "stderr",
     "output_type": "stream",
     "text": [
      "/tmp/ipykernel_28880/2311351700.py:13: VisibleDeprecationWarning: Creating an ndarray from ragged nested sequences (which is a list-or-tuple of lists-or-tuples-or ndarrays with different lengths or shapes) is deprecated. If you meant to do this, you must specify 'dtype=object' when creating the ndarray.\n",
      "  print(np.array(data_true).shape)\n"
     ]
    },
    {
     "name": "stdout",
     "output_type": "stream",
     "text": [
      "Modelling probabilities of class  2  of  9  classes\n",
      "(105, 2)\n"
     ]
    },
    {
     "name": "stderr",
     "output_type": "stream",
     "text": [
      "/tmp/ipykernel_28880/2311351700.py:13: VisibleDeprecationWarning: Creating an ndarray from ragged nested sequences (which is a list-or-tuple of lists-or-tuples-or ndarrays with different lengths or shapes) is deprecated. If you meant to do this, you must specify 'dtype=object' when creating the ndarray.\n",
      "  print(np.array(data_true).shape)\n"
     ]
    },
    {
     "name": "stdout",
     "output_type": "stream",
     "text": [
      "Modelling probabilities of class  3  of  9  classes\n",
      "(104, 2)\n"
     ]
    },
    {
     "name": "stderr",
     "output_type": "stream",
     "text": [
      "/tmp/ipykernel_28880/2311351700.py:13: VisibleDeprecationWarning: Creating an ndarray from ragged nested sequences (which is a list-or-tuple of lists-or-tuples-or ndarrays with different lengths or shapes) is deprecated. If you meant to do this, you must specify 'dtype=object' when creating the ndarray.\n",
      "  print(np.array(data_true).shape)\n"
     ]
    },
    {
     "name": "stdout",
     "output_type": "stream",
     "text": [
      "Modelling probabilities of class  4  of  9  classes\n",
      "(103, 2)\n"
     ]
    },
    {
     "name": "stderr",
     "output_type": "stream",
     "text": [
      "/tmp/ipykernel_28880/2311351700.py:13: VisibleDeprecationWarning: Creating an ndarray from ragged nested sequences (which is a list-or-tuple of lists-or-tuples-or ndarrays with different lengths or shapes) is deprecated. If you meant to do this, you must specify 'dtype=object' when creating the ndarray.\n",
      "  print(np.array(data_true).shape)\n"
     ]
    },
    {
     "name": "stdout",
     "output_type": "stream",
     "text": [
      "Modelling probabilities of class  5  of  9  classes\n",
      "(108, 2)\n"
     ]
    },
    {
     "name": "stderr",
     "output_type": "stream",
     "text": [
      "/tmp/ipykernel_28880/2311351700.py:13: VisibleDeprecationWarning: Creating an ndarray from ragged nested sequences (which is a list-or-tuple of lists-or-tuples-or ndarrays with different lengths or shapes) is deprecated. If you meant to do this, you must specify 'dtype=object' when creating the ndarray.\n",
      "  print(np.array(data_true).shape)\n"
     ]
    },
    {
     "name": "stdout",
     "output_type": "stream",
     "text": [
      "Modelling probabilities of class  6  of  9  classes\n",
      "(108, 2)\n"
     ]
    },
    {
     "name": "stderr",
     "output_type": "stream",
     "text": [
      "/tmp/ipykernel_28880/2311351700.py:13: VisibleDeprecationWarning: Creating an ndarray from ragged nested sequences (which is a list-or-tuple of lists-or-tuples-or ndarrays with different lengths or shapes) is deprecated. If you meant to do this, you must specify 'dtype=object' when creating the ndarray.\n",
      "  print(np.array(data_true).shape)\n"
     ]
    },
    {
     "name": "stdout",
     "output_type": "stream",
     "text": [
      "Modelling probabilities of class  7  of  9  classes\n",
      "(100, 2)\n"
     ]
    },
    {
     "name": "stderr",
     "output_type": "stream",
     "text": [
      "/tmp/ipykernel_28880/2311351700.py:13: VisibleDeprecationWarning: Creating an ndarray from ragged nested sequences (which is a list-or-tuple of lists-or-tuples-or ndarrays with different lengths or shapes) is deprecated. If you meant to do this, you must specify 'dtype=object' when creating the ndarray.\n",
      "  print(np.array(data_true).shape)\n"
     ]
    },
    {
     "name": "stdout",
     "output_type": "stream",
     "text": [
      "Modelling probabilities of class  8  of  9  classes\n",
      "(109, 2)\n"
     ]
    },
    {
     "name": "stderr",
     "output_type": "stream",
     "text": [
      "/tmp/ipykernel_28880/2311351700.py:13: VisibleDeprecationWarning: Creating an ndarray from ragged nested sequences (which is a list-or-tuple of lists-or-tuples-or ndarrays with different lengths or shapes) is deprecated. If you meant to do this, you must specify 'dtype=object' when creating the ndarray.\n",
      "  print(np.array(data_true).shape)\n"
     ]
    },
    {
     "name": "stdout",
     "output_type": "stream",
     "text": [
      "Modelling probabilities of class  9  of  9  classes\n",
      "(99, 2)\n"
     ]
    },
    {
     "name": "stderr",
     "output_type": "stream",
     "text": [
      "/tmp/ipykernel_28880/2311351700.py:13: VisibleDeprecationWarning: Creating an ndarray from ragged nested sequences (which is a list-or-tuple of lists-or-tuples-or ndarrays with different lengths or shapes) is deprecated. If you meant to do this, you must specify 'dtype=object' when creating the ndarray.\n",
      "  print(np.array(data_true).shape)\n"
     ]
    }
   ],
   "source": [
    "n_iter=1000\n",
    "feature_involved = ['x', 'y']\n",
    "\n",
    "\n",
    "for n_class, _ in df_classes.items():\n",
    "    print(\"Modelling probabilities of class \", n_class,\" of \", len(df_classes)-1, \" classes\")\n",
    "    model = hmm.GaussianHMM(n_components=10, n_iter=n_iter, verbose=False, algorithm=\"viterbi\", init_params=\"\")\n",
    "    # model = base.BaseHMM(n_components=6, n_iter=n_iter)\n",
    "    data_true = df_classes[n_class][feature_involved].values.tolist()\n",
    "    data_list = np.array([ [three] for one in data_true for two in one for three in two])\n",
    "    len_list = [len(two) for one in data_true for two in one ]\n",
    "\n",
    "    print(np.array(data_true).shape)\n",
    "\n",
    "\n",
    "\n",
    "    # print(len_list.shape)\n",
    "\n",
    "    # initial_prob = np.array([1, 0, 0, 0, 0, 0])\n",
    "    # transition_prob = np.ones((6, 6))\n",
    "    # transition_prob = transition_prob / np.sum(transition_prob, axis=1)\n",
    "    # emission_prob = np.ones((6, 1)) # I don't know how many\n",
    "    # emission_prob = emission_prob / np.sum(emission_prob, axis=1)\n",
    "\n",
    "    initial_prob = np.array([1, 0, 0, 0, 0, 0, 0, 0, 0, 0])\n",
    "    transition_prob = np.ones((10, 10))\n",
    "    transition_prob = transition_prob / np.sum(transition_prob, axis=1)\n",
    "    emission_prob = np.ones((10, 1)) # I don't know how many\n",
    "    emission_prob = emission_prob / np.sum(emission_prob, axis=1)\n",
    "\n",
    "    \n",
    "\n",
    "    model.startprob_ = initial_prob\n",
    "    model.transmat_ = transition_prob\n",
    "    model.emissionprob_ = emission_prob\n",
    "\n",
    "\n",
    "    model.fit(data_list, len_list)\n",
    "\n",
    "    # print(\"initial probability: \", model.startprob_)\n",
    "    # print(f'transition: \\n{model.transmat_}')\n",
    "    # print(f'emission: \\n{model.emissionprob_}')\n",
    "\n",
    "    pass\n",
    "\n",
    "    with open ('models/'+str(n_class)+'hmm_model.pkl', 'wb') as f: #Save model\n",
    "        pickle.dump(model, f)"
   ]
  },
  {
   "cell_type": "code",
   "execution_count": 9,
   "metadata": {},
   "outputs": [
    {
     "data": {
      "text/plain": [
       "array([[1, 2, 3]])"
      ]
     },
     "execution_count": 9,
     "metadata": {},
     "output_type": "execute_result"
    }
   ],
   "source": [
    "aa = np.array([1,2,3]).reshape(1, -1)\n",
    "aa.shape"
   ]
  }
 ],
 "metadata": {
  "kernelspec": {
   "display_name": "Python 3.9.7 ('pml')",
   "language": "python",
   "name": "python3"
  },
  "language_info": {
   "codemirror_mode": {
    "name": "ipython",
    "version": 3
   },
   "file_extension": ".py",
   "mimetype": "text/x-python",
   "name": "python",
   "nbconvert_exporter": "python",
   "pygments_lexer": "ipython3",
   "version": "3.9.7"
  },
  "orig_nbformat": 4,
  "vscode": {
   "interpreter": {
    "hash": "8f162362b51a040b66da23130964be17c9a4290e709b2d7f75b268249f5b26fc"
   }
  }
 },
 "nbformat": 4,
 "nbformat_minor": 2
}
