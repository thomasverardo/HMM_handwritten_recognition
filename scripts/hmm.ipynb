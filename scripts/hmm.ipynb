{
 "cells": [
  {
   "cell_type": "code",
   "execution_count": 134,
   "metadata": {},
   "outputs": [
    {
     "name": "stdout",
     "output_type": "stream",
     "text": [
      "(59, 6)\n"
     ]
    },
    {
     "data": {
      "text/html": [
       "<div>\n",
       "<style scoped>\n",
       "    .dataframe tbody tr th:only-of-type {\n",
       "        vertical-align: middle;\n",
       "    }\n",
       "\n",
       "    .dataframe tbody tr th {\n",
       "        vertical-align: top;\n",
       "    }\n",
       "\n",
       "    .dataframe thead th {\n",
       "        text-align: right;\n",
       "    }\n",
       "</style>\n",
       "<table border=\"1\" class=\"dataframe\">\n",
       "  <thead>\n",
       "    <tr style=\"text-align: right;\">\n",
       "      <th></th>\n",
       "      <th>label</th>\n",
       "      <th>x</th>\n",
       "      <th>y</th>\n",
       "      <th>speed</th>\n",
       "      <th>strokes</th>\n",
       "      <th>angles</th>\n",
       "    </tr>\n",
       "  </thead>\n",
       "  <tbody>\n",
       "    <tr>\n",
       "      <th>382</th>\n",
       "      <td>0</td>\n",
       "      <td>[513.0, 469.0, 429.0, 408.0, 388.0, 373.0, 364...</td>\n",
       "      <td>[105.0, 139.0, 187.0, 226.0, 268.0, 314.0, 360...</td>\n",
       "      <td>1.715</td>\n",
       "      <td>1</td>\n",
       "      <td>[2.48, 2.27, 2.06, 2.02, 1.89, 1.76, 1.56, 1.3...</td>\n",
       "    </tr>\n",
       "    <tr>\n",
       "      <th>892</th>\n",
       "      <td>6</td>\n",
       "      <td>[936.0, 931.0, 907.0, 831.0, 809.0, 791.0, 771...</td>\n",
       "      <td>[12.0, 8.0, 11.0, 30.0, 38.0, 46.0, 60.0, 76.0...</td>\n",
       "      <td>0.476</td>\n",
       "      <td>1</td>\n",
       "      <td>[-2.47, 3.02, 2.9, 2.79, 2.72, 2.53, 2.47, 2.3...</td>\n",
       "    </tr>\n",
       "    <tr>\n",
       "      <th>123</th>\n",
       "      <td>6</td>\n",
       "      <td>[786.0, 760.0, 725.0, 709.0, 650.0, 610.0, 571...</td>\n",
       "      <td>[154.0, 152.0, 156.0, 159.0, 175.0, 191.0, 211...</td>\n",
       "      <td>1.279</td>\n",
       "      <td>1</td>\n",
       "      <td>[-3.06, 3.03, 2.96, 2.88, 2.76, 2.67, 2.44, 2....</td>\n",
       "    </tr>\n",
       "    <tr>\n",
       "      <th>499</th>\n",
       "      <td>0</td>\n",
       "      <td>[690.0, 653.0, 622.0, 586.0, 546.0, 506.0, 486...</td>\n",
       "      <td>[106.0, 116.0, 130.0, 149.0, 174.0, 205.0, 222...</td>\n",
       "      <td>1.279</td>\n",
       "      <td>1</td>\n",
       "      <td>[2.88, 2.72, 2.66, 2.58, 2.48, 2.44, 2.29, 2.1...</td>\n",
       "    </tr>\n",
       "    <tr>\n",
       "      <th>212</th>\n",
       "      <td>6</td>\n",
       "      <td>[613.0, 602.0, 588.0, 570.0, 531.0, 518.0, 478...</td>\n",
       "      <td>[230.0, 231.0, 240.0, 255.0, 289.0, 302.0, 344...</td>\n",
       "      <td>1.560</td>\n",
       "      <td>1</td>\n",
       "      <td>[3.05, 2.57, 2.45, 2.42, 2.36, 2.33, 2.28, 2.2...</td>\n",
       "    </tr>\n",
       "    <tr>\n",
       "      <th>...</th>\n",
       "      <td>...</td>\n",
       "      <td>...</td>\n",
       "      <td>...</td>\n",
       "      <td>...</td>\n",
       "      <td>...</td>\n",
       "      <td>...</td>\n",
       "    </tr>\n",
       "    <tr>\n",
       "      <th>839</th>\n",
       "      <td>8</td>\n",
       "      <td>[846.0, 842.0, 818.0, 744.0, 768.0, 804.0, 829...</td>\n",
       "      <td>[304.0, 285.0, 281.0, 330.0, 349.0, 369.0, 395...</td>\n",
       "      <td>1.085</td>\n",
       "      <td>1</td>\n",
       "      <td>[-1.78, -2.98, 2.56, 0.67, 0.51, 0.81, 1.27, 1...</td>\n",
       "    </tr>\n",
       "    <tr>\n",
       "      <th>273</th>\n",
       "      <td>5</td>\n",
       "      <td>[801.0, 796.0, 793.0, 779.0, 767.0, 752.0, 735...</td>\n",
       "      <td>[192.0, 192.0, 193.0, 195.0, 196.0, 197.0, 199...</td>\n",
       "      <td>Infin</td>\n",
       "      <td>1</td>\n",
       "      <td>[3.14, 2.82, 3.0, 3.06, 3.08, 3.02, 3.03, 3.08...</td>\n",
       "    </tr>\n",
       "    <tr>\n",
       "      <th>390</th>\n",
       "      <td>8</td>\n",
       "      <td>[709.0, 690.0, 685.0, 675.0, 674.0, 678.0, 692...</td>\n",
       "      <td>[204.0, 214.0, 219.0, 246.0, 267.0, 287.0, 307...</td>\n",
       "      <td>2.285</td>\n",
       "      <td>1</td>\n",
       "      <td>[2.66, 2.36, 1.93, 1.62, 1.37, 0.96, 0.62, 0.4...</td>\n",
       "    </tr>\n",
       "    <tr>\n",
       "      <th>310</th>\n",
       "      <td>1</td>\n",
       "      <td>[676.0, 676.0, 676.0, 676.0, 674.0, 672.0, 669...</td>\n",
       "      <td>[159.0, 179.0, 198.0, 228.0, 250.0, 275.0, 300...</td>\n",
       "      <td>2.133</td>\n",
       "      <td>1</td>\n",
       "      <td>[1.57, 1.57, 1.57, 1.66, 1.65, 1.69, 1.61, 1.6...</td>\n",
       "    </tr>\n",
       "    <tr>\n",
       "      <th>402</th>\n",
       "      <td>9</td>\n",
       "      <td>[819.0, 806.0, 794.0, 775.0, 736.0, 702.0, 662...</td>\n",
       "      <td>[248.0, 230.0, 217.0, 204.0, 187.0, 178.0, 171...</td>\n",
       "      <td>0.940</td>\n",
       "      <td>1</td>\n",
       "      <td>[-2.2, -2.32, -2.54, -2.73, -2.88, -2.97, -3.0...</td>\n",
       "    </tr>\n",
       "  </tbody>\n",
       "</table>\n",
       "<p>128 rows × 6 columns</p>\n",
       "</div>"
      ],
      "text/plain": [
       "    label                                                  x  \\\n",
       "382     0  [513.0, 469.0, 429.0, 408.0, 388.0, 373.0, 364...   \n",
       "892     6  [936.0, 931.0, 907.0, 831.0, 809.0, 791.0, 771...   \n",
       "123     6  [786.0, 760.0, 725.0, 709.0, 650.0, 610.0, 571...   \n",
       "499     0  [690.0, 653.0, 622.0, 586.0, 546.0, 506.0, 486...   \n",
       "212     6  [613.0, 602.0, 588.0, 570.0, 531.0, 518.0, 478...   \n",
       "..    ...                                                ...   \n",
       "839     8  [846.0, 842.0, 818.0, 744.0, 768.0, 804.0, 829...   \n",
       "273     5  [801.0, 796.0, 793.0, 779.0, 767.0, 752.0, 735...   \n",
       "390     8  [709.0, 690.0, 685.0, 675.0, 674.0, 678.0, 692...   \n",
       "310     1  [676.0, 676.0, 676.0, 676.0, 674.0, 672.0, 669...   \n",
       "402     9  [819.0, 806.0, 794.0, 775.0, 736.0, 702.0, 662...   \n",
       "\n",
       "                                                     y  speed strokes  \\\n",
       "382  [105.0, 139.0, 187.0, 226.0, 268.0, 314.0, 360...  1.715       1   \n",
       "892  [12.0, 8.0, 11.0, 30.0, 38.0, 46.0, 60.0, 76.0...  0.476       1   \n",
       "123  [154.0, 152.0, 156.0, 159.0, 175.0, 191.0, 211...  1.279       1   \n",
       "499  [106.0, 116.0, 130.0, 149.0, 174.0, 205.0, 222...  1.279       1   \n",
       "212  [230.0, 231.0, 240.0, 255.0, 289.0, 302.0, 344...  1.560       1   \n",
       "..                                                 ...    ...     ...   \n",
       "839  [304.0, 285.0, 281.0, 330.0, 349.0, 369.0, 395...  1.085       1   \n",
       "273  [192.0, 192.0, 193.0, 195.0, 196.0, 197.0, 199...  Infin       1   \n",
       "390  [204.0, 214.0, 219.0, 246.0, 267.0, 287.0, 307...  2.285       1   \n",
       "310  [159.0, 179.0, 198.0, 228.0, 250.0, 275.0, 300...  2.133       1   \n",
       "402  [248.0, 230.0, 217.0, 204.0, 187.0, 178.0, 171...  0.940       1   \n",
       "\n",
       "                                                angles  \n",
       "382  [2.48, 2.27, 2.06, 2.02, 1.89, 1.76, 1.56, 1.3...  \n",
       "892  [-2.47, 3.02, 2.9, 2.79, 2.72, 2.53, 2.47, 2.3...  \n",
       "123  [-3.06, 3.03, 2.96, 2.88, 2.76, 2.67, 2.44, 2....  \n",
       "499  [2.88, 2.72, 2.66, 2.58, 2.48, 2.44, 2.29, 2.1...  \n",
       "212  [3.05, 2.57, 2.45, 2.42, 2.36, 2.33, 2.28, 2.2...  \n",
       "..                                                 ...  \n",
       "839  [-1.78, -2.98, 2.56, 0.67, 0.51, 0.81, 1.27, 1...  \n",
       "273  [3.14, 2.82, 3.0, 3.06, 3.08, 3.02, 3.03, 3.08...  \n",
       "390  [2.66, 2.36, 1.93, 1.62, 1.37, 0.96, 0.62, 0.4...  \n",
       "310  [1.57, 1.57, 1.57, 1.66, 1.65, 1.69, 1.61, 1.6...  \n",
       "402  [-2.2, -2.32, -2.54, -2.73, -2.88, -2.97, -3.0...  \n",
       "\n",
       "[128 rows x 6 columns]"
      ]
     },
     "execution_count": 134,
     "metadata": {},
     "output_type": "execute_result"
    }
   ],
   "source": [
    "%store -r df_classes\n",
    "\n",
    "\n",
    "print(df_classes[0].shape)\n",
    "# print(train.shape)\n",
    "\n"
   ]
  },
  {
   "cell_type": "markdown",
   "metadata": {},
   "source": [
    "## Train HMM\n",
    "\n",
    "https://citeseerx.ist.psu.edu/viewdoc/download?doi=10.1.1.226.3759&rep=rep1&type=pdf\n",
    "\n",
    "https://learning.oreilly.com/library/view/python-machine-learning/9781786464477/ch07s08.html#ch07lvl2sec94"
   ]
  },
  {
   "cell_type": "markdown",
   "metadata": {},
   "source": [
    "### Calculate Gaussian Mixture of model to find observation probability"
   ]
  },
  {
   "cell_type": "code",
   "execution_count": 135,
   "metadata": {},
   "outputs": [],
   "source": [
    "from hmmlearn import hmm\n",
    "import numpy as np\n",
    "import pickle"
   ]
  },
  {
   "cell_type": "code",
   "execution_count": 136,
   "metadata": {},
   "outputs": [],
   "source": [
    "from sklearn.mixture import GaussianMixture\n",
    "\n",
    "# X0 = df_classes[0][['angles', 'x', 'y']]\n",
    "\n",
    "# GMM = GaussianMixture(n_components=3, random_state=0).fit(X0) BUGGATO"
   ]
  },
  {
   "cell_type": "code",
   "execution_count": 137,
   "metadata": {},
   "outputs": [],
   "source": [
    "\n",
    "\n",
    "# from baum_welch import baum_welch\n",
    "\n",
    "# data = df_classes[0][['angles']].values\n",
    "# data_list_append = data.tolist()\n",
    "# data_list_append = [ three for one in data_list_append for two in one for three in two] \n",
    "\n",
    "# # TRY ONLY WI CURVATURE (ANGLE)\n",
    "# # 6 states\n",
    "# initial_prob = np.array([1, 0, 0, 0, 0, 0])\n",
    "# transition_prob = np.ones((6, 6))\n",
    "# transition_prob = transition_prob / np.sum(transition_prob, axis=1)\n",
    "# emission_prob = np.ones((6, 1)) # I don't know how many\n",
    "# emission_prob = emission_prob / np.sum(emission_prob, axis=1).reshape(-1, 1)\n",
    "\n",
    "# n_iter = 20\n",
    "# # To go, data has to be a list of numbers\n",
    "\n",
    "# transition_true, emission_true = baum_welch(data_list_append, initial_prob, transition_prob, emission_prob, n_iter)\n",
    "\n",
    "# print(\"new transition_prob: \", transition_true, \"\\nnew emission_prob: \", emission_true)\n"
   ]
  },
  {
   "cell_type": "code",
   "execution_count": 138,
   "metadata": {},
   "outputs": [
    {
     "data": {
      "text/plain": [
       "GaussianHMM(n_components=6)"
      ]
     },
     "execution_count": 138,
     "metadata": {},
     "output_type": "execute_result"
    }
   ],
   "source": [
    "# https://hmmlearn.readthedocs.io/en/latest/tutorial.html#working-with-multiple-sequences\n",
    "\n",
    "#           Delete this cell\n",
    "\n",
    "data_true = train[['angles']].values.tolist()\n",
    "data_list_try = np.array([ [three] for one in data_true for two in one for three in two])\n",
    "len_list_try = [len(two) for one in data_true for two in one ]\n",
    "\n",
    "\n",
    "# print(data_list_try)\n",
    "# print(data_list_try.shape)\n",
    "# print(type(len_list_try))\n",
    "\n",
    "hmm.GaussianHMM(n_components=6).fit(data_list_try, len_list_try)"
   ]
  },
  {
   "cell_type": "code",
   "execution_count": 155,
   "metadata": {},
   "outputs": [
    {
     "name": "stderr",
     "output_type": "stream",
     "text": [
      "Even though the 'startprob_' attribute is set, it will be overwritten during initialization because 'init_params' contains 's'\n",
      "Even though the 'transmat_' attribute is set, it will be overwritten during initialization because 'init_params' contains 't'\n"
     ]
    },
    {
     "name": "stdout",
     "output_type": "stream",
     "text": [
      "Modelling probabilities of class  0  of  9  classes\n"
     ]
    },
    {
     "name": "stderr",
     "output_type": "stream",
     "text": [
      "Even though the 'startprob_' attribute is set, it will be overwritten during initialization because 'init_params' contains 's'\n",
      "Even though the 'transmat_' attribute is set, it will be overwritten during initialization because 'init_params' contains 't'\n"
     ]
    },
    {
     "name": "stdout",
     "output_type": "stream",
     "text": [
      "Modelling probabilities of class  1  of  9  classes\n"
     ]
    },
    {
     "name": "stderr",
     "output_type": "stream",
     "text": [
      "Even though the 'startprob_' attribute is set, it will be overwritten during initialization because 'init_params' contains 's'\n",
      "Even though the 'transmat_' attribute is set, it will be overwritten during initialization because 'init_params' contains 't'\n"
     ]
    },
    {
     "name": "stdout",
     "output_type": "stream",
     "text": [
      "Modelling probabilities of class  2  of  9  classes\n"
     ]
    },
    {
     "name": "stderr",
     "output_type": "stream",
     "text": [
      "Even though the 'startprob_' attribute is set, it will be overwritten during initialization because 'init_params' contains 's'\n",
      "Even though the 'transmat_' attribute is set, it will be overwritten during initialization because 'init_params' contains 't'\n"
     ]
    },
    {
     "name": "stdout",
     "output_type": "stream",
     "text": [
      "Modelling probabilities of class  3  of  9  classes\n"
     ]
    },
    {
     "name": "stderr",
     "output_type": "stream",
     "text": [
      "Even though the 'startprob_' attribute is set, it will be overwritten during initialization because 'init_params' contains 's'\n",
      "Even though the 'transmat_' attribute is set, it will be overwritten during initialization because 'init_params' contains 't'\n"
     ]
    },
    {
     "name": "stdout",
     "output_type": "stream",
     "text": [
      "Modelling probabilities of class  5  of  9  classes\n"
     ]
    },
    {
     "name": "stderr",
     "output_type": "stream",
     "text": [
      "Even though the 'startprob_' attribute is set, it will be overwritten during initialization because 'init_params' contains 's'\n",
      "Even though the 'transmat_' attribute is set, it will be overwritten during initialization because 'init_params' contains 't'\n"
     ]
    },
    {
     "name": "stdout",
     "output_type": "stream",
     "text": [
      "Modelling probabilities of class  6  of  9  classes\n"
     ]
    },
    {
     "name": "stderr",
     "output_type": "stream",
     "text": [
      "Even though the 'startprob_' attribute is set, it will be overwritten during initialization because 'init_params' contains 's'\n",
      "Even though the 'transmat_' attribute is set, it will be overwritten during initialization because 'init_params' contains 't'\n"
     ]
    },
    {
     "name": "stdout",
     "output_type": "stream",
     "text": [
      "Modelling probabilities of class  7  of  9  classes\n"
     ]
    },
    {
     "name": "stderr",
     "output_type": "stream",
     "text": [
      "Even though the 'startprob_' attribute is set, it will be overwritten during initialization because 'init_params' contains 's'\n",
      "Even though the 'transmat_' attribute is set, it will be overwritten during initialization because 'init_params' contains 't'\n"
     ]
    },
    {
     "name": "stdout",
     "output_type": "stream",
     "text": [
      "Modelling probabilities of class  8  of  9  classes\n"
     ]
    },
    {
     "name": "stderr",
     "output_type": "stream",
     "text": [
      "Even though the 'startprob_' attribute is set, it will be overwritten during initialization because 'init_params' contains 's'\n",
      "Even though the 'transmat_' attribute is set, it will be overwritten during initialization because 'init_params' contains 't'\n"
     ]
    },
    {
     "name": "stdout",
     "output_type": "stream",
     "text": [
      "Modelling probabilities of class  9  of  9  classes\n"
     ]
    }
   ],
   "source": [
    "n_iter=100\n",
    "feature_involved = ['angles']\n",
    "\n",
    "for n_class, _ in df_classes.items():\n",
    "    print(\"Modelling probabilities of class \", n_class,\" of \", len(df_classes), \" classes\")\n",
    "    model = hmm.GaussianHMM(n_components=6, n_iter=n_iter, verbose=False, algorithm=\"viterbi\")\n",
    "    data_true = df_classes[cla][feature_involved].values.tolist()\n",
    "    data_list = np.array([ [three] for one in data_true for two in one for three in two])\n",
    "    len_list = [len(two) for one in data_true for two in one ]\n",
    "\n",
    "    initial_prob = np.array([1, 0, 0, 0, 0, 0])\n",
    "    transition_prob = np.ones((6, 6))\n",
    "    transition_prob = transition_prob / np.sum(transition_prob, axis=1)\n",
    "    emission_prob = np.ones((6, 1)) # I don't know how many\n",
    "    emission_prob = emission_prob / np.sum(emission_prob, axis=1)\n",
    "\n",
    "    model.startprob_ = initial_prob\n",
    "    model.transmat_ = transition_prob\n",
    "    model.emissionprob_ = emission_prob\n",
    "\n",
    "\n",
    "    model.fit(data_list, len_list)\n",
    "\n",
    "    # print(\"initial probability: \", model.startprob_)\n",
    "    # print(f'transition: \\n{model.transmat_}')\n",
    "    # print(f'emission: \\n{model.emissionprob_}')\n",
    "\n",
    "    with open ('models/hmm_model_'+str(cla)+'.pkl', 'wb') as f: #Save model\n",
    "        pickle.dump(model, f)"
   ]
  }
 ],
 "metadata": {
  "kernelspec": {
   "display_name": "Python 3.9.7 ('pml')",
   "language": "python",
   "name": "python3"
  },
  "language_info": {
   "codemirror_mode": {
    "name": "ipython",
    "version": 3
   },
   "file_extension": ".py",
   "mimetype": "text/x-python",
   "name": "python",
   "nbconvert_exporter": "python",
   "pygments_lexer": "ipython3",
   "version": "3.9.7"
  },
  "orig_nbformat": 4,
  "vscode": {
   "interpreter": {
    "hash": "8f162362b51a040b66da23130964be17c9a4290e709b2d7f75b268249f5b26fc"
   }
  }
 },
 "nbformat": 4,
 "nbformat_minor": 2
}
