{
 "cells": [
  {
   "cell_type": "code",
   "execution_count": 1,
   "metadata": {},
   "outputs": [
    {
     "name": "stdout",
     "output_type": "stream",
     "text": [
      "(100, 12)\n"
     ]
    },
    {
     "data": {
      "text/html": [
       "<div>\n",
       "<style scoped>\n",
       "    .dataframe tbody tr th:only-of-type {\n",
       "        vertical-align: middle;\n",
       "    }\n",
       "\n",
       "    .dataframe tbody tr th {\n",
       "        vertical-align: top;\n",
       "    }\n",
       "\n",
       "    .dataframe thead th {\n",
       "        text-align: right;\n",
       "    }\n",
       "</style>\n",
       "<table border=\"1\" class=\"dataframe\">\n",
       "  <thead>\n",
       "    <tr style=\"text-align: right;\">\n",
       "      <th></th>\n",
       "      <th>label</th>\n",
       "      <th>x</th>\n",
       "      <th>y</th>\n",
       "      <th>speed</th>\n",
       "      <th>strokes</th>\n",
       "      <th>arctan2_2</th>\n",
       "      <th>arctan_1</th>\n",
       "      <th>curvature_4</th>\n",
       "      <th>curvature_2</th>\n",
       "      <th>curvature_1</th>\n",
       "      <th>x_smooth</th>\n",
       "      <th>y_smooth</th>\n",
       "    </tr>\n",
       "  </thead>\n",
       "  <tbody>\n",
       "    <tr>\n",
       "      <th>527</th>\n",
       "      <td>0</td>\n",
       "      <td>[640.0, 671.0, 702.0, 734.0, 781.0, 804.0, 818...</td>\n",
       "      <td>[209.0, 194.0, 188.0, 189.0, 208.0, 232.0, 264...</td>\n",
       "      <td>1.684</td>\n",
       "      <td>1</td>\n",
       "      <td>[-0.45, -0.19, 0.03, 0.38, 0.81, 1.16, 1.54, 1...</td>\n",
       "      <td>[0.32, 0.28, 0.26, 0.25, 0.26, 0.28, 0.31, 0.3...</td>\n",
       "      <td>[1.7464, 1.7758, 1.8676, 2.0321, 2.2587, 2.355...</td>\n",
       "      <td>[2.567, 2.5115, 2.4026, 2.2957, 2.4787, 2.6423...</td>\n",
       "      <td>[2.8821, 2.9192, 2.7887, 2.7191, 2.7899, 2.763...</td>\n",
       "      <td>[655.5, 686.5, 718.0, 757.5, 792.5, 811.0, 819...</td>\n",
       "      <td>[201.5, 191.0, 188.5, 198.5, 220.0, 248.0, 293...</td>\n",
       "    </tr>\n",
       "    <tr>\n",
       "      <th>1226</th>\n",
       "      <td>0</td>\n",
       "      <td>[834.0, 795.0, 788.0, 750.0, 647.0, 642.0, 652...</td>\n",
       "      <td>[184.0, 154.0, 156.0, 178.0, 430.0, 506.0, 574...</td>\n",
       "      <td>1.666</td>\n",
       "      <td>1</td>\n",
       "      <td>[-2.49, 2.86, 2.62, 1.96, 1.64, 1.42, 1.01, 0....</td>\n",
       "      <td>[0.22, 0.19, 0.2, 0.23, 0.59, 0.67, 0.72, 0.74...</td>\n",
       "      <td>[2.184, 2.0892, 1.6878, 1.4253, 1.5468, 1.5767...</td>\n",
       "      <td>[1.4993, 2.3788, 2.6316, 2.4914, 2.4435, 2.319...</td>\n",
       "      <td>[2.2076, 2.8951, 2.4836, 2.8193, 2.9299, 2.729...</td>\n",
       "      <td>[814.5, 791.5, 769.0, 698.5, 644.5, 647.0, 667...</td>\n",
       "      <td>[169.0, 155.0, 167.0, 304.0, 468.0, 540.0, 598...</td>\n",
       "    </tr>\n",
       "    <tr>\n",
       "      <th>1100</th>\n",
       "      <td>0</td>\n",
       "      <td>[499.0, 491.0, 487.0, 484.0, 482.0, 482.0, 485...</td>\n",
       "      <td>[419.0, 439.0, 454.0, 470.0, 487.0, 505.0, 522...</td>\n",
       "      <td>1.391</td>\n",
       "      <td>1</td>\n",
       "      <td>[1.95, 1.83, 1.76, 1.69, 1.57, 1.4, 1.25, 1.13...</td>\n",
       "      <td>[0.7, 0.73, 0.75, 0.77, 0.79, 0.81, 0.82, 0.83...</td>\n",
       "      <td>[2.6698, 2.6113, 2.5718, 2.542, 2.5094, 2.4518...</td>\n",
       "      <td>[2.9617, 2.9766, 2.9057, 2.8395, 2.8466, 2.840...</td>\n",
       "      <td>[3.0217, 3.0663, 3.0733, 3.0245, 2.9669, 2.994...</td>\n",
       "      <td>[495.0, 489.0, 485.5, 483.0, 482.0, 483.5, 487...</td>\n",
       "      <td>[429.0, 446.5, 462.0, 478.5, 496.0, 513.5, 529...</td>\n",
       "    </tr>\n",
       "    <tr>\n",
       "      <th>1042</th>\n",
       "      <td>0</td>\n",
       "      <td>[903.0, 875.0, 789.0, 498.0, 445.0, 409.0, 412...</td>\n",
       "      <td>[15.0, 0.0, 0.0, 42.0, 131.0, 264.0, 402.0, 53...</td>\n",
       "      <td>1.587</td>\n",
       "      <td>1</td>\n",
       "      <td>[-2.65, 3.14, 3.0, 2.11, 1.84, 1.55, 1.27, 0.9...</td>\n",
       "      <td>[0.02, 0.0, 0.0, 0.08, 0.29, 0.57, 0.77, 0.87,...</td>\n",
       "      <td>[1.6327, 1.5535, 1.4653, 1.6885, 1.5709, 1.653...</td>\n",
       "      <td>[2.6469, 2.063, 2.0558, 2.5982, 2.5309, 2.4054...</td>\n",
       "      <td>[2.6498, 2.9982, 2.2512, 2.8688, 2.8555, 2.86,...</td>\n",
       "      <td>[889.0, 832.0, 643.5, 471.5, 427.0, 410.5, 432...</td>\n",
       "      <td>[7.5, 0.0, 21.0, 86.5, 197.5, 333.0, 467.5, 58...</td>\n",
       "    </tr>\n",
       "    <tr>\n",
       "      <th>1061</th>\n",
       "      <td>0</td>\n",
       "      <td>[626.0, 623.0, 617.0, 606.0, 585.0, 568.0, 546...</td>\n",
       "      <td>[187.0, 182.0, 180.0, 179.0, 179.0, 181.0, 186...</td>\n",
       "      <td>0.353</td>\n",
       "      <td>1</td>\n",
       "      <td>[-2.11, -2.82, -3.05, 3.14, 3.02, 2.92, 2.86, ...</td>\n",
       "      <td>[0.29, 0.28, 0.28, 0.29, 0.3, 0.31, 0.33, 0.35...</td>\n",
       "      <td>[2.6666, 2.7674, 2.8024, 2.8172, 2.8358, 2.805...</td>\n",
       "      <td>[2.5118, 2.9143, 2.9327, 2.939, 2.973, 2.9822,...</td>\n",
       "      <td>[2.433, 2.9105, 3.0509, 3.0245, 3.0352, 3.0813...</td>\n",
       "      <td>[624.5, 620.0, 611.5, 595.5, 576.5, 557.0, 534...</td>\n",
       "      <td>[184.5, 181.0, 179.5, 179.0, 180.0, 183.5, 189...</td>\n",
       "    </tr>\n",
       "    <tr>\n",
       "      <th>...</th>\n",
       "      <td>...</td>\n",
       "      <td>...</td>\n",
       "      <td>...</td>\n",
       "      <td>...</td>\n",
       "      <td>...</td>\n",
       "      <td>...</td>\n",
       "      <td>...</td>\n",
       "      <td>...</td>\n",
       "      <td>...</td>\n",
       "      <td>...</td>\n",
       "      <td>...</td>\n",
       "      <td>...</td>\n",
       "    </tr>\n",
       "    <tr>\n",
       "      <th>600</th>\n",
       "      <td>0</td>\n",
       "      <td>[619.0, 649.0, 678.0, 714.0, 764.0, 793.0, 814...</td>\n",
       "      <td>[245.0, 214.0, 199.0, 193.0, 201.0, 221.0, 252...</td>\n",
       "      <td>1.777</td>\n",
       "      <td>1</td>\n",
       "      <td>[-0.8, -0.48, -0.17, 0.16, 0.6, 0.98, 1.31, 1....</td>\n",
       "      <td>[0.38, 0.32, 0.29, 0.26, 0.26, 0.27, 0.3, 0.36...</td>\n",
       "      <td>[1.6733, 1.7551, 1.8722, 2.046, 2.2893, 2.4178...</td>\n",
       "      <td>[2.4561, 2.4885, 2.3695, 2.3015, 2.5093, 2.623...</td>\n",
       "      <td>[2.8172, 2.8294, 2.8178, 2.6965, 2.7699, 2.811...</td>\n",
       "      <td>[634.0, 663.5, 696.0, 739.0, 778.5, 803.5, 822...</td>\n",
       "      <td>[229.5, 206.5, 196.0, 197.0, 211.0, 236.5, 281...</td>\n",
       "    </tr>\n",
       "    <tr>\n",
       "      <th>20</th>\n",
       "      <td>0</td>\n",
       "      <td>[768.0, 742.0, 722.0, 712.0, 690.0, 667.0, 632...</td>\n",
       "      <td>[141.0, 139.0, 138.0, 138.0, 140.0, 144.0, 153...</td>\n",
       "      <td>0.556</td>\n",
       "      <td>1</td>\n",
       "      <td>[-3.06, -3.09, 3.14, 3.05, 2.97, 2.89, 2.85, 2...</td>\n",
       "      <td>[0.18, 0.19, 0.19, 0.19, 0.2, 0.21, 0.24, 0.25...</td>\n",
       "      <td>[2.8532, 2.8829, 2.8957, 2.9074, 2.879, 2.9041...</td>\n",
       "      <td>[3.0141, 2.9757, 2.9835, 3.0135, 3.0113, 3.009...</td>\n",
       "      <td>[3.1148, 3.0916, 3.0509, 3.0601, 3.0621, 3.101...</td>\n",
       "      <td>[755.0, 732.0, 717.0, 701.0, 678.5, 649.5, 627...</td>\n",
       "      <td>[140.0, 138.5, 138.0, 139.0, 142.0, 148.5, 154...</td>\n",
       "    </tr>\n",
       "    <tr>\n",
       "      <th>1154</th>\n",
       "      <td>0</td>\n",
       "      <td>[719.0, 703.0, 670.0, 621.0, 627.0, 652.0, 701...</td>\n",
       "      <td>[171.0, 170.0, 202.0, 442.0, 519.0, 580.0, 614...</td>\n",
       "      <td>1.731</td>\n",
       "      <td>1</td>\n",
       "      <td>[-3.08, 2.37, 1.77, 1.49, 1.18, 0.61, 0.12, -0...</td>\n",
       "      <td>[0.23, 0.24, 0.29, 0.62, 0.69, 0.73, 0.72, 0.6...</td>\n",
       "      <td>[1.8988, 1.4027, 1.1523, 1.299, 1.3635, 1.6044...</td>\n",
       "      <td>[2.2697, 2.6278, 2.345, 2.1515, 2.2859, 2.293,...</td>\n",
       "      <td>[2.3092, 2.5422, 2.8624, 2.8304, 2.5663, 2.651...</td>\n",
       "      <td>[711.0, 686.5, 645.5, 624.0, 639.5, 676.5, 731...</td>\n",
       "      <td>[170.5, 186.0, 322.0, 480.5, 549.5, 597.0, 617...</td>\n",
       "    </tr>\n",
       "    <tr>\n",
       "      <th>1082</th>\n",
       "      <td>0</td>\n",
       "      <td>[485.0, 451.0, 438.0, 394.0, 379.0, 351.0, 325...</td>\n",
       "      <td>[121.0, 144.0, 155.0, 197.0, 214.0, 252.0, 295...</td>\n",
       "      <td>1.391</td>\n",
       "      <td>1</td>\n",
       "      <td>[2.55, 2.44, 2.38, 2.29, 2.21, 2.11, 1.98, 1.8...</td>\n",
       "      <td>[0.24, 0.31, 0.34, 0.46, 0.51, 0.62, 0.74, 0.9...</td>\n",
       "      <td>[2.7722, 2.7608, 2.7052, 2.6229, 2.5526, 2.507...</td>\n",
       "      <td>[2.9824, 2.9834, 2.9442, 2.9417, 2.9376, 2.882...</td>\n",
       "      <td>[3.0341, 3.0818, 3.0559, 3.0536, 3.0503, 3.010...</td>\n",
       "      <td>[468.0, 444.5, 416.0, 386.5, 365.0, 338.0, 309...</td>\n",
       "      <td>[132.5, 149.5, 176.0, 205.5, 233.0, 273.5, 331...</td>\n",
       "    </tr>\n",
       "    <tr>\n",
       "      <th>805</th>\n",
       "      <td>0</td>\n",
       "      <td>[1004.0, 1006.0, 788.0, 697.0, 599.0, 508.0, 4...</td>\n",
       "      <td>[175.0, 98.0, 84.0, 111.0, 172.0, 257.0, 346.0...</td>\n",
       "      <td>1.333</td>\n",
       "      <td>1</td>\n",
       "      <td>[-1.54, -3.08, 2.85, 2.58, 2.39, 2.08, 1.65, 1...</td>\n",
       "      <td>[0.17, 0.1, 0.11, 0.16, 0.28, 0.47, 0.65, 0.74...</td>\n",
       "      <td>[1.9391, 1.82, 1.7335, 1.6809, 1.6434, 1.7803,...</td>\n",
       "      <td>[2.3071, 2.5259, 2.6876, 2.5675, 2.3823, 2.371...</td>\n",
       "      <td>[1.609, 2.789, 2.8732, 2.947, 2.834, 2.7042, 2...</td>\n",
       "      <td>[1005.0, 897.0, 742.5, 648.0, 553.5, 483.0, 45...</td>\n",
       "      <td>[136.5, 91.0, 97.5, 141.5, 214.5, 301.5, 379.5...</td>\n",
       "    </tr>\n",
       "  </tbody>\n",
       "</table>\n",
       "<p>100 rows × 12 columns</p>\n",
       "</div>"
      ],
      "text/plain": [
       "     label                                                  x  \\\n",
       "527      0  [640.0, 671.0, 702.0, 734.0, 781.0, 804.0, 818...   \n",
       "1226     0  [834.0, 795.0, 788.0, 750.0, 647.0, 642.0, 652...   \n",
       "1100     0  [499.0, 491.0, 487.0, 484.0, 482.0, 482.0, 485...   \n",
       "1042     0  [903.0, 875.0, 789.0, 498.0, 445.0, 409.0, 412...   \n",
       "1061     0  [626.0, 623.0, 617.0, 606.0, 585.0, 568.0, 546...   \n",
       "...    ...                                                ...   \n",
       "600      0  [619.0, 649.0, 678.0, 714.0, 764.0, 793.0, 814...   \n",
       "20       0  [768.0, 742.0, 722.0, 712.0, 690.0, 667.0, 632...   \n",
       "1154     0  [719.0, 703.0, 670.0, 621.0, 627.0, 652.0, 701...   \n",
       "1082     0  [485.0, 451.0, 438.0, 394.0, 379.0, 351.0, 325...   \n",
       "805      0  [1004.0, 1006.0, 788.0, 697.0, 599.0, 508.0, 4...   \n",
       "\n",
       "                                                      y  speed strokes  \\\n",
       "527   [209.0, 194.0, 188.0, 189.0, 208.0, 232.0, 264...  1.684       1   \n",
       "1226  [184.0, 154.0, 156.0, 178.0, 430.0, 506.0, 574...  1.666       1   \n",
       "1100  [419.0, 439.0, 454.0, 470.0, 487.0, 505.0, 522...  1.391       1   \n",
       "1042  [15.0, 0.0, 0.0, 42.0, 131.0, 264.0, 402.0, 53...  1.587       1   \n",
       "1061  [187.0, 182.0, 180.0, 179.0, 179.0, 181.0, 186...  0.353       1   \n",
       "...                                                 ...    ...     ...   \n",
       "600   [245.0, 214.0, 199.0, 193.0, 201.0, 221.0, 252...  1.777       1   \n",
       "20    [141.0, 139.0, 138.0, 138.0, 140.0, 144.0, 153...  0.556       1   \n",
       "1154  [171.0, 170.0, 202.0, 442.0, 519.0, 580.0, 614...  1.731       1   \n",
       "1082  [121.0, 144.0, 155.0, 197.0, 214.0, 252.0, 295...  1.391       1   \n",
       "805   [175.0, 98.0, 84.0, 111.0, 172.0, 257.0, 346.0...  1.333       1   \n",
       "\n",
       "                                              arctan2_2  \\\n",
       "527   [-0.45, -0.19, 0.03, 0.38, 0.81, 1.16, 1.54, 1...   \n",
       "1226  [-2.49, 2.86, 2.62, 1.96, 1.64, 1.42, 1.01, 0....   \n",
       "1100  [1.95, 1.83, 1.76, 1.69, 1.57, 1.4, 1.25, 1.13...   \n",
       "1042  [-2.65, 3.14, 3.0, 2.11, 1.84, 1.55, 1.27, 0.9...   \n",
       "1061  [-2.11, -2.82, -3.05, 3.14, 3.02, 2.92, 2.86, ...   \n",
       "...                                                 ...   \n",
       "600   [-0.8, -0.48, -0.17, 0.16, 0.6, 0.98, 1.31, 1....   \n",
       "20    [-3.06, -3.09, 3.14, 3.05, 2.97, 2.89, 2.85, 2...   \n",
       "1154  [-3.08, 2.37, 1.77, 1.49, 1.18, 0.61, 0.12, -0...   \n",
       "1082  [2.55, 2.44, 2.38, 2.29, 2.21, 2.11, 1.98, 1.8...   \n",
       "805   [-1.54, -3.08, 2.85, 2.58, 2.39, 2.08, 1.65, 1...   \n",
       "\n",
       "                                               arctan_1  \\\n",
       "527   [0.32, 0.28, 0.26, 0.25, 0.26, 0.28, 0.31, 0.3...   \n",
       "1226  [0.22, 0.19, 0.2, 0.23, 0.59, 0.67, 0.72, 0.74...   \n",
       "1100  [0.7, 0.73, 0.75, 0.77, 0.79, 0.81, 0.82, 0.83...   \n",
       "1042  [0.02, 0.0, 0.0, 0.08, 0.29, 0.57, 0.77, 0.87,...   \n",
       "1061  [0.29, 0.28, 0.28, 0.29, 0.3, 0.31, 0.33, 0.35...   \n",
       "...                                                 ...   \n",
       "600   [0.38, 0.32, 0.29, 0.26, 0.26, 0.27, 0.3, 0.36...   \n",
       "20    [0.18, 0.19, 0.19, 0.19, 0.2, 0.21, 0.24, 0.25...   \n",
       "1154  [0.23, 0.24, 0.29, 0.62, 0.69, 0.73, 0.72, 0.6...   \n",
       "1082  [0.24, 0.31, 0.34, 0.46, 0.51, 0.62, 0.74, 0.9...   \n",
       "805   [0.17, 0.1, 0.11, 0.16, 0.28, 0.47, 0.65, 0.74...   \n",
       "\n",
       "                                            curvature_4  \\\n",
       "527   [1.7464, 1.7758, 1.8676, 2.0321, 2.2587, 2.355...   \n",
       "1226  [2.184, 2.0892, 1.6878, 1.4253, 1.5468, 1.5767...   \n",
       "1100  [2.6698, 2.6113, 2.5718, 2.542, 2.5094, 2.4518...   \n",
       "1042  [1.6327, 1.5535, 1.4653, 1.6885, 1.5709, 1.653...   \n",
       "1061  [2.6666, 2.7674, 2.8024, 2.8172, 2.8358, 2.805...   \n",
       "...                                                 ...   \n",
       "600   [1.6733, 1.7551, 1.8722, 2.046, 2.2893, 2.4178...   \n",
       "20    [2.8532, 2.8829, 2.8957, 2.9074, 2.879, 2.9041...   \n",
       "1154  [1.8988, 1.4027, 1.1523, 1.299, 1.3635, 1.6044...   \n",
       "1082  [2.7722, 2.7608, 2.7052, 2.6229, 2.5526, 2.507...   \n",
       "805   [1.9391, 1.82, 1.7335, 1.6809, 1.6434, 1.7803,...   \n",
       "\n",
       "                                            curvature_2  \\\n",
       "527   [2.567, 2.5115, 2.4026, 2.2957, 2.4787, 2.6423...   \n",
       "1226  [1.4993, 2.3788, 2.6316, 2.4914, 2.4435, 2.319...   \n",
       "1100  [2.9617, 2.9766, 2.9057, 2.8395, 2.8466, 2.840...   \n",
       "1042  [2.6469, 2.063, 2.0558, 2.5982, 2.5309, 2.4054...   \n",
       "1061  [2.5118, 2.9143, 2.9327, 2.939, 2.973, 2.9822,...   \n",
       "...                                                 ...   \n",
       "600   [2.4561, 2.4885, 2.3695, 2.3015, 2.5093, 2.623...   \n",
       "20    [3.0141, 2.9757, 2.9835, 3.0135, 3.0113, 3.009...   \n",
       "1154  [2.2697, 2.6278, 2.345, 2.1515, 2.2859, 2.293,...   \n",
       "1082  [2.9824, 2.9834, 2.9442, 2.9417, 2.9376, 2.882...   \n",
       "805   [2.3071, 2.5259, 2.6876, 2.5675, 2.3823, 2.371...   \n",
       "\n",
       "                                            curvature_1  \\\n",
       "527   [2.8821, 2.9192, 2.7887, 2.7191, 2.7899, 2.763...   \n",
       "1226  [2.2076, 2.8951, 2.4836, 2.8193, 2.9299, 2.729...   \n",
       "1100  [3.0217, 3.0663, 3.0733, 3.0245, 2.9669, 2.994...   \n",
       "1042  [2.6498, 2.9982, 2.2512, 2.8688, 2.8555, 2.86,...   \n",
       "1061  [2.433, 2.9105, 3.0509, 3.0245, 3.0352, 3.0813...   \n",
       "...                                                 ...   \n",
       "600   [2.8172, 2.8294, 2.8178, 2.6965, 2.7699, 2.811...   \n",
       "20    [3.1148, 3.0916, 3.0509, 3.0601, 3.0621, 3.101...   \n",
       "1154  [2.3092, 2.5422, 2.8624, 2.8304, 2.5663, 2.651...   \n",
       "1082  [3.0341, 3.0818, 3.0559, 3.0536, 3.0503, 3.010...   \n",
       "805   [1.609, 2.789, 2.8732, 2.947, 2.834, 2.7042, 2...   \n",
       "\n",
       "                                               x_smooth  \\\n",
       "527   [655.5, 686.5, 718.0, 757.5, 792.5, 811.0, 819...   \n",
       "1226  [814.5, 791.5, 769.0, 698.5, 644.5, 647.0, 667...   \n",
       "1100  [495.0, 489.0, 485.5, 483.0, 482.0, 483.5, 487...   \n",
       "1042  [889.0, 832.0, 643.5, 471.5, 427.0, 410.5, 432...   \n",
       "1061  [624.5, 620.0, 611.5, 595.5, 576.5, 557.0, 534...   \n",
       "...                                                 ...   \n",
       "600   [634.0, 663.5, 696.0, 739.0, 778.5, 803.5, 822...   \n",
       "20    [755.0, 732.0, 717.0, 701.0, 678.5, 649.5, 627...   \n",
       "1154  [711.0, 686.5, 645.5, 624.0, 639.5, 676.5, 731...   \n",
       "1082  [468.0, 444.5, 416.0, 386.5, 365.0, 338.0, 309...   \n",
       "805   [1005.0, 897.0, 742.5, 648.0, 553.5, 483.0, 45...   \n",
       "\n",
       "                                               y_smooth  \n",
       "527   [201.5, 191.0, 188.5, 198.5, 220.0, 248.0, 293...  \n",
       "1226  [169.0, 155.0, 167.0, 304.0, 468.0, 540.0, 598...  \n",
       "1100  [429.0, 446.5, 462.0, 478.5, 496.0, 513.5, 529...  \n",
       "1042  [7.5, 0.0, 21.0, 86.5, 197.5, 333.0, 467.5, 58...  \n",
       "1061  [184.5, 181.0, 179.5, 179.0, 180.0, 183.5, 189...  \n",
       "...                                                 ...  \n",
       "600   [229.5, 206.5, 196.0, 197.0, 211.0, 236.5, 281...  \n",
       "20    [140.0, 138.5, 138.0, 139.0, 142.0, 148.5, 154...  \n",
       "1154  [170.5, 186.0, 322.0, 480.5, 549.5, 597.0, 617...  \n",
       "1082  [132.5, 149.5, 176.0, 205.5, 233.0, 273.5, 331...  \n",
       "805   [136.5, 91.0, 97.5, 141.5, 214.5, 301.5, 379.5...  \n",
       "\n",
       "[100 rows x 12 columns]"
      ]
     },
     "execution_count": 1,
     "metadata": {},
     "output_type": "execute_result"
    }
   ],
   "source": [
    "%store -r df_classes\n",
    "\n",
    "\n",
    "print(df_classes[0].shape)\n",
    "# print(train.shape)\n",
    "df_classes[0]\n",
    "# df_classes\n",
    "\n"
   ]
  },
  {
   "cell_type": "markdown",
   "metadata": {},
   "source": [
    "## Train HMM\n",
    "\n",
    "https://citeseerx.ist.psu.edu/viewdoc/download?doi=10.1.1.226.3759&rep=rep1&type=pdf\n",
    "\n",
    "https://learning.oreilly.com/library/view/python-machine-learning/9781786464477/ch07s08.html#ch07lvl2sec94"
   ]
  },
  {
   "cell_type": "markdown",
   "metadata": {},
   "source": [
    "### Calculate Gaussian Mixture of model to find observation probability"
   ]
  },
  {
   "cell_type": "code",
   "execution_count": 2,
   "metadata": {},
   "outputs": [],
   "source": [
    "from hmmlearn import hmm\n",
    "import numpy as np\n",
    "import pickle\n",
    "from hmmlearn import base"
   ]
  },
  {
   "cell_type": "code",
   "execution_count": 3,
   "metadata": {},
   "outputs": [],
   "source": [
    "from sklearn.mixture import GaussianMixture\n",
    "\n",
    "# X0 = df_classes[0][['angles', 'x', 'y']]\n",
    "\n",
    "# GMM = GaussianMixture(n_components=3, random_state=0).fit(X0) BUGGATO"
   ]
  },
  {
   "cell_type": "code",
   "execution_count": 5,
   "metadata": {},
   "outputs": [],
   "source": [
    "\n",
    "\n",
    "# from baum_welch import baum_welch\n",
    "\n",
    "# data = df_classes[0][['angles']].values\n",
    "# data_list_append = data.tolist()\n",
    "# data_list_append = [ three for one in data_list_append for two in one for three in two] \n",
    "\n",
    "# # TRY ONLY WI CURVATURE (ANGLE)\n",
    "# # 6 states\n",
    "# initial_prob = np.array([1, 0, 0, 0, 0, 0])\n",
    "# transition_prob = np.ones((6, 6))\n",
    "# transition_prob = transition_prob / np.sum(transition_prob, axis=1)\n",
    "# emission_prob = np.ones((6, 1)) # I don't know how many\n",
    "# emission_prob = emission_prob / np.sum(emission_prob, axis=1).reshape(-1, 1)\n",
    "\n",
    "# n_iter = 20\n",
    "# # To go, data has to be a list of numbers\n",
    "\n",
    "# transition_true, emission_true = baum_welch(data_list_append, initial_prob, transition_prob, emission_prob, n_iter)\n",
    "\n",
    "# print(\"new transition_prob: \", transition_true, \"\\nnew emission_prob: \", emission_true)\n"
   ]
  },
  {
   "cell_type": "code",
   "execution_count": 6,
   "metadata": {},
   "outputs": [],
   "source": [
    "# https://hmmlearn.readthedocs.io/en/latest/tutorial.html#working-with-multiple-sequences\n",
    "\n",
    "#           Delete this cell\n",
    "\n",
    "# data_true = train[['angles']].values.tolist()\n",
    "# data_list_try = np.array([ [three] for one in data_true for two in one for three in two])\n",
    "# len_list_try = [len(two) for one in data_true for two in one ]\n",
    "\n",
    "\n",
    "# # print(data_list_try)\n",
    "# # print(data_list_try.shape)\n",
    "# # print(type(len_list_try))\n",
    "\n",
    "# hmm.GaussianHMM(n_components=6).fit(data_list_try, len_list_try)"
   ]
  },
  {
   "cell_type": "markdown",
   "metadata": {},
   "source": [
    "# GaussianHMM: x,y (models_1)"
   ]
  },
  {
   "cell_type": "code",
   "execution_count": 5,
   "metadata": {
    "tags": []
   },
   "outputs": [
    {
     "name": "stderr",
     "output_type": "stream",
     "text": [
      "Even though the 'startprob_' attribute is set, it will be overwritten during initialization because 'init_params' contains 's'\n",
      "Even though the 'transmat_' attribute is set, it will be overwritten during initialization because 'init_params' contains 't'\n"
     ]
    },
    {
     "name": "stdout",
     "output_type": "stream",
     "text": [
      "Modelling probabilities of class  0  of  10  classes\n"
     ]
    },
    {
     "name": "stderr",
     "output_type": "stream",
     "text": [
      "Even though the 'startprob_' attribute is set, it will be overwritten during initialization because 'init_params' contains 's'\n",
      "Even though the 'transmat_' attribute is set, it will be overwritten during initialization because 'init_params' contains 't'\n"
     ]
    },
    {
     "name": "stdout",
     "output_type": "stream",
     "text": [
      "Converged: True\n",
      "Modelling probabilities of class  1  of  10  classes\n"
     ]
    },
    {
     "name": "stderr",
     "output_type": "stream",
     "text": [
      "Even though the 'startprob_' attribute is set, it will be overwritten during initialization because 'init_params' contains 's'\n",
      "Even though the 'transmat_' attribute is set, it will be overwritten during initialization because 'init_params' contains 't'\n"
     ]
    },
    {
     "name": "stdout",
     "output_type": "stream",
     "text": [
      "Converged: True\n",
      "Modelling probabilities of class  2  of  10  classes\n"
     ]
    },
    {
     "name": "stderr",
     "output_type": "stream",
     "text": [
      "Even though the 'startprob_' attribute is set, it will be overwritten during initialization because 'init_params' contains 's'\n",
      "Even though the 'transmat_' attribute is set, it will be overwritten during initialization because 'init_params' contains 't'\n"
     ]
    },
    {
     "name": "stdout",
     "output_type": "stream",
     "text": [
      "Converged: True\n",
      "Modelling probabilities of class  3  of  10  classes\n"
     ]
    },
    {
     "name": "stderr",
     "output_type": "stream",
     "text": [
      "Even though the 'startprob_' attribute is set, it will be overwritten during initialization because 'init_params' contains 's'\n",
      "Even though the 'transmat_' attribute is set, it will be overwritten during initialization because 'init_params' contains 't'\n"
     ]
    },
    {
     "name": "stdout",
     "output_type": "stream",
     "text": [
      "Converged: True\n",
      "Modelling probabilities of class  4  of  10  classes\n"
     ]
    },
    {
     "name": "stderr",
     "output_type": "stream",
     "text": [
      "Even though the 'startprob_' attribute is set, it will be overwritten during initialization because 'init_params' contains 's'\n",
      "Even though the 'transmat_' attribute is set, it will be overwritten during initialization because 'init_params' contains 't'\n"
     ]
    },
    {
     "name": "stdout",
     "output_type": "stream",
     "text": [
      "Converged: True\n",
      "Modelling probabilities of class  5  of  10  classes\n"
     ]
    },
    {
     "name": "stderr",
     "output_type": "stream",
     "text": [
      "Even though the 'startprob_' attribute is set, it will be overwritten during initialization because 'init_params' contains 's'\n",
      "Even though the 'transmat_' attribute is set, it will be overwritten during initialization because 'init_params' contains 't'\n"
     ]
    },
    {
     "name": "stdout",
     "output_type": "stream",
     "text": [
      "Converged: True\n",
      "Modelling probabilities of class  6  of  10  classes\n"
     ]
    },
    {
     "name": "stderr",
     "output_type": "stream",
     "text": [
      "Even though the 'startprob_' attribute is set, it will be overwritten during initialization because 'init_params' contains 's'\n",
      "Even though the 'transmat_' attribute is set, it will be overwritten during initialization because 'init_params' contains 't'\n"
     ]
    },
    {
     "name": "stdout",
     "output_type": "stream",
     "text": [
      "Converged: True\n",
      "Modelling probabilities of class  7  of  10  classes\n"
     ]
    },
    {
     "name": "stderr",
     "output_type": "stream",
     "text": [
      "Even though the 'startprob_' attribute is set, it will be overwritten during initialization because 'init_params' contains 's'\n",
      "Even though the 'transmat_' attribute is set, it will be overwritten during initialization because 'init_params' contains 't'\n"
     ]
    },
    {
     "name": "stdout",
     "output_type": "stream",
     "text": [
      "Converged: True\n",
      "Modelling probabilities of class  8  of  10  classes\n"
     ]
    },
    {
     "name": "stderr",
     "output_type": "stream",
     "text": [
      "Even though the 'startprob_' attribute is set, it will be overwritten during initialization because 'init_params' contains 's'\n",
      "Even though the 'transmat_' attribute is set, it will be overwritten during initialization because 'init_params' contains 't'\n"
     ]
    },
    {
     "name": "stdout",
     "output_type": "stream",
     "text": [
      "Converged: True\n",
      "Modelling probabilities of class  9  of  10  classes\n",
      "Converged: True\n"
     ]
    }
   ],
   "source": [
    "n_iter=1000\n",
    "feature_involved_1= ['x']\n",
    "feature_involved_2= ['y']\n",
    "\n",
    "\n",
    "\n",
    "for n_class, _ in df_classes.items():\n",
    "    print(\"Modelling probabilities of class \", n_class,\" of \", len(df_classes), \" classes\")\n",
    "    model = hmm.GaussianHMM(n_components=6, n_iter=n_iter, verbose=False, tol=0.01, random_state=44)\n",
    "    # model = base.BaseHMM(n_components=6, n_iter=n_iter)\n",
    "    #data_true = df_classes[n_class][feature_involved_1].values.tolist()\n",
    "    #data_list = np.array([ [three] for one in data_true for two in one for three in two] )\n",
    "    #len_list = [len(two) for one in data_true for two in one ]\n",
    "\n",
    "    initial_prob = np.array([1, 0, 0, 0, 0, 0])\n",
    "    transition_prob = np.ones((6, 6))\n",
    "    transition_prob = transition_prob / np.sum(transition_prob, axis=1)\n",
    "\n",
    "\n",
    "    model.startprob_ = initial_prob\n",
    "    model.transmat_ = transition_prob\n",
    "\n",
    "\n",
    "    data_true_1 = df_classes[n_class][feature_involved_1].values.tolist()\n",
    "    data_true_2 = df_classes[n_class][feature_involved_2].values.tolist()\n",
    "    data_list_1 = np.array([[three] for one in data_true_1 for two in one for three in two])\n",
    "    data_list_2 = np.array([[z] for x in data_true_2 for y in x for z in y])\n",
    "    len_list = np.array([len(two) for one in data_true_1 for two in one ])\n",
    "    data_list=np.hstack([data_list_1,data_list_2])\n",
    "    \n",
    "\n",
    "    model.fit(data_list, len_list)\n",
    "    \n",
    "    print(f'Converged: {model.monitor_.converged}')\n",
    "    \n",
    "\n",
    "    # print(\"initial probability: \", model.startprob_)\n",
    "    # print(f'transition: \\n{model.transmat_}')\n",
    "    # print(f'emission: \\n{model.emissionprob_}')\n",
    "\n",
    "    with open ('models_1/'+str(n_class)+'hmm_model.pkl', 'wb') as f: #Save model\n",
    "        pickle.dump(model, f)"
   ]
  },
  {
   "cell_type": "markdown",
   "metadata": {},
   "source": [
    "# GMMHMM: x,y (models_1_2)"
   ]
  },
  {
   "cell_type": "code",
   "execution_count": 4,
   "metadata": {
    "tags": []
   },
   "outputs": [
    {
     "name": "stderr",
     "output_type": "stream",
     "text": [
      "Even though the 'startprob_' attribute is set, it will be overwritten during initialization because 'init_params' contains 's'\n",
      "Even though the 'transmat_' attribute is set, it will be overwritten during initialization because 'init_params' contains 't'\n"
     ]
    },
    {
     "name": "stdout",
     "output_type": "stream",
     "text": [
      "Modelling probabilities of class  0  of  9  classes\n"
     ]
    },
    {
     "name": "stderr",
     "output_type": "stream",
     "text": [
      "Even though the 'startprob_' attribute is set, it will be overwritten during initialization because 'init_params' contains 's'\n",
      "Even though the 'transmat_' attribute is set, it will be overwritten during initialization because 'init_params' contains 't'\n"
     ]
    },
    {
     "name": "stdout",
     "output_type": "stream",
     "text": [
      "Modelling probabilities of class  1  of  9  classes\n"
     ]
    },
    {
     "name": "stderr",
     "output_type": "stream",
     "text": [
      "Even though the 'startprob_' attribute is set, it will be overwritten during initialization because 'init_params' contains 's'\n",
      "Even though the 'transmat_' attribute is set, it will be overwritten during initialization because 'init_params' contains 't'\n"
     ]
    },
    {
     "name": "stdout",
     "output_type": "stream",
     "text": [
      "Modelling probabilities of class  2  of  9  classes\n"
     ]
    },
    {
     "name": "stderr",
     "output_type": "stream",
     "text": [
      "Even though the 'startprob_' attribute is set, it will be overwritten during initialization because 'init_params' contains 's'\n",
      "Even though the 'transmat_' attribute is set, it will be overwritten during initialization because 'init_params' contains 't'\n"
     ]
    },
    {
     "name": "stdout",
     "output_type": "stream",
     "text": [
      "Modelling probabilities of class  3  of  9  classes\n"
     ]
    },
    {
     "name": "stderr",
     "output_type": "stream",
     "text": [
      "Even though the 'startprob_' attribute is set, it will be overwritten during initialization because 'init_params' contains 's'\n",
      "Even though the 'transmat_' attribute is set, it will be overwritten during initialization because 'init_params' contains 't'\n"
     ]
    },
    {
     "name": "stdout",
     "output_type": "stream",
     "text": [
      "Modelling probabilities of class  5  of  9  classes\n"
     ]
    },
    {
     "name": "stderr",
     "output_type": "stream",
     "text": [
      "Even though the 'startprob_' attribute is set, it will be overwritten during initialization because 'init_params' contains 's'\n",
      "Even though the 'transmat_' attribute is set, it will be overwritten during initialization because 'init_params' contains 't'\n"
     ]
    },
    {
     "name": "stdout",
     "output_type": "stream",
     "text": [
      "Modelling probabilities of class  6  of  9  classes\n"
     ]
    },
    {
     "name": "stderr",
     "output_type": "stream",
     "text": [
      "Even though the 'startprob_' attribute is set, it will be overwritten during initialization because 'init_params' contains 's'\n",
      "Even though the 'transmat_' attribute is set, it will be overwritten during initialization because 'init_params' contains 't'\n"
     ]
    },
    {
     "name": "stdout",
     "output_type": "stream",
     "text": [
      "Modelling probabilities of class  7  of  9  classes\n"
     ]
    },
    {
     "name": "stderr",
     "output_type": "stream",
     "text": [
      "Even though the 'startprob_' attribute is set, it will be overwritten during initialization because 'init_params' contains 's'\n",
      "Even though the 'transmat_' attribute is set, it will be overwritten during initialization because 'init_params' contains 't'\n"
     ]
    },
    {
     "name": "stdout",
     "output_type": "stream",
     "text": [
      "Modelling probabilities of class  8  of  9  classes\n"
     ]
    },
    {
     "name": "stderr",
     "output_type": "stream",
     "text": [
      "Even though the 'startprob_' attribute is set, it will be overwritten during initialization because 'init_params' contains 's'\n",
      "Even though the 'transmat_' attribute is set, it will be overwritten during initialization because 'init_params' contains 't'\n"
     ]
    },
    {
     "name": "stdout",
     "output_type": "stream",
     "text": [
      "Modelling probabilities of class  9  of  9  classes\n"
     ]
    }
   ],
   "source": [
    "n_iter=1000\n",
    "feature_involved_1= ['x']\n",
    "feature_involved_2= ['y']\n",
    "\n",
    "\n",
    "\n",
    "for n_class, _ in df_classes.items():\n",
    "    print(\"Modelling probabilities of class \", n_class,\" of \", len(df_classes), \" classes\")\n",
    "    model = hmm.GMMHMM(n_components=6, n_iter=n_iter, verbose=False, tol=0.01, random_state=44)\n",
    "    # model = base.BaseHMM(n_components=6, n_iter=n_iter)\n",
    "    #data_true = df_classes[n_class][feature_involved_1].values.tolist()\n",
    "    #data_list = np.array([ [three] for one in data_true for two in one for three in two] )\n",
    "    #len_list = [len(two) for one in data_true for two in one ]\n",
    "\n",
    "    initial_prob = np.array([1, 0, 0, 0, 0, 0])\n",
    "    transition_prob = np.ones((6, 6))\n",
    "    transition_prob = transition_prob / np.sum(transition_prob, axis=1)\n",
    "\n",
    "\n",
    "    model.startprob_ = initial_prob\n",
    "    model.transmat_ = transition_prob\n",
    "\n",
    "\n",
    "    data_true_1 = df_classes[n_class][feature_involved_1].values.tolist()\n",
    "    data_true_2 = df_classes[n_class][feature_involved_2].values.tolist()\n",
    "    data_list_1 = np.array([[three] for one in data_true_1 for two in one for three in two])\n",
    "    data_list_2 = np.array([[z] for x in data_true_2 for y in x for z in y])\n",
    "    len_list = np.array([len(two) for one in data_true_1 for two in one ])\n",
    "    data_list=np.hstack([data_list_1,data_list_2])\n",
    "    \n",
    "\n",
    "    model.fit(data_list, len_list)\n",
    "    \n",
    "\n",
    "    # print(\"initial probability: \", model.startprob_)\n",
    "    # print(f'transition: \\n{model.transmat_}')\n",
    "    # print(f'emission: \\n{model.emissionprob_}')\n",
    "\n",
    "    with open ('models_1_2/'+str(n_class)+'hmm_model.pkl', 'wb') as f: #Save model\n",
    "        pickle.dump(model, f)"
   ]
  },
  {
   "cell_type": "markdown",
   "metadata": {},
   "source": [
    "# GaussianHMM: curvature_1 (models_2)"
   ]
  },
  {
   "cell_type": "code",
   "execution_count": 42,
   "metadata": {
    "tags": []
   },
   "outputs": [
    {
     "name": "stderr",
     "output_type": "stream",
     "text": [
      "Even though the 'startprob_' attribute is set, it will be overwritten during initialization because 'init_params' contains 's'\n",
      "Even though the 'transmat_' attribute is set, it will be overwritten during initialization because 'init_params' contains 't'\n"
     ]
    },
    {
     "name": "stdout",
     "output_type": "stream",
     "text": [
      "Modelling probabilities of class  0  of  10  classes\n"
     ]
    },
    {
     "name": "stderr",
     "output_type": "stream",
     "text": [
      "Even though the 'startprob_' attribute is set, it will be overwritten during initialization because 'init_params' contains 's'\n",
      "Even though the 'transmat_' attribute is set, it will be overwritten during initialization because 'init_params' contains 't'\n"
     ]
    },
    {
     "name": "stdout",
     "output_type": "stream",
     "text": [
      "Modelling probabilities of class  1  of  10  classes\n"
     ]
    },
    {
     "name": "stderr",
     "output_type": "stream",
     "text": [
      "Even though the 'startprob_' attribute is set, it will be overwritten during initialization because 'init_params' contains 's'\n",
      "Even though the 'transmat_' attribute is set, it will be overwritten during initialization because 'init_params' contains 't'\n"
     ]
    },
    {
     "name": "stdout",
     "output_type": "stream",
     "text": [
      "Modelling probabilities of class  2  of  10  classes\n"
     ]
    },
    {
     "name": "stderr",
     "output_type": "stream",
     "text": [
      "Even though the 'startprob_' attribute is set, it will be overwritten during initialization because 'init_params' contains 's'\n",
      "Even though the 'transmat_' attribute is set, it will be overwritten during initialization because 'init_params' contains 't'\n"
     ]
    },
    {
     "name": "stdout",
     "output_type": "stream",
     "text": [
      "Modelling probabilities of class  3  of  10  classes\n"
     ]
    },
    {
     "name": "stderr",
     "output_type": "stream",
     "text": [
      "Even though the 'startprob_' attribute is set, it will be overwritten during initialization because 'init_params' contains 's'\n",
      "Even though the 'transmat_' attribute is set, it will be overwritten during initialization because 'init_params' contains 't'\n"
     ]
    },
    {
     "name": "stdout",
     "output_type": "stream",
     "text": [
      "Modelling probabilities of class  4  of  10  classes\n"
     ]
    },
    {
     "name": "stderr",
     "output_type": "stream",
     "text": [
      "Even though the 'startprob_' attribute is set, it will be overwritten during initialization because 'init_params' contains 's'\n",
      "Even though the 'transmat_' attribute is set, it will be overwritten during initialization because 'init_params' contains 't'\n"
     ]
    },
    {
     "name": "stdout",
     "output_type": "stream",
     "text": [
      "Modelling probabilities of class  5  of  10  classes\n"
     ]
    },
    {
     "name": "stderr",
     "output_type": "stream",
     "text": [
      "Even though the 'startprob_' attribute is set, it will be overwritten during initialization because 'init_params' contains 's'\n",
      "Even though the 'transmat_' attribute is set, it will be overwritten during initialization because 'init_params' contains 't'\n"
     ]
    },
    {
     "name": "stdout",
     "output_type": "stream",
     "text": [
      "Modelling probabilities of class  6  of  10  classes\n"
     ]
    },
    {
     "name": "stderr",
     "output_type": "stream",
     "text": [
      "Even though the 'startprob_' attribute is set, it will be overwritten during initialization because 'init_params' contains 's'\n",
      "Even though the 'transmat_' attribute is set, it will be overwritten during initialization because 'init_params' contains 't'\n"
     ]
    },
    {
     "name": "stdout",
     "output_type": "stream",
     "text": [
      "Modelling probabilities of class  7  of  10  classes\n"
     ]
    },
    {
     "name": "stderr",
     "output_type": "stream",
     "text": [
      "Even though the 'startprob_' attribute is set, it will be overwritten during initialization because 'init_params' contains 's'\n",
      "Even though the 'transmat_' attribute is set, it will be overwritten during initialization because 'init_params' contains 't'\n"
     ]
    },
    {
     "name": "stdout",
     "output_type": "stream",
     "text": [
      "Modelling probabilities of class  8  of  10  classes\n"
     ]
    },
    {
     "name": "stderr",
     "output_type": "stream",
     "text": [
      "Even though the 'startprob_' attribute is set, it will be overwritten during initialization because 'init_params' contains 's'\n",
      "Even though the 'transmat_' attribute is set, it will be overwritten during initialization because 'init_params' contains 't'\n"
     ]
    },
    {
     "name": "stdout",
     "output_type": "stream",
     "text": [
      "Modelling probabilities of class  9  of  10  classes\n"
     ]
    }
   ],
   "source": [
    "n_iter=100\n",
    "feature_involved_1= ['curvature_1']\n",
    "\n",
    "\n",
    "for n_class, _ in df_classes.items():\n",
    "    print(\"Modelling probabilities of class \", n_class,\" of \", len(df_classes), \" classes\")\n",
    "    model = hmm.GaussianHMM(n_components=6, n_iter=n_iter, verbose=False, tol=0.01, random_state=44)\n",
    "    # model = base.BaseHMM(n_components=6, n_iter=n_iter)\n",
    "    data_true = df_classes[n_class][feature_involved_1].values.tolist()\n",
    "    data_list = np.array([ [three] for one in data_true for two in one for three in two] )\n",
    "    len_list = [len(two) for one in data_true for two in one ]\n",
    "\n",
    "    initial_prob = np.array([1, 0, 0, 0, 0, 0])\n",
    "    transition_prob = np.ones((6, 6))\n",
    "    transition_prob = transition_prob / np.sum(transition_prob, axis=1)\n",
    "\n",
    "\n",
    "    model.startprob_ = initial_prob\n",
    "    model.transmat_ = transition_prob\n",
    "\n",
    "\n",
    "\n",
    "    \n",
    "    \n",
    "\n",
    "\n",
    "    model.fit(data_list, len_list)\n",
    "    \n",
    "\n",
    "    # print(\"initial probability: \", model.startprob_)\n",
    "    # print(f'transition: \\n{model.transmat_}')\n",
    "    # print(f'emission: \\n{model.emissionprob_}')\n",
    "\n",
    "    with open ('models_2/'+str(n_class)+'hmm_model.pkl', 'wb') as f: #Save model\n",
    "        pickle.dump(model, f)"
   ]
  },
  {
   "cell_type": "markdown",
   "metadata": {},
   "source": [
    "# GMMHMM: curvature_1 (models_2_2)"
   ]
  },
  {
   "cell_type": "code",
   "execution_count": 5,
   "metadata": {},
   "outputs": [
    {
     "name": "stdout",
     "output_type": "stream",
     "text": [
      "Modelling probabilities of class  0  of  9  classes\n",
      "Modelling probabilities of class  1  of  9  classes\n"
     ]
    },
    {
     "name": "stderr",
     "output_type": "stream",
     "text": [
      "/opt/anaconda3/envs/tutor2022/lib/python3.9/site-packages/hmmlearn/hmm.py:986: RuntimeWarning: invalid value encountered in true_divide\n",
      "  self.weights_ = w_n / w_d\n",
      "/opt/anaconda3/envs/tutor2022/lib/python3.9/site-packages/hmmlearn/hmm.py:998: RuntimeWarning: invalid value encountered in true_divide\n",
      "  self.means_ = m_n / m_d[:, :, None]\n",
      "Some rows of transmat_ have zero sum because no transition from the state was ever observed.\n"
     ]
    },
    {
     "name": "stdout",
     "output_type": "stream",
     "text": [
      "Modelling probabilities of class  2  of  9  classes\n",
      "Modelling probabilities of class  3  of  9  classes\n",
      "Modelling probabilities of class  5  of  9  classes\n",
      "Modelling probabilities of class  6  of  9  classes\n",
      "Modelling probabilities of class  7  of  9  classes\n",
      "Modelling probabilities of class  8  of  9  classes\n",
      "Modelling probabilities of class  9  of  9  classes\n"
     ]
    }
   ],
   "source": [
    "n_iter=1000\n",
    "feature_involved_1= ['curvature_1']\n",
    "\n",
    "\n",
    "for n_class, _ in df_classes.items():\n",
    "    print(\"Modelling probabilities of class \", n_class,\" of \", len(df_classes), \" classes\")\n",
    "    model = hmm.GMMHMM(n_components=6, n_iter=n_iter, verbose=False, tol=0.01, random_state=44)\n",
    "    # model = base.BaseHMM(n_components=6, n_iter=n_iter)\n",
    "    data_true = df_classes[n_class][feature_involved_1].values.tolist()\n",
    "    data_list = np.array([ [three] for one in data_true for two in one for three in two] )\n",
    "    len_list = [len(two) for one in data_true for two in one ]\n",
    "\n",
    "    #initial_prob = np.array([1, 0, 0, 0, 0, 0])\n",
    "    #transition_prob = np.ones((6, 6))\n",
    "    #transition_prob = transition_prob / np.sum(transition_prob, axis=1)\n",
    "\n",
    "\n",
    "    #model.startprob_ = initial_prob\n",
    "    #model.transmat_ = transition_prob\n",
    "\n",
    "\n",
    "\n",
    "    \n",
    "    \n",
    "\n",
    "\n",
    "    model.fit(data_list, len_list)\n",
    "    \n",
    "\n",
    "    # print(\"initial probability: \", model.startprob_)\n",
    "    # print(f'transition: \\n{model.transmat_}')\n",
    "    # print(f'emission: \\n{model.emissionprob_}')\n",
    "\n",
    "    with open ('models_2_2/'+str(n_class)+'hmm_model.pkl', 'wb') as f: #Save model\n",
    "        pickle.dump(model, f)"
   ]
  },
  {
   "cell_type": "markdown",
   "metadata": {},
   "source": [
    "# GaussianHMM: curvature_2 (models_3)"
   ]
  },
  {
   "cell_type": "code",
   "execution_count": 44,
   "metadata": {
    "collapsed": true,
    "jupyter": {
     "outputs_hidden": true
    },
    "tags": []
   },
   "outputs": [
    {
     "name": "stderr",
     "output_type": "stream",
     "text": [
      "Even though the 'startprob_' attribute is set, it will be overwritten during initialization because 'init_params' contains 's'\n",
      "Even though the 'transmat_' attribute is set, it will be overwritten during initialization because 'init_params' contains 't'\n"
     ]
    },
    {
     "name": "stdout",
     "output_type": "stream",
     "text": [
      "Modelling probabilities of class  0  of  9  classes\n"
     ]
    },
    {
     "name": "stderr",
     "output_type": "stream",
     "text": [
      "Even though the 'startprob_' attribute is set, it will be overwritten during initialization because 'init_params' contains 's'\n",
      "Even though the 'transmat_' attribute is set, it will be overwritten during initialization because 'init_params' contains 't'\n"
     ]
    },
    {
     "name": "stdout",
     "output_type": "stream",
     "text": [
      "Modelling probabilities of class  1  of  9  classes\n"
     ]
    },
    {
     "name": "stderr",
     "output_type": "stream",
     "text": [
      "Even though the 'startprob_' attribute is set, it will be overwritten during initialization because 'init_params' contains 's'\n",
      "Even though the 'transmat_' attribute is set, it will be overwritten during initialization because 'init_params' contains 't'\n"
     ]
    },
    {
     "name": "stdout",
     "output_type": "stream",
     "text": [
      "Modelling probabilities of class  2  of  9  classes\n"
     ]
    },
    {
     "name": "stderr",
     "output_type": "stream",
     "text": [
      "Even though the 'startprob_' attribute is set, it will be overwritten during initialization because 'init_params' contains 's'\n",
      "Even though the 'transmat_' attribute is set, it will be overwritten during initialization because 'init_params' contains 't'\n"
     ]
    },
    {
     "name": "stdout",
     "output_type": "stream",
     "text": [
      "Modelling probabilities of class  3  of  9  classes\n"
     ]
    },
    {
     "name": "stderr",
     "output_type": "stream",
     "text": [
      "Even though the 'startprob_' attribute is set, it will be overwritten during initialization because 'init_params' contains 's'\n",
      "Even though the 'transmat_' attribute is set, it will be overwritten during initialization because 'init_params' contains 't'\n"
     ]
    },
    {
     "name": "stdout",
     "output_type": "stream",
     "text": [
      "Modelling probabilities of class  5  of  9  classes\n"
     ]
    },
    {
     "name": "stderr",
     "output_type": "stream",
     "text": [
      "Even though the 'startprob_' attribute is set, it will be overwritten during initialization because 'init_params' contains 's'\n",
      "Even though the 'transmat_' attribute is set, it will be overwritten during initialization because 'init_params' contains 't'\n"
     ]
    },
    {
     "name": "stdout",
     "output_type": "stream",
     "text": [
      "Modelling probabilities of class  6  of  9  classes\n"
     ]
    },
    {
     "name": "stderr",
     "output_type": "stream",
     "text": [
      "Even though the 'startprob_' attribute is set, it will be overwritten during initialization because 'init_params' contains 's'\n",
      "Even though the 'transmat_' attribute is set, it will be overwritten during initialization because 'init_params' contains 't'\n"
     ]
    },
    {
     "name": "stdout",
     "output_type": "stream",
     "text": [
      "Modelling probabilities of class  7  of  9  classes\n"
     ]
    },
    {
     "name": "stderr",
     "output_type": "stream",
     "text": [
      "Even though the 'startprob_' attribute is set, it will be overwritten during initialization because 'init_params' contains 's'\n",
      "Even though the 'transmat_' attribute is set, it will be overwritten during initialization because 'init_params' contains 't'\n"
     ]
    },
    {
     "name": "stdout",
     "output_type": "stream",
     "text": [
      "Modelling probabilities of class  8  of  9  classes\n"
     ]
    },
    {
     "name": "stderr",
     "output_type": "stream",
     "text": [
      "Even though the 'startprob_' attribute is set, it will be overwritten during initialization because 'init_params' contains 's'\n",
      "Even though the 'transmat_' attribute is set, it will be overwritten during initialization because 'init_params' contains 't'\n"
     ]
    },
    {
     "name": "stdout",
     "output_type": "stream",
     "text": [
      "Modelling probabilities of class  9  of  9  classes\n"
     ]
    }
   ],
   "source": [
    "n_iter=1000\n",
    "feature_involved_1= ['curvature_2']\n",
    "\n",
    "\n",
    "for n_class, _ in df_classes.items():\n",
    "    print(\"Modelling probabilities of class \", n_class,\" of \", len(df_classes), \" classes\")\n",
    "    model = hmm.GaussianHMM(n_components=6, n_iter=n_iter, verbose=False, tol=0.01, random_state=44)\n",
    "    # model = base.BaseHMM(n_components=6, n_iter=n_iter)\n",
    "    data_true = df_classes[n_class][feature_involved_1].values.tolist()\n",
    "    data_list = np.array([ [three] for one in data_true for two in one for three in two] )\n",
    "    len_list = [len(two) for one in data_true for two in one ]\n",
    "\n",
    "    initial_prob = np.array([1, 0, 0, 0, 0, 0])\n",
    "    transition_prob = np.ones((6, 6))\n",
    "    transition_prob = transition_prob / np.sum(transition_prob, axis=1)\n",
    "\n",
    "\n",
    "    model.startprob_ = initial_prob\n",
    "    model.transmat_ = transition_prob\n",
    "\n",
    "\n",
    "\n",
    "    \n",
    "    \n",
    "\n",
    "\n",
    "    model.fit(data_list, len_list)\n",
    "    \n",
    "\n",
    "    # print(\"initial probability: \", model.startprob_)\n",
    "    # print(f'transition: \\n{model.transmat_}')\n",
    "    # print(f'emission: \\n{model.emissionprob_}')\n",
    "\n",
    "    with open ('models_3/'+str(n_class)+'hmm_model.pkl', 'wb') as f: #Save model\n",
    "        pickle.dump(model, f)"
   ]
  },
  {
   "cell_type": "markdown",
   "metadata": {},
   "source": [
    "# GaussianHMM: curvature_4 (models_4)"
   ]
  },
  {
   "cell_type": "code",
   "execution_count": 31,
   "metadata": {
    "collapsed": true,
    "jupyter": {
     "outputs_hidden": true
    },
    "tags": []
   },
   "outputs": [
    {
     "name": "stderr",
     "output_type": "stream",
     "text": [
      "Even though the 'startprob_' attribute is set, it will be overwritten during initialization because 'init_params' contains 's'\n",
      "Even though the 'transmat_' attribute is set, it will be overwritten during initialization because 'init_params' contains 't'\n"
     ]
    },
    {
     "name": "stdout",
     "output_type": "stream",
     "text": [
      "Modelling probabilities of class  0  of  9  classes\n"
     ]
    },
    {
     "name": "stderr",
     "output_type": "stream",
     "text": [
      "Even though the 'startprob_' attribute is set, it will be overwritten during initialization because 'init_params' contains 's'\n",
      "Even though the 'transmat_' attribute is set, it will be overwritten during initialization because 'init_params' contains 't'\n"
     ]
    },
    {
     "name": "stdout",
     "output_type": "stream",
     "text": [
      "Modelling probabilities of class  1  of  9  classes\n"
     ]
    },
    {
     "name": "stderr",
     "output_type": "stream",
     "text": [
      "Even though the 'startprob_' attribute is set, it will be overwritten during initialization because 'init_params' contains 's'\n",
      "Even though the 'transmat_' attribute is set, it will be overwritten during initialization because 'init_params' contains 't'\n"
     ]
    },
    {
     "name": "stdout",
     "output_type": "stream",
     "text": [
      "Modelling probabilities of class  2  of  9  classes\n"
     ]
    },
    {
     "name": "stderr",
     "output_type": "stream",
     "text": [
      "Even though the 'startprob_' attribute is set, it will be overwritten during initialization because 'init_params' contains 's'\n",
      "Even though the 'transmat_' attribute is set, it will be overwritten during initialization because 'init_params' contains 't'\n"
     ]
    },
    {
     "name": "stdout",
     "output_type": "stream",
     "text": [
      "Modelling probabilities of class  3  of  9  classes\n"
     ]
    },
    {
     "name": "stderr",
     "output_type": "stream",
     "text": [
      "Even though the 'startprob_' attribute is set, it will be overwritten during initialization because 'init_params' contains 's'\n",
      "Even though the 'transmat_' attribute is set, it will be overwritten during initialization because 'init_params' contains 't'\n"
     ]
    },
    {
     "name": "stdout",
     "output_type": "stream",
     "text": [
      "Modelling probabilities of class  5  of  9  classes\n"
     ]
    },
    {
     "name": "stderr",
     "output_type": "stream",
     "text": [
      "Even though the 'startprob_' attribute is set, it will be overwritten during initialization because 'init_params' contains 's'\n",
      "Even though the 'transmat_' attribute is set, it will be overwritten during initialization because 'init_params' contains 't'\n"
     ]
    },
    {
     "name": "stdout",
     "output_type": "stream",
     "text": [
      "Modelling probabilities of class  6  of  9  classes\n"
     ]
    },
    {
     "name": "stderr",
     "output_type": "stream",
     "text": [
      "Even though the 'startprob_' attribute is set, it will be overwritten during initialization because 'init_params' contains 's'\n",
      "Even though the 'transmat_' attribute is set, it will be overwritten during initialization because 'init_params' contains 't'\n"
     ]
    },
    {
     "name": "stdout",
     "output_type": "stream",
     "text": [
      "Modelling probabilities of class  7  of  9  classes\n"
     ]
    },
    {
     "name": "stderr",
     "output_type": "stream",
     "text": [
      "Even though the 'startprob_' attribute is set, it will be overwritten during initialization because 'init_params' contains 's'\n",
      "Even though the 'transmat_' attribute is set, it will be overwritten during initialization because 'init_params' contains 't'\n"
     ]
    },
    {
     "name": "stdout",
     "output_type": "stream",
     "text": [
      "Modelling probabilities of class  8  of  9  classes\n"
     ]
    },
    {
     "name": "stderr",
     "output_type": "stream",
     "text": [
      "Even though the 'startprob_' attribute is set, it will be overwritten during initialization because 'init_params' contains 's'\n",
      "Even though the 'transmat_' attribute is set, it will be overwritten during initialization because 'init_params' contains 't'\n"
     ]
    },
    {
     "name": "stdout",
     "output_type": "stream",
     "text": [
      "Modelling probabilities of class  9  of  9  classes\n"
     ]
    }
   ],
   "source": [
    "n_iter=1000\n",
    "feature_involved_1= ['curvature_4']\n",
    "\n",
    "\n",
    "for n_class, _ in df_classes.items():\n",
    "    print(\"Modelling probabilities of class \", n_class,\" of \", len(df_classes), \" classes\")\n",
    "    model = hmm.GaussianHMM(n_components=6, n_iter=n_iter, verbose=False, tol=0.01, random_state=44)\n",
    "    # model = base.BaseHMM(n_components=6, n_iter=n_iter)\n",
    "    data_true = df_classes[n_class][feature_involved_1].values.tolist()\n",
    "    data_list = np.array([ [three] for one in data_true for two in one for three in two] )\n",
    "    len_list = [len(two) for one in data_true for two in one ]\n",
    "\n",
    "    initial_prob = np.array([1, 0, 0, 0, 0, 0])\n",
    "    transition_prob = np.ones((6, 6))\n",
    "    transition_prob = transition_prob / np.sum(transition_prob, axis=1)\n",
    "\n",
    "\n",
    "    model.startprob_ = initial_prob\n",
    "    model.transmat_ = transition_prob\n",
    "\n",
    "\n",
    "\n",
    "    \n",
    "    \n",
    "\n",
    "\n",
    "    model.fit(data_list, len_list)\n",
    "    \n",
    "\n",
    "    # print(\"initial probability: \", model.startprob_)\n",
    "    # print(f'transition: \\n{model.transmat_}')\n",
    "    # print(f'emission: \\n{model.emissionprob_}')\n",
    "\n",
    "    with open ('models_4/'+str(n_class)+'hmm_model.pkl', 'wb') as f: #Save model\n",
    "        pickle.dump(model, f)"
   ]
  },
  {
   "cell_type": "markdown",
   "metadata": {},
   "source": [
    "# GaussianHMM: arctan2_2 (models_5)"
   ]
  },
  {
   "cell_type": "code",
   "execution_count": 32,
   "metadata": {
    "collapsed": true,
    "jupyter": {
     "outputs_hidden": true
    },
    "tags": []
   },
   "outputs": [
    {
     "name": "stderr",
     "output_type": "stream",
     "text": [
      "Even though the 'startprob_' attribute is set, it will be overwritten during initialization because 'init_params' contains 's'\n",
      "Even though the 'transmat_' attribute is set, it will be overwritten during initialization because 'init_params' contains 't'\n"
     ]
    },
    {
     "name": "stdout",
     "output_type": "stream",
     "text": [
      "Modelling probabilities of class  0  of  9  classes\n"
     ]
    },
    {
     "name": "stderr",
     "output_type": "stream",
     "text": [
      "Even though the 'startprob_' attribute is set, it will be overwritten during initialization because 'init_params' contains 's'\n",
      "Even though the 'transmat_' attribute is set, it will be overwritten during initialization because 'init_params' contains 't'\n"
     ]
    },
    {
     "name": "stdout",
     "output_type": "stream",
     "text": [
      "Modelling probabilities of class  1  of  9  classes\n"
     ]
    },
    {
     "name": "stderr",
     "output_type": "stream",
     "text": [
      "Even though the 'startprob_' attribute is set, it will be overwritten during initialization because 'init_params' contains 's'\n",
      "Even though the 'transmat_' attribute is set, it will be overwritten during initialization because 'init_params' contains 't'\n"
     ]
    },
    {
     "name": "stdout",
     "output_type": "stream",
     "text": [
      "Modelling probabilities of class  2  of  9  classes\n"
     ]
    },
    {
     "name": "stderr",
     "output_type": "stream",
     "text": [
      "Even though the 'startprob_' attribute is set, it will be overwritten during initialization because 'init_params' contains 's'\n",
      "Even though the 'transmat_' attribute is set, it will be overwritten during initialization because 'init_params' contains 't'\n"
     ]
    },
    {
     "name": "stdout",
     "output_type": "stream",
     "text": [
      "Modelling probabilities of class  3  of  9  classes\n"
     ]
    },
    {
     "name": "stderr",
     "output_type": "stream",
     "text": [
      "Even though the 'startprob_' attribute is set, it will be overwritten during initialization because 'init_params' contains 's'\n",
      "Even though the 'transmat_' attribute is set, it will be overwritten during initialization because 'init_params' contains 't'\n"
     ]
    },
    {
     "name": "stdout",
     "output_type": "stream",
     "text": [
      "Modelling probabilities of class  5  of  9  classes\n"
     ]
    },
    {
     "name": "stderr",
     "output_type": "stream",
     "text": [
      "Even though the 'startprob_' attribute is set, it will be overwritten during initialization because 'init_params' contains 's'\n",
      "Even though the 'transmat_' attribute is set, it will be overwritten during initialization because 'init_params' contains 't'\n"
     ]
    },
    {
     "name": "stdout",
     "output_type": "stream",
     "text": [
      "Modelling probabilities of class  6  of  9  classes\n"
     ]
    },
    {
     "name": "stderr",
     "output_type": "stream",
     "text": [
      "Even though the 'startprob_' attribute is set, it will be overwritten during initialization because 'init_params' contains 's'\n",
      "Even though the 'transmat_' attribute is set, it will be overwritten during initialization because 'init_params' contains 't'\n"
     ]
    },
    {
     "name": "stdout",
     "output_type": "stream",
     "text": [
      "Modelling probabilities of class  7  of  9  classes\n"
     ]
    },
    {
     "name": "stderr",
     "output_type": "stream",
     "text": [
      "Even though the 'startprob_' attribute is set, it will be overwritten during initialization because 'init_params' contains 's'\n",
      "Even though the 'transmat_' attribute is set, it will be overwritten during initialization because 'init_params' contains 't'\n"
     ]
    },
    {
     "name": "stdout",
     "output_type": "stream",
     "text": [
      "Modelling probabilities of class  8  of  9  classes\n"
     ]
    },
    {
     "name": "stderr",
     "output_type": "stream",
     "text": [
      "Even though the 'startprob_' attribute is set, it will be overwritten during initialization because 'init_params' contains 's'\n",
      "Even though the 'transmat_' attribute is set, it will be overwritten during initialization because 'init_params' contains 't'\n"
     ]
    },
    {
     "name": "stdout",
     "output_type": "stream",
     "text": [
      "Modelling probabilities of class  9  of  9  classes\n"
     ]
    }
   ],
   "source": [
    "n_iter=1000\n",
    "feature_involved_1= ['arctan2_2']\n",
    "\n",
    "\n",
    "for n_class, _ in df_classes.items():\n",
    "    print(\"Modelling probabilities of class \", n_class,\" of \", len(df_classes), \" classes\")\n",
    "    model = hmm.GaussianHMM(n_components=6, n_iter=n_iter, verbose=False, tol=0.01, random_state=44)\n",
    "    # model = base.BaseHMM(n_components=6, n_iter=n_iter)\n",
    "    data_true = df_classes[n_class][feature_involved_1].values.tolist()\n",
    "    data_list = np.array([ [three] for one in data_true for two in one for three in two] )\n",
    "    len_list = [len(two) for one in data_true for two in one ]\n",
    "\n",
    "    initial_prob = np.array([1, 0, 0, 0, 0, 0])\n",
    "    transition_prob = np.ones((6, 6))\n",
    "    transition_prob = transition_prob / np.sum(transition_prob, axis=1)\n",
    "\n",
    "\n",
    "    model.startprob_ = initial_prob\n",
    "    model.transmat_ = transition_prob\n",
    "\n",
    "\n",
    "\n",
    "    \n",
    "    \n",
    "\n",
    "\n",
    "    model.fit(data_list, len_list)\n",
    "    \n",
    "\n",
    "    # print(\"initial probability: \", model.startprob_)\n",
    "    # print(f'transition: \\n{model.transmat_}')\n",
    "    # print(f'emission: \\n{model.emissionprob_}')\n",
    "\n",
    "    with open ('models_5/'+str(n_class)+'hmm_model.pkl', 'wb') as f: #Save model\n",
    "        pickle.dump(model, f)"
   ]
  },
  {
   "cell_type": "markdown",
   "metadata": {},
   "source": [
    "# GaussianHMM: arctan_1 (models_6)"
   ]
  },
  {
   "cell_type": "code",
   "execution_count": 34,
   "metadata": {
    "collapsed": true,
    "jupyter": {
     "outputs_hidden": true
    },
    "tags": []
   },
   "outputs": [
    {
     "name": "stderr",
     "output_type": "stream",
     "text": [
      "Even though the 'startprob_' attribute is set, it will be overwritten during initialization because 'init_params' contains 's'\n",
      "Even though the 'transmat_' attribute is set, it will be overwritten during initialization because 'init_params' contains 't'\n"
     ]
    },
    {
     "name": "stdout",
     "output_type": "stream",
     "text": [
      "Modelling probabilities of class  0  of  9  classes\n",
      "(4798, 1)\n"
     ]
    },
    {
     "name": "stderr",
     "output_type": "stream",
     "text": [
      "Even though the 'startprob_' attribute is set, it will be overwritten during initialization because 'init_params' contains 's'\n",
      "Even though the 'transmat_' attribute is set, it will be overwritten during initialization because 'init_params' contains 't'\n"
     ]
    },
    {
     "name": "stdout",
     "output_type": "stream",
     "text": [
      "Modelling probabilities of class  1  of  9  classes\n",
      "(1413, 1)\n"
     ]
    },
    {
     "name": "stderr",
     "output_type": "stream",
     "text": [
      "Even though the 'startprob_' attribute is set, it will be overwritten during initialization because 'init_params' contains 's'\n",
      "Even though the 'transmat_' attribute is set, it will be overwritten during initialization because 'init_params' contains 't'\n"
     ]
    },
    {
     "name": "stdout",
     "output_type": "stream",
     "text": [
      "Modelling probabilities of class  2  of  9  classes\n",
      "(4927, 1)\n"
     ]
    },
    {
     "name": "stderr",
     "output_type": "stream",
     "text": [
      "Even though the 'startprob_' attribute is set, it will be overwritten during initialization because 'init_params' contains 's'\n",
      "Even though the 'transmat_' attribute is set, it will be overwritten during initialization because 'init_params' contains 't'\n"
     ]
    },
    {
     "name": "stdout",
     "output_type": "stream",
     "text": [
      "Modelling probabilities of class  3  of  9  classes\n",
      "(5260, 1)\n"
     ]
    },
    {
     "name": "stderr",
     "output_type": "stream",
     "text": [
      "Even though the 'startprob_' attribute is set, it will be overwritten during initialization because 'init_params' contains 's'\n",
      "Even though the 'transmat_' attribute is set, it will be overwritten during initialization because 'init_params' contains 't'\n"
     ]
    },
    {
     "name": "stdout",
     "output_type": "stream",
     "text": [
      "Modelling probabilities of class  5  of  9  classes\n",
      "(1465, 1)\n"
     ]
    },
    {
     "name": "stderr",
     "output_type": "stream",
     "text": [
      "Even though the 'startprob_' attribute is set, it will be overwritten during initialization because 'init_params' contains 's'\n",
      "Even though the 'transmat_' attribute is set, it will be overwritten during initialization because 'init_params' contains 't'\n"
     ]
    },
    {
     "name": "stdout",
     "output_type": "stream",
     "text": [
      "Modelling probabilities of class  6  of  9  classes\n",
      "(5079, 1)\n"
     ]
    },
    {
     "name": "stderr",
     "output_type": "stream",
     "text": [
      "Even though the 'startprob_' attribute is set, it will be overwritten during initialization because 'init_params' contains 's'\n",
      "Even though the 'transmat_' attribute is set, it will be overwritten during initialization because 'init_params' contains 't'\n"
     ]
    },
    {
     "name": "stdout",
     "output_type": "stream",
     "text": [
      "Modelling probabilities of class  7  of  9  classes\n",
      "(2148, 1)\n"
     ]
    },
    {
     "name": "stderr",
     "output_type": "stream",
     "text": [
      "Even though the 'startprob_' attribute is set, it will be overwritten during initialization because 'init_params' contains 's'\n",
      "Even though the 'transmat_' attribute is set, it will be overwritten during initialization because 'init_params' contains 't'\n"
     ]
    },
    {
     "name": "stdout",
     "output_type": "stream",
     "text": [
      "Modelling probabilities of class  8  of  9  classes\n",
      "(5861, 1)\n"
     ]
    },
    {
     "name": "stderr",
     "output_type": "stream",
     "text": [
      "Even though the 'startprob_' attribute is set, it will be overwritten during initialization because 'init_params' contains 's'\n",
      "Even though the 'transmat_' attribute is set, it will be overwritten during initialization because 'init_params' contains 't'\n"
     ]
    },
    {
     "name": "stdout",
     "output_type": "stream",
     "text": [
      "Modelling probabilities of class  9  of  9  classes\n",
      "(4242, 1)\n"
     ]
    }
   ],
   "source": [
    "n_iter=1000\n",
    "feature_involved_1= ['arctan_1']\n",
    "\n",
    "\n",
    "for n_class, _ in df_classes.items():\n",
    "    print(\"Modelling probabilities of class \", n_class,\" of \", len(df_classes), \" classes\")\n",
    "    model = hmm.GaussianHMM(n_components=6, n_iter=n_iter, verbose=False, tol=0.01, random_state=44)\n",
    "    # model = base.BaseHMM(n_components=6, n_iter=n_iter)\n",
    "    data_true = df_classes[n_class][feature_involved_1].values.tolist()\n",
    "    data_list = np.array([ [three] for one in data_true for two in one for three in two] )\n",
    "    len_list = [len(two) for one in data_true for two in one ]\n",
    "\n",
    "    initial_prob = np.array([1, 0, 0, 0, 0, 0])\n",
    "    transition_prob = np.ones((6, 6))\n",
    "    transition_prob = transition_prob / np.sum(transition_prob, axis=1)\n",
    "\n",
    "\n",
    "    model.startprob_ = initial_prob\n",
    "    model.transmat_ = transition_prob\n",
    "    \n",
    "\n",
    "\n",
    "    model.fit(data_list, len_list)\n",
    "    \n",
    "\n",
    "    # print(\"initial probability: \", model.startprob_)\n",
    "    # print(f'transition: \\n{model.transmat_}')\n",
    "    # print(f'emission: \\n{model.emissionprob_}')\n",
    "\n",
    "    with open ('models_6/'+str(n_class)+'hmm_model.pkl', 'wb') as f: #Save model\n",
    "        pickle.dump(model, f)"
   ]
  },
  {
   "cell_type": "markdown",
   "metadata": {},
   "source": [
    "# Gaussian HMM :x, y, arctan_1 (models_7)"
   ]
  },
  {
   "cell_type": "code",
   "execution_count": 39,
   "metadata": {
    "tags": []
   },
   "outputs": [
    {
     "name": "stderr",
     "output_type": "stream",
     "text": [
      "Even though the 'startprob_' attribute is set, it will be overwritten during initialization because 'init_params' contains 's'\n",
      "Even though the 'transmat_' attribute is set, it will be overwritten during initialization because 'init_params' contains 't'\n"
     ]
    },
    {
     "name": "stdout",
     "output_type": "stream",
     "text": [
      "Modelling probabilities of class  0  of  9  classes\n"
     ]
    },
    {
     "name": "stderr",
     "output_type": "stream",
     "text": [
      "Even though the 'startprob_' attribute is set, it will be overwritten during initialization because 'init_params' contains 's'\n",
      "Even though the 'transmat_' attribute is set, it will be overwritten during initialization because 'init_params' contains 't'\n"
     ]
    },
    {
     "name": "stdout",
     "output_type": "stream",
     "text": [
      "ConvergenceMonitor(\n",
      "    history=[-94146.8907987871, -89746.89030700238, -88935.58557955883, -88921.18154180689, -88914.35506729262, -88910.2324615758, -88907.33561681738, -88905.07981297294, -88903.42817095555, -88902.34302514058, -88901.67412683353, -88901.27367996109, -88901.03736708222, -88900.899061804, -88900.81855213588, -88900.77186319191, -88900.74486195172, -88900.7292783948, -88900.72029818976, -88900.7151291774, -88900.71215646113, -88900.71044795697, -88900.709466515, -88900.70890294042, -88900.70857940931, -88900.70839371964, -88900.7082871606, -88900.70822601863, -88900.70819093964, -88900.70817081514],\n",
      "    iter=30,\n",
      "    n_iter=30,\n",
      "    tol=1e-05,\n",
      "    verbose=False,\n",
      ")\n",
      "Modelling probabilities of class  1  of  9  classes\n"
     ]
    },
    {
     "name": "stderr",
     "output_type": "stream",
     "text": [
      "Even though the 'startprob_' attribute is set, it will be overwritten during initialization because 'init_params' contains 's'\n",
      "Even though the 'transmat_' attribute is set, it will be overwritten during initialization because 'init_params' contains 't'\n"
     ]
    },
    {
     "name": "stdout",
     "output_type": "stream",
     "text": [
      "ConvergenceMonitor(\n",
      "    history=[-26563.912385017178, -25275.610565027862, -25035.955655237824, -25031.453966144323, -25030.525228978117, -25030.19785063719, -25030.080175121515, -25030.03758212572, -25030.022096090743, -25030.016449794413, -25030.014387557687, -25030.013633556544, -25030.013357699296, -25030.013256735398, -25030.013219773828, -25030.01320624073, -25030.01320128528],\n",
      "    iter=17,\n",
      "    n_iter=30,\n",
      "    tol=1e-05,\n",
      "    verbose=False,\n",
      ")\n",
      "Modelling probabilities of class  2  of  9  classes\n"
     ]
    },
    {
     "name": "stderr",
     "output_type": "stream",
     "text": [
      "Even though the 'startprob_' attribute is set, it will be overwritten during initialization because 'init_params' contains 's'\n",
      "Even though the 'transmat_' attribute is set, it will be overwritten during initialization because 'init_params' contains 't'\n"
     ]
    },
    {
     "name": "stdout",
     "output_type": "stream",
     "text": [
      "ConvergenceMonitor(\n",
      "    history=[-96866.70231190212, -90714.19468373328, -89865.34065888652, -89863.18642660942, -89862.84265119866, -89862.7287823941, -89862.69146786006, -89862.6793465758, -89862.67542400591, -89862.67415346867, -89862.67374011998, -89862.67360475687, -89862.67356008793, -89862.67354523022, -89862.67354025006],\n",
      "    iter=15,\n",
      "    n_iter=30,\n",
      "    tol=1e-05,\n",
      "    verbose=False,\n",
      ")\n",
      "Modelling probabilities of class  3  of  9  classes\n"
     ]
    },
    {
     "name": "stderr",
     "output_type": "stream",
     "text": [
      "Even though the 'startprob_' attribute is set, it will be overwritten during initialization because 'init_params' contains 's'\n",
      "Even though the 'transmat_' attribute is set, it will be overwritten during initialization because 'init_params' contains 't'\n"
     ]
    },
    {
     "name": "stdout",
     "output_type": "stream",
     "text": [
      "ConvergenceMonitor(\n",
      "    history=[-102374.11146910096, -98910.71992299553, -97782.21843790745, -97698.72124431458, -97691.33702184125, -97687.12382184713, -97684.35455103009, -97681.37027513135, -97679.33916007107, -97678.63000572956, -97678.41757921889, -97678.35564281502, -97678.33767645368, -97678.3324655884, -97678.33095322711, -97678.33051403263, -97678.33038644056, -97678.330349365, -97678.33033859034, -97678.33033545878],\n",
      "    iter=20,\n",
      "    n_iter=30,\n",
      "    tol=1e-05,\n",
      "    verbose=False,\n",
      ")\n",
      "Modelling probabilities of class  5  of  9  classes\n"
     ]
    },
    {
     "name": "stderr",
     "output_type": "stream",
     "text": [
      "Even though the 'startprob_' attribute is set, it will be overwritten during initialization because 'init_params' contains 's'\n",
      "Even though the 'transmat_' attribute is set, it will be overwritten during initialization because 'init_params' contains 't'\n"
     ]
    },
    {
     "name": "stdout",
     "output_type": "stream",
     "text": [
      "ConvergenceMonitor(\n",
      "    history=[-28502.459152759315, -27434.594554039188, -27122.83711999861, -27105.445679877488, -27094.838217554316, -27084.09130470673, -27075.79105794029, -27073.60563686283, -27073.09976401111, -27072.97806330823, -27072.947203649088, -27072.939057452786, -27072.936828960363, -27072.936134539377, -27072.935693945117, -27072.934837451787, -27072.932441825087, -27072.92550968368, -27072.905997761343, -27072.85571221375, -27072.75165515304, -27072.613168778076, -27072.517759529324, -27072.48481172384, -27072.477578325845, -27072.4761248901, -27072.475787549516, -27072.47569595202, -27072.47566888748, -27072.475660615586],\n",
      "    iter=30,\n",
      "    n_iter=30,\n",
      "    tol=1e-05,\n",
      "    verbose=False,\n",
      ")\n",
      "Modelling probabilities of class  6  of  9  classes\n"
     ]
    },
    {
     "name": "stderr",
     "output_type": "stream",
     "text": [
      "Even though the 'startprob_' attribute is set, it will be overwritten during initialization because 'init_params' contains 's'\n",
      "Even though the 'transmat_' attribute is set, it will be overwritten during initialization because 'init_params' contains 't'\n"
     ]
    },
    {
     "name": "stdout",
     "output_type": "stream",
     "text": [
      "ConvergenceMonitor(\n",
      "    history=[-98493.13856839052, -95352.00155435821, -94496.11268937557, -94456.22420432813, -94450.0651155911, -94446.82382711438, -94444.9476259819, -94443.80737264884, -94443.10872450756, -94442.68526270523, -94442.43086751395, -94442.27779441644, -94442.18455497104, -94442.12662871258, -94442.08977308197, -94442.06572315274, -94442.04963195932, -94442.03860678685, -94442.03088431044, -94442.02536505474, -94442.02134770752, -94442.01837495454, -94442.01614227559, -94442.01444287186, -94442.01313371606, -94442.01211419822, -94442.01131243119, -94442.01067630427, -94442.01016753695, -94442.00975766165],\n",
      "    iter=30,\n",
      "    n_iter=30,\n",
      "    tol=1e-05,\n",
      "    verbose=False,\n",
      ")\n",
      "Modelling probabilities of class  7  of  9  classes\n"
     ]
    },
    {
     "name": "stderr",
     "output_type": "stream",
     "text": [
      "Even though the 'startprob_' attribute is set, it will be overwritten during initialization because 'init_params' contains 's'\n",
      "Even though the 'transmat_' attribute is set, it will be overwritten during initialization because 'init_params' contains 't'\n"
     ]
    },
    {
     "name": "stdout",
     "output_type": "stream",
     "text": [
      "ConvergenceMonitor(\n",
      "    history=[-42001.36808260477, -39417.02514610584, -39051.96678333735, -39045.701497656526, -39043.16056475331, -39042.03153544872, -39041.52460518332, -39041.29464837332, -39041.18938919149, -39041.14085367056, -39041.11834630274, -39041.10786460461, -39041.10296816205, -39041.10067576355, -39041.099600838534, -39041.09909624534, -39041.09885919791, -39041.098747779215, -39041.098695390305, -39041.09867075092, -39041.098659160605, -39041.098653707915],\n",
      "    iter=22,\n",
      "    n_iter=30,\n",
      "    tol=1e-05,\n",
      "    verbose=False,\n",
      ")\n",
      "Modelling probabilities of class  8  of  9  classes\n"
     ]
    },
    {
     "name": "stderr",
     "output_type": "stream",
     "text": [
      "Even though the 'startprob_' attribute is set, it will be overwritten during initialization because 'init_params' contains 's'\n",
      "Even though the 'transmat_' attribute is set, it will be overwritten during initialization because 'init_params' contains 't'\n"
     ]
    },
    {
     "name": "stdout",
     "output_type": "stream",
     "text": [
      "ConvergenceMonitor(\n",
      "    history=[-113453.37528418648, -108423.03882607652, -107447.90457953616, -107442.4957591659, -107439.85480263788, -107437.93316263123, -107436.57093602135, -107435.62388698639, -107434.97469240373, -107434.53432650174, -107434.23801502334, -107434.03989130174, -107433.90808284112, -107433.82074450927, -107433.76305934583, -107433.72505845252, -107433.70007729858, -107433.68368288173, -107433.67293838962, -107433.66590448376, -107433.66130382298, -107433.65829683731, -107433.65633261677, -107433.65505015258, -107433.65421313257, -107433.65366700565, -107433.65331076452, -107433.653078433, -107433.65292693653, -107433.6528281634],\n",
      "    iter=30,\n",
      "    n_iter=30,\n",
      "    tol=1e-05,\n",
      "    verbose=False,\n",
      ")\n",
      "Modelling probabilities of class  9  of  9  classes\n",
      "ConvergenceMonitor(\n",
      "    history=[-82686.61384138795, -78899.52532547992, -78388.81665367885, -78385.89326742246, -78385.76332016313, -78385.67849499104, -78385.61812428533, -78385.57428698102, -78385.54191096361, -78385.51764077904, -78385.49921249747, -78385.48506831418, -78385.47411509539, -78385.46557113438, -78385.45886745288, -78385.45358318873, -78385.44940255414, -78385.4460856379, -78385.44344823447, -78385.44134764974, -78385.43967253702, -78385.4383354956, -78385.43726759503, -78385.4364142689, -78385.43573219617, -78385.43518690707, -78385.4347509286, -78385.43440233679, -78385.43412362051, -78385.43390078432],\n",
      "    iter=30,\n",
      "    n_iter=30,\n",
      "    tol=1e-05,\n",
      "    verbose=False,\n",
      ")\n"
     ]
    }
   ],
   "source": [
    "n_iter=30\n",
    "feature_involved_1= ['x']\n",
    "feature_involved_2= ['y']\n",
    "feature_involved_3= ['arctan_1']\n",
    "\n",
    "\n",
    "for n_class, _ in df_classes.items():\n",
    "    print(\"Modelling probabilities of class \", n_class,\" of \", len(df_classes), \" classes\")\n",
    "    model = hmm.GaussianHMM(n_components=2, n_iter=n_iter, verbose=False, tol=0.00001, random_state=44)\n",
    "    # model = base.BaseHMM(n_components=6, n_iter=n_iter)\n",
    "    #data_true = df_classes[n_class][feature_involved_1].values.tolist()\n",
    "    #data_list = np.array([ [three] for one in data_true for two in one for three in two] )\n",
    "    #len_list = [len(two) for one in data_true for two in one ]\n",
    "\n",
    "    initial_prob = np.array([1, 0, 0, 0, 0, 0])\n",
    "    transition_prob = np.ones((6, 6))\n",
    "    transition_prob = transition_prob / np.sum(transition_prob, axis=1)\n",
    "\n",
    "\n",
    "    model.startprob_ = initial_prob\n",
    "    model.transmat_ = transition_prob\n",
    "\n",
    "\n",
    "    data_true_1 = df_classes[n_class][feature_involved_1].values.tolist()\n",
    "    data_true_2 = df_classes[n_class][feature_involved_2].values.tolist()\n",
    "    data_true_3 = df_classes[n_class][feature_involved_2].values.tolist()\n",
    "    data_list_1 = np.array([[three] for one in data_true_1 for two in one for three in two])\n",
    "    data_list_2 = np.array([[z] for x in data_true_2 for y in x for z in y])\n",
    "    data_list_3 = np.array([[z] for x in data_true_3 for y in x for z in y])\n",
    "    len_list = np.array([len(two) for one in data_true_1 for two in one ])\n",
    "    data_list=np.hstack([data_list_1,data_list_2,data_list_3])\n",
    "    \n",
    "\n",
    "    model.fit(data_list, len_list)\n",
    "    print(f'{model.monitor_}')\n",
    "        \n",
    "  \n",
    "\n",
    "\n",
    "    # print(\"initial probability: \", model.startprob_)\n",
    "    # print(f'transition: \\n{model.transmat_}')\n",
    "    # print(f'emission: \\n{model.emissionprob_}')\n",
    "\n",
    "    with open ('models_7/'+str(n_class)+'hmm_model.pkl', 'wb') as f: #Save model\n",
    "        pickle.dump(model, f)"
   ]
  },
  {
   "cell_type": "markdown",
   "metadata": {},
   "source": [
    "# Gaussian HMM :arctan_2, curvature_1 (models_8)"
   ]
  },
  {
   "cell_type": "code",
   "execution_count": 15,
   "metadata": {
    "collapsed": true,
    "jupyter": {
     "outputs_hidden": true
    },
    "tags": []
   },
   "outputs": [
    {
     "name": "stdout",
     "output_type": "stream",
     "text": [
      "Modelling probabilities of class  0  of  9  classes\n",
      "[[<generator object <genexpr> at 0x7ff3b45c9820>\n",
      "  <generator object <genexpr> at 0x7ff3b472a4a0>]\n",
      " [<generator object <genexpr> at 0x7ff3b45c97b0>\n",
      "  <generator object <genexpr> at 0x7ff3b472a510>]\n",
      " [<generator object <genexpr> at 0x7ff3b45c9430>\n",
      "  <generator object <genexpr> at 0x7ff3b472a580>]\n",
      " [<generator object <genexpr> at 0x7ff3b45c9c80>\n",
      "  <generator object <genexpr> at 0x7ff3b472a5f0>]\n",
      " [<generator object <genexpr> at 0x7ff3b45c9cf0>\n",
      "  <generator object <genexpr> at 0x7ff3b472a660>]\n",
      " [<generator object <genexpr> at 0x7ff3b45c9d60>\n",
      "  <generator object <genexpr> at 0x7ff3b472a6d0>]\n",
      " [<generator object <genexpr> at 0x7ff3b45c9dd0>\n",
      "  <generator object <genexpr> at 0x7ff3b472a740>]\n",
      " [<generator object <genexpr> at 0x7ff3b45c9e40>\n",
      "  <generator object <genexpr> at 0x7ff3b472a7b0>]\n",
      " [<generator object <genexpr> at 0x7ff3b45c9eb0>\n",
      "  <generator object <genexpr> at 0x7ff3b472a820>]\n",
      " [<generator object <genexpr> at 0x7ff3b45c9f20>\n",
      "  <generator object <genexpr> at 0x7ff3b472a890>]\n",
      " [<generator object <genexpr> at 0x7ff3b45c9f90>\n",
      "  <generator object <genexpr> at 0x7ff3b472a900>]\n",
      " [<generator object <genexpr> at 0x7ff3b4701040>\n",
      "  <generator object <genexpr> at 0x7ff3b472a970>]\n",
      " [<generator object <genexpr> at 0x7ff3b47010b0>\n",
      "  <generator object <genexpr> at 0x7ff3b472a9e0>]\n",
      " [<generator object <genexpr> at 0x7ff3b4701120>\n",
      "  <generator object <genexpr> at 0x7ff3b472aa50>]\n",
      " [<generator object <genexpr> at 0x7ff3b4701190>\n",
      "  <generator object <genexpr> at 0x7ff3b472aac0>]\n",
      " [<generator object <genexpr> at 0x7ff3b4701200>\n",
      "  <generator object <genexpr> at 0x7ff3b472ab30>]\n",
      " [<generator object <genexpr> at 0x7ff3b4701270>\n",
      "  <generator object <genexpr> at 0x7ff3b472aba0>]\n",
      " [<generator object <genexpr> at 0x7ff3b47012e0>\n",
      "  <generator object <genexpr> at 0x7ff3b472ac10>]\n",
      " [<generator object <genexpr> at 0x7ff3b4701350>\n",
      "  <generator object <genexpr> at 0x7ff3b472ac80>]\n",
      " [<generator object <genexpr> at 0x7ff3b47013c0>\n",
      "  <generator object <genexpr> at 0x7ff3b472acf0>]\n",
      " [<generator object <genexpr> at 0x7ff3b4701430>\n",
      "  <generator object <genexpr> at 0x7ff3b472ad60>]\n",
      " [<generator object <genexpr> at 0x7ff3b47014a0>\n",
      "  <generator object <genexpr> at 0x7ff3b472add0>]\n",
      " [<generator object <genexpr> at 0x7ff3b4701510>\n",
      "  <generator object <genexpr> at 0x7ff3b472ae40>]\n",
      " [<generator object <genexpr> at 0x7ff3b4701580>\n",
      "  <generator object <genexpr> at 0x7ff3b472aeb0>]\n",
      " [<generator object <genexpr> at 0x7ff3b47015f0>\n",
      "  <generator object <genexpr> at 0x7ff3b472af20>]\n",
      " [<generator object <genexpr> at 0x7ff3b4701660>\n",
      "  <generator object <genexpr> at 0x7ff3b472af90>]\n",
      " [<generator object <genexpr> at 0x7ff3b47016d0>\n",
      "  <generator object <genexpr> at 0x7ff3b473b040>]\n",
      " [<generator object <genexpr> at 0x7ff3b4701740>\n",
      "  <generator object <genexpr> at 0x7ff3b473b0b0>]\n",
      " [<generator object <genexpr> at 0x7ff3b47017b0>\n",
      "  <generator object <genexpr> at 0x7ff3b473b120>]\n",
      " [<generator object <genexpr> at 0x7ff3b4701820>\n",
      "  <generator object <genexpr> at 0x7ff3b473b190>]\n",
      " [<generator object <genexpr> at 0x7ff3b4701890>\n",
      "  <generator object <genexpr> at 0x7ff3b473b200>]\n",
      " [<generator object <genexpr> at 0x7ff3b4701900>\n",
      "  <generator object <genexpr> at 0x7ff3b473b270>]\n",
      " [<generator object <genexpr> at 0x7ff3b4701970>\n",
      "  <generator object <genexpr> at 0x7ff3b473b2e0>]\n",
      " [<generator object <genexpr> at 0x7ff3b47019e0>\n",
      "  <generator object <genexpr> at 0x7ff3b473b350>]\n",
      " [<generator object <genexpr> at 0x7ff3b4701a50>\n",
      "  <generator object <genexpr> at 0x7ff3b473b3c0>]\n",
      " [<generator object <genexpr> at 0x7ff3b4701ac0>\n",
      "  <generator object <genexpr> at 0x7ff3b473b430>]\n",
      " [<generator object <genexpr> at 0x7ff3b4701b30>\n",
      "  <generator object <genexpr> at 0x7ff3b473b4a0>]\n",
      " [<generator object <genexpr> at 0x7ff3b4701ba0>\n",
      "  <generator object <genexpr> at 0x7ff3b473b510>]\n",
      " [<generator object <genexpr> at 0x7ff3b4701c10>\n",
      "  <generator object <genexpr> at 0x7ff3b473b580>]\n",
      " [<generator object <genexpr> at 0x7ff3b4701c80>\n",
      "  <generator object <genexpr> at 0x7ff3b473b5f0>]\n",
      " [<generator object <genexpr> at 0x7ff3b4701cf0>\n",
      "  <generator object <genexpr> at 0x7ff3b473b660>]\n",
      " [<generator object <genexpr> at 0x7ff3b4701d60>\n",
      "  <generator object <genexpr> at 0x7ff3b473b6d0>]\n",
      " [<generator object <genexpr> at 0x7ff3b4701dd0>\n",
      "  <generator object <genexpr> at 0x7ff3b473b740>]\n",
      " [<generator object <genexpr> at 0x7ff3b4701e40>\n",
      "  <generator object <genexpr> at 0x7ff3b473b7b0>]\n",
      " [<generator object <genexpr> at 0x7ff3b4701eb0>\n",
      "  <generator object <genexpr> at 0x7ff3b473b820>]\n",
      " [<generator object <genexpr> at 0x7ff3b4701f20>\n",
      "  <generator object <genexpr> at 0x7ff3b473b890>]\n",
      " [<generator object <genexpr> at 0x7ff3b4701f90>\n",
      "  <generator object <genexpr> at 0x7ff3b473b900>]\n",
      " [<generator object <genexpr> at 0x7ff3b471e040>\n",
      "  <generator object <genexpr> at 0x7ff3b473b970>]\n",
      " [<generator object <genexpr> at 0x7ff3b471e0b0>\n",
      "  <generator object <genexpr> at 0x7ff3b473b9e0>]\n",
      " [<generator object <genexpr> at 0x7ff3b471e120>\n",
      "  <generator object <genexpr> at 0x7ff3b473ba50>]\n",
      " [<generator object <genexpr> at 0x7ff3b471e190>\n",
      "  <generator object <genexpr> at 0x7ff3b473bac0>]\n",
      " [<generator object <genexpr> at 0x7ff3b471e200>\n",
      "  <generator object <genexpr> at 0x7ff3b473bb30>]\n",
      " [<generator object <genexpr> at 0x7ff3b471e270>\n",
      "  <generator object <genexpr> at 0x7ff3b473bba0>]\n",
      " [<generator object <genexpr> at 0x7ff3b471e2e0>\n",
      "  <generator object <genexpr> at 0x7ff3b473bc10>]\n",
      " [<generator object <genexpr> at 0x7ff3b471e350>\n",
      "  <generator object <genexpr> at 0x7ff3b473bc80>]\n",
      " [<generator object <genexpr> at 0x7ff3b471e3c0>\n",
      "  <generator object <genexpr> at 0x7ff3b473bcf0>]\n",
      " [<generator object <genexpr> at 0x7ff3b471e430>\n",
      "  <generator object <genexpr> at 0x7ff3b473bd60>]\n",
      " [<generator object <genexpr> at 0x7ff3b471e4a0>\n",
      "  <generator object <genexpr> at 0x7ff3b473bdd0>]\n",
      " [<generator object <genexpr> at 0x7ff3b471e510>\n",
      "  <generator object <genexpr> at 0x7ff3b473be40>]\n",
      " [<generator object <genexpr> at 0x7ff3b471e580>\n",
      "  <generator object <genexpr> at 0x7ff3b473beb0>]\n",
      " [<generator object <genexpr> at 0x7ff3b471e5f0>\n",
      "  <generator object <genexpr> at 0x7ff3b473bf20>]\n",
      " [<generator object <genexpr> at 0x7ff3b471e660>\n",
      "  <generator object <genexpr> at 0x7ff3b473bf90>]\n",
      " [<generator object <genexpr> at 0x7ff3b471e6d0>\n",
      "  <generator object <genexpr> at 0x7ff3b5543040>]\n",
      " [<generator object <genexpr> at 0x7ff3b471e740>\n",
      "  <generator object <genexpr> at 0x7ff3b55430b0>]\n",
      " [<generator object <genexpr> at 0x7ff3b471e7b0>\n",
      "  <generator object <genexpr> at 0x7ff3b5543120>]\n",
      " [<generator object <genexpr> at 0x7ff3b471e820>\n",
      "  <generator object <genexpr> at 0x7ff3b5543190>]\n",
      " [<generator object <genexpr> at 0x7ff3b471e890>\n",
      "  <generator object <genexpr> at 0x7ff3b5543200>]\n",
      " [<generator object <genexpr> at 0x7ff3b471e900>\n",
      "  <generator object <genexpr> at 0x7ff3b5543270>]\n",
      " [<generator object <genexpr> at 0x7ff3b471e970>\n",
      "  <generator object <genexpr> at 0x7ff3b55432e0>]\n",
      " [<generator object <genexpr> at 0x7ff3b471e9e0>\n",
      "  <generator object <genexpr> at 0x7ff3b5543350>]\n",
      " [<generator object <genexpr> at 0x7ff3b471ea50>\n",
      "  <generator object <genexpr> at 0x7ff3b55433c0>]\n",
      " [<generator object <genexpr> at 0x7ff3b471eac0>\n",
      "  <generator object <genexpr> at 0x7ff3b5543430>]\n",
      " [<generator object <genexpr> at 0x7ff3b471eb30>\n",
      "  <generator object <genexpr> at 0x7ff3b55434a0>]\n",
      " [<generator object <genexpr> at 0x7ff3b471eba0>\n",
      "  <generator object <genexpr> at 0x7ff3b5543510>]\n",
      " [<generator object <genexpr> at 0x7ff3b471ec10>\n",
      "  <generator object <genexpr> at 0x7ff3b5543580>]\n",
      " [<generator object <genexpr> at 0x7ff3b471ec80>\n",
      "  <generator object <genexpr> at 0x7ff3b55435f0>]\n",
      " [<generator object <genexpr> at 0x7ff3b471ecf0>\n",
      "  <generator object <genexpr> at 0x7ff3b5543660>]\n",
      " [<generator object <genexpr> at 0x7ff3b471ed60>\n",
      "  <generator object <genexpr> at 0x7ff3b55436d0>]\n",
      " [<generator object <genexpr> at 0x7ff3b471edd0>\n",
      "  <generator object <genexpr> at 0x7ff3b5543740>]\n",
      " [<generator object <genexpr> at 0x7ff3b471ee40>\n",
      "  <generator object <genexpr> at 0x7ff3b55437b0>]\n",
      " [<generator object <genexpr> at 0x7ff3b471eeb0>\n",
      "  <generator object <genexpr> at 0x7ff3b5543820>]\n",
      " [<generator object <genexpr> at 0x7ff3b471ef20>\n",
      "  <generator object <genexpr> at 0x7ff3b5543890>]\n",
      " [<generator object <genexpr> at 0x7ff3b471ef90>\n",
      "  <generator object <genexpr> at 0x7ff3b5543900>]\n",
      " [<generator object <genexpr> at 0x7ff3b472a040>\n",
      "  <generator object <genexpr> at 0x7ff3b5543970>]\n",
      " [<generator object <genexpr> at 0x7ff3b472a0b0>\n",
      "  <generator object <genexpr> at 0x7ff3b55439e0>]\n",
      " [<generator object <genexpr> at 0x7ff3b472a120>\n",
      "  <generator object <genexpr> at 0x7ff3b5543a50>]\n",
      " [<generator object <genexpr> at 0x7ff3b472a190>\n",
      "  <generator object <genexpr> at 0x7ff3b5543ac0>]\n",
      " [<generator object <genexpr> at 0x7ff3b472a200>\n",
      "  <generator object <genexpr> at 0x7ff3b5543b30>]\n",
      " [<generator object <genexpr> at 0x7ff3b472a270>\n",
      "  <generator object <genexpr> at 0x7ff3b5543ba0>]\n",
      " [<generator object <genexpr> at 0x7ff3b472a2e0>\n",
      "  <generator object <genexpr> at 0x7ff3b5543c10>]\n",
      " [<generator object <genexpr> at 0x7ff3b472a350>\n",
      "  <generator object <genexpr> at 0x7ff3b5543c80>]\n",
      " [<generator object <genexpr> at 0x7ff3b472a3c0>\n",
      "  <generator object <genexpr> at 0x7ff3b5543cf0>]\n",
      " [<generator object <genexpr> at 0x7ff3b472a430>\n",
      "  <generator object <genexpr> at 0x7ff3b5543d60>]]\n"
     ]
    },
    {
     "ename": "TypeError",
     "evalue": "float() argument must be a string or a number, not 'generator'",
     "output_type": "error",
     "traceback": [
      "\u001b[0;31m---------------------------------------------------------------------------\u001b[0m",
      "\u001b[0;31mTypeError\u001b[0m                                 Traceback (most recent call last)",
      "Input \u001b[0;32mIn [15]\u001b[0m, in \u001b[0;36m<cell line: 7>\u001b[0;34m()\u001b[0m\n\u001b[1;32m     51\u001b[0m data\u001b[38;5;241m=\u001b[39mnp\u001b[38;5;241m.\u001b[39marray([b,c])\u001b[38;5;241m.\u001b[39mT\n\u001b[1;32m     52\u001b[0m \u001b[38;5;28mprint\u001b[39m(data)\n\u001b[0;32m---> 57\u001b[0m \u001b[43mmodel\u001b[49m\u001b[38;5;241;43m.\u001b[39;49m\u001b[43mfit\u001b[49m\u001b[43m(\u001b[49m\u001b[43mdata\u001b[49m\u001b[43m,\u001b[49m\u001b[43m \u001b[49m\u001b[43mlen_list\u001b[49m\u001b[43m)\u001b[49m\n\u001b[1;32m     60\u001b[0m \u001b[38;5;66;03m# print(\"initial probability: \", model.startprob_)\u001b[39;00m\n\u001b[1;32m     61\u001b[0m \u001b[38;5;66;03m# print(f'transition: \\n{model.transmat_}')\u001b[39;00m\n\u001b[1;32m     62\u001b[0m \u001b[38;5;66;03m# print(f'emission: \\n{model.emissionprob_}')\u001b[39;00m\n\u001b[1;32m     64\u001b[0m \u001b[38;5;28;01mwith\u001b[39;00m \u001b[38;5;28mopen\u001b[39m (\u001b[38;5;124m'\u001b[39m\u001b[38;5;124mmodels_8/\u001b[39m\u001b[38;5;124m'\u001b[39m\u001b[38;5;241m+\u001b[39m\u001b[38;5;28mstr\u001b[39m(n_class)\u001b[38;5;241m+\u001b[39m\u001b[38;5;124m'\u001b[39m\u001b[38;5;124mhmm_model.pkl\u001b[39m\u001b[38;5;124m'\u001b[39m, \u001b[38;5;124m'\u001b[39m\u001b[38;5;124mwb\u001b[39m\u001b[38;5;124m'\u001b[39m) \u001b[38;5;28;01mas\u001b[39;00m f: \u001b[38;5;66;03m#Save model\u001b[39;00m\n",
      "File \u001b[0;32m/opt/anaconda3/envs/tutor2022/lib/python3.9/site-packages/hmmlearn/base.py:493\u001b[0m, in \u001b[0;36mBaseHMM.fit\u001b[0;34m(self, X, lengths)\u001b[0m\n\u001b[1;32m    471\u001b[0m \u001b[38;5;28;01mdef\u001b[39;00m \u001b[38;5;21mfit\u001b[39m(\u001b[38;5;28mself\u001b[39m, X, lengths\u001b[38;5;241m=\u001b[39m\u001b[38;5;28;01mNone\u001b[39;00m):\n\u001b[1;32m    472\u001b[0m     \u001b[38;5;124;03m\"\"\"\u001b[39;00m\n\u001b[1;32m    473\u001b[0m \u001b[38;5;124;03m    Estimate model parameters.\u001b[39;00m\n\u001b[1;32m    474\u001b[0m \n\u001b[0;32m   (...)\u001b[0m\n\u001b[1;32m    491\u001b[0m \u001b[38;5;124;03m        Returns self.\u001b[39;00m\n\u001b[1;32m    492\u001b[0m \u001b[38;5;124;03m    \"\"\"\u001b[39;00m\n\u001b[0;32m--> 493\u001b[0m     X \u001b[38;5;241m=\u001b[39m \u001b[43mcheck_array\u001b[49m\u001b[43m(\u001b[49m\u001b[43mX\u001b[49m\u001b[43m)\u001b[49m\n\u001b[1;32m    494\u001b[0m     \u001b[38;5;28mself\u001b[39m\u001b[38;5;241m.\u001b[39m_init(X)\n\u001b[1;32m    495\u001b[0m     \u001b[38;5;28mself\u001b[39m\u001b[38;5;241m.\u001b[39m_check()\n",
      "File \u001b[0;32m/opt/anaconda3/envs/tutor2022/lib/python3.9/site-packages/sklearn/utils/validation.py:746\u001b[0m, in \u001b[0;36mcheck_array\u001b[0;34m(array, accept_sparse, accept_large_sparse, dtype, order, copy, force_all_finite, ensure_2d, allow_nd, ensure_min_samples, ensure_min_features, estimator)\u001b[0m\n\u001b[1;32m    744\u001b[0m         array \u001b[38;5;241m=\u001b[39m array\u001b[38;5;241m.\u001b[39mastype(dtype, casting\u001b[38;5;241m=\u001b[39m\u001b[38;5;124m\"\u001b[39m\u001b[38;5;124munsafe\u001b[39m\u001b[38;5;124m\"\u001b[39m, copy\u001b[38;5;241m=\u001b[39m\u001b[38;5;28;01mFalse\u001b[39;00m)\n\u001b[1;32m    745\u001b[0m     \u001b[38;5;28;01melse\u001b[39;00m:\n\u001b[0;32m--> 746\u001b[0m         array \u001b[38;5;241m=\u001b[39m \u001b[43mnp\u001b[49m\u001b[38;5;241;43m.\u001b[39;49m\u001b[43masarray\u001b[49m\u001b[43m(\u001b[49m\u001b[43marray\u001b[49m\u001b[43m,\u001b[49m\u001b[43m \u001b[49m\u001b[43morder\u001b[49m\u001b[38;5;241;43m=\u001b[39;49m\u001b[43morder\u001b[49m\u001b[43m,\u001b[49m\u001b[43m \u001b[49m\u001b[43mdtype\u001b[49m\u001b[38;5;241;43m=\u001b[39;49m\u001b[43mdtype\u001b[49m\u001b[43m)\u001b[49m\n\u001b[1;32m    747\u001b[0m \u001b[38;5;28;01mexcept\u001b[39;00m ComplexWarning \u001b[38;5;28;01mas\u001b[39;00m complex_warning:\n\u001b[1;32m    748\u001b[0m     \u001b[38;5;28;01mraise\u001b[39;00m \u001b[38;5;167;01mValueError\u001b[39;00m(\n\u001b[1;32m    749\u001b[0m         \u001b[38;5;124m\"\u001b[39m\u001b[38;5;124mComplex data not supported\u001b[39m\u001b[38;5;130;01m\\n\u001b[39;00m\u001b[38;5;132;01m{}\u001b[39;00m\u001b[38;5;130;01m\\n\u001b[39;00m\u001b[38;5;124m\"\u001b[39m\u001b[38;5;241m.\u001b[39mformat(array)\n\u001b[1;32m    750\u001b[0m     ) \u001b[38;5;28;01mfrom\u001b[39;00m \u001b[38;5;21;01mcomplex_warning\u001b[39;00m\n",
      "\u001b[0;31mTypeError\u001b[0m: float() argument must be a string or a number, not 'generator'"
     ]
    }
   ],
   "source": [
    "n_iter=1000\n",
    "feature_involved_1= ['arctan_1']\n",
    "feature_involved_2= ['curvature_1']\n",
    "\n",
    "\n",
    "\n",
    "for n_class, _ in df_classes.items():\n",
    "    print(\"Modelling probabilities of class \", n_class,\" of \", len(df_classes), \" classes\")\n",
    "    model = hmm.GaussianHMM(n_components=6, n_iter=n_iter, verbose=False, tol=0.01, random_state=44)\n",
    "    # model = base.BaseHMM(n_components=6, n_iter=n_iter)\n",
    "    #data_true = df_classes[n_class][feature_involved_1].values.tolist()\n",
    "    #data_list = np.array([ [three] for one in data_true for two in one for three in two] )\n",
    "    #len_list = [len(two) for one in data_true for two in one ]\n",
    "\n",
    "    initial_prob = np.array([1, 0, 0, 0, 0, 0])\n",
    "    transition_prob = np.ones((6, 6))\n",
    "    transition_prob = transition_prob / np.sum(transition_prob, axis=1)\n",
    "\n",
    "\n",
    "    model.startprob_ = initial_prob\n",
    "    model.transmat_ = transition_prob\n",
    "    \n",
    "    data_true_2 = df_classes[n_class][feature_involved_2].values.tolist()\n",
    "    len_list = np.array([len(two) for one in data_true_2 for two in one ])\n",
    "\n",
    "\n",
    "    data_true_1 = df_classes[n_class][feature_involved_1]\n",
    "    data_true_1=np.squeeze(data_true_1.values)\n",
    "    b=[]\n",
    "    c=[]\n",
    "    for i in range(len(data_true_1)):\n",
    "        a=[]\n",
    "        for each in data_true_1[i]:\n",
    "            a.append(each)\n",
    "        a.pop(0)\n",
    "        a.pop(-1)\n",
    "\n",
    "        b.append(a)\n",
    "   \n",
    "\n",
    "    \n",
    "    data_true_2 = df_classes[n_class][feature_involved_2]\n",
    "    data_true_2=np.squeeze(data_true_2.values)\n",
    "    for i in range(len(data_true_2)):\n",
    "        a=[]\n",
    "        for each in data_true_2[i]:\n",
    "            a.append(each)\n",
    "\n",
    "        c.append(a) \n",
    "\n",
    "    data=np.array([b,c]).T\n",
    "    print(data)\n",
    "        \n",
    "    \n",
    "    \n",
    "\n",
    "    model.fit(data, len_list)\n",
    "    \n",
    "\n",
    "    # print(\"initial probability: \", model.startprob_)\n",
    "    # print(f'transition: \\n{model.transmat_}')\n",
    "    # print(f'emission: \\n{model.emissionprob_}')\n",
    "\n",
    "    with open ('models_8/'+str(n_class)+'hmm_model.pkl', 'wb') as f: #Save model\n",
    "        pickle.dump(model, f)"
   ]
  },
  {
   "cell_type": "code",
   "execution_count": 170,
   "metadata": {},
   "outputs": [
    {
     "ename": "TypeError",
     "evalue": "'float' object is not iterable",
     "output_type": "error",
     "traceback": [
      "\u001b[0;31m---------------------------------------------------------------------------\u001b[0m",
      "\u001b[0;31mTypeError\u001b[0m                                 Traceback (most recent call last)",
      "Input \u001b[0;32mIn [170]\u001b[0m, in \u001b[0;36m<cell line: 3>\u001b[0;34m()\u001b[0m\n\u001b[1;32m      1\u001b[0m data_true_1 \u001b[38;5;241m=\u001b[39m df_classes[\u001b[38;5;241m1\u001b[39m][\u001b[38;5;124m'\u001b[39m\u001b[38;5;124mx\u001b[39m\u001b[38;5;124m'\u001b[39m]\u001b[38;5;241m.\u001b[39mvalues\u001b[38;5;241m.\u001b[39mtolist()\n\u001b[1;32m      2\u001b[0m data_true_2 \u001b[38;5;241m=\u001b[39m df_classes[\u001b[38;5;241m1\u001b[39m][\u001b[38;5;124m'\u001b[39m\u001b[38;5;124my\u001b[39m\u001b[38;5;124m'\u001b[39m]\u001b[38;5;241m.\u001b[39mvalues\u001b[38;5;241m.\u001b[39mtolist()\n\u001b[0;32m----> 3\u001b[0m data_list_1 \u001b[38;5;241m=\u001b[39m np\u001b[38;5;241m.\u001b[39marray([[three] \u001b[38;5;28;01mfor\u001b[39;00m one \u001b[38;5;129;01min\u001b[39;00m data_true_1 \u001b[38;5;28;01mfor\u001b[39;00m two \u001b[38;5;129;01min\u001b[39;00m one \u001b[38;5;28;01mfor\u001b[39;00m three \u001b[38;5;129;01min\u001b[39;00m two])\n\u001b[1;32m      4\u001b[0m data_list_2 \u001b[38;5;241m=\u001b[39m np\u001b[38;5;241m.\u001b[39marray([[z] \u001b[38;5;28;01mfor\u001b[39;00m x \u001b[38;5;129;01min\u001b[39;00m data_true_2 \u001b[38;5;28;01mfor\u001b[39;00m y \u001b[38;5;129;01min\u001b[39;00m x \u001b[38;5;28;01mfor\u001b[39;00m z \u001b[38;5;129;01min\u001b[39;00m y])\n\u001b[1;32m      5\u001b[0m len_list \u001b[38;5;241m=\u001b[39m np\u001b[38;5;241m.\u001b[39marray([\u001b[38;5;28mlen\u001b[39m(two) \u001b[38;5;28;01mfor\u001b[39;00m one \u001b[38;5;129;01min\u001b[39;00m data_true_2 \u001b[38;5;28;01mfor\u001b[39;00m two \u001b[38;5;129;01min\u001b[39;00m one ])\n",
      "Input \u001b[0;32mIn [170]\u001b[0m, in \u001b[0;36m<listcomp>\u001b[0;34m(.0)\u001b[0m\n\u001b[1;32m      1\u001b[0m data_true_1 \u001b[38;5;241m=\u001b[39m df_classes[\u001b[38;5;241m1\u001b[39m][\u001b[38;5;124m'\u001b[39m\u001b[38;5;124mx\u001b[39m\u001b[38;5;124m'\u001b[39m]\u001b[38;5;241m.\u001b[39mvalues\u001b[38;5;241m.\u001b[39mtolist()\n\u001b[1;32m      2\u001b[0m data_true_2 \u001b[38;5;241m=\u001b[39m df_classes[\u001b[38;5;241m1\u001b[39m][\u001b[38;5;124m'\u001b[39m\u001b[38;5;124my\u001b[39m\u001b[38;5;124m'\u001b[39m]\u001b[38;5;241m.\u001b[39mvalues\u001b[38;5;241m.\u001b[39mtolist()\n\u001b[0;32m----> 3\u001b[0m data_list_1 \u001b[38;5;241m=\u001b[39m np\u001b[38;5;241m.\u001b[39marray([[three] \u001b[38;5;28;01mfor\u001b[39;00m one \u001b[38;5;129;01min\u001b[39;00m data_true_1 \u001b[38;5;28;01mfor\u001b[39;00m two \u001b[38;5;129;01min\u001b[39;00m one \u001b[38;5;28;01mfor\u001b[39;00m three \u001b[38;5;129;01min\u001b[39;00m two])\n\u001b[1;32m      4\u001b[0m data_list_2 \u001b[38;5;241m=\u001b[39m np\u001b[38;5;241m.\u001b[39marray([[z] \u001b[38;5;28;01mfor\u001b[39;00m x \u001b[38;5;129;01min\u001b[39;00m data_true_2 \u001b[38;5;28;01mfor\u001b[39;00m y \u001b[38;5;129;01min\u001b[39;00m x \u001b[38;5;28;01mfor\u001b[39;00m z \u001b[38;5;129;01min\u001b[39;00m y])\n\u001b[1;32m      5\u001b[0m len_list \u001b[38;5;241m=\u001b[39m np\u001b[38;5;241m.\u001b[39marray([\u001b[38;5;28mlen\u001b[39m(two) \u001b[38;5;28;01mfor\u001b[39;00m one \u001b[38;5;129;01min\u001b[39;00m data_true_2 \u001b[38;5;28;01mfor\u001b[39;00m two \u001b[38;5;129;01min\u001b[39;00m one ])\n",
      "\u001b[0;31mTypeError\u001b[0m: 'float' object is not iterable"
     ]
    }
   ],
   "source": [
    "\n",
    "data_true_1 = df_classes[1]['x'].values.tolist()\n",
    "data_true_2 = df_classes[1]['y'].values.tolist()\n",
    "data_list_1 = np.array([[three] for one in data_true_1 for two in one for three in two])\n",
    "data_list_2 = np.array([[z] for x in data_true_2 for y in x for z in y])\n",
    "len_list = np.array([len(two) for one in data_true_2 for two in one ])\n",
    "data_list=np.hstack([data_list_1,data_list_2])\n"
   ]
  },
  {
   "cell_type": "code",
   "execution_count": null,
   "metadata": {},
   "outputs": [],
   "source": []
  },
  {
   "cell_type": "code",
   "execution_count": 122,
   "metadata": {},
   "outputs": [],
   "source": [
    "feature_involved_1= ['arctan_1']\n",
    "feature_involved_2= ['curvature_1']\n"
   ]
  },
  {
   "cell_type": "code",
   "execution_count": 153,
   "metadata": {},
   "outputs": [
    {
     "data": {
      "text/plain": [
       "(40, 2)"
      ]
     },
     "execution_count": 153,
     "metadata": {},
     "output_type": "execute_result"
    }
   ],
   "source": [
    "data_true_1 = df_classes[1][feature_involved_1]\n",
    "data_true_1=np.squeeze(data_true_1.values)\n",
    "b=[]\n",
    "c=[]\n",
    "for i in range(len(data_true_1)):\n",
    "    a=[]\n",
    "    for each in data_true_1[i]:\n",
    "        a.append(each)\n",
    "    a.pop(0)\n",
    "    a.pop(-1)\n",
    "\n",
    "    b.append(a) \n",
    "    \n",
    "data_true_2 = df_classes[1][feature_involved_2]\n",
    "data_true_2=np.squeeze(data_true_2.values)\n",
    "for i in range(len(data_true_2)):\n",
    "    a=[]\n",
    "    for each in data_true_2[i]:\n",
    "        a.append(each)\n",
    "\n",
    "\n",
    "    c.append(a) \n",
    "\n",
    "data=np.array([b,c], dtype=object).T\n"
   ]
  },
  {
   "cell_type": "code",
   "execution_count": 123,
   "metadata": {},
   "outputs": [],
   "source": [
    "data_true_1 = df_classes[1][feature_involved_1]"
   ]
  },
  {
   "cell_type": "code",
   "execution_count": 124,
   "metadata": {},
   "outputs": [],
   "source": []
  },
  {
   "cell_type": "code",
   "execution_count": null,
   "metadata": {
    "tags": []
   },
   "outputs": [],
   "source": [
    "\n"
   ]
  },
  {
   "cell_type": "code",
   "execution_count": 126,
   "metadata": {},
   "outputs": [],
   "source": [
    "data_true_2 = df_classes[1][feature_involved_2]\n",
    "data_true_2=np.squeeze(data_true_2.values)"
   ]
  },
  {
   "cell_type": "code",
   "execution_count": 127,
   "metadata": {},
   "outputs": [
    {
     "name": "stdout",
     "output_type": "stream",
     "text": [
      "28\n",
      "\n",
      "\n",
      "130\n",
      "\n",
      "\n",
      "21\n",
      "\n",
      "\n",
      "20\n",
      "\n",
      "\n",
      "17\n",
      "\n",
      "\n",
      "15\n",
      "\n",
      "\n",
      "16\n",
      "\n",
      "\n",
      "20\n",
      "\n",
      "\n",
      "14\n",
      "\n",
      "\n",
      "18\n",
      "\n",
      "\n",
      "15\n",
      "\n",
      "\n",
      "14\n",
      "\n",
      "\n",
      "23\n",
      "\n",
      "\n",
      "206\n",
      "\n",
      "\n",
      "19\n",
      "\n",
      "\n",
      "22\n",
      "\n",
      "\n",
      "27\n",
      "\n",
      "\n",
      "23\n",
      "\n",
      "\n",
      "24\n",
      "\n",
      "\n",
      "47\n",
      "\n",
      "\n",
      "35\n",
      "\n",
      "\n",
      "20\n",
      "\n",
      "\n",
      "16\n",
      "\n",
      "\n",
      "19\n",
      "\n",
      "\n",
      "45\n",
      "\n",
      "\n",
      "26\n",
      "\n",
      "\n",
      "28\n",
      "\n",
      "\n",
      "22\n",
      "\n",
      "\n",
      "27\n",
      "\n",
      "\n",
      "42\n",
      "\n",
      "\n",
      "15\n",
      "\n",
      "\n",
      "149\n",
      "\n",
      "\n",
      "17\n",
      "\n",
      "\n",
      "35\n",
      "\n",
      "\n",
      "23\n",
      "\n",
      "\n",
      "17\n",
      "\n",
      "\n",
      "19\n",
      "\n",
      "\n",
      "23\n",
      "\n",
      "\n",
      "17\n",
      "\n",
      "\n",
      "19\n",
      "\n",
      "\n"
     ]
    }
   ],
   "source": [
    "for i in range(len(data_true_2)):\n",
    "    count=0\n",
    "    for each in data_true_2[i]:\n",
    "        count+=1\n",
    "    print(count)\n",
    "\n",
    "    print('\\n')\n",
    "\n"
   ]
  },
  {
   "cell_type": "code",
   "execution_count": null,
   "metadata": {},
   "outputs": [],
   "source": []
  }
 ],
 "metadata": {
  "kernelspec": {
   "display_name": "Python 3 (ipykernel)",
   "language": "python",
   "name": "python3"
  },
  "language_info": {
   "codemirror_mode": {
    "name": "ipython",
    "version": 3
   },
   "file_extension": ".py",
   "mimetype": "text/x-python",
   "name": "python",
   "nbconvert_exporter": "python",
   "pygments_lexer": "ipython3",
   "version": "3.9.12"
  },
  "vscode": {
   "interpreter": {
    "hash": "8f162362b51a040b66da23130964be17c9a4290e709b2d7f75b268249f5b26fc"
   }
  }
 },
 "nbformat": 4,
 "nbformat_minor": 4
}
