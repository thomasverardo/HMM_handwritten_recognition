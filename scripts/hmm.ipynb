{
 "cells": [
  {
   "cell_type": "code",
   "execution_count": 6,
   "metadata": {},
   "outputs": [
    {
     "name": "stdout",
     "output_type": "stream",
     "text": [
      "(59, 6)\n"
     ]
    }
   ],
   "source": [
    "%store -r df_classes\n",
    "\n",
    "\n",
    "print(df_classes[0].shape)\n",
    "# print(train.shape)\n",
    "\n"
   ]
  },
  {
   "cell_type": "markdown",
   "metadata": {},
   "source": [
    "## Train HMM\n",
    "\n",
    "https://citeseerx.ist.psu.edu/viewdoc/download?doi=10.1.1.226.3759&rep=rep1&type=pdf\n",
    "\n",
    "https://learning.oreilly.com/library/view/python-machine-learning/9781786464477/ch07s08.html#ch07lvl2sec94"
   ]
  },
  {
   "cell_type": "markdown",
   "metadata": {},
   "source": [
    "### Calculate Gaussian Mixture of model to find observation probability"
   ]
  },
  {
   "cell_type": "code",
   "execution_count": 7,
   "metadata": {},
   "outputs": [],
   "source": [
    "from hmmlearn import hmm\n",
    "import numpy as np\n",
    "import pickle"
   ]
  },
  {
   "cell_type": "code",
   "execution_count": 8,
   "metadata": {},
   "outputs": [],
   "source": [
    "from sklearn.mixture import GaussianMixture\n",
    "\n",
    "# X0 = df_classes[0][['angles', 'x', 'y']]\n",
    "\n",
    "# GMM = GaussianMixture(n_components=3, random_state=0).fit(X0) BUGGATO"
   ]
  },
  {
   "cell_type": "code",
   "execution_count": 9,
   "metadata": {},
   "outputs": [],
   "source": [
    "\n",
    "\n",
    "# from baum_welch import baum_welch\n",
    "\n",
    "# data = df_classes[0][['angles']].values\n",
    "# data_list_append = data.tolist()\n",
    "# data_list_append = [ three for one in data_list_append for two in one for three in two] \n",
    "\n",
    "# # TRY ONLY WI CURVATURE (ANGLE)\n",
    "# # 6 states\n",
    "# initial_prob = np.array([1, 0, 0, 0, 0, 0])\n",
    "# transition_prob = np.ones((6, 6))\n",
    "# transition_prob = transition_prob / np.sum(transition_prob, axis=1)\n",
    "# emission_prob = np.ones((6, 1)) # I don't know how many\n",
    "# emission_prob = emission_prob / np.sum(emission_prob, axis=1).reshape(-1, 1)\n",
    "\n",
    "# n_iter = 20\n",
    "# # To go, data has to be a list of numbers\n",
    "\n",
    "# transition_true, emission_true = baum_welch(data_list_append, initial_prob, transition_prob, emission_prob, n_iter)\n",
    "\n",
    "# print(\"new transition_prob: \", transition_true, \"\\nnew emission_prob: \", emission_true)\n"
   ]
  },
  {
   "cell_type": "code",
   "execution_count": 10,
   "metadata": {},
   "outputs": [],
   "source": [
    "# https://hmmlearn.readthedocs.io/en/latest/tutorial.html#working-with-multiple-sequences\n",
    "\n",
    "#           Delete this cell\n",
    "\n",
    "# data_true = train[['angles']].values.tolist()\n",
    "# data_list_try = np.array([ [three] for one in data_true for two in one for three in two])\n",
    "# len_list_try = [len(two) for one in data_true for two in one ]\n",
    "\n",
    "\n",
    "# # print(data_list_try)\n",
    "# # print(data_list_try.shape)\n",
    "# # print(type(len_list_try))\n",
    "\n",
    "# hmm.GaussianHMM(n_components=6).fit(data_list_try, len_list_try)"
   ]
  },
  {
   "cell_type": "code",
   "execution_count": 15,
   "metadata": {},
   "outputs": [
    {
     "name": "stderr",
     "output_type": "stream",
     "text": [
      "Even though the 'startprob_' attribute is set, it will be overwritten during initialization because 'init_params' contains 's'\n",
      "Even though the 'transmat_' attribute is set, it will be overwritten during initialization because 'init_params' contains 't'\n"
     ]
    },
    {
     "name": "stdout",
     "output_type": "stream",
     "text": [
      "Modelling probabilities of class  0  of  9  classes\n"
     ]
    },
    {
     "name": "stderr",
     "output_type": "stream",
     "text": [
      "Even though the 'startprob_' attribute is set, it will be overwritten during initialization because 'init_params' contains 's'\n",
      "Even though the 'transmat_' attribute is set, it will be overwritten during initialization because 'init_params' contains 't'\n"
     ]
    },
    {
     "name": "stdout",
     "output_type": "stream",
     "text": [
      "Modelling probabilities of class  1  of  9  classes\n"
     ]
    },
    {
     "name": "stderr",
     "output_type": "stream",
     "text": [
      "Even though the 'startprob_' attribute is set, it will be overwritten during initialization because 'init_params' contains 's'\n",
      "Even though the 'transmat_' attribute is set, it will be overwritten during initialization because 'init_params' contains 't'\n"
     ]
    },
    {
     "name": "stdout",
     "output_type": "stream",
     "text": [
      "Modelling probabilities of class  2  of  9  classes\n"
     ]
    },
    {
     "name": "stderr",
     "output_type": "stream",
     "text": [
      "Even though the 'startprob_' attribute is set, it will be overwritten during initialization because 'init_params' contains 's'\n",
      "Even though the 'transmat_' attribute is set, it will be overwritten during initialization because 'init_params' contains 't'\n"
     ]
    },
    {
     "name": "stdout",
     "output_type": "stream",
     "text": [
      "Modelling probabilities of class  3  of  9  classes\n"
     ]
    },
    {
     "name": "stderr",
     "output_type": "stream",
     "text": [
      "Even though the 'startprob_' attribute is set, it will be overwritten during initialization because 'init_params' contains 's'\n",
      "Even though the 'transmat_' attribute is set, it will be overwritten during initialization because 'init_params' contains 't'\n"
     ]
    },
    {
     "name": "stdout",
     "output_type": "stream",
     "text": [
      "Modelling probabilities of class  5  of  9  classes\n"
     ]
    },
    {
     "name": "stderr",
     "output_type": "stream",
     "text": [
      "Even though the 'startprob_' attribute is set, it will be overwritten during initialization because 'init_params' contains 's'\n",
      "Even though the 'transmat_' attribute is set, it will be overwritten during initialization because 'init_params' contains 't'\n"
     ]
    },
    {
     "name": "stdout",
     "output_type": "stream",
     "text": [
      "Modelling probabilities of class  6  of  9  classes\n"
     ]
    },
    {
     "name": "stderr",
     "output_type": "stream",
     "text": [
      "Even though the 'startprob_' attribute is set, it will be overwritten during initialization because 'init_params' contains 's'\n",
      "Even though the 'transmat_' attribute is set, it will be overwritten during initialization because 'init_params' contains 't'\n"
     ]
    },
    {
     "name": "stdout",
     "output_type": "stream",
     "text": [
      "Modelling probabilities of class  7  of  9  classes\n"
     ]
    },
    {
     "name": "stderr",
     "output_type": "stream",
     "text": [
      "Even though the 'startprob_' attribute is set, it will be overwritten during initialization because 'init_params' contains 's'\n",
      "Even though the 'transmat_' attribute is set, it will be overwritten during initialization because 'init_params' contains 't'\n"
     ]
    },
    {
     "name": "stdout",
     "output_type": "stream",
     "text": [
      "Modelling probabilities of class  8  of  9  classes\n"
     ]
    },
    {
     "name": "stderr",
     "output_type": "stream",
     "text": [
      "Even though the 'startprob_' attribute is set, it will be overwritten during initialization because 'init_params' contains 's'\n",
      "Even though the 'transmat_' attribute is set, it will be overwritten during initialization because 'init_params' contains 't'\n"
     ]
    },
    {
     "name": "stdout",
     "output_type": "stream",
     "text": [
      "Modelling probabilities of class  9  of  9  classes\n"
     ]
    }
   ],
   "source": [
    "n_iter=100\n",
    "feature_involved = ['angles']\n",
    "\n",
    "for n_class, _ in df_classes.items():\n",
    "    print(\"Modelling probabilities of class \", n_class,\" of \", len(df_classes), \" classes\")\n",
    "    model = hmm.GaussianHMM(n_components=6, n_iter=n_iter, verbose=False, algorithm=\"viterbi\")\n",
    "    data_true = df_classes[n_class][feature_involved].values.tolist()\n",
    "    data_list = np.array([ [three] for one in data_true for two in one for three in two])\n",
    "    len_list = [len(two) for one in data_true for two in one ]\n",
    "\n",
    "    initial_prob = np.array([1, 0, 0, 0, 0, 0])\n",
    "    transition_prob = np.ones((6, 6))\n",
    "    transition_prob = transition_prob / np.sum(transition_prob, axis=1)\n",
    "    emission_prob = np.ones((6, 1)) # I don't know how many\n",
    "    emission_prob = emission_prob / np.sum(emission_prob, axis=1)\n",
    "\n",
    "    model.startprob_ = initial_prob\n",
    "    model.transmat_ = transition_prob\n",
    "    model.emissionprob_ = emission_prob\n",
    "\n",
    "\n",
    "    model.fit(data_list, len_list)\n",
    "\n",
    "    # print(\"initial probability: \", model.startprob_)\n",
    "    # print(f'transition: \\n{model.transmat_}')\n",
    "    # print(f'emission: \\n{model.emissionprob_}')\n",
    "\n",
    "    with open ('models/'+str(n_class)+'hmm_model.pkl', 'wb') as f: #Save model\n",
    "        pickle.dump(model, f)"
   ]
  }
 ],
 "metadata": {
  "kernelspec": {
   "display_name": "Python 3.9.7 ('pml')",
   "language": "python",
   "name": "python3"
  },
  "language_info": {
   "codemirror_mode": {
    "name": "ipython",
    "version": 3
   },
   "file_extension": ".py",
   "mimetype": "text/x-python",
   "name": "python",
   "nbconvert_exporter": "python",
   "pygments_lexer": "ipython3",
   "version": "3.9.7"
  },
  "orig_nbformat": 4,
  "vscode": {
   "interpreter": {
    "hash": "8f162362b51a040b66da23130964be17c9a4290e709b2d7f75b268249f5b26fc"
   }
  }
 },
 "nbformat": 4,
 "nbformat_minor": 2
}
