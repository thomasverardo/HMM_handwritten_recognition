{
 "cells": [
  {
   "cell_type": "code",
   "execution_count": 83,
   "metadata": {},
   "outputs": [
    {
     "data": {
      "text/plain": [
       "(76, 6)"
      ]
     },
     "execution_count": 83,
     "metadata": {},
     "output_type": "execute_result"
    }
   ],
   "source": [
    "%store -r df_classes\n",
    "df_classes[0].shape"
   ]
  },
  {
   "cell_type": "markdown",
   "metadata": {},
   "source": [
    "## Train HMM\n",
    "\n",
    "https://citeseerx.ist.psu.edu/viewdoc/download?doi=10.1.1.226.3759&rep=rep1&type=pdf\n",
    "\n",
    "https://learning.oreilly.com/library/view/python-machine-learning/9781786464477/ch07s08.html#ch07lvl2sec94"
   ]
  },
  {
   "cell_type": "markdown",
   "metadata": {},
   "source": [
    "### Calculate Gaussian Mixture of model to find observation probability"
   ]
  },
  {
   "cell_type": "code",
   "execution_count": 81,
   "metadata": {},
   "outputs": [],
   "source": [
    "from hmmlearn import hmm\n",
    "import numpy as np\n",
    "import pickle"
   ]
  },
  {
   "cell_type": "code",
   "execution_count": 3,
   "metadata": {},
   "outputs": [],
   "source": [
    "from sklearn.mixture import GaussianMixture\n",
    "\n",
    "# X0 = df_classes[0][['angles', 'x', 'y']]\n",
    "\n",
    "# GMM = GaussianMixture(n_components=3, random_state=0).fit(X0) BUGGATO"
   ]
  },
  {
   "cell_type": "code",
   "execution_count": 78,
   "metadata": {},
   "outputs": [],
   "source": [
    "\n",
    "\n",
    "# from baum_welch import baum_welch\n",
    "\n",
    "# data = df_classes[0][['angles']].values\n",
    "# data_list_append = data.tolist()\n",
    "# data_list_append = [ three for one in data_list_append for two in one for three in two] \n",
    "\n",
    "# # TRY ONLY WI CURVATURE (ANGLE)\n",
    "# # 6 states\n",
    "# initial_prob = np.array([1, 0, 0, 0, 0, 0])\n",
    "# transition_prob = np.ones((6, 6))\n",
    "# transition_prob = transition_prob / np.sum(transition_prob, axis=1)\n",
    "# emission_prob = np.ones((6, 1)) # I don't know how many\n",
    "# emission_prob = emission_prob / np.sum(emission_prob, axis=1).reshape(-1, 1)\n",
    "\n",
    "# n_iter = 20\n",
    "# # To go, data has to be a list of numbers\n",
    "\n",
    "# transition_true, emission_true = baum_welch(data_list_append, initial_prob, transition_prob, emission_prob, n_iter)\n",
    "\n",
    "# print(\"new transition_prob: \", transition_true, \"\\nnew emission_prob: \", emission_true)\n"
   ]
  },
  {
   "cell_type": "code",
   "execution_count": 73,
   "metadata": {},
   "outputs": [
    {
     "name": "stdout",
     "output_type": "stream",
     "text": [
      "<class 'numpy.ndarray'>\n",
      "(3905, 1)\n",
      "<class 'list'>\n"
     ]
    },
    {
     "data": {
      "text/plain": [
       "GaussianHMM(n_components=6)"
      ]
     },
     "execution_count": 73,
     "metadata": {},
     "output_type": "execute_result"
    }
   ],
   "source": [
    "# https://hmmlearn.readthedocs.io/en/latest/tutorial.html#working-with-multiple-sequences\n",
    "\n",
    "#           Delete this cell\n",
    "\n",
    "data_true = df_classes[0][['angles']].values.tolist()\n",
    "data_list_try = np.array([ [three] for one in data_true for two in one for three in two])\n",
    "len_list_try = [len(two) for one in data_true for two in one ]\n",
    "\n",
    "\n",
    "print(type(data_list_try[0]))\n",
    "print(data_list_try.shape)\n",
    "print(type(len_list_try))\n",
    "\n",
    "hmm.GaussianHMM(n_components=6).fit(data_list_try, len_list_try)"
   ]
  },
  {
   "cell_type": "code",
   "execution_count": 91,
   "metadata": {},
   "outputs": [
    {
     "name": "stderr",
     "output_type": "stream",
     "text": [
      "Even though the 'startprob_' attribute is set, it will be overwritten during initialization because 'init_params' contains 's'\n",
      "Even though the 'transmat_' attribute is set, it will be overwritten during initialization because 'init_params' contains 't'\n",
      "         1       -8468.4270             +nan\n",
      "         2       -7380.1263       +1088.3006\n",
      "         3       -6290.4570       +1089.6693\n",
      "         4       -5801.7235        +488.7335\n",
      "         5       -5555.1579        +246.5656\n",
      "         6       -5064.0650        +491.0928\n",
      "         7       -4348.7377        +715.3273\n",
      "         8       -3604.6437        +744.0940\n",
      "         9       -2898.7447        +705.8991\n",
      "        10       -2510.2425        +388.5022\n",
      "        11       -2442.1561         +68.0864\n",
      "        12       -2426.3595         +15.7966\n",
      "        13       -2416.4979          +9.8616\n",
      "        14       -2409.4290          +7.0689\n",
      "        15       -2404.3855          +5.0435\n",
      "        16       -2400.9280          +3.4575\n",
      "        17       -2398.5458          +2.3822\n",
      "        18       -2396.8538          +1.6920\n",
      "        19       -2395.6020          +1.2518\n",
      "        20       -2394.6308          +0.9711\n",
      "        21       -2393.8339          +0.7970\n",
      "        22       -2393.1314          +0.7025\n",
      "        23       -2392.4499          +0.6815\n",
      "        24       -2391.7088          +0.7411\n",
      "        25       -2390.8405          +0.8683\n",
      "        26       -2389.8761          +0.9644\n",
      "        27       -2388.9612          +0.9148\n",
      "        28       -2388.2011          +0.7602\n",
      "        29       -2387.6040          +0.5971\n",
      "        30       -2387.1403          +0.4637\n",
      "        31       -2386.7783          +0.3620\n",
      "        32       -2386.4930          +0.2853\n",
      "        33       -2386.2659          +0.2271\n",
      "        34       -2386.0834          +0.1825\n",
      "        35       -2385.9355          +0.1480\n",
      "        36       -2385.8146          +0.1209\n",
      "        37       -2385.7149          +0.0996\n",
      "        38       -2385.6323          +0.0827\n",
      "        39       -2385.5632          +0.0691\n",
      "        40       -2385.5051          +0.0581\n",
      "        41       -2385.4559          +0.0492\n",
      "        42       -2385.4139          +0.0420\n",
      "        43       -2385.3779          +0.0360\n",
      "        44       -2385.3468          +0.0311\n",
      "        45       -2385.3197          +0.0270\n",
      "        46       -2385.2961          +0.0236\n",
      "        47       -2385.2754          +0.0208\n",
      "        48       -2385.2570          +0.0183\n",
      "        49       -2385.2407          +0.0163\n",
      "        50       -2385.2262          +0.0145\n",
      "        51       -2385.2132          +0.0130\n",
      "        52       -2385.2015          +0.0117\n"
     ]
    },
    {
     "name": "stdout",
     "output_type": "stream",
     "text": [
      "initial probability:  [0.05012094 0.1316314  0.01673264 0.38121848 0.05193652 0.36836003]\n",
      "transition: \n",
      "[[8.81371805e-001 2.30877959e-014 1.39475357e-003 1.08628360e-001\n",
      "  5.82877140e-003 2.77631002e-003]\n",
      " [2.68316228e-003 8.91447569e-001 1.00091432e-001 7.63690521e-190\n",
      "  1.99340251e-110 5.77783660e-003]\n",
      " [9.11569919e-138 8.21097128e-003 8.74974496e-001 3.00295096e-292\n",
      "  1.16814532e-001 6.64902135e-191]\n",
      " [8.26016107e-003 1.69484214e-003 8.81714647e-105 8.41669877e-001\n",
      "  1.67968534e-038 1.48375120e-001]\n",
      " [1.22006921e-001 5.76418643e-045 4.77335670e-003 1.76722897e-092\n",
      "  8.73219722e-001 4.17818178e-180]\n",
      " [5.06607984e-003 1.09138750e-001 1.65462857e-003 4.22872060e-002\n",
      "  1.38267706e-051 8.41853335e-001]]\n",
      "emission: \n",
      "[[1. 1. 1. 1. 1. 1.]\n",
      " [1. 1. 1. 1. 1. 1.]\n",
      " [1. 1. 1. 1. 1. 1.]\n",
      " [1. 1. 1. 1. 1. 1.]\n",
      " [1. 1. 1. 1. 1. 1.]\n",
      " [1. 1. 1. 1. 1. 1.]]\n"
     ]
    },
    {
     "name": "stderr",
     "output_type": "stream",
     "text": [
      "        53       -2385.1909          +0.0106\n",
      "        54       -2385.1813          +0.0096\n"
     ]
    }
   ],
   "source": [
    "n_iter=100\n",
    "# compore to hmmlearn\n",
    "# model = hmm.MultinomialHMM(n_components=6, n_iter=n_iter, init_params=\"\", params=\"te\", tol=0, verbose=True)\n",
    "model = hmm.GaussianHMM(n_components=6, n_iter=n_iter, verbose=True, algorithm=\"viterbi\")\n",
    "\n",
    "data_true = df_classes[0][['angles']].values.tolist()\n",
    "data_list = np.array([ [three] for one in data_true for two in one for three in two])\n",
    "len_list = [len(two) for one in data_true for two in one ]\n",
    "\n",
    "initial_prob = np.array([1, 0, 0, 0, 0, 0])\n",
    "transition_prob = np.ones((6, 6))\n",
    "transition_prob = transition_prob / np.sum(transition_prob, axis=1)\n",
    "emission_prob = np.ones((6, 1)) # I don't know how many\n",
    "emission_prob = emission_prob / np.sum(emission_prob, axis=1)\n",
    "\n",
    "model.startprob_ = initial_prob\n",
    "model.transmat_ = transition_prob\n",
    "model.emissionprob_ = emission_prob\n",
    "\n",
    "model.fit(data_list, len_list)\n",
    "# model.fit(data_list_try)\n",
    "print(\"initial probability: \", model.startprob_)\n",
    "print(f'transition: \\n{model.transmat_}')\n",
    "print(f'emission: \\n{model.emissionprob_}')\n",
    "\n",
    "with open ('models/hmm_model_0.pkl', 'wb') as f: #Save model\n",
    "    pickle.dump(model, f)"
   ]
  }
 ],
 "metadata": {
  "kernelspec": {
   "display_name": "Python 3.9.7 ('pml')",
   "language": "python",
   "name": "python3"
  },
  "language_info": {
   "codemirror_mode": {
    "name": "ipython",
    "version": 3
   },
   "file_extension": ".py",
   "mimetype": "text/x-python",
   "name": "python",
   "nbconvert_exporter": "python",
   "pygments_lexer": "ipython3",
   "version": "3.9.7"
  },
  "orig_nbformat": 4,
  "vscode": {
   "interpreter": {
    "hash": "8f162362b51a040b66da23130964be17c9a4290e709b2d7f75b268249f5b26fc"
   }
  }
 },
 "nbformat": 4,
 "nbformat_minor": 2
}
