{
 "cells": [
  {
   "cell_type": "code",
   "execution_count": 1,
   "metadata": {},
   "outputs": [],
   "source": [
    "%store -r df_classes"
   ]
  },
  {
   "cell_type": "markdown",
   "metadata": {},
   "source": [
    "## Train HMM\n",
    "\n",
    "https://citeseerx.ist.psu.edu/viewdoc/download?doi=10.1.1.226.3759&rep=rep1&type=pdf\n",
    "\n",
    "https://learning.oreilly.com/library/view/python-machine-learning/9781786464477/ch07s08.html#ch07lvl2sec94"
   ]
  },
  {
   "cell_type": "markdown",
   "metadata": {},
   "source": [
    "### Calculate Gaussian Mixture of model to find observation probability"
   ]
  },
  {
   "cell_type": "code",
   "execution_count": 2,
   "metadata": {},
   "outputs": [],
   "source": [
    "from hmmlearn import hmm\n",
    "import numpy as np"
   ]
  },
  {
   "cell_type": "code",
   "execution_count": 3,
   "metadata": {},
   "outputs": [],
   "source": [
    "from sklearn.mixture import GaussianMixture\n",
    "\n",
    "# X0 = df_classes[0][['angles', 'x', 'y']]\n",
    "\n",
    "# GMM = GaussianMixture(n_components=3, random_state=0).fit(X0) BUGGATO"
   ]
  },
  {
   "cell_type": "code",
   "execution_count": 4,
   "metadata": {},
   "outputs": [
    {
     "ename": "IndexError",
     "evalue": "arrays used as indices must be of integer (or boolean) type",
     "output_type": "error",
     "traceback": [
      "\u001b[0;31m---------------------------------------------------------------------------\u001b[0m",
      "\u001b[0;31mIndexError\u001b[0m                                Traceback (most recent call last)",
      "\u001b[1;32m/home/thomas/Scrivania/PRIMO ANNO 2/Probabilistic ML/Project/scripts/hmm.ipynb Cella 6\u001b[0m in \u001b[0;36m<cell line: 14>\u001b[0;34m()\u001b[0m\n\u001b[1;32m     <a href='vscode-notebook-cell:/home/thomas/Scrivania/PRIMO%20ANNO%202/Probabilistic%20ML/Project/scripts/hmm.ipynb#ch0000005?line=10'>11</a>\u001b[0m emission_prob \u001b[39m=\u001b[39m emission_prob \u001b[39m/\u001b[39m np\u001b[39m.\u001b[39msum(emission_prob, axis\u001b[39m=\u001b[39m\u001b[39m1\u001b[39m)\n\u001b[1;32m     <a href='vscode-notebook-cell:/home/thomas/Scrivania/PRIMO%20ANNO%202/Probabilistic%20ML/Project/scripts/hmm.ipynb#ch0000005?line=12'>13</a>\u001b[0m n_iter \u001b[39m=\u001b[39m \u001b[39m20\u001b[39m\n\u001b[0;32m---> <a href='vscode-notebook-cell:/home/thomas/Scrivania/PRIMO%20ANNO%202/Probabilistic%20ML/Project/scripts/hmm.ipynb#ch0000005?line=13'>14</a>\u001b[0m transition_true, emission_true \u001b[39m=\u001b[39m baum_welch(data, initial_prob, transition_prob, emission_prob, n_iter)\n\u001b[1;32m     <a href='vscode-notebook-cell:/home/thomas/Scrivania/PRIMO%20ANNO%202/Probabilistic%20ML/Project/scripts/hmm.ipynb#ch0000005?line=15'>16</a>\u001b[0m \u001b[39mprint\u001b[39m(\u001b[39m\"\u001b[39m\u001b[39mnew transition_prob: \u001b[39m\u001b[39m\"\u001b[39m, transition_true, \u001b[39m\"\u001b[39m\u001b[39m\\n\u001b[39;00m\u001b[39mnew emission_prob: \u001b[39m\u001b[39m\"\u001b[39m, emission_true)\n",
      "File \u001b[0;32m~/drive/Units/PRIMO ANNO 2/Probabilistic ML/Project/scripts/baum_welch.py:36\u001b[0m, in \u001b[0;36mbaum_welch\u001b[0;34m(V, a, b, initial_distribution, n_iter)\u001b[0m\n\u001b[1;32m     32\u001b[0m T \u001b[39m=\u001b[39m \u001b[39mlen\u001b[39m(V)\n\u001b[1;32m     34\u001b[0m \u001b[39mfor\u001b[39;00m n \u001b[39min\u001b[39;00m \u001b[39mrange\u001b[39m(n_iter):\n\u001b[1;32m     35\u001b[0m     \u001b[39m###estimation step\u001b[39;00m\n\u001b[0;32m---> 36\u001b[0m     alpha \u001b[39m=\u001b[39m forward(V, a, b, initial_distribution)\n\u001b[1;32m     37\u001b[0m     beta \u001b[39m=\u001b[39m backward(V, a, b)\n\u001b[1;32m     39\u001b[0m     xi \u001b[39m=\u001b[39m np\u001b[39m.\u001b[39mzeros((M, M, T \u001b[39m-\u001b[39m \u001b[39m1\u001b[39m))\n",
      "File \u001b[0;32m~/drive/Units/PRIMO ANNO 2/Probabilistic ML/Project/scripts/baum_welch.py:7\u001b[0m, in \u001b[0;36mforward\u001b[0;34m(V, a, b, initial_distribution)\u001b[0m\n\u001b[1;32m      5\u001b[0m \u001b[39mdef\u001b[39;00m \u001b[39mforward\u001b[39m(V, a, b, initial_distribution):\n\u001b[1;32m      6\u001b[0m     alpha \u001b[39m=\u001b[39m np\u001b[39m.\u001b[39mzeros((V\u001b[39m.\u001b[39mshape[\u001b[39m0\u001b[39m], a\u001b[39m.\u001b[39mshape[\u001b[39m0\u001b[39m]))\n\u001b[0;32m----> 7\u001b[0m     alpha[\u001b[39m0\u001b[39m, :] \u001b[39m=\u001b[39m initial_distribution \u001b[39m*\u001b[39m b[:, V[\u001b[39m0\u001b[39;49m]]\n\u001b[1;32m      9\u001b[0m     \u001b[39mfor\u001b[39;00m t \u001b[39min\u001b[39;00m \u001b[39mrange\u001b[39m(\u001b[39m1\u001b[39m, V\u001b[39m.\u001b[39mshape[\u001b[39m0\u001b[39m]):\n\u001b[1;32m     10\u001b[0m         \u001b[39mfor\u001b[39;00m j \u001b[39min\u001b[39;00m \u001b[39mrange\u001b[39m(a\u001b[39m.\u001b[39mshape[\u001b[39m0\u001b[39m]):\n\u001b[1;32m     11\u001b[0m             \u001b[39m# Matrix Computation Steps\u001b[39;00m\n\u001b[1;32m     12\u001b[0m             \u001b[39m#                  ((1x2) . (1x2))      *     (1)\u001b[39;00m\n\u001b[1;32m     13\u001b[0m             \u001b[39m#                        (1)            *     (1)\u001b[39;00m\n",
      "\u001b[0;31mIndexError\u001b[0m: arrays used as indices must be of integer (or boolean) type"
     ]
    }
   ],
   "source": [
    "\n",
    "\n",
    "from baum_welch import baum_welch\n",
    "\n",
    "data = df_classes[0][['angles']].values\n",
    "\n",
    "# TRY ONLY WI CURVATURE (ANGLE)\n",
    "# 6 states\n",
    "initial_prob = np.array([1, 0, 0, 0, 0, 0])\n",
    "transition_prob = np.ones((6, 6))\n",
    "transition_prob = transition_prob / np.sum(transition_prob, axis=1)\n",
    "emission_prob = np.ones((6, 1)) # I don't know how many\n",
    "emission_prob = emission_prob / np.sum(emission_prob, axis=1)\n",
    "\n",
    "n_iter = 20\n",
    "transition_true, emission_true = baum_welch(data, initial_prob, transition_prob, emission_prob, n_iter)\n",
    "\n",
    "print(\"new transition_prob: \", transition_true, \"\\nnew emission_prob: \", emission_true)\n"
   ]
  },
  {
   "cell_type": "code",
   "execution_count": 12,
   "metadata": {},
   "outputs": [
    {
     "name": "stderr",
     "output_type": "stream",
     "text": [
      "/home/thomas/anaconda3/envs/pml/lib/python3.9/site-packages/hmmlearn/base.py:493: FutureWarning: Arrays of bytes/strings is being converted to decimal numbers if dtype='numeric'. This behavior is deprecated in 0.24 and will be removed in 1.1 (renaming of 0.26). Please convert your data to numeric values explicitly instead.\n",
      "  X = check_array(X)\n"
     ]
    }
   ],
   "source": [
    "n_iter=10\n",
    "# compore to hmmlearn\n",
    "model = hmm.MultinomialHMM(n_components=6, n_iter=n_iter, init_params=\"\", params=\"te\", tol=0)\n",
    "\n",
    "data = df_classes[0][['angles']].values\n",
    "\n",
    "initial_prob = np.array([1, 0, 0, 0, 0, 0])\n",
    "transition_prob = np.ones((6, 6))\n",
    "transition_prob = transition_prob / np.sum(transition_prob, axis=1)\n",
    "emission_prob = np.ones((6, 1)) # I don't know how many\n",
    "emission_prob = emission_prob / np.sum(emission_prob, axis=1)\n",
    "\n",
    "model.startprob_ = initial_prob\n",
    "model.transmat_ = transition_prob\n",
    "model.emissionprob_ = emission_prob\n",
    "\n",
    "model.fit([data])\n",
    "print(f'hmmlearn A \\n{model.transmat_}')\n",
    "print(f'hmmlearn B \\n{model.emissionprob_}')"
   ]
  }
 ],
 "metadata": {
  "kernelspec": {
   "display_name": "Python 3.9.7 ('pml')",
   "language": "python",
   "name": "python3"
  },
  "language_info": {
   "codemirror_mode": {
    "name": "ipython",
    "version": 3
   },
   "file_extension": ".py",
   "mimetype": "text/x-python",
   "name": "python",
   "nbconvert_exporter": "python",
   "pygments_lexer": "ipython3",
   "version": "3.9.7"
  },
  "orig_nbformat": 4,
  "vscode": {
   "interpreter": {
    "hash": "8f162362b51a040b66da23130964be17c9a4290e709b2d7f75b268249f5b26fc"
   }
  }
 },
 "nbformat": 4,
 "nbformat_minor": 2
}
