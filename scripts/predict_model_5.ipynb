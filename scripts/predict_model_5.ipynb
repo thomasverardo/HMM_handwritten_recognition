{
 "cells": [
  {
   "cell_type": "code",
   "execution_count": 1,
   "id": "09856e69-6d16-4492-bdf9-08247684d183",
   "metadata": {},
   "outputs": [],
   "source": [
    "import pickle\n",
    "import numpy as np\n",
    "import pandas as pd\n",
    "from sklearn.metrics.cluster import contingency_matrix \n",
    "\n"
   ]
  },
  {
   "cell_type": "code",
   "execution_count": 2,
   "id": "da8fb4f0-db55-4e5a-aad4-442be88bcf48",
   "metadata": {},
   "outputs": [],
   "source": [
    "%store -r test\n",
    "\n",
    "# Take the name of the different classes (e.g. '0', '1', '2', ...)\n",
    "classes = test.groupby(['label'])['label'].unique().index.to_list()"
   ]
  },
  {
   "cell_type": "code",
   "execution_count": 3,
   "id": "ae19e8c6-f60e-4b1a-9ed8-d212cc5b93de",
   "metadata": {},
   "outputs": [],
   "source": [
    "predicted_test = test.copy()\n",
    "\n",
    "feature_1= 'arctan2_2'\n",
    "\n",
    "\n",
    "models = []\n",
    "for n_class in classes: # Can be thrown an expection beacuse this is the labels of the test set and not of the models (train set)\n",
    "    model = pickle.load(open('models_5/'+str(n_class)+'hmm_model.pkl', 'rb'))\n",
    "    models.append(model)\n",
    "\n",
    "#log_likelihoods = pd.DataFrame()\n",
    "#log_likelihoods['predicted_class'] = classes\n",
    "#log_like_max = []\n",
    "#top_3_loglikelihood = []\n",
    "top_3_predicted_classes = []\n",
    "predicted_class = []\n",
    "#is_predicted = []\n",
    "true_label=[]\n",
    "\n",
    "for i in range(len(test)):\n",
    "    angle_1 = test[feature_1].iloc[i]\n",
    "    X=np.array([angle_1]).T\n",
    "    true_label.append(test['label'].iloc[i])\n",
    "    list_log_likelihoods = []\n",
    "    for model in models:\n",
    "        \n",
    "        list_log_likelihoods.append(model.score(X,lengths=len(X)))\n",
    "        pass\n",
    "\n",
    "    predicted_class.append(np.argmax(list_log_likelihoods))\n",
    "\n",
    "    top_3_values = sorted(list_log_likelihoods)[-3:]\n",
    "    top_3_predicted_classes.append([i for i, x in enumerate(list_log_likelihoods) if x == top_3_values[0] or x == top_3_values[1] or x == top_3_values[2]])\n",
    "    "
   ]
  },
  {
   "cell_type": "code",
   "execution_count": 4,
   "id": "e904a949-d452-4574-b730-f2cc7ee6626d",
   "metadata": {},
   "outputs": [
    {
     "name": "stdout",
     "output_type": "stream",
     "text": [
      "[[17  0  2  1  0  0 10  0  3  1]\n",
      " [ 0 13  0  0  7  1  0  1  0  1]\n",
      " [ 0  0 19  2  0  2  0  0  0  0]\n",
      " [ 0  0  2 16  0  4  0  0  0  0]\n",
      " [ 0  0  0  0 25  0  0  0  0  0]\n",
      " [ 0  0  0  2  0 22  0  0  1  0]\n",
      " [ 5  0  0  0  0  0 17  0  0  3]\n",
      " [ 0  0  0  0  0  3  0 17  0  1]\n",
      " [ 0  0  0  0  0  1  0  0 23  0]\n",
      " [ 0  0  0  0  1  1  0  0  0 24]]\n"
     ]
    }
   ],
   "source": [
    "matrix=contingency_matrix(true_label, predicted_class)\n",
    "print(matrix)\n",
    "\n",
    "\n",
    "# print(fp,fn,tp,tn)"
   ]
  },
  {
   "cell_type": "code",
   "execution_count": 5,
   "id": "2cf4efc5-3ef1-4dac-a614-e210a702ac26",
   "metadata": {},
   "outputs": [
    {
     "name": "stdout",
     "output_type": "stream",
     "text": [
      "Accuracy:  0.7782258064516129\n"
     ]
    }
   ],
   "source": [
    "accuracy=np.sum(np.diag(matrix))/np.sum(matrix)\n",
    "print(\"Accuracy: \", accuracy)"
   ]
  },
  {
   "cell_type": "code",
   "execution_count": 6,
   "id": "972f8861-4991-4ea4-9294-086abc612086",
   "metadata": {},
   "outputs": [
    {
     "name": "stdout",
     "output_type": "stream",
     "text": [
      "Accuracy top 3:  0.9556451612903226\n"
     ]
    }
   ],
   "source": [
    "# Calculate top 3 accuracy\n",
    "sum_top_3 = 0\n",
    "for i in range(len(top_3_predicted_classes)):\n",
    "    if true_label[i] in top_3_predicted_classes[i]:\n",
    "        sum_top_3 += 1\n",
    "\n",
    "accuracy_top_3 = sum_top_3/len(predicted_test[\"label\"])\n",
    "print(\"Accuracy top 3: \", accuracy_top_3)"
   ]
  },
  {
   "cell_type": "code",
   "execution_count": 7,
   "id": "14fd74fb",
   "metadata": {},
   "outputs": [
    {
     "data": {
      "image/png": "[encoded data removed]",
      "text/plain": [
       "<Figure size 576x504 with 2 Axes>"
      ]
     },
     "metadata": {
      "needs_background": "light"
     },
     "output_type": "display_data"
    }
   ],
   "source": [
    "import seaborn as sns\n",
    "import matplotlib.pyplot as plt\n",
    "\n",
    "cm_df = pd.DataFrame(matrix,\n",
    "                     index = ['0','1','2','3','4','5','6','7','8','9'], \n",
    "                     columns = ['0','1','2','3','4','5','6','7','8','9'])\n",
    "\n",
    "plt.figure(figsize=(8,7))\n",
    "sns.heatmap(cm_df, annot=True)\n",
    "plt.title('Model 5')\n",
    "plt.ylabel('True Values')\n",
    "plt.xlabel('Predicted Values')\n",
    "plt.show()"
   ]
  },
  {
   "cell_type": "code",
   "execution_count": 8,
   "id": "c4fdf2b7",
   "metadata": {},
   "outputs": [],
   "source": [
    "# import matplotlib.pyplot as plt\n",
    "# from itertools import cycle\n",
    "\n",
    "# from sklearn import svm, datasets\n",
    "# from sklearn.metrics import roc_curve, auc\n",
    "# from sklearn.model_selection import train_test_split\n",
    "# from sklearn.preprocessing import label_binarize\n",
    "# from sklearn.multiclass import OneVsRestClassifier\n",
    "# from sklearn.metrics import roc_auc_score\n",
    "\n",
    "# # Compute ROC curve and ROC area for each class\n",
    "# fpr = dict()\n",
    "# tpr = dict()\n",
    "# roc_auc = dict()\n",
    "\n",
    "# fp = matrix.sum(axis=0) - np.diag(matrix)  \n",
    "# fn = matrix.sum(axis=1) - np.diag(matrix)\n",
    "# tp = np.diag(matrix)\n",
    "# tn = matrix.sum() - (fp + fn + tp)\n",
    "\n",
    "# for i in range(len(classes)):\n",
    "#     fpr[i] = fp / len(test)\n",
    "#     tpr[i] = tp / len(test)\n",
    "#     roc_auc[i] = auc(fpr[i], tpr[i])\n",
    "\n",
    "\n",
    "# # First aggregate all false positive rates\n",
    "# all_fpr = np.unique(np.concatenate([fpr[i] for i in range(classes)]))\n",
    "\n",
    "# # Then interpolate all ROC curves at this points\n",
    "# mean_tpr = np.zeros_like(all_fpr)\n",
    "# for i in range(classes):\n",
    "#     mean_tpr += np.interp(all_fpr, fpr[i], tpr[i])\n",
    "\n",
    "# # Finally average it and compute AUC\n",
    "# mean_tpr /= classes\n",
    "\n",
    "\n",
    "# # Plot all ROC curves\n",
    "# colors = cycle([\"aqua\", \"darkorange\", \"cornflowerblue\"])\n",
    "# for i, color in zip(range(classes), colors):\n",
    "#     plt.plot(\n",
    "#         fpr[i],\n",
    "#         tpr[i],\n",
    "#         color=color,\n",
    "#         lw=lw,\n",
    "#         label=\"ROC curve of class {0} (area = {1:0.2f})\".format(i, roc_auc[i]),\n",
    "#     )\n",
    "\n",
    "# plt.plot([0, 1], [0, 1], \"k--\", lw=lw)\n",
    "# plt.xlim([0.0, 1.0])\n",
    "# plt.ylim([0.0, 1.05])\n",
    "# plt.xlabel(\"False Positive Rate\")\n",
    "# plt.ylabel(\"True Positive Rate\")\n",
    "# plt.title(\"Some extension of Receiver operating characteristic to multiclass\")\n",
    "# plt.legend(loc=\"lower right\")\n",
    "# plt.show()"
   ]
  },
  {
   "cell_type": "code",
   "execution_count": 9,
   "id": "1fa861d8",
   "metadata": {},
   "outputs": [
    {
     "ename": "NameError",
     "evalue": "name 'fp' is not defined",
     "output_type": "error",
     "traceback": [
      "\u001b[0;31m---------------------------------------------------------------------------\u001b[0m",
      "\u001b[0;31mNameError\u001b[0m                                 Traceback (most recent call last)",
      "\u001b[1;32m/home/thomas/Scrivania/PRIMO ANNO 2/Probabilistic ML/Project/scripts/predict_model_5.ipynb Cella 9\u001b[0m in \u001b[0;36m<cell line: 1>\u001b[0;34m()\u001b[0m\n\u001b[0;32m----> <a href='vscode-notebook-cell:/home/thomas/Scrivania/PRIMO%20ANNO%202/Probabilistic%20ML/Project/scripts/predict_model_5.ipynb#ch0000008?line=0'>1</a>\u001b[0m fpr \u001b[39m=\u001b[39m fp \u001b[39m/\u001b[39m \u001b[39mlen\u001b[39m(test)\n\u001b[1;32m      <a href='vscode-notebook-cell:/home/thomas/Scrivania/PRIMO%20ANNO%202/Probabilistic%20ML/Project/scripts/predict_model_5.ipynb#ch0000008?line=1'>2</a>\u001b[0m tpr \u001b[39m=\u001b[39m tp \u001b[39m/\u001b[39m \u001b[39mlen\u001b[39m(test)\n\u001b[1;32m      <a href='vscode-notebook-cell:/home/thomas/Scrivania/PRIMO%20ANNO%202/Probabilistic%20ML/Project/scripts/predict_model_5.ipynb#ch0000008?line=2'>3</a>\u001b[0m \u001b[39m# roc_auc = []\u001b[39;00m\n",
      "\u001b[0;31mNameError\u001b[0m: name 'fp' is not defined"
     ]
    }
   ],
   "source": [
    "fpr = fp / len(test)\n",
    "tpr = tp / len(test)\n",
    "# roc_auc = []\n",
    "\n",
    "y = label_binarize(classes, classes=[0, 1, 2, 3, 4, 5, 6, 7, 8, 9])\n",
    "i = 0\n",
    "fpr, tpr, _ = roc_curve(matrix[i, :], matrix[:, i])\n",
    "\n",
    "plt.plot(fpr,tpr,label=\"AUC=\"+str(auc))\n",
    "plt.ylabel('True Positive Rate')\n",
    "plt.xlabel('False Positive Rate')\n",
    "plt.legend(loc=4)\n",
    "plt.show()"
   ]
  },
  {
   "cell_type": "code",
   "execution_count": null,
   "id": "06b5f880",
   "metadata": {},
   "outputs": [
    {
     "data": {
      "text/plain": [
       "array([[1, 0, 0, 0, 0, 0, 0, 0, 0, 0],\n",
       "       [0, 1, 0, 0, 0, 0, 0, 0, 0, 0],\n",
       "       [0, 0, 1, 0, 0, 0, 0, 0, 0, 0],\n",
       "       [0, 0, 0, 1, 0, 0, 0, 0, 0, 0],\n",
       "       [0, 0, 0, 0, 1, 0, 0, 0, 0, 0],\n",
       "       [0, 0, 0, 0, 0, 1, 0, 0, 0, 0],\n",
       "       [0, 0, 0, 0, 0, 0, 1, 0, 0, 0],\n",
       "       [0, 0, 0, 0, 0, 0, 0, 1, 0, 0],\n",
       "       [0, 0, 0, 0, 0, 0, 0, 0, 1, 0],\n",
       "       [0, 0, 0, 0, 0, 0, 0, 0, 0, 1]])"
      ]
     },
     "execution_count": 62,
     "metadata": {},
     "output_type": "execute_result"
    }
   ],
   "source": [
    "\n",
    "y"
   ]
  }
 ],
 "metadata": {
  "kernelspec": {
   "display_name": "Python 3.9.7 ('pml')",
   "language": "python",
   "name": "python3"
  },
  "language_info": {
   "codemirror_mode": {
    "name": "ipython",
    "version": 3
   },
   "file_extension": ".py",
   "mimetype": "text/x-python",
   "name": "python",
   "nbconvert_exporter": "python",
   "pygments_lexer": "ipython3",
   "version": "3.9.7"
  },
  "vscode": {
   "interpreter": {
    "hash": "8f162362b51a040b66da23130964be17c9a4290e709b2d7f75b268249f5b26fc"
   }
  }
 },
 "nbformat": 4,
 "nbformat_minor": 5
}
