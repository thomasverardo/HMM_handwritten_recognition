{
 "cells": [
  {
   "cell_type": "code",
   "execution_count": 22,
   "id": "09856e69-6d16-4492-bdf9-08247684d183",
   "metadata": {},
   "outputs": [],
   "source": [
    "import pickle\n",
    "import numpy as np\n",
    "import pandas as pd\n",
    "from sklearn.metrics.cluster import contingency_matrix \n",
    "\n"
   ]
  },
  {
   "cell_type": "code",
   "execution_count": 23,
   "id": "da8fb4f0-db55-4e5a-aad4-442be88bcf48",
   "metadata": {},
   "outputs": [],
   "source": [
    "%store -r test\n",
    "\n",
    "# Take the name of the different classes (e.g. '0', '1', '2', ...)\n",
    "classes = test.groupby(['label'])['label'].unique().index.to_list()"
   ]
  },
  {
   "cell_type": "code",
   "execution_count": 24,
   "id": "ae19e8c6-f60e-4b1a-9ed8-d212cc5b93de",
   "metadata": {},
   "outputs": [],
   "source": [
    "predicted_test = test.copy()\n",
    "\n",
    "feature_1= 'arctan2_2'\n",
    "\n",
    "\n",
    "models = []\n",
    "for n_class in classes: # Can be thrown an expection beacuse this is the labels of the test set and not of the models (train set)\n",
    "    model = pickle.load(open('models_5/'+str(n_class)+'hmm_model.pkl', 'rb'))\n",
    "    models.append(model)\n",
    "\n",
    "#log_likelihoods = pd.DataFrame()\n",
    "#log_likelihoods['predicted_class'] = classes\n",
    "#log_like_max = []\n",
    "#top_3_loglikelihood = []\n",
    "top_3_predicted_classes = []\n",
    "predicted_class = []\n",
    "#is_predicted = []\n",
    "true_label=[]\n",
    "\n",
    "for i in range(len(test)):\n",
    "    angle_1 = test[feature_1].iloc[i]\n",
    "    X=np.array([angle_1]).T\n",
    "    true_label.append(test['label'].iloc[i])\n",
    "    list_log_likelihoods = []\n",
    "    for model in models:\n",
    "        \n",
    "        list_log_likelihoods.append(model.score(X,lengths=len(X)))\n",
    "        pass\n",
    "\n",
    "    predicted_class.append(np.argmax(list_log_likelihoods))\n",
    "\n",
    "    top_3_values = sorted(list_log_likelihoods)[-3:]\n",
    "    top_3_predicted_classes.append([i for i, x in enumerate(list_log_likelihoods) if x == top_3_values[0] or x == top_3_values[1] or x == top_3_values[2]])\n",
    "    "
   ]
  },
  {
   "cell_type": "code",
   "execution_count": 35,
   "id": "e904a949-d452-4574-b730-f2cc7ee6626d",
   "metadata": {},
   "outputs": [
    {
     "name": "stdout",
     "output_type": "stream",
     "text": [
      "[[19  0  1  0  0  0 10  0  4  0]\n",
      " [ 1 18  0  0  2  1  0  1  0  0]\n",
      " [ 0  2 18  2  0  0  0  1  0  0]\n",
      " [ 0  0  1 19  0  2  0  0  0  0]\n",
      " [ 0  7  0  0 18  0  0  0  0  0]\n",
      " [ 0  0  1  8  0 16  0  0  0  0]\n",
      " [ 4  0  0  0  0  0 21  0  0  0]\n",
      " [ 0  3  0  0  1  1  0 16  0  0]\n",
      " [ 1  0  0  0  0  1  0  0 22  0]\n",
      " [ 1  1  1  0  0  0  0  0  2 21]]\n",
      "[ 7 13  4 10  3  5 10  2  6  0] [15  5  5  3  7  9  4  5  2  5] [19 18 18 19 18 16 21 16 22 21] [207 212 221 216 220 218 213 225 218 222]\n"
     ]
    }
   ],
   "source": [
    "matrix=contingency_matrix(true_label, predicted_class)\n",
    "print(matrix)\n",
    "\n",
    "\n",
    "# print(fp,fn,tp,tn)"
   ]
  },
  {
   "cell_type": "code",
   "execution_count": 26,
   "id": "2cf4efc5-3ef1-4dac-a614-e210a702ac26",
   "metadata": {},
   "outputs": [
    {
     "name": "stdout",
     "output_type": "stream",
     "text": [
      "Accuracy:  0.7580645161290323\n"
     ]
    }
   ],
   "source": [
    "accuracy=np.sum(np.diag(matrix))/np.sum(matrix)\n",
    "print(\"Accuracy: \", accuracy)"
   ]
  },
  {
   "cell_type": "code",
   "execution_count": 27,
   "id": "972f8861-4991-4ea4-9294-086abc612086",
   "metadata": {},
   "outputs": [
    {
     "name": "stdout",
     "output_type": "stream",
     "text": [
      "Accuracy top 3:  0.967741935483871\n"
     ]
    }
   ],
   "source": [
    "# Calculate top 3 accuracy\n",
    "sum_top_3 = 0\n",
    "for i in range(len(top_3_predicted_classes)):\n",
    "    if true_label[i] in top_3_predicted_classes[i]:\n",
    "        sum_top_3 += 1\n",
    "\n",
    "accuracy_top_3 = sum_top_3/len(predicted_test[\"label\"])\n",
    "print(\"Accuracy top 3: \", accuracy_top_3)"
   ]
  },
  {
   "cell_type": "code",
   "execution_count": 28,
   "id": "14fd74fb",
   "metadata": {},
   "outputs": [
    {
     "data": {
      "image/png": "[encoded data removed]",
      "text/plain": [
       "<Figure size 576x504 with 2 Axes>"
      ]
     },
     "metadata": {
      "needs_background": "light"
     },
     "output_type": "display_data"
    }
   ],
   "source": [
    "import seaborn as sns\n",
    "import matplotlib.pyplot as plt\n",
    "\n",
    "cm_df = pd.DataFrame(matrix,\n",
    "                     index = ['0','1','2','3','4','5','6','7','8','9'], \n",
    "                     columns = ['0','1','2','3','4','5','6','7','8','9'])\n",
    "\n",
    "plt.figure(figsize=(8,7))\n",
    "sns.heatmap(cm_df, annot=True)\n",
    "plt.title('Model 5')\n",
    "plt.ylabel('True Values')\n",
    "plt.xlabel('Predicted Values')\n",
    "plt.show()"
   ]
  },
  {
   "cell_type": "code",
   "execution_count": 42,
   "id": "c4fdf2b7",
   "metadata": {},
   "outputs": [
    {
     "ename": "ValueError",
     "evalue": "x is neither increasing nor decreasing : [0.02822581 0.05241935 0.01612903 0.04032258 0.01209677 0.02016129\n 0.04032258 0.00806452 0.02419355 0.        ].",
     "output_type": "error",
     "traceback": [
      "\u001b[0;31m---------------------------------------------------------------------------\u001b[0m",
      "\u001b[0;31mValueError\u001b[0m                                Traceback (most recent call last)",
      "\u001b[1;32m/home/thomas/Scrivania/PRIMO ANNO 2/Probabilistic ML/Project/scripts/predict_model_5.ipynb Cella 8\u001b[0m in \u001b[0;36m<cell line: 21>\u001b[0;34m()\u001b[0m\n\u001b[1;32m     <a href='vscode-notebook-cell:/home/thomas/Scrivania/PRIMO%20ANNO%202/Probabilistic%20ML/Project/scripts/predict_model_5.ipynb#ch0000008?line=21'>22</a>\u001b[0m     fpr[i] \u001b[39m=\u001b[39m fp \u001b[39m/\u001b[39m \u001b[39mlen\u001b[39m(test)\n\u001b[1;32m     <a href='vscode-notebook-cell:/home/thomas/Scrivania/PRIMO%20ANNO%202/Probabilistic%20ML/Project/scripts/predict_model_5.ipynb#ch0000008?line=22'>23</a>\u001b[0m     tpr[i] \u001b[39m=\u001b[39m tp \u001b[39m/\u001b[39m \u001b[39mlen\u001b[39m(test)\n\u001b[0;32m---> <a href='vscode-notebook-cell:/home/thomas/Scrivania/PRIMO%20ANNO%202/Probabilistic%20ML/Project/scripts/predict_model_5.ipynb#ch0000008?line=23'>24</a>\u001b[0m     roc_auc[i] \u001b[39m=\u001b[39m auc(fpr[i], tpr[i])\n\u001b[1;32m     <a href='vscode-notebook-cell:/home/thomas/Scrivania/PRIMO%20ANNO%202/Probabilistic%20ML/Project/scripts/predict_model_5.ipynb#ch0000008?line=26'>27</a>\u001b[0m \u001b[39m# First aggregate all false positive rates\u001b[39;00m\n\u001b[1;32m     <a href='vscode-notebook-cell:/home/thomas/Scrivania/PRIMO%20ANNO%202/Probabilistic%20ML/Project/scripts/predict_model_5.ipynb#ch0000008?line=27'>28</a>\u001b[0m all_fpr \u001b[39m=\u001b[39m np\u001b[39m.\u001b[39munique(np\u001b[39m.\u001b[39mconcatenate([fpr[i] \u001b[39mfor\u001b[39;00m i \u001b[39min\u001b[39;00m \u001b[39mrange\u001b[39m(classes)]))\n",
      "File \u001b[0;32m~/anaconda3/envs/pml/lib/python3.9/site-packages/sklearn/metrics/_ranking.py:100\u001b[0m, in \u001b[0;36mauc\u001b[0;34m(x, y)\u001b[0m\n\u001b[1;32m     98\u001b[0m         direction \u001b[39m=\u001b[39m \u001b[39m-\u001b[39m\u001b[39m1\u001b[39m\n\u001b[1;32m     99\u001b[0m     \u001b[39melse\u001b[39;00m:\n\u001b[0;32m--> 100\u001b[0m         \u001b[39mraise\u001b[39;00m \u001b[39mValueError\u001b[39;00m(\u001b[39m\"\u001b[39m\u001b[39mx is neither increasing nor decreasing : \u001b[39m\u001b[39m{}\u001b[39;00m\u001b[39m.\u001b[39m\u001b[39m\"\u001b[39m\u001b[39m.\u001b[39mformat(x))\n\u001b[1;32m    102\u001b[0m area \u001b[39m=\u001b[39m direction \u001b[39m*\u001b[39m np\u001b[39m.\u001b[39mtrapz(y, x)\n\u001b[1;32m    103\u001b[0m \u001b[39mif\u001b[39;00m \u001b[39misinstance\u001b[39m(area, np\u001b[39m.\u001b[39mmemmap):\n\u001b[1;32m    104\u001b[0m     \u001b[39m# Reductions such as .sum used internally in np.trapz do not return a\u001b[39;00m\n\u001b[1;32m    105\u001b[0m     \u001b[39m# scalar by default for numpy.memmap instances contrary to\u001b[39;00m\n\u001b[1;32m    106\u001b[0m     \u001b[39m# regular numpy.ndarray instances.\u001b[39;00m\n",
      "\u001b[0;31mValueError\u001b[0m: x is neither increasing nor decreasing : [0.02822581 0.05241935 0.01612903 0.04032258 0.01209677 0.02016129\n 0.04032258 0.00806452 0.02419355 0.        ]."
     ]
    }
   ],
   "source": [
    "import matplotlib.pyplot as plt\n",
    "from itertools import cycle\n",
    "\n",
    "from sklearn import svm, datasets\n",
    "from sklearn.metrics import roc_curve, auc\n",
    "from sklearn.model_selection import train_test_split\n",
    "from sklearn.preprocessing import label_binarize\n",
    "from sklearn.multiclass import OneVsRestClassifier\n",
    "from sklearn.metrics import roc_auc_score\n",
    "\n",
    "# Compute ROC curve and ROC area for each class\n",
    "fpr = dict()\n",
    "tpr = dict()\n",
    "roc_auc = dict()\n",
    "\n",
    "fp = matrix.sum(axis=0) - np.diag(matrix)  \n",
    "fn = matrix.sum(axis=1) - np.diag(matrix)\n",
    "tp = np.diag(matrix)\n",
    "tn = matrix.sum() - (fp + fn + tp)\n",
    "\n",
    "for i in range(len(classes)):\n",
    "    fpr[i] = fp / len(test)\n",
    "    tpr[i] = tp / len(test)\n",
    "    roc_auc[i] = auc(fpr[i], tpr[i])\n",
    "\n",
    "\n",
    "# First aggregate all false positive rates\n",
    "all_fpr = np.unique(np.concatenate([fpr[i] for i in range(classes)]))\n",
    "\n",
    "# Then interpolate all ROC curves at this points\n",
    "mean_tpr = np.zeros_like(all_fpr)\n",
    "for i in range(classes):\n",
    "    mean_tpr += np.interp(all_fpr, fpr[i], tpr[i])\n",
    "\n",
    "# Finally average it and compute AUC\n",
    "mean_tpr /= classes\n",
    "\n",
    "\n",
    "# Plot all ROC curves\n",
    "colors = cycle([\"aqua\", \"darkorange\", \"cornflowerblue\"])\n",
    "for i, color in zip(range(classes), colors):\n",
    "    plt.plot(\n",
    "        fpr[i],\n",
    "        tpr[i],\n",
    "        color=color,\n",
    "        lw=lw,\n",
    "        label=\"ROC curve of class {0} (area = {1:0.2f})\".format(i, roc_auc[i]),\n",
    "    )\n",
    "\n",
    "plt.plot([0, 1], [0, 1], \"k--\", lw=lw)\n",
    "plt.xlim([0.0, 1.0])\n",
    "plt.ylim([0.0, 1.05])\n",
    "plt.xlabel(\"False Positive Rate\")\n",
    "plt.ylabel(\"True Positive Rate\")\n",
    "plt.title(\"Some extension of Receiver operating characteristic to multiclass\")\n",
    "plt.legend(loc=\"lower right\")\n",
    "plt.show()"
   ]
  },
  {
   "cell_type": "code",
   "execution_count": 59,
   "id": "1fa861d8",
   "metadata": {},
   "outputs": [
    {
     "ename": "ValueError",
     "evalue": "multiclass format is not supported",
     "output_type": "error",
     "traceback": [
      "\u001b[0;31m---------------------------------------------------------------------------\u001b[0m",
      "\u001b[0;31mValueError\u001b[0m                                Traceback (most recent call last)",
      "\u001b[1;32m/home/thomas/Scrivania/PRIMO ANNO 2/Probabilistic ML/Project/scripts/predict_model_5.ipynb Cella 9\u001b[0m in \u001b[0;36m<cell line: 6>\u001b[0;34m()\u001b[0m\n\u001b[1;32m      <a href='vscode-notebook-cell:/home/thomas/Scrivania/PRIMO%20ANNO%202/Probabilistic%20ML/Project/scripts/predict_model_5.ipynb#ch0000009?line=2'>3</a>\u001b[0m \u001b[39m# roc_auc = []\u001b[39;00m\n\u001b[1;32m      <a href='vscode-notebook-cell:/home/thomas/Scrivania/PRIMO%20ANNO%202/Probabilistic%20ML/Project/scripts/predict_model_5.ipynb#ch0000009?line=4'>5</a>\u001b[0m i \u001b[39m=\u001b[39m \u001b[39m0\u001b[39m\n\u001b[0;32m----> <a href='vscode-notebook-cell:/home/thomas/Scrivania/PRIMO%20ANNO%202/Probabilistic%20ML/Project/scripts/predict_model_5.ipynb#ch0000009?line=5'>6</a>\u001b[0m fpr, tpr, _ \u001b[39m=\u001b[39m roc_curve(matrix[i, :], matrix[:, i])\n\u001b[1;32m      <a href='vscode-notebook-cell:/home/thomas/Scrivania/PRIMO%20ANNO%202/Probabilistic%20ML/Project/scripts/predict_model_5.ipynb#ch0000009?line=7'>8</a>\u001b[0m plt\u001b[39m.\u001b[39mplot(fpr,tpr,label\u001b[39m=\u001b[39m\u001b[39m\"\u001b[39m\u001b[39mAUC=\u001b[39m\u001b[39m\"\u001b[39m\u001b[39m+\u001b[39m\u001b[39mstr\u001b[39m(auc))\n\u001b[1;32m      <a href='vscode-notebook-cell:/home/thomas/Scrivania/PRIMO%20ANNO%202/Probabilistic%20ML/Project/scripts/predict_model_5.ipynb#ch0000009?line=8'>9</a>\u001b[0m plt\u001b[39m.\u001b[39mylabel(\u001b[39m'\u001b[39m\u001b[39mTrue Positive Rate\u001b[39m\u001b[39m'\u001b[39m)\n",
      "File \u001b[0;32m~/anaconda3/envs/pml/lib/python3.9/site-packages/sklearn/metrics/_ranking.py:962\u001b[0m, in \u001b[0;36mroc_curve\u001b[0;34m(y_true, y_score, pos_label, sample_weight, drop_intermediate)\u001b[0m\n\u001b[1;32m    873\u001b[0m \u001b[39mdef\u001b[39;00m \u001b[39mroc_curve\u001b[39m(\n\u001b[1;32m    874\u001b[0m     y_true, y_score, \u001b[39m*\u001b[39m, pos_label\u001b[39m=\u001b[39m\u001b[39mNone\u001b[39;00m, sample_weight\u001b[39m=\u001b[39m\u001b[39mNone\u001b[39;00m, drop_intermediate\u001b[39m=\u001b[39m\u001b[39mTrue\u001b[39;00m\n\u001b[1;32m    875\u001b[0m ):\n\u001b[1;32m    876\u001b[0m     \u001b[39m\"\"\"Compute Receiver operating characteristic (ROC).\u001b[39;00m\n\u001b[1;32m    877\u001b[0m \n\u001b[1;32m    878\u001b[0m \u001b[39m    Note: this implementation is restricted to the binary classification task.\u001b[39;00m\n\u001b[0;32m   (...)\u001b[0m\n\u001b[1;32m    960\u001b[0m \n\u001b[1;32m    961\u001b[0m \u001b[39m    \"\"\"\u001b[39;00m\n\u001b[0;32m--> 962\u001b[0m     fps, tps, thresholds \u001b[39m=\u001b[39m _binary_clf_curve(\n\u001b[1;32m    963\u001b[0m         y_true, y_score, pos_label\u001b[39m=\u001b[39;49mpos_label, sample_weight\u001b[39m=\u001b[39;49msample_weight\n\u001b[1;32m    964\u001b[0m     )\n\u001b[1;32m    966\u001b[0m     \u001b[39m# Attempt to drop thresholds corresponding to points in between and\u001b[39;00m\n\u001b[1;32m    967\u001b[0m     \u001b[39m# collinear with other points. These are always suboptimal and do not\u001b[39;00m\n\u001b[1;32m    968\u001b[0m     \u001b[39m# appear on a plotted ROC curve (and thus do not affect the AUC).\u001b[39;00m\n\u001b[0;32m   (...)\u001b[0m\n\u001b[1;32m    973\u001b[0m     \u001b[39m# but does not drop more complicated cases like fps = [1, 3, 7],\u001b[39;00m\n\u001b[1;32m    974\u001b[0m     \u001b[39m# tps = [1, 2, 4]; there is no harm in keeping too many thresholds.\u001b[39;00m\n\u001b[1;32m    975\u001b[0m     \u001b[39mif\u001b[39;00m drop_intermediate \u001b[39mand\u001b[39;00m \u001b[39mlen\u001b[39m(fps) \u001b[39m>\u001b[39m \u001b[39m2\u001b[39m:\n",
      "File \u001b[0;32m~/anaconda3/envs/pml/lib/python3.9/site-packages/sklearn/metrics/_ranking.py:731\u001b[0m, in \u001b[0;36m_binary_clf_curve\u001b[0;34m(y_true, y_score, pos_label, sample_weight)\u001b[0m\n\u001b[1;32m    729\u001b[0m y_type \u001b[39m=\u001b[39m type_of_target(y_true)\n\u001b[1;32m    730\u001b[0m \u001b[39mif\u001b[39;00m \u001b[39mnot\u001b[39;00m (y_type \u001b[39m==\u001b[39m \u001b[39m\"\u001b[39m\u001b[39mbinary\u001b[39m\u001b[39m\"\u001b[39m \u001b[39mor\u001b[39;00m (y_type \u001b[39m==\u001b[39m \u001b[39m\"\u001b[39m\u001b[39mmulticlass\u001b[39m\u001b[39m\"\u001b[39m \u001b[39mand\u001b[39;00m pos_label \u001b[39mis\u001b[39;00m \u001b[39mnot\u001b[39;00m \u001b[39mNone\u001b[39;00m)):\n\u001b[0;32m--> 731\u001b[0m     \u001b[39mraise\u001b[39;00m \u001b[39mValueError\u001b[39;00m(\u001b[39m\"\u001b[39m\u001b[39m{0}\u001b[39;00m\u001b[39m format is not supported\u001b[39m\u001b[39m\"\u001b[39m\u001b[39m.\u001b[39mformat(y_type))\n\u001b[1;32m    733\u001b[0m check_consistent_length(y_true, y_score, sample_weight)\n\u001b[1;32m    734\u001b[0m y_true \u001b[39m=\u001b[39m column_or_1d(y_true)\n",
      "\u001b[0;31mValueError\u001b[0m: multiclass format is not supported"
     ]
    }
   ],
   "source": [
    "fpr = fp / len(test)\n",
    "tpr = tp / len(test)\n",
    "# roc_auc = []\n",
    "\n",
    "y = label_binarize(classes, classes=[0, 1, 2, 3, 4, 5, 6, 7, 8, 9])\n",
    "i = 0\n",
    "fpr, tpr, _ = roc_curve(matrix[i, :], matrix[:, i])\n",
    "\n",
    "plt.plot(fpr,tpr,label=\"AUC=\"+str(auc))\n",
    "plt.ylabel('True Positive Rate')\n",
    "plt.xlabel('False Positive Rate')\n",
    "plt.legend(loc=4)\n",
    "plt.show()"
   ]
  },
  {
   "cell_type": "code",
   "execution_count": 62,
   "id": "06b5f880",
   "metadata": {},
   "outputs": [
    {
     "data": {
      "text/plain": [
       "array([[1, 0, 0, 0, 0, 0, 0, 0, 0, 0],\n",
       "       [0, 1, 0, 0, 0, 0, 0, 0, 0, 0],\n",
       "       [0, 0, 1, 0, 0, 0, 0, 0, 0, 0],\n",
       "       [0, 0, 0, 1, 0, 0, 0, 0, 0, 0],\n",
       "       [0, 0, 0, 0, 1, 0, 0, 0, 0, 0],\n",
       "       [0, 0, 0, 0, 0, 1, 0, 0, 0, 0],\n",
       "       [0, 0, 0, 0, 0, 0, 1, 0, 0, 0],\n",
       "       [0, 0, 0, 0, 0, 0, 0, 1, 0, 0],\n",
       "       [0, 0, 0, 0, 0, 0, 0, 0, 1, 0],\n",
       "       [0, 0, 0, 0, 0, 0, 0, 0, 0, 1]])"
      ]
     },
     "execution_count": 62,
     "metadata": {},
     "output_type": "execute_result"
    }
   ],
   "source": [
    "\n",
    "y"
   ]
  }
 ],
 "metadata": {
  "kernelspec": {
   "display_name": "Python 3.9.7 ('pml')",
   "language": "python",
   "name": "python3"
  },
  "language_info": {
   "codemirror_mode": {
    "name": "ipython",
    "version": 3
   },
   "file_extension": ".py",
   "mimetype": "text/x-python",
   "name": "python",
   "nbconvert_exporter": "python",
   "pygments_lexer": "ipython3",
   "version": "3.9.7"
  },
  "vscode": {
   "interpreter": {
    "hash": "8f162362b51a040b66da23130964be17c9a4290e709b2d7f75b268249f5b26fc"
   }
  }
 },
 "nbformat": 4,
 "nbformat_minor": 5
}
