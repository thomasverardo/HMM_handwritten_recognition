{
 "cells": [
  {
   "cell_type": "code",
   "execution_count": 1,
   "metadata": {},
   "outputs": [],
   "source": [
    "import pickle\n",
    "import numpy as np\n",
    "import pandas as pd\n",
    "from tqdm import tqdm"
   ]
  },
  {
   "cell_type": "code",
   "execution_count": 2,
   "metadata": {},
   "outputs": [],
   "source": [
    "%store -r test\n",
    "\n",
    "# Take the name of the different classes (e.g. '0', '1', '2', ...)\n",
    "classes = test.groupby(['label'])['label'].unique().index.to_list()"
   ]
  },
  {
   "cell_type": "code",
   "execution_count": 3,
   "metadata": {},
   "outputs": [
    {
     "name": "stderr",
     "output_type": "stream",
     "text": [
      "100%|██████████| 248/248 [00:00<00:00, 302.60it/s]\n"
     ]
    }
   ],
   "source": [
    "predicted_test = test.copy()\n",
    "\n",
    "feature_1= 'arctan_1'\n",
    "feature_2='curvature_1'\n",
    "\n",
    "models = []\n",
    "for n_class in classes: # Can be thrown an expection beacuse this is the labels of the test set and not of the models (train set)\n",
    "    model = pickle.load(open('models_8/'+str(n_class)+'hmm_model.pkl', 'rb'))\n",
    "    models.append(model)\n",
    "\n",
    "#log_likelihoods = pd.DataFrame()\n",
    "#log_likelihoods['predicted_class'] = classes\n",
    "#log_like_max = []\n",
    "#top_3_loglikelihood = []\n",
    "top_3_predicted_classes = []\n",
    "predicted_class = []\n",
    "#is_predicted = []\n",
    "true_label=[]\n",
    "\n",
    "for i in tqdm(range(len(test))):\n",
    "    angle_1 = test[feature_1].iloc[i][1:-1]\n",
    "    angle_2 = test[feature_2].iloc[i]\n",
    "    X=np.array([angle_1,angle_2]).T\n",
    "    # X = np.hstack([angle_1, angle_2]).T\n",
    "    true_label.append(test['label'].iloc[i])\n",
    "\n",
    "    list_log_likelihoods = []\n",
    "    for model in models:\n",
    "        \n",
    "        list_log_likelihoods.append(model.score(X,lengths=len(X)))\n",
    "        pass\n",
    "\n",
    "    predicted_class.append(np.argmax(list_log_likelihoods))\n",
    "\n",
    "    top_3_values = sorted(list_log_likelihoods)[-3:]\n",
    "    top_3_predicted_classes.append([i for i, x in enumerate(list_log_likelihoods) if x == top_3_values[0] or x == top_3_values[1] or x == top_3_values[2]])\n",
    "    \n",
    "# model_0.score_samples(angles_0)"
   ]
  },
  {
   "cell_type": "code",
   "execution_count": 4,
   "metadata": {},
   "outputs": [
    {
     "name": "stdout",
     "output_type": "stream",
     "text": [
      "[9, 4, 9, 5, 6, 8, 0, 4, 2, 0, 8, 1, 7, 2, 0, 1, 3, 6, 4, 1, 0, 0, 7, 8, 2, 6, 9, 1, 6, 8, 7, 5, 6, 8, 0, 4, 6, 1, 1, 0, 2, 4, 6, 3, 7, 7, 3, 5, 8, 6, 7, 4, 3, 3, 3, 1, 0, 7, 6, 8, 9, 0, 0, 9, 9, 8, 4, 8, 3, 1, 2, 2, 8, 3, 9, 7, 4, 3, 0, 0, 8, 9, 0, 8, 3, 0, 7, 5, 5, 8, 5, 1, 0, 4, 4, 9, 0, 9, 6, 7, 9, 8, 0, 3, 5, 4, 6, 4, 1, 7, 1, 0, 3, 9, 1, 3, 4, 9, 2, 1, 9, 2, 9, 8, 3, 9, 6, 3, 0, 6, 7, 2, 9, 7, 8, 8, 8, 4, 6, 9, 8, 5, 9, 4, 7, 8, 7, 5, 8, 7, 4, 8, 7, 6, 7, 8, 1, 0, 6, 0, 9, 0, 9, 7, 4, 0, 8, 0, 0, 4, 4, 7, 8, 6, 8, 8, 9, 7, 9, 0, 2, 1, 4, 5, 0, 9, 3, 0, 6, 0, 2, 9, 1, 2, 8, 1, 6, 8, 1, 7, 0, 6, 0, 9, 4, 2, 1, 8, 9, 3, 0, 8, 0, 4, 2, 7, 0, 7, 0, 3, 5, 0, 2, 2, 2, 2, 9, 9, 8, 3, 1, 4, 4, 2, 6, 6, 9, 1, 0, 0, 8, 0, 7, 2, 4, 8, 8, 6]\n",
      "[4, 1, 9, 3, 5, 8, 0, 4, 6, 0, 8, 4, 7, 2, 6, 4, 7, 3, 1, 2, 8, 0, 9, 0, 5, 3, 6, 4, 5, 2, 4, 5, 2, 0, 0, 4, 2, 1, 2, 9, 3, 2, 9, 3, 1, 7, 5, 5, 8, 6, 7, 4, 5, 3, 3, 1, 0, 9, 6, 8, 9, 0, 6, 9, 9, 8, 1, 0, 2, 4, 5, 2, 6, 9, 3, 4, 4, 2, 6, 0, 9, 9, 8, 7, 2, 0, 7, 5, 5, 8, 5, 1, 8, 4, 1, 9, 8, 2, 9, 7, 5, 0, 0, 8, 5, 5, 2, 1, 1, 1, 1, 7, 5, 5, 2, 3, 4, 3, 6, 4, 5, 9, 3, 6, 0, 7, 6, 2, 0, 6, 0, 2, 7, 7, 8, 8, 0, 1, 6, 9, 8, 3, 9, 4, 7, 0, 7, 3, 8, 3, 4, 6, 7, 1, 7, 8, 4, 0, 6, 7, 9, 6, 9, 4, 4, 0, 8, 8, 0, 4, 4, 9, 8, 5, 6, 0, 0, 9, 8, 0, 9, 1, 4, 2, 0, 5, 3, 0, 3, 0, 5, 9, 2, 5, 8, 1, 5, 6, 9, 7, 6, 6, 0, 1, 1, 3, 1, 8, 5, 3, 6, 0, 0, 4, 3, 7, 0, 7, 0, 3, 9, 6, 2, 2, 5, 3, 4, 9, 6, 7, 1, 4, 1, 2, 6, 3, 9, 1, 0, 8, 0, 8, 7, 2, 1, 2, 5, 6]\n"
     ]
    }
   ],
   "source": [
    "print(predicted_class)\n",
    "print(true_label)\n",
    "\n",
    "# print(len(predicted_class))\n",
    "# print(len(true_label))"
   ]
  },
  {
   "cell_type": "code",
   "execution_count": 5,
   "metadata": {},
   "outputs": [],
   "source": [
    "from sklearn.metrics.cluster import contingency_matrix \n"
   ]
  },
  {
   "cell_type": "code",
   "execution_count": 6,
   "metadata": {},
   "outputs": [],
   "source": [
    "matrix=contingency_matrix(true_label, predicted_class)"
   ]
  },
  {
   "cell_type": "code",
   "execution_count": 7,
   "metadata": {},
   "outputs": [
    {
     "data": {
      "text/plain": [
       "array([[22,  0,  0,  1,  0,  0,  0,  1,  9,  1],\n",
       "       [ 0, 10,  0,  0,  9,  0,  1,  2,  0,  1],\n",
       "       [ 0,  4,  7,  4,  1,  1,  3,  0,  2,  1],\n",
       "       [ 0,  0,  4,  7,  0,  3,  4,  1,  0,  3],\n",
       "       [ 0,  6,  0,  0, 14,  0,  0,  3,  0,  2],\n",
       "       [ 0,  0,  5,  3,  1,  6,  4,  0,  1,  5],\n",
       "       [ 7,  0,  2,  0,  0,  0,  9,  0,  6,  1],\n",
       "       [ 2,  0,  0,  2,  0,  0,  0, 14,  1,  2],\n",
       "       [ 7,  0,  0,  1,  0,  0,  0,  0, 15,  1],\n",
       "       [ 1,  1,  2,  1,  0,  1,  2,  4,  1, 13]])"
      ]
     },
     "execution_count": 7,
     "metadata": {},
     "output_type": "execute_result"
    }
   ],
   "source": [
    "matrix"
   ]
  },
  {
   "cell_type": "code",
   "execution_count": 8,
   "metadata": {},
   "outputs": [
    {
     "name": "stdout",
     "output_type": "stream",
     "text": [
      "Accuracy:  0.4717741935483871\n"
     ]
    }
   ],
   "source": [
    "accuracy=np.sum(np.diag(matrix))/np.sum(matrix)\n",
    "print(\"Accuracy: \", accuracy)"
   ]
  },
  {
   "cell_type": "code",
   "execution_count": 9,
   "metadata": {
    "collapsed": true,
    "jupyter": {
     "outputs_hidden": true
    },
    "tags": []
   },
   "outputs": [
    {
     "name": "stdout",
     "output_type": "stream",
     "text": [
      "Accuracy top 3:  0.8145161290322581\n"
     ]
    }
   ],
   "source": [
    "# Calculate top 3 accuracy\n",
    "sum_top_3 = 0\n",
    "for i in range(len(top_3_predicted_classes)):\n",
    "    if true_label[i] in top_3_predicted_classes[i]:\n",
    "        sum_top_3 += 1\n",
    "\n",
    "accuracy_top_3 = sum_top_3/len(predicted_test[\"label\"])\n",
    "print(\"Accuracy top 3: \", accuracy_top_3)"
   ]
  },
  {
   "cell_type": "code",
   "execution_count": 10,
   "metadata": {},
   "outputs": [
    {
     "data": {
      "image/png": "[encoded data removed]",
      "text/plain": [
       "<Figure size 576x504 with 2 Axes>"
      ]
     },
     "metadata": {
      "needs_background": "light"
     },
     "output_type": "display_data"
    }
   ],
   "source": [
    "import seaborn as sns\n",
    "import matplotlib.pyplot as plt\n",
    "\n",
    "cm_df = pd.DataFrame(matrix,\n",
    "                     index = ['0','1','2','3','4','5','6','7','8','9'], \n",
    "                     columns = ['0','1','2','3','4','5','6','7','8','9'])\n",
    "\n",
    "plt.figure(figsize=(8,7))\n",
    "sns.heatmap(cm_df, annot=True)\n",
    "plt.title('Model 8')\n",
    "plt.ylabel('True Values')\n",
    "plt.xlabel('Predicted Values')\n",
    "plt.show()"
   ]
  }
 ],
 "metadata": {
  "kernelspec": {
   "display_name": "Python 3 (ipykernel)",
   "language": "python",
   "name": "python3"
  },
  "language_info": {
   "codemirror_mode": {
    "name": "ipython",
    "version": 3
   },
   "file_extension": ".py",
   "mimetype": "text/x-python",
   "name": "python",
   "nbconvert_exporter": "python",
   "pygments_lexer": "ipython3",
   "version": "3.9.7"
  },
  "vscode": {
   "interpreter": {
    "hash": "8f162362b51a040b66da23130964be17c9a4290e709b2d7f75b268249f5b26fc"
   }
  }
 },
 "nbformat": 4,
 "nbformat_minor": 4
}
