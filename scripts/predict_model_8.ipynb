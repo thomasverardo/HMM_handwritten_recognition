{
 "cells": [
  {
   "cell_type": "code",
   "execution_count": 7,
   "metadata": {},
   "outputs": [],
   "source": [
    "import pickle\n",
    "import numpy as np\n",
    "import pandas as pd\n",
    "from tqdm import tqdm"
   ]
  },
  {
   "cell_type": "code",
   "execution_count": 8,
   "metadata": {},
   "outputs": [],
   "source": [
    "%store -r test\n",
    "\n",
    "# Take the name of the different classes (e.g. '0', '1', '2', ...)\n",
    "classes = test.groupby(['label'])['label'].unique().index.to_list()"
   ]
  },
  {
   "cell_type": "code",
   "execution_count": 9,
   "metadata": {},
   "outputs": [],
   "source": [
    "# angle_1 = test[feature_1].iloc[0]\n",
    "# angle_2 = test[feature_2].iloc[0]\n",
    "# X=np.array([angle_1,angle_2]).T\n",
    "# list_log_likelihoods = []\n",
    "\n",
    "\n",
    "# for model in models:\n",
    "#     list_log_likelihoods.append(model.score(X,lengths=len(X)))\n",
    "\n",
    "# list_log_likelihoods\n",
    "# np.argmax(np.array(list_log_likelihoods))\n",
    "# X"
   ]
  },
  {
   "cell_type": "code",
   "execution_count": 10,
   "metadata": {},
   "outputs": [
    {
     "name": "stderr",
     "output_type": "stream",
     "text": [
      "  0%|          | 0/248 [00:00<?, ?it/s]/tmp/ipykernel_37084/2290531026.py:23: VisibleDeprecationWarning: Creating an ndarray from ragged nested sequences (which is a list-or-tuple of lists-or-tuples-or ndarrays with different lengths or shapes) is deprecated. If you meant to do this, you must specify 'dtype=object' when creating the ndarray.\n",
      "  X=np.array([angle_1,angle_2]).T\n",
      "  0%|          | 0/248 [00:00<?, ?it/s]\n"
     ]
    }
   ],
   "source": [
    "predicted_test = test.copy()\n",
    "\n",
    "feature_1= 'arctan_1'\n",
    "feature_2='curvature_1'\n",
    "\n",
    "models = []\n",
    "for n_class in classes: # Can be thrown an expection beacuse this is the labels of the test set and not of the models (train set)\n",
    "    model = pickle.load(open('models_8/'+str(n_class)+'hmm_model.pkl', 'rb'))\n",
    "    models.append(model)\n",
    "\n",
    "#log_likelihoods = pd.DataFrame()\n",
    "#log_likelihoods['predicted_class'] = classes\n",
    "#log_like_max = []\n",
    "#top_3_loglikelihood = []\n",
    "top_3_predicted_classes = []\n",
    "predicted_class = []\n",
    "#is_predicted = []\n",
    "true_label=[]\n",
    "\n",
    "for i in tqdm(range(len(test))):\n",
    "    angle_1 = test[feature_1].iloc[i]\n",
    "    angle_2 = test[feature_2].iloc[i]\n",
    "    X=np.array([angle_1,angle_2]).T\n",
    "    true_label.append(test['label'].iloc[i])\n",
    "    list_log_likelihoods = []\n",
    "    for model in models:\n",
    "        \n",
    "        list_log_likelihoods.append(model.score(X,lengths=len(X)))\n",
    "        pass\n",
    "\n",
    "    predicted_class.append(np.argmax(list_log_likelihoods))\n",
    "\n",
    "    top_3_values = sorted(list_log_likelihoods)[-3:]\n",
    "    top_3_predicted_classes.append([i for i, x in enumerate(list_log_likelihoods) if x == top_3_values[0] or x == top_3_values[1] or x == top_3_values[2]])\n",
    "    \n",
    "# model_0.score_samples(angles_0)"
   ]
  },
  {
   "cell_type": "code",
   "execution_count": null,
   "metadata": {},
   "outputs": [
    {
     "name": "stdout",
     "output_type": "stream",
     "text": [
      "[8, 1, 9, 3, 5, 8, 0, 4, 6, 0, 8, 4, 2, 2, 6, 4, 9, 4, 1, 2, 8, 0, 8, 0, 8, 5, 0, 4, 8, 2, 4, 5, 2, 0, 0, 4, 2, 2, 2, 9, 3, 2, 9, 3, 1, 7, 3, 5, 8, 6, 9, 4, 3, 3, 3, 2, 0, 8, 6, 8, 8, 0, 6, 9, 9, 5, 1, 0, 2, 4, 5, 2, 6, 1, 8, 4, 4, 2, 8, 0, 8, 9, 8, 7, 2, 8, 7, 5, 8, 8, 3, 1, 8, 4, 1, 8, 0, 2, 8, 7, 3, 0, 6, 8, 5, 3, 2, 1, 1, 9, 2, 7, 5, 8, 4, 9, 4, 8, 6, 4, 5, 5, 3, 6, 0, 7, 6, 4, 0, 6, 0, 2, 7, 7, 0, 8, 8, 1, 6, 9, 8, 3, 8, 4, 1, 0, 7, 5, 8, 5, 4, 6, 5, 1, 7, 8, 4, 0, 8, 7, 8, 6, 0, 4, 4, 0, 8, 8, 0, 4, 4, 9, 8, 5, 6, 4, 0, 5, 8, 8, 8, 1, 4, 2, 8, 5, 3, 5, 3, 0, 5, 8, 2, 5, 8, 1, 4, 6, 8, 5, 6, 6, 0, 9, 1, 3, 7, 8, 5, 3, 6, 4, 0, 5, 3, 7, 6, 7, 0, 3, 0, 0, 2, 2, 5, 3, 8, 9, 6, 7, 1, 4, 1, 2, 6, 2, 9, 1, 0, 8, 6, 8, 9, 2, 1, 2, 8, 6]\n",
      "[4, 1, 9, 3, 5, 8, 0, 4, 6, 0, 8, 4, 7, 2, 6, 4, 7, 3, 1, 2, 8, 0, 9, 0, 5, 3, 6, 4, 5, 2, 4, 5, 2, 0, 0, 4, 2, 1, 2, 9, 3, 2, 9, 3, 1, 7, 5, 5, 8, 6, 7, 4, 5, 3, 3, 1, 0, 9, 6, 8, 9, 0, 6, 9, 9, 8, 1, 0, 2, 4, 5, 2, 6, 9, 3, 4, 4, 2, 6, 0, 9, 9, 8, 7, 2, 0, 7, 5, 5, 8, 5, 1, 8, 4, 1, 9, 8, 2, 9, 7, 5, 0, 0, 8, 5, 5, 2, 1, 1, 1, 1, 7, 5, 5, 2, 3, 4, 3, 6, 4, 5, 9, 3, 6, 0, 7, 6, 2, 0, 6, 0, 2, 7, 7, 8, 8, 0, 1, 6, 9, 8, 3, 9, 4, 7, 0, 7, 3, 8, 3, 4, 6, 7, 1, 7, 8, 4, 0, 6, 7, 9, 6, 9, 4, 4, 0, 8, 8, 0, 4, 4, 9, 8, 5, 6, 0, 0, 9, 8, 0, 9, 1, 4, 2, 0, 5, 3, 0, 3, 0, 5, 9, 2, 5, 8, 1, 5, 6, 9, 7, 6, 6, 0, 1, 1, 3, 1, 8, 5, 3, 6, 0, 0, 4, 3, 7, 0, 7, 0, 3, 9, 6, 2, 2, 5, 3, 4, 9, 6, 7, 1, 4, 1, 2, 6, 3, 9, 1, 0, 8, 0, 8, 7, 2, 1, 2, 5, 6]\n",
      "248\n",
      "248\n"
     ]
    }
   ],
   "source": [
    "print(predicted_class)\n",
    "print(true_label)\n",
    "\n",
    "# print(len(predicted_class))\n",
    "# print(len(true_label))"
   ]
  },
  {
   "cell_type": "code",
   "execution_count": null,
   "metadata": {},
   "outputs": [],
   "source": [
    "from sklearn.metrics.cluster import contingency_matrix \n"
   ]
  },
  {
   "cell_type": "code",
   "execution_count": null,
   "metadata": {},
   "outputs": [],
   "source": [
    "matrix=contingency_matrix(true_label, predicted_class)"
   ]
  },
  {
   "cell_type": "code",
   "execution_count": null,
   "metadata": {},
   "outputs": [
    {
     "data": {
      "text/plain": [
       "array([[24,  0,  0,  0,  2,  1,  3,  0,  4,  0],\n",
       "       [ 0, 17,  3,  0,  0,  0,  0,  1,  0,  2],\n",
       "       [ 0,  0, 21,  0,  2,  0,  0,  0,  0,  0],\n",
       "       [ 0,  0,  1, 14,  1,  3,  0,  0,  2,  1],\n",
       "       [ 0,  0,  0,  0, 22,  1,  0,  0,  2,  0],\n",
       "       [ 0,  0,  0,  5,  1, 14,  0,  0,  5,  0],\n",
       "       [ 2,  0,  0,  0,  0,  0, 21,  0,  2,  0],\n",
       "       [ 0,  1,  1,  0,  0,  2,  0, 14,  0,  3],\n",
       "       [ 2,  0,  0,  0,  0,  1,  0,  0, 21,  0],\n",
       "       [ 2,  1,  0,  0,  0,  2,  0,  0, 11, 10]])"
      ]
     },
     "execution_count": 38,
     "metadata": {},
     "output_type": "execute_result"
    }
   ],
   "source": [
    "matrix"
   ]
  },
  {
   "cell_type": "code",
   "execution_count": null,
   "metadata": {},
   "outputs": [
    {
     "name": "stdout",
     "output_type": "stream",
     "text": [
      "Accuracy:  0.717741935483871\n"
     ]
    }
   ],
   "source": [
    "accuracy=np.sum(np.diag(matrix))/np.sum(matrix)\n",
    "print(\"Accuracy: \", accuracy)"
   ]
  },
  {
   "cell_type": "code",
   "execution_count": 1,
   "metadata": {
    "collapsed": true,
    "jupyter": {
     "outputs_hidden": true
    },
    "tags": []
   },
   "outputs": [
    {
     "ename": "NameError",
     "evalue": "name 'top_3_predicted_classes' is not defined",
     "output_type": "error",
     "traceback": [
      "\u001b[0;31m---------------------------------------------------------------------------\u001b[0m",
      "\u001b[0;31mNameError\u001b[0m                                 Traceback (most recent call last)",
      "\u001b[1;32m/home/thomas/Scrivania/PRIMO ANNO 2/Probabilistic ML/Project/scripts/predict_model_8.ipynb Cella 10\u001b[0m in \u001b[0;36m<cell line: 3>\u001b[0;34m()\u001b[0m\n\u001b[1;32m      <a href='vscode-notebook-cell:/home/thomas/Scrivania/PRIMO%20ANNO%202/Probabilistic%20ML/Project/scripts/predict_model_8.ipynb#ch0000009?line=0'>1</a>\u001b[0m \u001b[39m# Calculate top 3 accuracy\u001b[39;00m\n\u001b[1;32m      <a href='vscode-notebook-cell:/home/thomas/Scrivania/PRIMO%20ANNO%202/Probabilistic%20ML/Project/scripts/predict_model_8.ipynb#ch0000009?line=1'>2</a>\u001b[0m sum_top_3 \u001b[39m=\u001b[39m \u001b[39m0\u001b[39m\n\u001b[0;32m----> <a href='vscode-notebook-cell:/home/thomas/Scrivania/PRIMO%20ANNO%202/Probabilistic%20ML/Project/scripts/predict_model_8.ipynb#ch0000009?line=2'>3</a>\u001b[0m \u001b[39mfor\u001b[39;00m i \u001b[39min\u001b[39;00m \u001b[39mrange\u001b[39m(\u001b[39mlen\u001b[39m(top_3_predicted_classes)):\n\u001b[1;32m      <a href='vscode-notebook-cell:/home/thomas/Scrivania/PRIMO%20ANNO%202/Probabilistic%20ML/Project/scripts/predict_model_8.ipynb#ch0000009?line=3'>4</a>\u001b[0m     \u001b[39mif\u001b[39;00m true_label[i] \u001b[39min\u001b[39;00m top_3_predicted_classes[i]:\n\u001b[1;32m      <a href='vscode-notebook-cell:/home/thomas/Scrivania/PRIMO%20ANNO%202/Probabilistic%20ML/Project/scripts/predict_model_8.ipynb#ch0000009?line=4'>5</a>\u001b[0m         sum_top_3 \u001b[39m+\u001b[39m\u001b[39m=\u001b[39m \u001b[39m1\u001b[39m\n",
      "\u001b[0;31mNameError\u001b[0m: name 'top_3_predicted_classes' is not defined"
     ]
    }
   ],
   "source": [
    "# Calculate top 3 accuracy\n",
    "sum_top_3 = 0\n",
    "for i in range(len(top_3_predicted_classes)):\n",
    "    if true_label[i] in top_3_predicted_classes[i]:\n",
    "        sum_top_3 += 1\n",
    "\n",
    "accuracy_top_3 = sum_top_3/len(predicted_test[\"label\"])\n",
    "print(\"Accuracy top 3: \", accuracy_top_3)"
   ]
  }
 ],
 "metadata": {
  "kernelspec": {
   "display_name": "Python 3 (ipykernel)",
   "language": "python",
   "name": "python3"
  },
  "language_info": {
   "codemirror_mode": {
    "name": "ipython",
    "version": 3
   },
   "file_extension": ".py",
   "mimetype": "text/x-python",
   "name": "python",
   "nbconvert_exporter": "python",
   "pygments_lexer": "ipython3",
   "version": "3.9.7"
  },
  "vscode": {
   "interpreter": {
    "hash": "8f162362b51a040b66da23130964be17c9a4290e709b2d7f75b268249f5b26fc"
   }
  }
 },
 "nbformat": 4,
 "nbformat_minor": 4
}
